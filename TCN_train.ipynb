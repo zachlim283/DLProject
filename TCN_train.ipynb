{
 "cells": [
  {
   "cell_type": "code",
   "execution_count": 1,
   "metadata": {},
   "outputs": [
    {
     "name": "stdout",
     "output_type": "stream",
     "text": [
      "cuda\n"
     ]
    }
   ],
   "source": [
    "import torch\n",
    "import random\n",
    "import numpy as np\n",
    "import matplotlib.pyplot as plt\n",
    "import torch.nn as nn\n",
    "import torch.optim as optim\n",
    "from torch.utils.data import DataLoader\n",
    "from copy import deepcopy\n",
    "from sklearn.metrics import accuracy_score\n",
    "from tqdm.notebook import tqdm\n",
    "\n",
    "from Models import tcn\n",
    "from train.Dataset import CustomDataset\n",
    "from train.TrainHelpers import train_model, plot_loss_graph, encode_data, train_svm\n",
    "from train.TestHelpers import test_model, calculate_accuracy\n",
    "\n",
    "if torch.cuda.is_available():\n",
    "    device = torch.device('cuda')\n",
    "elif torch.backends.mps.is_available():\n",
    "    device = torch.device(\"mps\") \n",
    "else:\n",
    "    device = torch.device(\"cpu\")\n",
    "print(device)"
   ]
  },
  {
   "cell_type": "code",
   "execution_count": 2,
   "metadata": {},
   "outputs": [],
   "source": [
    "### PARAMETERS ###\n",
    "dataset_ver = '3w05s_Rarm'\n",
    "n_input = 9\n",
    "n_hidden = 360\n",
    "seed = 345\n",
    "\n",
    "torch.manual_seed(seed)\n",
    "np.random.seed(seed)\n",
    "random.seed(seed)\n",
    "\n",
    "x_train = np.load(f'Generated_Datasets/train_data_{dataset_ver}.npy')\n",
    "x_val = np.load(f'Generated_Datasets/val_data_{dataset_ver}.npy')\n",
    "x_test = np.load(f'Generated_Datasets/test_data_{dataset_ver}.npy')\n",
    "\n",
    "y_train = np.load(f'Generated_Datasets/train_labels_{dataset_ver}.npy')\n",
    "y_val = np.load(f'Generated_Datasets/val_labels_{dataset_ver}.npy')\n",
    "y_test = np.load(f'Generated_Datasets/test_labels_{dataset_ver}.npy')"
   ]
  },
  {
   "cell_type": "code",
   "execution_count": 3,
   "metadata": {},
   "outputs": [
    {
     "name": "stdout",
     "output_type": "stream",
     "text": [
      "(15407, 60, 9)\n",
      "(15407,)\n",
      "(2202, 60, 9)\n"
     ]
    }
   ],
   "source": [
    "print(x_train.shape)\n",
    "print(y_train.shape)\n",
    "print(x_val.shape)"
   ]
  },
  {
   "cell_type": "code",
   "execution_count": 4,
   "metadata": {},
   "outputs": [
    {
     "name": "stdout",
     "output_type": "stream",
     "text": [
      "(15407, 60, 9) (4403, 60, 9) (2202, 60, 9)\n"
     ]
    },
    {
     "data": {
      "image/png": "[encoded data removed]",
      "text/plain": [
       "<Figure size 640x480 with 1 Axes>"
      ]
     },
     "metadata": {},
     "output_type": "display_data"
    }
   ],
   "source": [
    "# Check Dataset\n",
    "print(x_train.shape, x_test.shape, x_val.shape)\n",
    "unique_labels_train, label_counts_train = np.unique(y_train, return_counts=True)\n",
    "unique_labels_val, label_counts_val = np.unique(y_val, return_counts=True)\n",
    "unique_labels_test, label_counts_test = np.unique(y_test, return_counts=True)\n",
    "\n",
    "plt.bar(unique_labels_train, label_counts_train, label='Train')\n",
    "plt.bar(unique_labels_test, label_counts_test, label='Test')\n",
    "plt.bar(unique_labels_val, label_counts_val, label='Validation')\n",
    "\n",
    "# Set the x-axis tick labels\n",
    "plt.xticks(unique_labels_train, unique_labels_train)\n",
    "\n",
    "plt.xlabel('Labels')\n",
    "plt.ylabel('Count')\n",
    "plt.title('Label Distribution')\n",
    "plt.legend()\n",
    "plt.show()"
   ]
  },
  {
   "cell_type": "code",
   "execution_count": 5,
   "metadata": {
    "tags": []
   },
   "outputs": [],
   "source": [
    "### Declare Dataloaders\n",
    "train_dataset = CustomDataset(\"train\", dataset_ver)\n",
    "train_dataloader = DataLoader(train_dataset, batch_size=1, shuffle=True)\n",
    "val_dataset = CustomDataset(\"val\", dataset_ver)\n",
    "val_dataloader = DataLoader(val_dataset, batch_size=1, shuffle=True)\n",
    "test_dataset = CustomDataset(\"test\", dataset_ver)\n",
    "test_dataloader = DataLoader(test_dataset, batch_size=1, shuffle=True)"
   ]
  },
  {
   "cell_type": "code",
   "execution_count": 6,
   "metadata": {},
   "outputs": [
    {
     "name": "stdout",
     "output_type": "stream",
     "text": [
      "X.shape=torch.Size([1, 60, 9])\n",
      "y.shape=torch.Size([1])\n"
     ]
    }
   ],
   "source": [
    "for X, y in train_dataloader:\n",
    "    print(f'{X.shape=}')\n",
    "    print(f'{y.shape=}')\n",
    "    break   "
   ]
  },
  {
   "cell_type": "code",
   "execution_count": 7,
   "metadata": {},
   "outputs": [],
   "source": [
    "class tcn_classifier(nn.Module):\n",
    "    def __init__(self, num_inputs, tcn_channels):\n",
    "        super(tcn_classifier, self).__init__()\n",
    "\n",
    "        # if tcn_channels[-1] != mlp_layer_dims[0]:\n",
    "        #     raise ValueError(\"Output of TCN must match input to MLP!\")\n",
    "\n",
    "        self.tcn = tcn.TCN(num_inputs=num_inputs,\n",
    "                            num_channels=tcn_channels,\n",
    "                            causal=False,\n",
    "                            input_shape='NLC')\n",
    "        # self.mlp = nn.Sequential()\n",
    "\n",
    "        # for i in range(len(mlp_layer_dims)-1):\n",
    "        #     self.mlp.add_module(f'fc{i+1}', nn.Linear(mlp_layer_dims[i], mlp_layer_dims[i+1]))\n",
    "\n",
    "\n",
    "    def forward(self, x):\n",
    "        x = self.tcn(x)\n",
    "        # x = self.mlp(x)\n",
    "        # print(x.shape)\n",
    "        return x[0][-1]"
   ]
  },
  {
   "cell_type": "code",
   "execution_count": 8,
   "metadata": {},
   "outputs": [],
   "source": [
    "tcn_model = tcn_classifier(9, [128, 64, 32, 16, 4])"
   ]
  },
  {
   "cell_type": "code",
   "execution_count": 9,
   "metadata": {},
   "outputs": [
    {
     "name": "stdout",
     "output_type": "stream",
     "text": [
      "tcn_classifier(\n",
      "  (tcn): TCN(\n",
      "    (network): ModuleList(\n",
      "      (0): TemporalBlock(\n",
      "        (conv1): ParametrizedTemporalConv1d(\n",
      "          9, 128, kernel_size=(4,), stride=(1,), padding=(1,)\n",
      "          (parametrizations): ModuleDict(\n",
      "            (weight): ParametrizationList(\n",
      "              (0): _WeightNorm()\n",
      "            )\n",
      "          )\n",
      "        )\n",
      "        (conv2): ParametrizedTemporalConv1d(\n",
      "          128, 128, kernel_size=(4,), stride=(1,), padding=(1,)\n",
      "          (parametrizations): ModuleDict(\n",
      "            (weight): ParametrizationList(\n",
      "              (0): _WeightNorm()\n",
      "            )\n",
      "          )\n",
      "        )\n",
      "        (activation1): ReLU()\n",
      "        (activation2): ReLU()\n",
      "        (activation_final): ReLU()\n",
      "        (dropout1): Dropout(p=0.1, inplace=False)\n",
      "        (dropout2): Dropout(p=0.1, inplace=False)\n",
      "        (downsample): Conv1d(9, 128, kernel_size=(1,), stride=(1,))\n",
      "      )\n",
      "      (1): TemporalBlock(\n",
      "        (conv1): ParametrizedTemporalConv1d(\n",
      "          128, 64, kernel_size=(4,), stride=(1,), padding=(3,), dilation=(2,)\n",
      "          (parametrizations): ModuleDict(\n",
      "            (weight): ParametrizationList(\n",
      "              (0): _WeightNorm()\n",
      "            )\n",
      "          )\n",
      "        )\n",
      "        (conv2): ParametrizedTemporalConv1d(\n",
      "          64, 64, kernel_size=(4,), stride=(1,), padding=(3,), dilation=(2,)\n",
      "          (parametrizations): ModuleDict(\n",
      "            (weight): ParametrizationList(\n",
      "              (0): _WeightNorm()\n",
      "            )\n",
      "          )\n",
      "        )\n",
      "        (activation1): ReLU()\n",
      "        (activation2): ReLU()\n",
      "        (activation_final): ReLU()\n",
      "        (dropout1): Dropout(p=0.1, inplace=False)\n",
      "        (dropout2): Dropout(p=0.1, inplace=False)\n",
      "        (downsample): Conv1d(128, 64, kernel_size=(1,), stride=(1,))\n",
      "      )\n",
      "      (2): TemporalBlock(\n",
      "        (conv1): ParametrizedTemporalConv1d(\n",
      "          64, 32, kernel_size=(4,), stride=(1,), padding=(6,), dilation=(4,)\n",
      "          (parametrizations): ModuleDict(\n",
      "            (weight): ParametrizationList(\n",
      "              (0): _WeightNorm()\n",
      "            )\n",
      "          )\n",
      "        )\n",
      "        (conv2): ParametrizedTemporalConv1d(\n",
      "          32, 32, kernel_size=(4,), stride=(1,), padding=(6,), dilation=(4,)\n",
      "          (parametrizations): ModuleDict(\n",
      "            (weight): ParametrizationList(\n",
      "              (0): _WeightNorm()\n",
      "            )\n",
      "          )\n",
      "        )\n",
      "        (activation1): ReLU()\n",
      "        (activation2): ReLU()\n",
      "        (activation_final): ReLU()\n",
      "        (dropout1): Dropout(p=0.1, inplace=False)\n",
      "        (dropout2): Dropout(p=0.1, inplace=False)\n",
      "        (downsample): Conv1d(64, 32, kernel_size=(1,), stride=(1,))\n",
      "      )\n",
      "      (3): TemporalBlock(\n",
      "        (conv1): ParametrizedTemporalConv1d(\n",
      "          32, 16, kernel_size=(4,), stride=(1,), padding=(12,), dilation=(8,)\n",
      "          (parametrizations): ModuleDict(\n",
      "            (weight): ParametrizationList(\n",
      "              (0): _WeightNorm()\n",
      "            )\n",
      "          )\n",
      "        )\n",
      "        (conv2): ParametrizedTemporalConv1d(\n",
      "          16, 16, kernel_size=(4,), stride=(1,), padding=(12,), dilation=(8,)\n",
      "          (parametrizations): ModuleDict(\n",
      "            (weight): ParametrizationList(\n",
      "              (0): _WeightNorm()\n",
      "            )\n",
      "          )\n",
      "        )\n",
      "        (activation1): ReLU()\n",
      "        (activation2): ReLU()\n",
      "        (activation_final): ReLU()\n",
      "        (dropout1): Dropout(p=0.1, inplace=False)\n",
      "        (dropout2): Dropout(p=0.1, inplace=False)\n",
      "        (downsample): Conv1d(32, 16, kernel_size=(1,), stride=(1,))\n",
      "      )\n",
      "      (4): TemporalBlock(\n",
      "        (conv1): ParametrizedTemporalConv1d(\n",
      "          16, 4, kernel_size=(4,), stride=(1,), padding=(24,), dilation=(16,)\n",
      "          (parametrizations): ModuleDict(\n",
      "            (weight): ParametrizationList(\n",
      "              (0): _WeightNorm()\n",
      "            )\n",
      "          )\n",
      "        )\n",
      "        (conv2): ParametrizedTemporalConv1d(\n",
      "          4, 4, kernel_size=(4,), stride=(1,), padding=(24,), dilation=(16,)\n",
      "          (parametrizations): ModuleDict(\n",
      "            (weight): ParametrizationList(\n",
      "              (0): _WeightNorm()\n",
      "            )\n",
      "          )\n",
      "        )\n",
      "        (activation1): ReLU()\n",
      "        (activation2): ReLU()\n",
      "        (activation_final): ReLU()\n",
      "        (dropout1): Dropout(p=0.1, inplace=False)\n",
      "        (dropout2): Dropout(p=0.1, inplace=False)\n",
      "        (downsample): Conv1d(16, 4, kernel_size=(1,), stride=(1,))\n",
      "      )\n",
      "    )\n",
      "  )\n",
      ")\n"
     ]
    }
   ],
   "source": [
    "print(tcn_model)"
   ]
  },
  {
   "cell_type": "code",
   "execution_count": 10,
   "metadata": {},
   "outputs": [
    {
     "name": "stdout",
     "output_type": "stream",
     "text": [
      "torch.Size([4])\n"
     ]
    }
   ],
   "source": [
    "for X, y in train_dataloader:\n",
    "    out = tcn_model.forward(X)\n",
    "    print(out.shape)\n",
    "    break   "
   ]
  },
  {
   "cell_type": "code",
   "execution_count": 11,
   "metadata": {},
   "outputs": [],
   "source": [
    "def train_TCN(model, learning_rate, num_epochs, patience):\n",
    "    optimizer = optim.Adam(model.parameters(),\n",
    "                            lr=learning_rate,\n",
    "                            betas=(0.9, 0.999),\n",
    "                            eps=1e-8)\n",
    "\n",
    "    criterion = nn.CrossEntropyLoss()\n",
    "\n",
    "    train_losses = []\n",
    "    val_losses = []\n",
    "\n",
    "    best_val_acc = 0\n",
    "    es_count = 0\n",
    "\n",
    "    for epoch in range(num_epochs):\n",
    "        if es_count < patience:\n",
    "            print(f'Starting Epoch {epoch+1}...')\n",
    "            model.train()\n",
    "\n",
    "            train_preds = []\n",
    "            train_labels = []\n",
    "\n",
    "            for train_X, train_y in tqdm(train_dataloader):\n",
    "                optimizer.zero_grad()\n",
    "                \n",
    "                train_output = model(train_X)\n",
    "\n",
    "                train_loss = criterion(train_output, train_y[0].type(torch.LongTensor))\n",
    "                train_loss.backward()\n",
    "                optimizer.step()\n",
    "\n",
    "                train_preds.append(torch.argmax(train_output))\n",
    "                train_labels.append(train_y)\n",
    "            \n",
    "            train_losses.append(train_loss.item())\n",
    "            print(f'Train Loss = {train_losses[-1]}')\n",
    "\n",
    "            train_acc = accuracy_score(train_labels, train_preds)\n",
    "            print(f'Train Acc = {train_acc}')\n",
    "\n",
    "            model.eval()\n",
    "\n",
    "            val_preds = []\n",
    "            val_labels = []\n",
    "\n",
    "            for val_X, val_y in tqdm(val_dataloader):\n",
    "                val_output = model(val_X)\n",
    "\n",
    "                val_preds.append(torch.argmax(val_output))\n",
    "                val_labels.append(val_y)\n",
    "\n",
    "            val_losses.append(criterion(val_output, val_y[0].type(torch.LongTensor)))\n",
    "            print(f'Val Loss = {val_losses[-1]}')\n",
    "\n",
    "            val_acc = accuracy_score(val_labels, val_preds)\n",
    "            print(f'Val Acc = {val_acc}')\n",
    "\n",
    "            if val_acc > best_val_acc:\n",
    "                torch.save(deepcopy(model.state_dict()), 'ML_Models/noncausal_tcn_state_20e.pt')\n",
    "                best_val_acc = val_acc\n",
    "                es_count = 0\n",
    "            \n",
    "            es_count += 1\n",
    "        \n",
    "        else:\n",
    "            print('Early Stopping...')\n",
    "\n",
    "    return train_losses, val_losses\n"
   ]
  },
  {
   "cell_type": "code",
   "execution_count": 13,
   "metadata": {},
   "outputs": [
    {
     "name": "stdout",
     "output_type": "stream",
     "text": [
      "Starting Epoch 1...\n"
     ]
    },
    {
     "data": {
      "application/vnd.jupyter.widget-view+json": {
       "model_id": "4c09b5e8494e4c2a937cde6dc19b71d6",
       "version_major": 2,
       "version_minor": 0
      },
      "text/plain": [
       "  0%|          | 0/15407 [00:00<?, ?it/s]"
      ]
     },
     "metadata": {},
     "output_type": "display_data"
    },
    {
     "name": "stdout",
     "output_type": "stream",
     "text": [
      "Train Loss = 0.002638789126649499\n",
      "Train Acc = 0.7411566171220874\n"
     ]
    },
    {
     "data": {
      "application/vnd.jupyter.widget-view+json": {
       "model_id": "22b7fa87c7694fbda28209fbee191c61",
       "version_major": 2,
       "version_minor": 0
      },
      "text/plain": [
       "  0%|          | 0/2202 [00:00<?, ?it/s]"
      ]
     },
     "metadata": {},
     "output_type": "display_data"
    },
    {
     "name": "stdout",
     "output_type": "stream",
     "text": [
      "Val Loss = 0.04242444783449173\n",
      "Val Acc = 0.846503178928247\n",
      "Starting Epoch 2...\n"
     ]
    },
    {
     "data": {
      "application/vnd.jupyter.widget-view+json": {
       "model_id": "0d249acfe019461ca8ad4793bdcefb9e",
       "version_major": 2,
       "version_minor": 0
      },
      "text/plain": [
       "  0%|          | 0/15407 [00:00<?, ?it/s]"
      ]
     },
     "metadata": {},
     "output_type": "display_data"
    },
    {
     "name": "stdout",
     "output_type": "stream",
     "text": [
      "Train Loss = 0.016135934740304947\n",
      "Train Acc = 0.852859090024015\n"
     ]
    },
    {
     "data": {
      "application/vnd.jupyter.widget-view+json": {
       "model_id": "c211aeed6074455484eb1f5cbea141b7",
       "version_major": 2,
       "version_minor": 0
      },
      "text/plain": [
       "  0%|          | 0/2202 [00:00<?, ?it/s]"
      ]
     },
     "metadata": {},
     "output_type": "display_data"
    },
    {
     "name": "stdout",
     "output_type": "stream",
     "text": [
      "Val Loss = 0.22268015146255493\n",
      "Val Acc = 0.8823796548592189\n",
      "Starting Epoch 3...\n"
     ]
    },
    {
     "data": {
      "application/vnd.jupyter.widget-view+json": {
       "model_id": "6cb83888695f487da59cb13fac8bd70c",
       "version_major": 2,
       "version_minor": 0
      },
      "text/plain": [
       "  0%|          | 0/15407 [00:00<?, ?it/s]"
      ]
     },
     "metadata": {},
     "output_type": "display_data"
    },
    {
     "name": "stdout",
     "output_type": "stream",
     "text": [
      "Train Loss = 0.07983045279979706\n",
      "Train Acc = 0.8753813201791394\n"
     ]
    },
    {
     "data": {
      "application/vnd.jupyter.widget-view+json": {
       "model_id": "ad9bdb8830f945d2aad5f9ca930f38c4",
       "version_major": 2,
       "version_minor": 0
      },
      "text/plain": [
       "  0%|          | 0/2202 [00:00<?, ?it/s]"
      ]
     },
     "metadata": {},
     "output_type": "display_data"
    },
    {
     "name": "stdout",
     "output_type": "stream",
     "text": [
      "Val Loss = 0.2392435520887375\n",
      "Val Acc = 0.8955495004541326\n",
      "Starting Epoch 4...\n"
     ]
    },
    {
     "data": {
      "application/vnd.jupyter.widget-view+json": {
       "model_id": "ebae1dc4964948bfa565c92b315d1753",
       "version_major": 2,
       "version_minor": 0
      },
      "text/plain": [
       "  0%|          | 0/15407 [00:00<?, ?it/s]"
      ]
     },
     "metadata": {},
     "output_type": "display_data"
    },
    {
     "name": "stdout",
     "output_type": "stream",
     "text": [
      "Train Loss = 1.191321849822998\n",
      "Train Acc = 0.893295255403388\n"
     ]
    },
    {
     "data": {
      "application/vnd.jupyter.widget-view+json": {
       "model_id": "9294e3cc1aca479690c6b1aef5d280fa",
       "version_major": 2,
       "version_minor": 0
      },
      "text/plain": [
       "  0%|          | 0/2202 [00:00<?, ?it/s]"
      ]
     },
     "metadata": {},
     "output_type": "display_data"
    },
    {
     "name": "stdout",
     "output_type": "stream",
     "text": [
      "Val Loss = 1.5899760723114014\n",
      "Val Acc = 0.9178019981834695\n",
      "Starting Epoch 5...\n"
     ]
    },
    {
     "data": {
      "application/vnd.jupyter.widget-view+json": {
       "model_id": "c79e9d800eb845d89312a634d30c50fc",
       "version_major": 2,
       "version_minor": 0
      },
      "text/plain": [
       "  0%|          | 0/15407 [00:00<?, ?it/s]"
      ]
     },
     "metadata": {},
     "output_type": "display_data"
    },
    {
     "name": "stdout",
     "output_type": "stream",
     "text": [
      "Train Loss = 0.005157499574124813\n",
      "Train Acc = 0.9021224118906991\n"
     ]
    },
    {
     "data": {
      "application/vnd.jupyter.widget-view+json": {
       "model_id": "a4aefe7e0ed74448a1ebca3892b20408",
       "version_major": 2,
       "version_minor": 0
      },
      "text/plain": [
       "  0%|          | 0/2202 [00:00<?, ?it/s]"
      ]
     },
     "metadata": {},
     "output_type": "display_data"
    },
    {
     "name": "stdout",
     "output_type": "stream",
     "text": [
      "Val Loss = 0.04741349816322327\n",
      "Val Acc = 0.9096276112624887\n",
      "Starting Epoch 6...\n"
     ]
    },
    {
     "data": {
      "application/vnd.jupyter.widget-view+json": {
       "model_id": "8c84933a0c0f470cb36792b2f5b1afcf",
       "version_major": 2,
       "version_minor": 0
      },
      "text/plain": [
       "  0%|          | 0/15407 [00:00<?, ?it/s]"
      ]
     },
     "metadata": {},
     "output_type": "display_data"
    },
    {
     "name": "stdout",
     "output_type": "stream",
     "text": [
      "Train Loss = 0.017143631353974342\n",
      "Train Acc = 0.9074446680080482\n"
     ]
    },
    {
     "data": {
      "application/vnd.jupyter.widget-view+json": {
       "model_id": "203cf7c48bc34ddfb297f78651736359",
       "version_major": 2,
       "version_minor": 0
      },
      "text/plain": [
       "  0%|          | 0/2202 [00:00<?, ?it/s]"
      ]
     },
     "metadata": {},
     "output_type": "display_data"
    },
    {
     "name": "stdout",
     "output_type": "stream",
     "text": [
      "Val Loss = 2.1320252418518066\n",
      "Val Acc = 0.9173478655767484\n",
      "Starting Epoch 7...\n"
     ]
    },
    {
     "data": {
      "application/vnd.jupyter.widget-view+json": {
       "model_id": "b1f57bb1a55546f2b8ef9373d53fe89e",
       "version_major": 2,
       "version_minor": 0
      },
      "text/plain": [
       "  0%|          | 0/15407 [00:00<?, ?it/s]"
      ]
     },
     "metadata": {},
     "output_type": "display_data"
    },
    {
     "name": "stdout",
     "output_type": "stream",
     "text": [
      "Train Loss = 0.0007438276661559939\n",
      "Train Acc = 0.9136106964366846\n"
     ]
    },
    {
     "data": {
      "application/vnd.jupyter.widget-view+json": {
       "model_id": "32fba54af68241689c0f06dc6b375a7e",
       "version_major": 2,
       "version_minor": 0
      },
      "text/plain": [
       "  0%|          | 0/2202 [00:00<?, ?it/s]"
      ]
     },
     "metadata": {},
     "output_type": "display_data"
    },
    {
     "name": "stdout",
     "output_type": "stream",
     "text": [
      "Val Loss = 0.44043657183647156\n",
      "Val Acc = 0.9214350590372389\n",
      "Starting Epoch 8...\n"
     ]
    },
    {
     "data": {
      "application/vnd.jupyter.widget-view+json": {
       "model_id": "499b1a108b004ef689f75631ac3dbf5a",
       "version_major": 2,
       "version_minor": 0
      },
      "text/plain": [
       "  0%|          | 0/15407 [00:00<?, ?it/s]"
      ]
     },
     "metadata": {},
     "output_type": "display_data"
    },
    {
     "name": "stdout",
     "output_type": "stream",
     "text": [
      "Train Loss = 4.529942543740617e-06\n",
      "Train Acc = 0.9189329525540338\n"
     ]
    },
    {
     "data": {
      "application/vnd.jupyter.widget-view+json": {
       "model_id": "a81f3b4ccfe14e7e9604f7607eaafd17",
       "version_major": 2,
       "version_minor": 0
      },
      "text/plain": [
       "  0%|          | 0/2202 [00:00<?, ?it/s]"
      ]
     },
     "metadata": {},
     "output_type": "display_data"
    },
    {
     "name": "stdout",
     "output_type": "stream",
     "text": [
      "Val Loss = 0.0\n",
      "Val Acc = 0.9209809264305178\n",
      "Starting Epoch 9...\n"
     ]
    },
    {
     "data": {
      "application/vnd.jupyter.widget-view+json": {
       "model_id": "d3a80d5f5d8a4396971aed30d10ea424",
       "version_major": 2,
       "version_minor": 0
      },
      "text/plain": [
       "  0%|          | 0/15407 [00:00<?, ?it/s]"
      ]
     },
     "metadata": {},
     "output_type": "display_data"
    },
    {
     "name": "stdout",
     "output_type": "stream",
     "text": [
      "Train Loss = 5.57245397567749\n",
      "Train Acc = 0.9215940806127085\n"
     ]
    },
    {
     "data": {
      "application/vnd.jupyter.widget-view+json": {
       "model_id": "f38660e5499b4afa9acd240af4dda3a5",
       "version_major": 2,
       "version_minor": 0
      },
      "text/plain": [
       "  0%|          | 0/2202 [00:00<?, ?it/s]"
      ]
     },
     "metadata": {},
     "output_type": "display_data"
    },
    {
     "name": "stdout",
     "output_type": "stream",
     "text": [
      "Val Loss = 5.638440416078083e-05\n",
      "Val Acc = 0.9055404178019982\n",
      "Starting Epoch 10...\n"
     ]
    },
    {
     "data": {
      "application/vnd.jupyter.widget-view+json": {
       "model_id": "5136c60077804cdc95a31ac7393a85c5",
       "version_major": 2,
       "version_minor": 0
      },
      "text/plain": [
       "  0%|          | 0/15407 [00:00<?, ?it/s]"
      ]
     },
     "metadata": {},
     "output_type": "display_data"
    },
    {
     "name": "stdout",
     "output_type": "stream",
     "text": [
      "Train Loss = 0.04308372363448143\n",
      "Train Acc = 0.9222431362367755\n"
     ]
    },
    {
     "data": {
      "application/vnd.jupyter.widget-view+json": {
       "model_id": "e2ac95f3d85d4ab5a6aed80b76060ffc",
       "version_major": 2,
       "version_minor": 0
      },
      "text/plain": [
       "  0%|          | 0/2202 [00:00<?, ?it/s]"
      ]
     },
     "metadata": {},
     "output_type": "display_data"
    },
    {
     "name": "stdout",
     "output_type": "stream",
     "text": [
      "Val Loss = 0.17225603759288788\n",
      "Val Acc = 0.9100817438692098\n",
      "Starting Epoch 11...\n"
     ]
    },
    {
     "data": {
      "application/vnd.jupyter.widget-view+json": {
       "model_id": "e8360c156bc24aa7b2bb56c09d4500b7",
       "version_major": 2,
       "version_minor": 0
      },
      "text/plain": [
       "  0%|          | 0/15407 [00:00<?, ?it/s]"
      ]
     },
     "metadata": {},
     "output_type": "display_data"
    },
    {
     "name": "stdout",
     "output_type": "stream",
     "text": [
      "Train Loss = 0.0002727136597968638\n",
      "Train Acc = 0.9293178425391057\n"
     ]
    },
    {
     "data": {
      "application/vnd.jupyter.widget-view+json": {
       "model_id": "dd31179381824498a6fe31f51fcca4d7",
       "version_major": 2,
       "version_minor": 0
      },
      "text/plain": [
       "  0%|          | 0/2202 [00:00<?, ?it/s]"
      ]
     },
     "metadata": {},
     "output_type": "display_data"
    },
    {
     "name": "stdout",
     "output_type": "stream",
     "text": [
      "Val Loss = 4.911301948595792e-05\n",
      "Val Acc = 0.9250681198910081\n",
      "Starting Epoch 12...\n"
     ]
    },
    {
     "data": {
      "application/vnd.jupyter.widget-view+json": {
       "model_id": "7c4f141fabba4fdb8edac55033b96ad8",
       "version_major": 2,
       "version_minor": 0
      },
      "text/plain": [
       "  0%|          | 0/15407 [00:00<?, ?it/s]"
      ]
     },
     "metadata": {},
     "output_type": "display_data"
    },
    {
     "name": "stdout",
     "output_type": "stream",
     "text": [
      "Train Loss = 1.15157949924469\n",
      "Train Acc = 0.9299668981631726\n"
     ]
    },
    {
     "data": {
      "application/vnd.jupyter.widget-view+json": {
       "model_id": "86df1f8c545f47e1b46305439d7cc404",
       "version_major": 2,
       "version_minor": 0
      },
      "text/plain": [
       "  0%|          | 0/2202 [00:00<?, ?it/s]"
      ]
     },
     "metadata": {},
     "output_type": "display_data"
    },
    {
     "name": "stdout",
     "output_type": "stream",
     "text": [
      "Val Loss = 0.39846163988113403\n",
      "Val Acc = 0.9400544959128065\n",
      "Starting Epoch 13...\n"
     ]
    },
    {
     "data": {
      "application/vnd.jupyter.widget-view+json": {
       "model_id": "82d84c965bbc49da88cd1388adab9b8b",
       "version_major": 2,
       "version_minor": 0
      },
      "text/plain": [
       "  0%|          | 0/15407 [00:00<?, ?it/s]"
      ]
     },
     "metadata": {},
     "output_type": "display_data"
    },
    {
     "name": "stdout",
     "output_type": "stream",
     "text": [
      "Train Loss = 0.023619595915079117\n",
      "Train Acc = 0.9364574544038424\n"
     ]
    },
    {
     "data": {
      "application/vnd.jupyter.widget-view+json": {
       "model_id": "d4d844a9908c4f00a4874f8be1e31f05",
       "version_major": 2,
       "version_minor": 0
      },
      "text/plain": [
       "  0%|          | 0/2202 [00:00<?, ?it/s]"
      ]
     },
     "metadata": {},
     "output_type": "display_data"
    },
    {
     "name": "stdout",
     "output_type": "stream",
     "text": [
      "Val Loss = 3.266281055402942e-05\n",
      "Val Acc = 0.9405086285195277\n",
      "Starting Epoch 14...\n"
     ]
    },
    {
     "data": {
      "application/vnd.jupyter.widget-view+json": {
       "model_id": "010b82385df64e69b1e490a481a04446",
       "version_major": 2,
       "version_minor": 0
      },
      "text/plain": [
       "  0%|          | 0/15407 [00:00<?, ?it/s]"
      ]
     },
     "metadata": {},
     "output_type": "display_data"
    },
    {
     "name": "stdout",
     "output_type": "stream",
     "text": [
      "Train Loss = 1.3112935448589269e-05\n",
      "Train Acc = 0.9385344324008568\n"
     ]
    },
    {
     "data": {
      "application/vnd.jupyter.widget-view+json": {
       "model_id": "b9b3af2bad834c93b1695f15daf5a076",
       "version_major": 2,
       "version_minor": 0
      },
      "text/plain": [
       "  0%|          | 0/2202 [00:00<?, ?it/s]"
      ]
     },
     "metadata": {},
     "output_type": "display_data"
    },
    {
     "name": "stdout",
     "output_type": "stream",
     "text": [
      "Val Loss = 3.957670196541585e-05\n",
      "Val Acc = 0.9427792915531336\n",
      "Starting Epoch 15...\n"
     ]
    },
    {
     "data": {
      "application/vnd.jupyter.widget-view+json": {
       "model_id": "d838cd96bdc8487b92f5fe0ddf63ae03",
       "version_major": 2,
       "version_minor": 0
      },
      "text/plain": [
       "  0%|          | 0/15407 [00:00<?, ?it/s]"
      ]
     },
     "metadata": {},
     "output_type": "display_data"
    },
    {
     "name": "stdout",
     "output_type": "stream",
     "text": [
      "Train Loss = 7.033323527139146e-06\n",
      "Train Acc = 0.9400921658986175\n"
     ]
    },
    {
     "data": {
      "application/vnd.jupyter.widget-view+json": {
       "model_id": "74688bb79045486e8beaf5702063743c",
       "version_major": 2,
       "version_minor": 0
      },
      "text/plain": [
       "  0%|          | 0/2202 [00:00<?, ?it/s]"
      ]
     },
     "metadata": {},
     "output_type": "display_data"
    },
    {
     "name": "stdout",
     "output_type": "stream",
     "text": [
      "Val Loss = 2.816204309463501\n",
      "Val Acc = 0.9332425068119891\n",
      "Starting Epoch 16...\n"
     ]
    },
    {
     "data": {
      "application/vnd.jupyter.widget-view+json": {
       "model_id": "1e29eb801d74475a92f52ca694d14d6c",
       "version_major": 2,
       "version_minor": 0
      },
      "text/plain": [
       "  0%|          | 0/15407 [00:00<?, ?it/s]"
      ]
     },
     "metadata": {},
     "output_type": "display_data"
    },
    {
     "name": "stdout",
     "output_type": "stream",
     "text": [
      "Train Loss = 4.768370445162873e-07\n",
      "Train Acc = 0.9406763159602778\n"
     ]
    },
    {
     "data": {
      "application/vnd.jupyter.widget-view+json": {
       "model_id": "e394af474e8d41ddae244e3c17df431c",
       "version_major": 2,
       "version_minor": 0
      },
      "text/plain": [
       "  0%|          | 0/2202 [00:00<?, ?it/s]"
      ]
     },
     "metadata": {},
     "output_type": "display_data"
    },
    {
     "name": "stdout",
     "output_type": "stream",
     "text": [
      "Val Loss = 0.8684839010238647\n",
      "Val Acc = 0.9336966394187103\n",
      "Starting Epoch 17...\n"
     ]
    },
    {
     "data": {
      "application/vnd.jupyter.widget-view+json": {
       "model_id": "4c1b43188cee4f5e93c9091cab89fe6b",
       "version_major": 2,
       "version_minor": 0
      },
      "text/plain": [
       "  0%|          | 0/15407 [00:00<?, ?it/s]"
      ]
     },
     "metadata": {},
     "output_type": "display_data"
    },
    {
     "name": "stdout",
     "output_type": "stream",
     "text": [
      "Train Loss = 0.0\n",
      "Train Acc = 0.9445706497046797\n"
     ]
    },
    {
     "data": {
      "application/vnd.jupyter.widget-view+json": {
       "model_id": "12f1774e5440436e91939452db390674",
       "version_major": 2,
       "version_minor": 0
      },
      "text/plain": [
       "  0%|          | 0/2202 [00:00<?, ?it/s]"
      ]
     },
     "metadata": {},
     "output_type": "display_data"
    },
    {
     "name": "stdout",
     "output_type": "stream",
     "text": [
      "Val Loss = 0.023267459124326706\n",
      "Val Acc = 0.9559491371480472\n",
      "Starting Epoch 18...\n"
     ]
    },
    {
     "data": {
      "application/vnd.jupyter.widget-view+json": {
       "model_id": "f1b8576dd9e14b729353251d34210b33",
       "version_major": 2,
       "version_minor": 0
      },
      "text/plain": [
       "  0%|          | 0/15407 [00:00<?, ?it/s]"
      ]
     },
     "metadata": {},
     "output_type": "display_data"
    },
    {
     "name": "stdout",
     "output_type": "stream",
     "text": [
      "Train Loss = 0.007668343838304281\n",
      "Train Acc = 0.9495683780099955\n"
     ]
    },
    {
     "data": {
      "application/vnd.jupyter.widget-view+json": {
       "model_id": "b868bd0f1bdb423e9c08f80fa8ac2885",
       "version_major": 2,
       "version_minor": 0
      },
      "text/plain": [
       "  0%|          | 0/2202 [00:00<?, ?it/s]"
      ]
     },
     "metadata": {},
     "output_type": "display_data"
    },
    {
     "name": "stdout",
     "output_type": "stream",
     "text": [
      "Val Loss = 1.1920928244535389e-07\n",
      "Val Acc = 0.9187102633969119\n",
      "Starting Epoch 19...\n"
     ]
    },
    {
     "data": {
      "application/vnd.jupyter.widget-view+json": {
       "model_id": "2a60635aeaef476591ccfc3f4d993ab0",
       "version_major": 2,
       "version_minor": 0
      },
      "text/plain": [
       "  0%|          | 0/15407 [00:00<?, ?it/s]"
      ]
     },
     "metadata": {},
     "output_type": "display_data"
    },
    {
     "name": "stdout",
     "output_type": "stream",
     "text": [
      "Train Loss = 0.00013815402053296566\n",
      "Train Acc = 0.947296683325761\n"
     ]
    },
    {
     "data": {
      "application/vnd.jupyter.widget-view+json": {
       "model_id": "cb5f5287479c4d8ca0ef10ff088d51c5",
       "version_major": 2,
       "version_minor": 0
      },
      "text/plain": [
       "  0%|          | 0/2202 [00:00<?, ?it/s]"
      ]
     },
     "metadata": {},
     "output_type": "display_data"
    },
    {
     "name": "stdout",
     "output_type": "stream",
     "text": [
      "Val Loss = 0.03714198246598244\n",
      "Val Acc = 0.9464123524069028\n",
      "Starting Epoch 20...\n"
     ]
    },
    {
     "data": {
      "application/vnd.jupyter.widget-view+json": {
       "model_id": "af31ae849f3f4aa99f34a73121420505",
       "version_major": 2,
       "version_minor": 0
      },
      "text/plain": [
       "  0%|          | 0/15407 [00:00<?, ?it/s]"
      ]
     },
     "metadata": {},
     "output_type": "display_data"
    },
    {
     "name": "stdout",
     "output_type": "stream",
     "text": [
      "Train Loss = 0.0\n",
      "Train Acc = 0.9521646005062634\n"
     ]
    },
    {
     "data": {
      "application/vnd.jupyter.widget-view+json": {
       "model_id": "971f7cb63d6f4e6482d96c10e141705a",
       "version_major": 2,
       "version_minor": 0
      },
      "text/plain": [
       "  0%|          | 0/2202 [00:00<?, ?it/s]"
      ]
     },
     "metadata": {},
     "output_type": "display_data"
    },
    {
     "name": "stdout",
     "output_type": "stream",
     "text": [
      "Val Loss = 2.5748875486897305e-05\n",
      "Val Acc = 0.9455040871934605\n"
     ]
    }
   ],
   "source": [
    "train_losses, val_losses = train_TCN(tcn_model, 1e-3, 20, 5)"
   ]
  },
  {
   "cell_type": "code",
   "execution_count": 14,
   "metadata": {},
   "outputs": [
    {
     "name": "stdout",
     "output_type": "stream",
     "text": [
      "[0.002638789126649499, 0.016135934740304947, 0.07983045279979706, 1.191321849822998, 0.005157499574124813, 0.017143631353974342, 0.0007438276661559939, 4.529942543740617e-06, 5.57245397567749, 0.04308372363448143, 0.0002727136597968638, 1.15157949924469, 0.023619595915079117, 1.3112935448589269e-05, 7.033323527139146e-06, 4.768370445162873e-07, 0.0, 0.007668343838304281, 0.00013815402053296566, 0.0]\n",
      "[array(0.04242445, dtype=float32), array(0.22268015, dtype=float32), array(0.23924355, dtype=float32), array(1.5899761, dtype=float32), array(0.0474135, dtype=float32), array(2.1320252, dtype=float32), array(0.44043657, dtype=float32), array(0., dtype=float32), array(5.6384404e-05, dtype=float32), array(0.17225604, dtype=float32), array(4.911302e-05, dtype=float32), array(0.39846164, dtype=float32), array(3.266281e-05, dtype=float32), array(3.9576702e-05, dtype=float32), array(2.8162043, dtype=float32), array(0.8684839, dtype=float32), array(0.02326746, dtype=float32), array(1.1920928e-07, dtype=float32), array(0.03714198, dtype=float32), array(2.5748875e-05, dtype=float32)]\n"
     ]
    }
   ],
   "source": [
    "print(train_losses)\n",
    "print([x.detach().numpy() for x in val_losses])"
   ]
  },
  {
   "cell_type": "code",
   "execution_count": 15,
   "metadata": {},
   "outputs": [
    {
     "data": {
      "image/png": "[encoded data removed]",
      "text/plain": [
       "<Figure size 640x480 with 1 Axes>"
      ]
     },
     "metadata": {},
     "output_type": "display_data"
    }
   ],
   "source": [
    "plot_loss_graph(train_losses, [x.detach().numpy() for x in val_losses], 'noncausal_tcn_20e')"
   ]
  }
 ],
 "metadata": {
  "kernelspec": {
   "display_name": "cv",
   "language": "python",
   "name": "python3"
  },
  "language_info": {
   "codemirror_mode": {
    "name": "ipython",
    "version": 3
   },
   "file_extension": ".py",
   "mimetype": "text/x-python",
   "name": "python",
   "nbconvert_exporter": "python",
   "pygments_lexer": "ipython3",
   "version": "3.11.2"
  }
 },
 "nbformat": 4,
 "nbformat_minor": 2
}
