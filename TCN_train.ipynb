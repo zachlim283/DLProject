{
 "cells": [
  {
   "cell_type": "code",
   "execution_count": 1,
   "metadata": {},
   "outputs": [
    {
     "name": "stdout",
     "output_type": "stream",
     "text": [
      "cuda\n"
     ]
    }
   ],
   "source": [
    "import torch\n",
    "import numpy as np\n",
    "import matplotlib.pyplot as plt\n",
    "import torch.nn as nn\n",
    "import torch.optim as optim\n",
    "from torch.utils.data import DataLoader\n",
    "from tqdm.notebook import tqdm\n",
    "\n",
    "from Models import tcn\n",
    "from train.Dataset import CustomDataset\n",
    "from train.TrainHelpers import train_model, plot_loss_graph, encode_data, train_svm\n",
    "from train.TestHelpers import test_model, calculate_accuracy\n",
    "\n",
    "if torch.cuda.is_available():\n",
    "    device = torch.device('cuda')\n",
    "elif torch.backends.mps.is_available():\n",
    "    device = torch.device(\"mps\") \n",
    "else:\n",
    "    device = torch.device(\"cpu\")\n",
    "print(device)"
   ]
  },
  {
   "cell_type": "code",
   "execution_count": 2,
   "metadata": {},
   "outputs": [],
   "source": [
    "### PARAMETERS ###\n",
    "dataset_ver = '3w05s_Larm'\n",
    "n_input = 9\n",
    "n_hidden = 360\n",
    "\n",
    "x_train = np.load(f'Generated_Datasets/train_data_{dataset_ver}.npy')\n",
    "x_val = np.load(f'Generated_Datasets/val_data_{dataset_ver}.npy')\n",
    "x_test = np.load(f'Generated_Datasets/test_data_{dataset_ver}.npy')\n",
    "\n",
    "y_train = np.load(f'Generated_Datasets/train_labels_{dataset_ver}.npy')\n",
    "y_val = np.load(f'Generated_Datasets/val_labels_{dataset_ver}.npy')\n",
    "y_test = np.load(f'Generated_Datasets/test_labels_{dataset_ver}.npy')"
   ]
  },
  {
   "cell_type": "code",
   "execution_count": 3,
   "metadata": {},
   "outputs": [
    {
     "name": "stdout",
     "output_type": "stream",
     "text": [
      "(15407, 60, 9)\n",
      "(15407,)\n",
      "(2202, 60, 9)\n"
     ]
    }
   ],
   "source": [
    "print(x_train.shape)\n",
    "print(y_train.shape)\n",
    "print(x_val.shape)"
   ]
  },
  {
   "cell_type": "code",
   "execution_count": 4,
   "metadata": {},
   "outputs": [
    {
     "name": "stdout",
     "output_type": "stream",
     "text": [
      "(15407, 60, 9) (4403, 60, 9) (2202, 60, 9)\n"
     ]
    },
    {
     "data": {
      "image/png": "[encoded data removed]",
      "text/plain": [
       "<Figure size 640x480 with 1 Axes>"
      ]
     },
     "metadata": {},
     "output_type": "display_data"
    }
   ],
   "source": [
    "# Check Dataset\n",
    "print(x_train.shape, x_test.shape, x_val.shape)\n",
    "unique_labels_train, label_counts_train = np.unique(y_train, return_counts=True)\n",
    "unique_labels_val, label_counts_val = np.unique(y_val, return_counts=True)\n",
    "unique_labels_test, label_counts_test = np.unique(y_test, return_counts=True)\n",
    "\n",
    "plt.bar(unique_labels_train, label_counts_train, label='Train')\n",
    "plt.bar(unique_labels_test, label_counts_test, label='Test')\n",
    "plt.bar(unique_labels_val, label_counts_val, label='Validation')\n",
    "\n",
    "# Set the x-axis tick labels\n",
    "plt.xticks(unique_labels_train, unique_labels_train)\n",
    "\n",
    "plt.xlabel('Labels')\n",
    "plt.ylabel('Count')\n",
    "plt.title('Label Distribution')\n",
    "plt.legend()\n",
    "plt.show()"
   ]
  },
  {
   "cell_type": "code",
   "execution_count": 5,
   "metadata": {
    "tags": []
   },
   "outputs": [],
   "source": [
    "### Declare Dataloaders\n",
    "train_dataset = CustomDataset(\"train\", dataset_ver)\n",
    "train_dataloader = DataLoader(train_dataset, batch_size=1, shuffle=True)\n",
    "val_dataset = CustomDataset(\"val\", dataset_ver)\n",
    "val_dataloader = DataLoader(val_dataset, batch_size=1, shuffle=True)\n",
    "test_dataset = CustomDataset(\"test\", dataset_ver)\n",
    "test_dataloader = DataLoader(test_dataset, batch_size=1, shuffle=True)"
   ]
  },
  {
   "cell_type": "code",
   "execution_count": 6,
   "metadata": {},
   "outputs": [
    {
     "name": "stdout",
     "output_type": "stream",
     "text": [
      "X.shape=torch.Size([1, 60, 9])\n",
      "y.shape=torch.Size([1])\n"
     ]
    }
   ],
   "source": [
    "for X, y in train_dataloader:\n",
    "    print(f'{X.shape=}')\n",
    "    print(f'{y.shape=}')\n",
    "    break   "
   ]
  },
  {
   "cell_type": "code",
   "execution_count": 7,
   "metadata": {},
   "outputs": [],
   "source": [
    "class tcn_classifier(nn.Module):\n",
    "    def __init__(self, num_inputs, tcn_channels):\n",
    "        super(tcn_classifier, self).__init__()\n",
    "\n",
    "        # if tcn_channels[-1] != mlp_layer_dims[0]:\n",
    "        #     raise ValueError(\"Output of TCN must match input to MLP!\")\n",
    "\n",
    "        self.tcn = tcn.TCN(num_inputs=num_inputs,\n",
    "                            num_channels=tcn_channels,\n",
    "                            causal=True,\n",
    "                            input_shape='NLC')\n",
    "        # self.mlp = nn.Sequential()\n",
    "\n",
    "        # for i in range(len(mlp_layer_dims)-1):\n",
    "        #     self.mlp.add_module(f'fc{i+1}', nn.Linear(mlp_layer_dims[i], mlp_layer_dims[i+1]))\n",
    "\n",
    "\n",
    "    def forward(self, x):\n",
    "        x = self.tcn(x)\n",
    "        # x = self.mlp(x)\n",
    "        # print(x.shape)\n",
    "        return x[0][-1]"
   ]
  },
  {
   "cell_type": "code",
   "execution_count": 8,
   "metadata": {},
   "outputs": [],
   "source": [
    "tcn_model = tcn_classifier(9, [128, 64, 32, 16, 4])"
   ]
  },
  {
   "cell_type": "code",
   "execution_count": 9,
   "metadata": {},
   "outputs": [
    {
     "name": "stdout",
     "output_type": "stream",
     "text": [
      "tcn_classifier(\n",
      "  (tcn): TCN(\n",
      "    (network): ModuleList(\n",
      "      (0): TemporalBlock(\n",
      "        (conv1): ParametrizedCausalConv1d(\n",
      "          9, 128, kernel_size=(4,), stride=(1,)\n",
      "          (parametrizations): ModuleDict(\n",
      "            (weight): ParametrizationList(\n",
      "              (0): _WeightNorm()\n",
      "            )\n",
      "          )\n",
      "        )\n",
      "        (conv2): ParametrizedCausalConv1d(\n",
      "          128, 128, kernel_size=(4,), stride=(1,)\n",
      "          (parametrizations): ModuleDict(\n",
      "            (weight): ParametrizationList(\n",
      "              (0): _WeightNorm()\n",
      "            )\n",
      "          )\n",
      "        )\n",
      "        (activation1): ReLU()\n",
      "        (activation2): ReLU()\n",
      "        (activation_final): ReLU()\n",
      "        (dropout1): Dropout(p=0.1, inplace=False)\n",
      "        (dropout2): Dropout(p=0.1, inplace=False)\n",
      "        (downsample): Conv1d(9, 128, kernel_size=(1,), stride=(1,))\n",
      "      )\n",
      "      (1): TemporalBlock(\n",
      "        (conv1): ParametrizedCausalConv1d(\n",
      "          128, 64, kernel_size=(4,), stride=(1,), dilation=(2,)\n",
      "          (parametrizations): ModuleDict(\n",
      "            (weight): ParametrizationList(\n",
      "              (0): _WeightNorm()\n",
      "            )\n",
      "          )\n",
      "        )\n",
      "        (conv2): ParametrizedCausalConv1d(\n",
      "          64, 64, kernel_size=(4,), stride=(1,), dilation=(2,)\n",
      "          (parametrizations): ModuleDict(\n",
      "            (weight): ParametrizationList(\n",
      "              (0): _WeightNorm()\n",
      "            )\n",
      "          )\n",
      "        )\n",
      "        (activation1): ReLU()\n",
      "        (activation2): ReLU()\n",
      "        (activation_final): ReLU()\n",
      "        (dropout1): Dropout(p=0.1, inplace=False)\n",
      "        (dropout2): Dropout(p=0.1, inplace=False)\n",
      "        (downsample): Conv1d(128, 64, kernel_size=(1,), stride=(1,))\n",
      "      )\n",
      "      (2): TemporalBlock(\n",
      "        (conv1): ParametrizedCausalConv1d(\n",
      "          64, 32, kernel_size=(4,), stride=(1,), dilation=(4,)\n",
      "          (parametrizations): ModuleDict(\n",
      "            (weight): ParametrizationList(\n",
      "              (0): _WeightNorm()\n",
      "            )\n",
      "          )\n",
      "        )\n",
      "        (conv2): ParametrizedCausalConv1d(\n",
      "          32, 32, kernel_size=(4,), stride=(1,), dilation=(4,)\n",
      "          (parametrizations): ModuleDict(\n",
      "            (weight): ParametrizationList(\n",
      "              (0): _WeightNorm()\n",
      "            )\n",
      "          )\n",
      "        )\n",
      "        (activation1): ReLU()\n",
      "        (activation2): ReLU()\n",
      "        (activation_final): ReLU()\n",
      "        (dropout1): Dropout(p=0.1, inplace=False)\n",
      "        (dropout2): Dropout(p=0.1, inplace=False)\n",
      "        (downsample): Conv1d(64, 32, kernel_size=(1,), stride=(1,))\n",
      "      )\n",
      "      (3): TemporalBlock(\n",
      "        (conv1): ParametrizedCausalConv1d(\n",
      "          32, 16, kernel_size=(4,), stride=(1,), dilation=(8,)\n",
      "          (parametrizations): ModuleDict(\n",
      "            (weight): ParametrizationList(\n",
      "              (0): _WeightNorm()\n",
      "            )\n",
      "          )\n",
      "        )\n",
      "        (conv2): ParametrizedCausalConv1d(\n",
      "          16, 16, kernel_size=(4,), stride=(1,), dilation=(8,)\n",
      "          (parametrizations): ModuleDict(\n",
      "            (weight): ParametrizationList(\n",
      "              (0): _WeightNorm()\n",
      "            )\n",
      "          )\n",
      "        )\n",
      "        (activation1): ReLU()\n",
      "        (activation2): ReLU()\n",
      "        (activation_final): ReLU()\n",
      "        (dropout1): Dropout(p=0.1, inplace=False)\n",
      "        (dropout2): Dropout(p=0.1, inplace=False)\n",
      "        (downsample): Conv1d(32, 16, kernel_size=(1,), stride=(1,))\n",
      "      )\n",
      "      (4): TemporalBlock(\n",
      "        (conv1): ParametrizedCausalConv1d(\n",
      "          16, 4, kernel_size=(4,), stride=(1,), dilation=(16,)\n",
      "          (parametrizations): ModuleDict(\n",
      "            (weight): ParametrizationList(\n",
      "              (0): _WeightNorm()\n",
      "            )\n",
      "          )\n",
      "        )\n",
      "        (conv2): ParametrizedCausalConv1d(\n",
      "          4, 4, kernel_size=(4,), stride=(1,), dilation=(16,)\n",
      "          (parametrizations): ModuleDict(\n",
      "            (weight): ParametrizationList(\n",
      "              (0): _WeightNorm()\n",
      "            )\n",
      "          )\n",
      "        )\n",
      "        (activation1): ReLU()\n",
      "        (activation2): ReLU()\n",
      "        (activation_final): ReLU()\n",
      "        (dropout1): Dropout(p=0.1, inplace=False)\n",
      "        (dropout2): Dropout(p=0.1, inplace=False)\n",
      "        (downsample): Conv1d(16, 4, kernel_size=(1,), stride=(1,))\n",
      "      )\n",
      "    )\n",
      "  )\n",
      ")\n"
     ]
    }
   ],
   "source": [
    "print(tcn_model)"
   ]
  },
  {
   "cell_type": "code",
   "execution_count": 12,
   "metadata": {},
   "outputs": [
    {
     "name": "stdout",
     "output_type": "stream",
     "text": [
      "torch.Size([4])\n"
     ]
    }
   ],
   "source": [
    "for X, y in train_dataloader:\n",
    "    out = tcn_model.forward(X)\n",
    "    print(out.shape)\n",
    "    break   "
   ]
  },
  {
   "cell_type": "code",
   "execution_count": 18,
   "metadata": {},
   "outputs": [],
   "source": [
    "def train_TCN(model, learning_rate, num_epochs):\n",
    "    optimizer = optim.Adam(model.parameters(),\n",
    "                            lr=learning_rate,\n",
    "                            betas=(0.9, 0.999),\n",
    "                            eps=1e-8)\n",
    "\n",
    "    criterion = nn.CrossEntropyLoss()\n",
    "\n",
    "    train_losses = []\n",
    "    val_losses = []\n",
    "\n",
    "    for epoch in range(num_epochs):\n",
    "        print(f'Starting Epoch {epoch+1}...')\n",
    "        model.train()\n",
    "\n",
    "        for train_X, train_y in tqdm(train_dataloader):\n",
    "            optimizer.zero_grad()\n",
    "            \n",
    "            train_output = model(train_X)\n",
    "\n",
    "            train_loss = criterion(train_output, train_y[0].type(torch.LongTensor))\n",
    "            train_loss.backward()\n",
    "            optimizer.step()\n",
    "        \n",
    "        train_losses.append(train_loss.item())\n",
    "        print(f'Train Loss = {train_losses[-1]}')\n",
    "\n",
    "        model.eval()\n",
    "        for val_X, val_y in tqdm(val_dataloader):\n",
    "            val_output = model(val_X)\n",
    "        \n",
    "        val_losses.append(criterion(val_output, val_y[0].type(torch.LongTensor)))\n",
    "        print(f'Val Loss = {val_losses[-1]}')\n",
    "\n",
    "    return train_losses, val_losses\n"
   ]
  },
  {
   "cell_type": "code",
   "execution_count": 17,
   "metadata": {},
   "outputs": [
    {
     "name": "stdout",
     "output_type": "stream",
     "text": [
      "Starting Epoch 1...\n"
     ]
    },
    {
     "data": {
      "application/vnd.jupyter.widget-view+json": {
       "model_id": "d43eeed77e3e43ffb48d28ba546e16a9",
       "version_major": 2,
       "version_minor": 0
      },
      "text/plain": [
       "  0%|          | 0/15407 [00:00<?, ?it/s]"
      ]
     },
     "metadata": {},
     "output_type": "display_data"
    },
    {
     "name": "stdout",
     "output_type": "stream",
     "text": [
      "Train Loss = 1.0785067081451416\n"
     ]
    },
    {
     "data": {
      "application/vnd.jupyter.widget-view+json": {
       "model_id": "714f0cf6eb8243a0b28715d82072eddd",
       "version_major": 2,
       "version_minor": 0
      },
      "text/plain": [
       "  0%|          | 0/2202 [00:00<?, ?it/s]"
      ]
     },
     "metadata": {},
     "output_type": "display_data"
    },
    {
     "ename": "NameError",
     "evalue": "name 'val_loss' is not defined",
     "output_type": "error",
     "traceback": [
      "\u001b[1;31m---------------------------------------------------------------------------\u001b[0m",
      "\u001b[1;31mNameError\u001b[0m                                 Traceback (most recent call last)",
      "Cell \u001b[1;32mIn[17], line 1\u001b[0m\n\u001b[1;32m----> 1\u001b[0m train_losses, val_losses \u001b[38;5;241m=\u001b[39m \u001b[43mtrain_TCN\u001b[49m\u001b[43m(\u001b[49m\u001b[43mtcn_model\u001b[49m\u001b[43m,\u001b[49m\u001b[43m \u001b[49m\u001b[38;5;241;43m1e-3\u001b[39;49m\u001b[43m,\u001b[49m\u001b[43m \u001b[49m\u001b[38;5;241;43m5\u001b[39;49m\u001b[43m)\u001b[49m\n",
      "Cell \u001b[1;32mIn[16], line 32\u001b[0m, in \u001b[0;36mtrain_TCN\u001b[1;34m(model, learning_rate, num_epochs)\u001b[0m\n\u001b[0;32m     29\u001b[0m     \u001b[38;5;28;01mfor\u001b[39;00m val_X, val_y \u001b[38;5;129;01min\u001b[39;00m tqdm(val_dataloader):\n\u001b[0;32m     30\u001b[0m         val_output \u001b[38;5;241m=\u001b[39m model(val_X)\n\u001b[1;32m---> 32\u001b[0m     \u001b[43mval_loss\u001b[49m\u001b[38;5;241m.\u001b[39mappend(criterion(val_output, val_y[\u001b[38;5;241m0\u001b[39m]\u001b[38;5;241m.\u001b[39mtype(torch\u001b[38;5;241m.\u001b[39mLongTensor)))\n\u001b[0;32m     33\u001b[0m     \u001b[38;5;28mprint\u001b[39m(\u001b[38;5;124mf\u001b[39m\u001b[38;5;124m'\u001b[39m\u001b[38;5;124mVal Loss = \u001b[39m\u001b[38;5;132;01m{\u001b[39;00mval_losses[\u001b[38;5;241m-\u001b[39m\u001b[38;5;241m1\u001b[39m]\u001b[38;5;132;01m}\u001b[39;00m\u001b[38;5;124m'\u001b[39m)\n\u001b[0;32m     35\u001b[0m \u001b[38;5;28;01mreturn\u001b[39;00m train_losses, val_losses\n",
      "\u001b[1;31mNameError\u001b[0m: name 'val_loss' is not defined"
     ]
    }
   ],
   "source": [
    "train_losses, val_losses = train_TCN(tcn_model, 1e-3, 5)"
   ]
  }
 ],
 "metadata": {
  "kernelspec": {
   "display_name": "cv",
   "language": "python",
   "name": "python3"
  },
  "language_info": {
   "codemirror_mode": {
    "name": "ipython",
    "version": 3
   },
   "file_extension": ".py",
   "mimetype": "text/x-python",
   "name": "python",
   "nbconvert_exporter": "python",
   "pygments_lexer": "ipython3",
   "version": "3.11.2"
  }
 },
 "nbformat": 4,
 "nbformat_minor": 2
}
