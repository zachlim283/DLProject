{
 "cells": [
  {
   "cell_type": "code",
   "execution_count": 1,
   "metadata": {},
   "outputs": [
    {
     "name": "stdout",
     "output_type": "stream",
     "text": [
      "c:\\Users\\zach_\\VSCode Projects\\DLProject\n"
     ]
    },
    {
     "name": "stderr",
     "output_type": "stream",
     "text": [
      "c:\\Users\\zach_\\VSCode Projects\\DLProject\\.venv\\Lib\\site-packages\\IPython\\core\\magics\\osm.py:417: UserWarning: This is now an optional IPython functionality, setting dhist requires you to install the `pickleshare` library.\n",
      "  self.shell.db['dhist'] = compress_dhist(dhist)[-100:]\n"
     ]
    }
   ],
   "source": [
    "# Needed for successful imports\n",
    "%cd ../.."
   ]
  },
  {
   "cell_type": "code",
   "execution_count": 2,
   "metadata": {},
   "outputs": [
    {
     "name": "stdout",
     "output_type": "stream",
     "text": [
      "cuda\n"
     ]
    }
   ],
   "source": [
    "import torch\n",
    "import random\n",
    "import numpy as np\n",
    "import matplotlib.pyplot as plt\n",
    "import torch.nn as nn\n",
    "import torch.optim as optim\n",
    "from torch.utils.data import DataLoader, TensorDataset\n",
    "from copy import deepcopy\n",
    "from tqdm.notebook import tqdm\n",
    "\n",
    "from src.Dataset import CustomDataset\n",
    "from src.TrainHelpers import plot_loss_graph, encode_data, train_svm\n",
    "from src.TestHelpers import test_model, calculate_accuracy\n",
    "\n",
    "if torch.cuda.is_available():\n",
    "    device = torch.device('cuda')\n",
    "elif torch.backends.mps.is_available():\n",
    "    device = torch.device(\"mps\") \n",
    "else:\n",
    "    device = torch.device(\"cpu\")\n",
    "print(device)"
   ]
  },
  {
   "cell_type": "code",
   "execution_count": 2,
   "metadata": {},
   "outputs": [],
   "source": [
    "### PARAMETERS ###\n",
    "dataset_ver = '3w05s_Larm'\n",
    "n_input = 9\n",
    "n_hidden = 360\n",
    "early_stop = True\n",
    "patience = 5\n",
    "dropout_rate = 0.2\n",
    "num_epochs = 50\n",
    "lr_rate = 1e-3\n",
    "seed = 345\n",
    "\n",
    "torch.manual_seed(seed)\n",
    "np.random.seed(seed)\n",
    "random.seed(seed)\n",
    "\n",
    "x_train = np.load(f'input/train_data_{dataset_ver}.npy')\n",
    "x_val = np.load(f'input/val_data_{dataset_ver}.npy')\n",
    "x_test = np.load(f'input/test_data_{dataset_ver}.npy')\n",
    "\n",
    "y_train = np.load(f'input/train_labels_{dataset_ver}.npy')\n",
    "y_val = np.load(f'input/val_labels_{dataset_ver}.npy')\n",
    "y_test = np.load(f'input/test_labels_{dataset_ver}.npy')"
   ]
  },
  {
   "cell_type": "code",
   "execution_count": 3,
   "metadata": {},
   "outputs": [
    {
     "name": "stdout",
     "output_type": "stream",
     "text": [
      "(11578, 60, 9) (3308, 60, 9) (1654, 60, 9)\n"
     ]
    },
    {
     "data": {
      "image/png": "[encoded data removed]",
      "text/plain": [
       "<Figure size 640x480 with 1 Axes>"
      ]
     },
     "metadata": {},
     "output_type": "display_data"
    }
   ],
   "source": [
    "# Check Dataset\n",
    "print(x_train.shape, x_test.shape, x_val.shape)\n",
    "unique_labels_train, label_counts_train = np.unique(y_train, return_counts=True)\n",
    "unique_labels_val, label_counts_val = np.unique(y_val, return_counts=True)\n",
    "unique_labels_test, label_counts_test = np.unique(y_test, return_counts=True)\n",
    "\n",
    "plt.bar(unique_labels_train, label_counts_train, label='Train')\n",
    "plt.bar(unique_labels_test, label_counts_test, label='Test')\n",
    "plt.bar(unique_labels_val, label_counts_val, label='Validation')\n",
    "\n",
    "# Set the x-axis tick labels\n",
    "plt.xticks(unique_labels_train, unique_labels_train)\n",
    "\n",
    "plt.xlabel('Labels')\n",
    "plt.ylabel('Count')\n",
    "plt.title('Label Distribution')\n",
    "plt.legend()\n",
    "plt.show()"
   ]
  },
  {
   "cell_type": "code",
   "execution_count": 4,
   "metadata": {},
   "outputs": [],
   "source": [
    "### Declare Dataloaders\n",
    "train_dataset = CustomDataset(\"train\", dataset_ver)\n",
    "train_dataloader = DataLoader(train_dataset, batch_size=16, shuffle=True)\n",
    "val_dataset = CustomDataset(\"val\", dataset_ver)\n",
    "val_dataloader = DataLoader(val_dataset, batch_size=16, shuffle=True)\n",
    "test_dataset = CustomDataset(\"test\", dataset_ver)\n",
    "test_dataloader = DataLoader(test_dataset, batch_size=16, shuffle=True)"
   ]
  },
  {
   "cell_type": "code",
   "execution_count": 5,
   "metadata": {},
   "outputs": [],
   "source": [
    "# 1-Layer CNN + 1-Layer Bidirectional LSTM\n",
    "class Encoder(nn.Module):\n",
    "    def __init__(self, input_size, hidden_size, dropout_rate):\n",
    "        super(Encoder, self).__init__()\n",
    "        nb_filters = 64\n",
    "        self.conv = nn.Conv1d(input_size, nb_filters, kernel_size=3, padding=1)\n",
    "        self.relu = nn.ReLU()\n",
    "        self.LSTM1 = nn.LSTM(nb_filters, hidden_size, batch_first=True, bidirectional=True)\n",
    "        self.dropout = nn.Dropout(dropout_rate)\n",
    "        self.hidden_size = hidden_size\n",
    "\n",
    "    def forward(self, x):\n",
    "        x = x.permute(0, 2, 1)  # conv = (batch, no of channels, sequence length)\n",
    "        x = self.conv(x)\n",
    "        x = self.relu(x)\n",
    "        x = x.permute(0, 2, 1)  # swap back\n",
    "        x, (encoded_x, _) = self.LSTM1(x)\n",
    "        x = self.dropout(encoded_x)\n",
    "        return x[-1,:,:]\n",
    "\n",
    "class Decoder(nn.Module):\n",
    "    def __init__(self, hidden_size, output_size, dropout_rate):\n",
    "        super(Decoder, self).__init__()\n",
    "        nb_filters = 64\n",
    "        self.hidden_size = hidden_size\n",
    "        self.conv = nn.Conv1d(hidden_size, nb_filters, kernel_size=3, padding=1)\n",
    "        self.relu = nn.ReLU()\n",
    "        self.LSTM1 = nn.LSTM(nb_filters, hidden_size=hidden_size, batch_first=True, bidirectional=True)\n",
    "        self.dropout = nn.Dropout(dropout_rate)\n",
    "        self.output = nn.Linear(hidden_size*2, output_size)\n",
    "\n",
    "    def forward(self, x):\n",
    "        x = x.unsqueeze(1).repeat(1, 60, 1)\n",
    "        x = x.permute(0, 2, 1)  # conv = (batch, no of channels, sequence length)\n",
    "        x = self.conv(x)\n",
    "        x = self.relu(x)\n",
    "        x = x.permute(0, 2, 1)  # swap back\n",
    "        x, (_, _) = self.LSTM1(x)\n",
    "        x = self.dropout(x)\n",
    "        x = self.output(x)\n",
    "        return x\n",
    "\n",
    "\n",
    "class Autoencoder(nn.Module):\n",
    "    def __init__(self, in_out_size, hidden_size, dropout_rate):\n",
    "        super(Autoencoder, self).__init__()\n",
    "        self.encoder = Encoder(in_out_size, hidden_size, dropout_rate).to(device)\n",
    "        self.decoder = Decoder(hidden_size, in_out_size, dropout_rate).to(device)\n",
    "\n",
    "        self.loss = nn.MSELoss()\n",
    "\n",
    "    def forward(self, x):\n",
    "        x = self.encoder(x)\n",
    "        x = self.decoder(x)\n",
    "        return x"
   ]
  },
  {
   "cell_type": "code",
   "execution_count": 6,
   "metadata": {},
   "outputs": [],
   "source": [
    "class MLP(nn.Module):\n",
    "    def __init__(self, layer_sizes):\n",
    "        super(MLP, self).__init__()\n",
    "        self.mlp = nn.Sequential()\n",
    "\n",
    "        for i in range(len(layer_sizes)-1):\n",
    "            self.mlp.add_module(f'fc{i+1}', nn.Linear(layer_sizes[i], layer_sizes[i+1]))\n",
    "\n",
    "    def forward(self, x):\n",
    "        return self.mlp(x)"
   ]
  },
  {
   "cell_type": "code",
   "execution_count": 7,
   "metadata": {},
   "outputs": [
    {
     "name": "stdout",
     "output_type": "stream",
     "text": [
      "Loading Encoder Model...\n",
      "Encoding Data...\n"
     ]
    },
    {
     "data": {
      "application/vnd.jupyter.widget-view+json": {
       "model_id": "b85b47fe63a740a597b4edec5d988c90",
       "version_major": 2,
       "version_minor": 0
      },
      "text/plain": [
       "  0%|          | 0/724 [00:00<?, ?it/s]"
      ]
     },
     "metadata": {},
     "output_type": "display_data"
    },
    {
     "name": "stdout",
     "output_type": "stream",
     "text": [
      "encoded_data.shape=torch.Size([11578, 360])\n",
      "labels.shape=torch.Size([11578, 1])\n",
      "Loading Encoder Model...\n",
      "Encoding Data...\n"
     ]
    },
    {
     "data": {
      "application/vnd.jupyter.widget-view+json": {
       "model_id": "f5cc0a24fd48481f8aaae7f09433c818",
       "version_major": 2,
       "version_minor": 0
      },
      "text/plain": [
       "  0%|          | 0/104 [00:00<?, ?it/s]"
      ]
     },
     "metadata": {},
     "output_type": "display_data"
    },
    {
     "name": "stdout",
     "output_type": "stream",
     "text": [
      "encoded_data.shape=torch.Size([1654, 360])\n",
      "labels.shape=torch.Size([1654, 1])\n",
      "Loading Encoder Model...\n",
      "Encoding Data...\n"
     ]
    },
    {
     "data": {
      "application/vnd.jupyter.widget-view+json": {
       "model_id": "c4d7f877b5084456804969facf887564",
       "version_major": 2,
       "version_minor": 0
      },
      "text/plain": [
       "  0%|          | 0/207 [00:00<?, ?it/s]"
      ]
     },
     "metadata": {},
     "output_type": "display_data"
    },
    {
     "name": "stdout",
     "output_type": "stream",
     "text": [
      "encoded_data.shape=torch.Size([3308, 360])\n",
      "labels.shape=torch.Size([3308, 1])\n"
     ]
    }
   ],
   "source": [
    "tag = '1CNN_1LSTMBD'\n",
    "encoder_ver = f'{n_hidden}h{num_epochs}e{dropout_rate}dr{lr_rate}lr'\n",
    "# train_losses, val_losses = train_model(Autoencoder, train_dataloader, val_dataloader, val_dataset, n_input, n_hidden, dataset_ver, encoder_ver, tag, early_stop, dropout_rate, num_epochs, lr_rate)\n",
    "# plot_loss_graph(train_losses, val_losses, tag)\n",
    "encoded_train_data, train_labels = encode_data(train_dataloader, dataset_ver, tag, encoder_ver)\n",
    "encoded_val_data, val_labels = encode_data(val_dataloader, dataset_ver, tag, encoder_ver)\n",
    "encoded_test_data, test_labels = encode_data(test_dataloader, dataset_ver, tag, encoder_ver)"
   ]
  },
  {
   "cell_type": "code",
   "execution_count": 8,
   "metadata": {},
   "outputs": [
    {
     "name": "stdout",
     "output_type": "stream",
     "text": [
      "Training SVM Classifier...\n",
      "Accuracy: 0.961139896373057\n"
     ]
    },
    {
     "data": {
      "application/vnd.jupyter.widget-view+json": {
       "model_id": "f02fea821feb4ef0bd3b0d6c9163ecfb",
       "version_major": 2,
       "version_minor": 0
      },
      "text/plain": [
       "  0%|          | 0/207 [00:00<?, ?it/s]"
      ]
     },
     "metadata": {},
     "output_type": "display_data"
    },
    {
     "name": "stdout",
     "output_type": "stream",
     "text": [
      "test_encoded_data.shape=torch.Size([3308, 360])\n",
      "test_labels.shape=torch.Size([3308, 1])\n",
      "test_predictions.shape=(3308,)\n",
      "Accuracy: 97.22%\n"
     ]
    },
    {
     "data": {
      "image/png": "[encoded data removed]",
      "text/plain": [
       "<Figure size 640x480 with 2 Axes>"
      ]
     },
     "metadata": {},
     "output_type": "display_data"
    }
   ],
   "source": [
    "svm_classifier = train_svm(encoded_train_data, train_labels.ravel(), dataset_ver, tag, encoder_ver)\n",
    "### Streamlined testing of model + SVM ###\n",
    "test_labels, test_predictions = test_model(test_dataloader, dataset_ver, tag, encoder_ver)\n",
    "calculate_accuracy(test_labels, test_predictions, tag)"
   ]
  },
  {
   "cell_type": "code",
   "execution_count": 9,
   "metadata": {},
   "outputs": [],
   "source": [
    "encoded_dataset_train = TensorDataset(encoded_train_data, train_labels)\n",
    "encoded_dataloader_train = DataLoader(encoded_dataset_train, batch_size=1, shuffle=True)\n",
    "\n",
    "encoded_dataset_val = TensorDataset(encoded_val_data, val_labels)\n",
    "encoded_dataloader_val = DataLoader(encoded_dataset_val, batch_size=1, shuffle=True)\n",
    "\n",
    "encoded_dataset_test = TensorDataset(encoded_test_data, test_labels)\n",
    "encoded_dataloader_test = DataLoader(encoded_dataset_test, batch_size=1, shuffle=True)"
   ]
  },
  {
   "cell_type": "code",
   "execution_count": 10,
   "metadata": {},
   "outputs": [],
   "source": [
    "def train_MLP(model, enc_dtl_train, enc_dtl_val, learning_rate, num_epochs, patience, tag):\n",
    "    optimizer = optim.Adam(model.parameters(),\n",
    "                            lr=learning_rate,\n",
    "                            betas=(0.9, 0.999),\n",
    "                            eps=1e-8)\n",
    "\n",
    "    criterion = nn.CrossEntropyLoss()\n",
    "\n",
    "    train_losses = []\n",
    "    val_losses = []\n",
    "\n",
    "    best_val_loss = np.inf\n",
    "    es_count = 0\n",
    "\n",
    "    for epoch in range(num_epochs):\n",
    "        if es_count < patience:\n",
    "            print(f'Starting Epoch {epoch+1}...')\n",
    "            model.train()\n",
    "\n",
    "            train_preds = []\n",
    "            train_labels = []\n",
    "\n",
    "            correct_train = 0\n",
    "            total_train = 0\n",
    "\n",
    "            train_loss = 0\n",
    "            for train_X, train_y in tqdm(enc_dtl_train):\n",
    "                optimizer.zero_grad()\n",
    "                \n",
    "                train_output = model(train_X)\n",
    "                \n",
    "                train_criterion = criterion(train_output, train_y[0].type(torch.LongTensor))\n",
    "                train_criterion.backward()\n",
    "                train_loss += train_criterion.item()\n",
    "                optimizer.step()\n",
    "\n",
    "                train_preds.append(torch.argmax(train_output))\n",
    "                train_labels.append(train_y)\n",
    "\n",
    "                if train_preds[-1] == train_labels[-1]:\n",
    "                    correct_train += 1\n",
    "                total_train += 1\n",
    "\n",
    "            model.eval()\n",
    "\n",
    "            val_preds = []\n",
    "            val_labels = []\n",
    "\n",
    "            correct_val = 0\n",
    "            total_val = 0\n",
    "\n",
    "            val_loss = 0\n",
    "            for val_X, val_y in tqdm(enc_dtl_val):\n",
    "                val_output = model(val_X)\n",
    "\n",
    "                val_preds.append(torch.argmax(val_output))\n",
    "                val_labels.append(val_y)\n",
    "\n",
    "                val_criterion = criterion(val_output, val_y[0].type(torch.LongTensor))\n",
    "                val_loss += val_criterion.item()\n",
    "\n",
    "                if val_preds[-1] == val_labels[-1]:\n",
    "                    correct_val += 1\n",
    "                total_val += 1\n",
    "\n",
    "            train_losses.append(train_loss / len(enc_dtl_train))\n",
    "            print(f'Train Loss = {train_losses[-1]}')\n",
    "\n",
    "            train_acc = (correct_train / total_train) * 100\n",
    "            print(f'Train Acc = {train_acc}')\n",
    "\n",
    "            val_losses.append(val_loss / len(enc_dtl_val))\n",
    "            print(f'Val Loss = {val_losses[-1]}')\n",
    "\n",
    "            val_acc = (correct_val / total_val) * 100\n",
    "            print(f'Val Acc = {val_acc}')\n",
    "\n",
    "            if val_losses[-1] < best_val_loss:\n",
    "                torch.save(deepcopy(model.state_dict()), f'models/MLP_{tag}.pt')\n",
    "                best_val_loss = val_losses[-1]\n",
    "                es_count = 0\n",
    "                continue\n",
    "            \n",
    "            es_count += 1\n",
    "        \n",
    "        else:\n",
    "            print('Early Stopping...')\n",
    "            break\n",
    "    \n",
    "    return train_losses, val_losses"
   ]
  },
  {
   "cell_type": "code",
   "execution_count": 11,
   "metadata": {},
   "outputs": [
    {
     "name": "stdout",
     "output_type": "stream",
     "text": [
      "MLP(\n",
      "  (mlp): Sequential(\n",
      "    (fc1): Linear(in_features=360, out_features=64, bias=True)\n",
      "    (fc2): Linear(in_features=64, out_features=16, bias=True)\n",
      "    (fc3): Linear(in_features=16, out_features=4, bias=True)\n",
      "  )\n",
      ")\n",
      "Starting Epoch 1...\n"
     ]
    },
    {
     "data": {
      "application/vnd.jupyter.widget-view+json": {
       "model_id": "cc1ca66aa58240c9b06208d29c817ffb",
       "version_major": 2,
       "version_minor": 0
      },
      "text/plain": [
       "  0%|          | 0/11578 [00:00<?, ?it/s]"
      ]
     },
     "metadata": {},
     "output_type": "display_data"
    },
    {
     "data": {
      "application/vnd.jupyter.widget-view+json": {
       "model_id": "a7e39441777e42729f4aad3708c6a057",
       "version_major": 2,
       "version_minor": 0
      },
      "text/plain": [
       "  0%|          | 0/11578 [00:00<?, ?it/s]"
      ]
     },
     "metadata": {},
     "output_type": "display_data"
    },
    {
     "name": "stdout",
     "output_type": "stream",
     "text": [
      "Train Loss = 0.3242947248392657\n",
      "Train Acc = 88.21903610295388\n",
      "Val Loss = 0.2427522222005228\n",
      "Val Acc = 91.11245465538089\n",
      "Starting Epoch 2...\n"
     ]
    },
    {
     "data": {
      "application/vnd.jupyter.widget-view+json": {
       "model_id": "e0755e7943ff4c95a30f549f7029bc0e",
       "version_major": 2,
       "version_minor": 0
      },
      "text/plain": [
       "  0%|          | 0/11578 [00:00<?, ?it/s]"
      ]
     },
     "metadata": {},
     "output_type": "display_data"
    },
    {
     "data": {
      "application/vnd.jupyter.widget-view+json": {
       "model_id": "a58a139364b845b398c8b252d7e14c7e",
       "version_major": 2,
       "version_minor": 0
      },
      "text/plain": [
       "  0%|          | 0/11578 [00:00<?, ?it/s]"
      ]
     },
     "metadata": {},
     "output_type": "display_data"
    },
    {
     "name": "stdout",
     "output_type": "stream",
     "text": [
      "Train Loss = 0.23786104184269868\n",
      "Train Acc = 91.61340473311452\n",
      "Val Loss = 0.23206458866974075\n",
      "Val Acc = 91.492485748834\n",
      "Starting Epoch 3...\n"
     ]
    },
    {
     "data": {
      "application/vnd.jupyter.widget-view+json": {
       "model_id": "d438a8e235d34e2ca5722fddedb4e181",
       "version_major": 2,
       "version_minor": 0
      },
      "text/plain": [
       "  0%|          | 0/11578 [00:00<?, ?it/s]"
      ]
     },
     "metadata": {},
     "output_type": "display_data"
    },
    {
     "data": {
      "application/vnd.jupyter.widget-view+json": {
       "model_id": "6cdd591958874df5b703d6229ae99f7d",
       "version_major": 2,
       "version_minor": 0
      },
      "text/plain": [
       "  0%|          | 0/11578 [00:00<?, ?it/s]"
      ]
     },
     "metadata": {},
     "output_type": "display_data"
    },
    {
     "name": "stdout",
     "output_type": "stream",
     "text": [
      "Train Loss = 0.21186409698699527\n",
      "Train Acc = 92.45983762307826\n",
      "Val Loss = 0.18818897569835014\n",
      "Val Acc = 93.48764898946278\n",
      "Starting Epoch 4...\n"
     ]
    },
    {
     "data": {
      "application/vnd.jupyter.widget-view+json": {
       "model_id": "8e80b458e44a4d5b85ea91725386bb3f",
       "version_major": 2,
       "version_minor": 0
      },
      "text/plain": [
       "  0%|          | 0/11578 [00:00<?, ?it/s]"
      ]
     },
     "metadata": {},
     "output_type": "display_data"
    },
    {
     "data": {
      "application/vnd.jupyter.widget-view+json": {
       "model_id": "c4af0896b7504a4294a6e090658ca286",
       "version_major": 2,
       "version_minor": 0
      },
      "text/plain": [
       "  0%|          | 0/11578 [00:00<?, ?it/s]"
      ]
     },
     "metadata": {},
     "output_type": "display_data"
    },
    {
     "name": "stdout",
     "output_type": "stream",
     "text": [
      "Train Loss = 0.19988534815724265\n",
      "Train Acc = 92.86577992744861\n",
      "Val Loss = 0.180031228994162\n",
      "Val Acc = 93.3580929348765\n",
      "Starting Epoch 5...\n"
     ]
    },
    {
     "data": {
      "application/vnd.jupyter.widget-view+json": {
       "model_id": "8f97392d0b9a4de29970b2ad262ebe0d",
       "version_major": 2,
       "version_minor": 0
      },
      "text/plain": [
       "  0%|          | 0/11578 [00:00<?, ?it/s]"
      ]
     },
     "metadata": {},
     "output_type": "display_data"
    },
    {
     "data": {
      "application/vnd.jupyter.widget-view+json": {
       "model_id": "4e06eb2f27c04338bc38a08120b00564",
       "version_major": 2,
       "version_minor": 0
      },
      "text/plain": [
       "  0%|          | 0/11578 [00:00<?, ?it/s]"
      ]
     },
     "metadata": {},
     "output_type": "display_data"
    },
    {
     "name": "stdout",
     "output_type": "stream",
     "text": [
      "Train Loss = 0.18405865339991823\n",
      "Train Acc = 93.38400414579374\n",
      "Val Loss = 0.16588009146488886\n",
      "Val Acc = 93.92813957505614\n",
      "Starting Epoch 6...\n"
     ]
    },
    {
     "data": {
      "application/vnd.jupyter.widget-view+json": {
       "model_id": "c7f229ea2ea84f12bb974a051bd8d687",
       "version_major": 2,
       "version_minor": 0
      },
      "text/plain": [
       "  0%|          | 0/11578 [00:00<?, ?it/s]"
      ]
     },
     "metadata": {},
     "output_type": "display_data"
    },
    {
     "data": {
      "application/vnd.jupyter.widget-view+json": {
       "model_id": "c8ca2d94243643c980495b75858cb87f",
       "version_major": 2,
       "version_minor": 0
      },
      "text/plain": [
       "  0%|          | 0/11578 [00:00<?, ?it/s]"
      ]
     },
     "metadata": {},
     "output_type": "display_data"
    },
    {
     "name": "stdout",
     "output_type": "stream",
     "text": [
      "Train Loss = 0.1784000362624054\n",
      "Train Acc = 93.81585766108135\n",
      "Val Loss = 0.1598606388357731\n",
      "Val Acc = 93.96268785627915\n",
      "Starting Epoch 7...\n"
     ]
    },
    {
     "data": {
      "application/vnd.jupyter.widget-view+json": {
       "model_id": "1afbd4d45fd149a7b0cce9a8fe7083ef",
       "version_major": 2,
       "version_minor": 0
      },
      "text/plain": [
       "  0%|          | 0/11578 [00:00<?, ?it/s]"
      ]
     },
     "metadata": {},
     "output_type": "display_data"
    },
    {
     "data": {
      "application/vnd.jupyter.widget-view+json": {
       "model_id": "d26f640375394647a15849f5574ded14",
       "version_major": 2,
       "version_minor": 0
      },
      "text/plain": [
       "  0%|          | 0/11578 [00:00<?, ?it/s]"
      ]
     },
     "metadata": {},
     "output_type": "display_data"
    },
    {
     "name": "stdout",
     "output_type": "stream",
     "text": [
      "Train Loss = 0.1730397609394059\n",
      "Train Acc = 93.64311625496632\n",
      "Val Loss = 0.14433488089386248\n",
      "Val Acc = 94.81775781654864\n",
      "Starting Epoch 8...\n"
     ]
    },
    {
     "data": {
      "application/vnd.jupyter.widget-view+json": {
       "model_id": "e76a050ff6bb462c95215cf5ab1d5e9c",
       "version_major": 2,
       "version_minor": 0
      },
      "text/plain": [
       "  0%|          | 0/11578 [00:00<?, ?it/s]"
      ]
     },
     "metadata": {},
     "output_type": "display_data"
    },
    {
     "data": {
      "application/vnd.jupyter.widget-view+json": {
       "model_id": "12c5a7d1e5fa41068bd3745051faca53",
       "version_major": 2,
       "version_minor": 0
      },
      "text/plain": [
       "  0%|          | 0/11578 [00:00<?, ?it/s]"
      ]
     },
     "metadata": {},
     "output_type": "display_data"
    },
    {
     "name": "stdout",
     "output_type": "stream",
     "text": [
      "Train Loss = 0.16567340008848855\n",
      "Train Acc = 93.83313180169287\n",
      "Val Loss = 0.1499009073032676\n",
      "Val Acc = 94.6968388322681\n",
      "Starting Epoch 9...\n"
     ]
    },
    {
     "data": {
      "application/vnd.jupyter.widget-view+json": {
       "model_id": "32cb1025ca1348e58360f38466df69fe",
       "version_major": 2,
       "version_minor": 0
      },
      "text/plain": [
       "  0%|          | 0/11578 [00:00<?, ?it/s]"
      ]
     },
     "metadata": {},
     "output_type": "display_data"
    },
    {
     "data": {
      "application/vnd.jupyter.widget-view+json": {
       "model_id": "447b5740fef44bef8382ba6330e57d94",
       "version_major": 2,
       "version_minor": 0
      },
      "text/plain": [
       "  0%|          | 0/11578 [00:00<?, ?it/s]"
      ]
     },
     "metadata": {},
     "output_type": "display_data"
    },
    {
     "name": "stdout",
     "output_type": "stream",
     "text": [
      "Train Loss = 0.15661415769506698\n",
      "Train Acc = 94.29953359820348\n",
      "Val Loss = 0.1415170052890381\n",
      "Val Acc = 94.9300397305234\n",
      "Starting Epoch 10...\n"
     ]
    },
    {
     "data": {
      "application/vnd.jupyter.widget-view+json": {
       "model_id": "60b3da2b64a340b9b9c346869e7bdedd",
       "version_major": 2,
       "version_minor": 0
      },
      "text/plain": [
       "  0%|          | 0/11578 [00:00<?, ?it/s]"
      ]
     },
     "metadata": {},
     "output_type": "display_data"
    },
    {
     "data": {
      "application/vnd.jupyter.widget-view+json": {
       "model_id": "5fe1cb559dc7437bac32964ded76059d",
       "version_major": 2,
       "version_minor": 0
      },
      "text/plain": [
       "  0%|          | 0/11578 [00:00<?, ?it/s]"
      ]
     },
     "metadata": {},
     "output_type": "display_data"
    },
    {
     "name": "stdout",
     "output_type": "stream",
     "text": [
      "Train Loss = 0.15751633439040308\n",
      "Train Acc = 94.00587320780791\n",
      "Val Loss = 0.14663945550258534\n",
      "Val Acc = 94.37726723095527\n",
      "Starting Epoch 11...\n"
     ]
    },
    {
     "data": {
      "application/vnd.jupyter.widget-view+json": {
       "model_id": "78fe385a78b64a9a827056df1e00128f",
       "version_major": 2,
       "version_minor": 0
      },
      "text/plain": [
       "  0%|          | 0/11578 [00:00<?, ?it/s]"
      ]
     },
     "metadata": {},
     "output_type": "display_data"
    },
    {
     "data": {
      "application/vnd.jupyter.widget-view+json": {
       "model_id": "48e2e2f41015419bbd4af22ed5e252a0",
       "version_major": 2,
       "version_minor": 0
      },
      "text/plain": [
       "  0%|          | 0/11578 [00:00<?, ?it/s]"
      ]
     },
     "metadata": {},
     "output_type": "display_data"
    },
    {
     "name": "stdout",
     "output_type": "stream",
     "text": [
      "Train Loss = 0.1532399481658481\n",
      "Train Acc = 94.43772672309552\n",
      "Val Loss = 0.13874840109933367\n",
      "Val Acc = 95.04232164449819\n",
      "Starting Epoch 12...\n"
     ]
    },
    {
     "data": {
      "application/vnd.jupyter.widget-view+json": {
       "model_id": "3e5b023e497c4325be69e20f613c90e4",
       "version_major": 2,
       "version_minor": 0
      },
      "text/plain": [
       "  0%|          | 0/11578 [00:00<?, ?it/s]"
      ]
     },
     "metadata": {},
     "output_type": "display_data"
    },
    {
     "data": {
      "application/vnd.jupyter.widget-view+json": {
       "model_id": "0a8851dca9434e2f88b5e6b7016f0c12",
       "version_major": 2,
       "version_minor": 0
      },
      "text/plain": [
       "  0%|          | 0/11578 [00:00<?, ?it/s]"
      ]
     },
     "metadata": {},
     "output_type": "display_data"
    },
    {
     "name": "stdout",
     "output_type": "stream",
     "text": [
      "Train Loss = 0.14972404365053738\n",
      "Train Acc = 94.40317844187251\n",
      "Val Loss = 0.1332597248865938\n",
      "Val Acc = 95.36189324581102\n",
      "Starting Epoch 13...\n"
     ]
    },
    {
     "data": {
      "application/vnd.jupyter.widget-view+json": {
       "model_id": "e703556e9acc4ac2b2bbf3959803624b",
       "version_major": 2,
       "version_minor": 0
      },
      "text/plain": [
       "  0%|          | 0/11578 [00:00<?, ?it/s]"
      ]
     },
     "metadata": {},
     "output_type": "display_data"
    },
    {
     "data": {
      "application/vnd.jupyter.widget-view+json": {
       "model_id": "eb07567e53f84aae8efd22275abae86f",
       "version_major": 2,
       "version_minor": 0
      },
      "text/plain": [
       "  0%|          | 0/11578 [00:00<?, ?it/s]"
      ]
     },
     "metadata": {},
     "output_type": "display_data"
    },
    {
     "name": "stdout",
     "output_type": "stream",
     "text": [
      "Train Loss = 0.1442114131593616\n",
      "Train Acc = 94.85230609777163\n",
      "Val Loss = 0.12421472343674782\n",
      "Val Acc = 95.70737605804112\n",
      "Starting Epoch 14...\n"
     ]
    },
    {
     "data": {
      "application/vnd.jupyter.widget-view+json": {
       "model_id": "dc7511eebfa04a1791badaa2779a3538",
       "version_major": 2,
       "version_minor": 0
      },
      "text/plain": [
       "  0%|          | 0/11578 [00:00<?, ?it/s]"
      ]
     },
     "metadata": {},
     "output_type": "display_data"
    },
    {
     "data": {
      "application/vnd.jupyter.widget-view+json": {
       "model_id": "61175b0d275343be9ca4dc15577d092d",
       "version_major": 2,
       "version_minor": 0
      },
      "text/plain": [
       "  0%|          | 0/11578 [00:00<?, ?it/s]"
      ]
     },
     "metadata": {},
     "output_type": "display_data"
    },
    {
     "name": "stdout",
     "output_type": "stream",
     "text": [
      "Train Loss = 0.14180465815100962\n",
      "Train Acc = 94.77457246501987\n",
      "Val Loss = 0.14252343161090394\n",
      "Val Acc = 94.93867680082916\n",
      "Starting Epoch 15...\n"
     ]
    },
    {
     "data": {
      "application/vnd.jupyter.widget-view+json": {
       "model_id": "a4a82b76dea3452ab82c3e4b85c2139e",
       "version_major": 2,
       "version_minor": 0
      },
      "text/plain": [
       "  0%|          | 0/11578 [00:00<?, ?it/s]"
      ]
     },
     "metadata": {},
     "output_type": "display_data"
    },
    {
     "data": {
      "application/vnd.jupyter.widget-view+json": {
       "model_id": "9400166d888d41958469bf524eabc862",
       "version_major": 2,
       "version_minor": 0
      },
      "text/plain": [
       "  0%|          | 0/11578 [00:00<?, ?it/s]"
      ]
     },
     "metadata": {},
     "output_type": "display_data"
    },
    {
     "name": "stdout",
     "output_type": "stream",
     "text": [
      "Train Loss = 0.13951789213883345\n",
      "Train Acc = 94.88685437899464\n",
      "Val Loss = 0.1293372077177681\n",
      "Val Acc = 95.33598203489376\n",
      "Starting Epoch 16...\n"
     ]
    },
    {
     "data": {
      "application/vnd.jupyter.widget-view+json": {
       "model_id": "cfa228969f00437c8f6d02b48bfbb49f",
       "version_major": 2,
       "version_minor": 0
      },
      "text/plain": [
       "  0%|          | 0/11578 [00:00<?, ?it/s]"
      ]
     },
     "metadata": {},
     "output_type": "display_data"
    },
    {
     "data": {
      "application/vnd.jupyter.widget-view+json": {
       "model_id": "2920218e458e45a2a9d81e155cff27f2",
       "version_major": 2,
       "version_minor": 0
      },
      "text/plain": [
       "  0%|          | 0/11578 [00:00<?, ?it/s]"
      ]
     },
     "metadata": {},
     "output_type": "display_data"
    },
    {
     "name": "stdout",
     "output_type": "stream",
     "text": [
      "Train Loss = 0.1382087065068915\n",
      "Train Acc = 94.91276558991191\n",
      "Val Loss = 0.13904949945085074\n",
      "Val Acc = 94.80912074624287\n",
      "Starting Epoch 17...\n"
     ]
    },
    {
     "data": {
      "application/vnd.jupyter.widget-view+json": {
       "model_id": "1896c1bbf6374795be18006a4bc0dbb3",
       "version_major": 2,
       "version_minor": 0
      },
      "text/plain": [
       "  0%|          | 0/11578 [00:00<?, ?it/s]"
      ]
     },
     "metadata": {},
     "output_type": "display_data"
    },
    {
     "data": {
      "application/vnd.jupyter.widget-view+json": {
       "model_id": "570cf8da4218439fb2ce5703e3918dda",
       "version_major": 2,
       "version_minor": 0
      },
      "text/plain": [
       "  0%|          | 0/11578 [00:00<?, ?it/s]"
      ]
     },
     "metadata": {},
     "output_type": "display_data"
    },
    {
     "name": "stdout",
     "output_type": "stream",
     "text": [
      "Train Loss = 0.13510971367206961\n",
      "Train Acc = 94.94731387113491\n",
      "Val Loss = 0.13885471155438492\n",
      "Val Acc = 94.88685437899464\n",
      "Starting Epoch 18...\n"
     ]
    },
    {
     "data": {
      "application/vnd.jupyter.widget-view+json": {
       "model_id": "a4fbddf1f56741aa94783f2074a65a68",
       "version_major": 2,
       "version_minor": 0
      },
      "text/plain": [
       "  0%|          | 0/11578 [00:00<?, ?it/s]"
      ]
     },
     "metadata": {},
     "output_type": "display_data"
    },
    {
     "data": {
      "application/vnd.jupyter.widget-view+json": {
       "model_id": "edf7aecf84214c4da8427249d8a133b8",
       "version_major": 2,
       "version_minor": 0
      },
      "text/plain": [
       "  0%|          | 0/11578 [00:00<?, ?it/s]"
      ]
     },
     "metadata": {},
     "output_type": "display_data"
    },
    {
     "name": "stdout",
     "output_type": "stream",
     "text": [
      "Train Loss = 0.1341906183940609\n",
      "Train Acc = 94.95595094144066\n",
      "Val Loss = 0.11588100940766406\n",
      "Val Acc = 95.8369321126274\n",
      "Starting Epoch 19...\n"
     ]
    },
    {
     "data": {
      "application/vnd.jupyter.widget-view+json": {
       "model_id": "f66c292d72d74c08a9b476e69486f882",
       "version_major": 2,
       "version_minor": 0
      },
      "text/plain": [
       "  0%|          | 0/11578 [00:00<?, ?it/s]"
      ]
     },
     "metadata": {},
     "output_type": "display_data"
    },
    {
     "data": {
      "application/vnd.jupyter.widget-view+json": {
       "model_id": "9191c6bdd32c470391b9d78c8419f26b",
       "version_major": 2,
       "version_minor": 0
      },
      "text/plain": [
       "  0%|          | 0/11578 [00:00<?, ?it/s]"
      ]
     },
     "metadata": {},
     "output_type": "display_data"
    },
    {
     "name": "stdout",
     "output_type": "stream",
     "text": [
      "Train Loss = 0.13014504973302538\n",
      "Train Acc = 95.31007082397652\n",
      "Val Loss = 0.137262228146217\n",
      "Val Acc = 94.82639488685439\n",
      "Starting Epoch 20...\n"
     ]
    },
    {
     "data": {
      "application/vnd.jupyter.widget-view+json": {
       "model_id": "1ebf7ac95b8147e18c77e5e1b7e6a9f0",
       "version_major": 2,
       "version_minor": 0
      },
      "text/plain": [
       "  0%|          | 0/11578 [00:00<?, ?it/s]"
      ]
     },
     "metadata": {},
     "output_type": "display_data"
    },
    {
     "data": {
      "application/vnd.jupyter.widget-view+json": {
       "model_id": "5364d044744f4ad6a50c0f37079eed08",
       "version_major": 2,
       "version_minor": 0
      },
      "text/plain": [
       "  0%|          | 0/11578 [00:00<?, ?it/s]"
      ]
     },
     "metadata": {},
     "output_type": "display_data"
    },
    {
     "name": "stdout",
     "output_type": "stream",
     "text": [
      "Train Loss = 0.1281751887888172\n",
      "Train Acc = 95.4914493003973\n",
      "Val Loss = 0.11085126151465512\n",
      "Val Acc = 96.16514078424598\n",
      "Starting Epoch 21...\n"
     ]
    },
    {
     "data": {
      "application/vnd.jupyter.widget-view+json": {
       "model_id": "4f5e79d1fa984faf869d2747a48a5951",
       "version_major": 2,
       "version_minor": 0
      },
      "text/plain": [
       "  0%|          | 0/11578 [00:00<?, ?it/s]"
      ]
     },
     "metadata": {},
     "output_type": "display_data"
    },
    {
     "data": {
      "application/vnd.jupyter.widget-view+json": {
       "model_id": "1d152c73ad544decad4a8db05bd70fff",
       "version_major": 2,
       "version_minor": 0
      },
      "text/plain": [
       "  0%|          | 0/11578 [00:00<?, ?it/s]"
      ]
     },
     "metadata": {},
     "output_type": "display_data"
    },
    {
     "name": "stdout",
     "output_type": "stream",
     "text": [
      "Train Loss = 0.1279929765794238\n",
      "Train Acc = 95.52599758162032\n",
      "Val Loss = 0.1202522978914949\n",
      "Val Acc = 95.34461910519951\n",
      "Starting Epoch 22...\n"
     ]
    },
    {
     "data": {
      "application/vnd.jupyter.widget-view+json": {
       "model_id": "9807d9779b0c44a9ac8a63926c8dfb4a",
       "version_major": 2,
       "version_minor": 0
      },
      "text/plain": [
       "  0%|          | 0/11578 [00:00<?, ?it/s]"
      ]
     },
     "metadata": {},
     "output_type": "display_data"
    },
    {
     "data": {
      "application/vnd.jupyter.widget-view+json": {
       "model_id": "0df75509ccfa4f19b1d7f74cff816dc8",
       "version_major": 2,
       "version_minor": 0
      },
      "text/plain": [
       "  0%|          | 0/11578 [00:00<?, ?it/s]"
      ]
     },
     "metadata": {},
     "output_type": "display_data"
    },
    {
     "name": "stdout",
     "output_type": "stream",
     "text": [
      "Train Loss = 0.12632835268735476\n",
      "Train Acc = 95.42235273795129\n",
      "Val Loss = 0.11576217025406497\n",
      "Val Acc = 95.90602867507342\n",
      "Starting Epoch 23...\n"
     ]
    },
    {
     "data": {
      "application/vnd.jupyter.widget-view+json": {
       "model_id": "2359ee32925e4178a59d8927a707e289",
       "version_major": 2,
       "version_minor": 0
      },
      "text/plain": [
       "  0%|          | 0/11578 [00:00<?, ?it/s]"
      ]
     },
     "metadata": {},
     "output_type": "display_data"
    },
    {
     "data": {
      "application/vnd.jupyter.widget-view+json": {
       "model_id": "8f31af84e1774e2ba09a63cff205d910",
       "version_major": 2,
       "version_minor": 0
      },
      "text/plain": [
       "  0%|          | 0/11578 [00:00<?, ?it/s]"
      ]
     },
     "metadata": {},
     "output_type": "display_data"
    },
    {
     "name": "stdout",
     "output_type": "stream",
     "text": [
      "Train Loss = 0.12711684802682904\n",
      "Train Acc = 95.37916738642252\n",
      "Val Loss = 0.11218929038455513\n",
      "Val Acc = 96.13059250302297\n",
      "Starting Epoch 24...\n"
     ]
    },
    {
     "data": {
      "application/vnd.jupyter.widget-view+json": {
       "model_id": "79a6507a74644796a53dfaa4b03189fa",
       "version_major": 2,
       "version_minor": 0
      },
      "text/plain": [
       "  0%|          | 0/11578 [00:00<?, ?it/s]"
      ]
     },
     "metadata": {},
     "output_type": "display_data"
    },
    {
     "data": {
      "application/vnd.jupyter.widget-view+json": {
       "model_id": "0616e87ad32e4a6e96e332d752a0df14",
       "version_major": 2,
       "version_minor": 0
      },
      "text/plain": [
       "  0%|          | 0/11578 [00:00<?, ?it/s]"
      ]
     },
     "metadata": {},
     "output_type": "display_data"
    },
    {
     "name": "stdout",
     "output_type": "stream",
     "text": [
      "Train Loss = 0.12416427358303286\n",
      "Train Acc = 95.4741751597858\n",
      "Val Loss = 0.13251544811056185\n",
      "Val Acc = 95.05095871480394\n",
      "Starting Epoch 25...\n"
     ]
    },
    {
     "data": {
      "application/vnd.jupyter.widget-view+json": {
       "model_id": "e7217e008e714bd383a6fc66dbde987d",
       "version_major": 2,
       "version_minor": 0
      },
      "text/plain": [
       "  0%|          | 0/11578 [00:00<?, ?it/s]"
      ]
     },
     "metadata": {},
     "output_type": "display_data"
    },
    {
     "data": {
      "application/vnd.jupyter.widget-view+json": {
       "model_id": "a09a27a44b1d4ec1833c4ecf959052bb",
       "version_major": 2,
       "version_minor": 0
      },
      "text/plain": [
       "  0%|          | 0/11578 [00:00<?, ?it/s]"
      ]
     },
     "metadata": {},
     "output_type": "display_data"
    },
    {
     "name": "stdout",
     "output_type": "stream",
     "text": [
      "Train Loss = 0.12326693577946045\n",
      "Train Acc = 95.63827949559509\n",
      "Val Loss = 0.1047760731367702\n",
      "Val Acc = 96.45880117464156\n",
      "Starting Epoch 26...\n"
     ]
    },
    {
     "data": {
      "application/vnd.jupyter.widget-view+json": {
       "model_id": "861ff2fbe5b0455ca9b82ae6dd1e53ad",
       "version_major": 2,
       "version_minor": 0
      },
      "text/plain": [
       "  0%|          | 0/11578 [00:00<?, ?it/s]"
      ]
     },
     "metadata": {},
     "output_type": "display_data"
    },
    {
     "data": {
      "application/vnd.jupyter.widget-view+json": {
       "model_id": "5f63e8f9b4b24d209d70e22d408f3692",
       "version_major": 2,
       "version_minor": 0
      },
      "text/plain": [
       "  0%|          | 0/11578 [00:00<?, ?it/s]"
      ]
     },
     "metadata": {},
     "output_type": "display_data"
    },
    {
     "name": "stdout",
     "output_type": "stream",
     "text": [
      "Train Loss = 0.12158928526871095\n",
      "Train Acc = 95.6210053549836\n",
      "Val Loss = 0.10851552232266248\n",
      "Val Acc = 96.234237346692\n",
      "Starting Epoch 27...\n"
     ]
    },
    {
     "data": {
      "application/vnd.jupyter.widget-view+json": {
       "model_id": "9d36c07d1e9b46ed9d18da2a91114a63",
       "version_major": 2,
       "version_minor": 0
      },
      "text/plain": [
       "  0%|          | 0/11578 [00:00<?, ?it/s]"
      ]
     },
     "metadata": {},
     "output_type": "display_data"
    },
    {
     "data": {
      "application/vnd.jupyter.widget-view+json": {
       "model_id": "8a82c49b8b2a42a493dd65c13ca98b13",
       "version_major": 2,
       "version_minor": 0
      },
      "text/plain": [
       "  0%|          | 0/11578 [00:00<?, ?it/s]"
      ]
     },
     "metadata": {},
     "output_type": "display_data"
    },
    {
     "name": "stdout",
     "output_type": "stream",
     "text": [
      "Train Loss = 0.11826427711753698\n",
      "Train Acc = 95.6555536362066\n",
      "Val Loss = 0.11060572089720129\n",
      "Val Acc = 95.75056140956988\n",
      "Starting Epoch 28...\n"
     ]
    },
    {
     "data": {
      "application/vnd.jupyter.widget-view+json": {
       "model_id": "7d2ac6c031e2498d8a08ec7e2ff515da",
       "version_major": 2,
       "version_minor": 0
      },
      "text/plain": [
       "  0%|          | 0/11578 [00:00<?, ?it/s]"
      ]
     },
     "metadata": {},
     "output_type": "display_data"
    },
    {
     "data": {
      "application/vnd.jupyter.widget-view+json": {
       "model_id": "3063382d7c6e4c4f9deed1208ecb92c2",
       "version_major": 2,
       "version_minor": 0
      },
      "text/plain": [
       "  0%|          | 0/11578 [00:00<?, ?it/s]"
      ]
     },
     "metadata": {},
     "output_type": "display_data"
    },
    {
     "name": "stdout",
     "output_type": "stream",
     "text": [
      "Train Loss = 0.11723279925844186\n",
      "Train Acc = 95.63827949559509\n",
      "Val Loss = 0.10602259057621223\n",
      "Val Acc = 96.13059250302297\n",
      "Starting Epoch 29...\n"
     ]
    },
    {
     "data": {
      "application/vnd.jupyter.widget-view+json": {
       "model_id": "943489be8d734e18bb1904cec54b91da",
       "version_major": 2,
       "version_minor": 0
      },
      "text/plain": [
       "  0%|          | 0/11578 [00:00<?, ?it/s]"
      ]
     },
     "metadata": {},
     "output_type": "display_data"
    },
    {
     "data": {
      "application/vnd.jupyter.widget-view+json": {
       "model_id": "a173510b69fb464cbfa52cc7a369e43d",
       "version_major": 2,
       "version_minor": 0
      },
      "text/plain": [
       "  0%|          | 0/11578 [00:00<?, ?it/s]"
      ]
     },
     "metadata": {},
     "output_type": "display_data"
    },
    {
     "name": "stdout",
     "output_type": "stream",
     "text": [
      "Train Loss = 0.11777413460433463\n",
      "Train Acc = 95.77647262048713\n",
      "Val Loss = 0.11568577552396524\n",
      "Val Acc = 95.72465019865261\n",
      "Starting Epoch 30...\n"
     ]
    },
    {
     "data": {
      "application/vnd.jupyter.widget-view+json": {
       "model_id": "f6c39064432a45acb1f26b0e1f08c5e3",
       "version_major": 2,
       "version_minor": 0
      },
      "text/plain": [
       "  0%|          | 0/11578 [00:00<?, ?it/s]"
      ]
     },
     "metadata": {},
     "output_type": "display_data"
    },
    {
     "data": {
      "application/vnd.jupyter.widget-view+json": {
       "model_id": "06897bfa2e1141d6ab51a3764f599a2e",
       "version_major": 2,
       "version_minor": 0
      },
      "text/plain": [
       "  0%|          | 0/11578 [00:00<?, ?it/s]"
      ]
     },
     "metadata": {},
     "output_type": "display_data"
    },
    {
     "name": "stdout",
     "output_type": "stream",
     "text": [
      "Train Loss = 0.11681917098590433\n",
      "Train Acc = 95.79374676109863\n",
      "Val Loss = 0.09625635345898605\n",
      "Val Acc = 96.5969942995336\n",
      "Starting Epoch 31...\n"
     ]
    },
    {
     "data": {
      "application/vnd.jupyter.widget-view+json": {
       "model_id": "9f0f3eae95914130b75b90aa14188241",
       "version_major": 2,
       "version_minor": 0
      },
      "text/plain": [
       "  0%|          | 0/11578 [00:00<?, ?it/s]"
      ]
     },
     "metadata": {},
     "output_type": "display_data"
    },
    {
     "data": {
      "application/vnd.jupyter.widget-view+json": {
       "model_id": "555ca135246349fa8788fc876dd9b986",
       "version_major": 2,
       "version_minor": 0
      },
      "text/plain": [
       "  0%|          | 0/11578 [00:00<?, ?it/s]"
      ]
     },
     "metadata": {},
     "output_type": "display_data"
    },
    {
     "name": "stdout",
     "output_type": "stream",
     "text": [
      "Train Loss = 0.11726002280633906\n",
      "Train Acc = 95.73328726895836\n",
      "Val Loss = 0.1191386771487817\n",
      "Val Acc = 95.50872344100881\n",
      "Starting Epoch 32...\n"
     ]
    },
    {
     "data": {
      "application/vnd.jupyter.widget-view+json": {
       "model_id": "783c828322d547008b14545d584930ff",
       "version_major": 2,
       "version_minor": 0
      },
      "text/plain": [
       "  0%|          | 0/11578 [00:00<?, ?it/s]"
      ]
     },
     "metadata": {},
     "output_type": "display_data"
    },
    {
     "data": {
      "application/vnd.jupyter.widget-view+json": {
       "model_id": "3c8710633d0648b2bc7880b3597872dd",
       "version_major": 2,
       "version_minor": 0
      },
      "text/plain": [
       "  0%|          | 0/11578 [00:00<?, ?it/s]"
      ]
     },
     "metadata": {},
     "output_type": "display_data"
    },
    {
     "name": "stdout",
     "output_type": "stream",
     "text": [
      "Train Loss = 0.11409148193850226\n",
      "Train Acc = 96.02694765935395\n",
      "Val Loss = 0.10210288626331258\n",
      "Val Acc = 96.46743824494732\n",
      "Starting Epoch 33...\n"
     ]
    },
    {
     "data": {
      "application/vnd.jupyter.widget-view+json": {
       "model_id": "8dd81891f2484aa4b3647202930cfd81",
       "version_major": 2,
       "version_minor": 0
      },
      "text/plain": [
       "  0%|          | 0/11578 [00:00<?, ?it/s]"
      ]
     },
     "metadata": {},
     "output_type": "display_data"
    },
    {
     "data": {
      "application/vnd.jupyter.widget-view+json": {
       "model_id": "c309c7869faf461194e01d44bf1d40e6",
       "version_major": 2,
       "version_minor": 0
      },
      "text/plain": [
       "  0%|          | 0/11578 [00:00<?, ?it/s]"
      ]
     },
     "metadata": {},
     "output_type": "display_data"
    },
    {
     "name": "stdout",
     "output_type": "stream",
     "text": [
      "Train Loss = 0.11557725705086638\n",
      "Train Acc = 95.8023838314044\n",
      "Val Loss = 0.0941046165897983\n",
      "Val Acc = 96.70927621350837\n",
      "Starting Epoch 34...\n"
     ]
    },
    {
     "data": {
      "application/vnd.jupyter.widget-view+json": {
       "model_id": "7bf850ca666b442ca902d8eb68edc1e5",
       "version_major": 2,
       "version_minor": 0
      },
      "text/plain": [
       "  0%|          | 0/11578 [00:00<?, ?it/s]"
      ]
     },
     "metadata": {},
     "output_type": "display_data"
    },
    {
     "data": {
      "application/vnd.jupyter.widget-view+json": {
       "model_id": "c6be40a003a941abbbd0e3bae759a9cf",
       "version_major": 2,
       "version_minor": 0
      },
      "text/plain": [
       "  0%|          | 0/11578 [00:00<?, ?it/s]"
      ]
     },
     "metadata": {},
     "output_type": "display_data"
    },
    {
     "name": "stdout",
     "output_type": "stream",
     "text": [
      "Train Loss = 0.11326593034792412\n",
      "Train Acc = 95.92330281568492\n",
      "Val Loss = 0.11682537111900078\n",
      "Val Acc = 95.84556918293315\n",
      "Starting Epoch 35...\n"
     ]
    },
    {
     "data": {
      "application/vnd.jupyter.widget-view+json": {
       "model_id": "6190121a5bb4406d93dbde89616d7698",
       "version_major": 2,
       "version_minor": 0
      },
      "text/plain": [
       "  0%|          | 0/11578 [00:00<?, ?it/s]"
      ]
     },
     "metadata": {},
     "output_type": "display_data"
    },
    {
     "data": {
      "application/vnd.jupyter.widget-view+json": {
       "model_id": "e58a2a6f2b5d4f558a6b24f610d550bf",
       "version_major": 2,
       "version_minor": 0
      },
      "text/plain": [
       "  0%|          | 0/11578 [00:00<?, ?it/s]"
      ]
     },
     "metadata": {},
     "output_type": "display_data"
    },
    {
     "name": "stdout",
     "output_type": "stream",
     "text": [
      "Train Loss = 0.1133873765282321\n",
      "Train Acc = 95.84556918293315\n",
      "Val Loss = 0.10758575460973403\n",
      "Val Acc = 95.97512523751944\n",
      "Starting Epoch 36...\n"
     ]
    },
    {
     "data": {
      "application/vnd.jupyter.widget-view+json": {
       "model_id": "9211370136814baab7ecc373b5492ac3",
       "version_major": 2,
       "version_minor": 0
      },
      "text/plain": [
       "  0%|          | 0/11578 [00:00<?, ?it/s]"
      ]
     },
     "metadata": {},
     "output_type": "display_data"
    },
    {
     "data": {
      "application/vnd.jupyter.widget-view+json": {
       "model_id": "af40861f2ab44638bdf490de72714084",
       "version_major": 2,
       "version_minor": 0
      },
      "text/plain": [
       "  0%|          | 0/11578 [00:00<?, ?it/s]"
      ]
     },
     "metadata": {},
     "output_type": "display_data"
    },
    {
     "name": "stdout",
     "output_type": "stream",
     "text": [
      "Train Loss = 0.11151872538750335\n",
      "Train Acc = 95.91466574537917\n",
      "Val Loss = 0.10932514443366877\n",
      "Val Acc = 96.22560027638625\n",
      "Starting Epoch 37...\n"
     ]
    },
    {
     "data": {
      "application/vnd.jupyter.widget-view+json": {
       "model_id": "ae78b853eb124d6a9dbc307bab3bfe80",
       "version_major": 2,
       "version_minor": 0
      },
      "text/plain": [
       "  0%|          | 0/11578 [00:00<?, ?it/s]"
      ]
     },
     "metadata": {},
     "output_type": "display_data"
    },
    {
     "data": {
      "application/vnd.jupyter.widget-view+json": {
       "model_id": "c747454595ca442b90991808891eefa3",
       "version_major": 2,
       "version_minor": 0
      },
      "text/plain": [
       "  0%|          | 0/11578 [00:00<?, ?it/s]"
      ]
     },
     "metadata": {},
     "output_type": "display_data"
    },
    {
     "name": "stdout",
     "output_type": "stream",
     "text": [
      "Train Loss = 0.11173092084239689\n",
      "Train Acc = 96.13059250302297\n",
      "Val Loss = 0.1053327079794486\n",
      "Val Acc = 96.04422179996546\n",
      "Starting Epoch 38...\n"
     ]
    },
    {
     "data": {
      "application/vnd.jupyter.widget-view+json": {
       "model_id": "6326195899f64482b35c54193895ca9e",
       "version_major": 2,
       "version_minor": 0
      },
      "text/plain": [
       "  0%|          | 0/11578 [00:00<?, ?it/s]"
      ]
     },
     "metadata": {},
     "output_type": "display_data"
    },
    {
     "data": {
      "application/vnd.jupyter.widget-view+json": {
       "model_id": "a8b3e95587114c708d63c24fc255d54b",
       "version_major": 2,
       "version_minor": 0
      },
      "text/plain": [
       "  0%|          | 0/11578 [00:00<?, ?it/s]"
      ]
     },
     "metadata": {},
     "output_type": "display_data"
    },
    {
     "name": "stdout",
     "output_type": "stream",
     "text": [
      "Train Loss = 0.1076952444342718\n",
      "Train Acc = 96.07013301088271\n",
      "Val Loss = 0.12099853747629705\n",
      "Val Acc = 95.79374676109863\n",
      "Early Stopping...\n"
     ]
    },
    {
     "data": {
      "image/png": "[encoded data removed]",
      "text/plain": [
       "<Figure size 640x480 with 1 Axes>"
      ]
     },
     "metadata": {},
     "output_type": "display_data"
    }
   ],
   "source": [
    "mlp_classifier_1 = MLP([360, 64, 16, 4])\n",
    "tag = f'MLP_{dataset_ver}_360-64-16-4'\n",
    "print(mlp_classifier_1)\n",
    "train_losses, val_losses = train_MLP(mlp_classifier_1, encoded_dataloader_train, encoded_dataloader_train, 1e-3, 50, 5, tag)\n",
    "plot_loss_graph(train_losses, val_losses, tag)"
   ]
  },
  {
   "cell_type": "code",
   "execution_count": 12,
   "metadata": {},
   "outputs": [
    {
     "name": "stdout",
     "output_type": "stream",
     "text": [
      "MLP(\n",
      "  (mlp): Sequential(\n",
      "    (fc1): Linear(in_features=360, out_features=128, bias=True)\n",
      "    (fc2): Linear(in_features=128, out_features=32, bias=True)\n",
      "    (fc3): Linear(in_features=32, out_features=4, bias=True)\n",
      "  )\n",
      ")\n",
      "Starting Epoch 1...\n"
     ]
    },
    {
     "data": {
      "application/vnd.jupyter.widget-view+json": {
       "model_id": "004230f92a484b08962937ba4225ef70",
       "version_major": 2,
       "version_minor": 0
      },
      "text/plain": [
       "  0%|          | 0/11578 [00:00<?, ?it/s]"
      ]
     },
     "metadata": {},
     "output_type": "display_data"
    },
    {
     "data": {
      "application/vnd.jupyter.widget-view+json": {
       "model_id": "3df460f921924eb9ab5cd058c0acf994",
       "version_major": 2,
       "version_minor": 0
      },
      "text/plain": [
       "  0%|          | 0/11578 [00:00<?, ?it/s]"
      ]
     },
     "metadata": {},
     "output_type": "display_data"
    },
    {
     "name": "stdout",
     "output_type": "stream",
     "text": [
      "Train Loss = 0.32447749477849064\n",
      "Train Acc = 87.92537571255829\n",
      "Val Loss = 0.276344081570035\n",
      "Val Acc = 89.48004836759371\n",
      "Starting Epoch 2...\n"
     ]
    },
    {
     "data": {
      "application/vnd.jupyter.widget-view+json": {
       "model_id": "d450cd7aaddf4e14a4d68a544af2c613",
       "version_major": 2,
       "version_minor": 0
      },
      "text/plain": [
       "  0%|          | 0/11578 [00:00<?, ?it/s]"
      ]
     },
     "metadata": {},
     "output_type": "display_data"
    },
    {
     "data": {
      "application/vnd.jupyter.widget-view+json": {
       "model_id": "c3d3bbb117c0492dbc46ec5bab1b210e",
       "version_major": 2,
       "version_minor": 0
      },
      "text/plain": [
       "  0%|          | 0/11578 [00:00<?, ?it/s]"
      ]
     },
     "metadata": {},
     "output_type": "display_data"
    },
    {
     "name": "stdout",
     "output_type": "stream",
     "text": [
      "Train Loss = 0.24237667958424902\n",
      "Train Acc = 91.19882535843841\n",
      "Val Loss = 0.21661583077220561\n",
      "Val Acc = 91.85524270167559\n",
      "Starting Epoch 3...\n"
     ]
    },
    {
     "data": {
      "application/vnd.jupyter.widget-view+json": {
       "model_id": "0794d20b4bfa492f948fa891f51eb939",
       "version_major": 2,
       "version_minor": 0
      },
      "text/plain": [
       "  0%|          | 0/11578 [00:00<?, ?it/s]"
      ]
     },
     "metadata": {},
     "output_type": "display_data"
    },
    {
     "data": {
      "application/vnd.jupyter.widget-view+json": {
       "model_id": "7e3294b14d8e4f2eafa869461faef21e",
       "version_major": 2,
       "version_minor": 0
      },
      "text/plain": [
       "  0%|          | 0/11578 [00:00<?, ?it/s]"
      ]
     },
     "metadata": {},
     "output_type": "display_data"
    },
    {
     "name": "stdout",
     "output_type": "stream",
     "text": [
      "Train Loss = 0.21903628522868418\n",
      "Train Acc = 92.24391086543444\n",
      "Val Loss = 0.2256866813838122\n",
      "Val Acc = 91.51839695975124\n",
      "Starting Epoch 4...\n"
     ]
    },
    {
     "data": {
      "application/vnd.jupyter.widget-view+json": {
       "model_id": "ada81116c1d14c2a9d900c32a67b7f7b",
       "version_major": 2,
       "version_minor": 0
      },
      "text/plain": [
       "  0%|          | 0/11578 [00:00<?, ?it/s]"
      ]
     },
     "metadata": {},
     "output_type": "display_data"
    },
    {
     "data": {
      "application/vnd.jupyter.widget-view+json": {
       "model_id": "9a9530dc7ff84c14a89453f631ff7a20",
       "version_major": 2,
       "version_minor": 0
      },
      "text/plain": [
       "  0%|          | 0/11578 [00:00<?, ?it/s]"
      ]
     },
     "metadata": {},
     "output_type": "display_data"
    },
    {
     "name": "stdout",
     "output_type": "stream",
     "text": [
      "Train Loss = 0.2020739529288203\n",
      "Train Acc = 92.57211953705303\n",
      "Val Loss = 0.17015420122541747\n",
      "Val Acc = 93.81585766108135\n",
      "Starting Epoch 5...\n"
     ]
    },
    {
     "data": {
      "application/vnd.jupyter.widget-view+json": {
       "model_id": "9779c1b48f03496fad84ca62f4a77495",
       "version_major": 2,
       "version_minor": 0
      },
      "text/plain": [
       "  0%|          | 0/11578 [00:00<?, ?it/s]"
      ]
     },
     "metadata": {},
     "output_type": "display_data"
    },
    {
     "data": {
      "application/vnd.jupyter.widget-view+json": {
       "model_id": "5421100a71c642b39283383998f838e8",
       "version_major": 2,
       "version_minor": 0
      },
      "text/plain": [
       "  0%|          | 0/11578 [00:00<?, ?it/s]"
      ]
     },
     "metadata": {},
     "output_type": "display_data"
    },
    {
     "name": "stdout",
     "output_type": "stream",
     "text": [
      "Train Loss = 0.19183902052594484\n",
      "Train Acc = 92.96078770081189\n",
      "Val Loss = 0.17201300833158356\n",
      "Val Acc = 93.63447918466056\n",
      "Starting Epoch 6...\n"
     ]
    },
    {
     "data": {
      "application/vnd.jupyter.widget-view+json": {
       "model_id": "611e852a85d14e82be4c8c490ebc0d48",
       "version_major": 2,
       "version_minor": 0
      },
      "text/plain": [
       "  0%|          | 0/11578 [00:00<?, ?it/s]"
      ]
     },
     "metadata": {},
     "output_type": "display_data"
    },
    {
     "data": {
      "application/vnd.jupyter.widget-view+json": {
       "model_id": "1b81866d69614216955f1a8638374b72",
       "version_major": 2,
       "version_minor": 0
      },
      "text/plain": [
       "  0%|          | 0/11578 [00:00<?, ?it/s]"
      ]
     },
     "metadata": {},
     "output_type": "display_data"
    },
    {
     "name": "stdout",
     "output_type": "stream",
     "text": [
      "Train Loss = 0.1836774086256029\n",
      "Train Acc = 93.45310070823977\n",
      "Val Loss = 0.1558760460684336\n",
      "Val Acc = 94.3340818794265\n",
      "Starting Epoch 7...\n"
     ]
    },
    {
     "data": {
      "application/vnd.jupyter.widget-view+json": {
       "model_id": "351af357033b4be88adf3de67a0133c0",
       "version_major": 2,
       "version_minor": 0
      },
      "text/plain": [
       "  0%|          | 0/11578 [00:00<?, ?it/s]"
      ]
     },
     "metadata": {},
     "output_type": "display_data"
    },
    {
     "data": {
      "application/vnd.jupyter.widget-view+json": {
       "model_id": "4d6224c1b3ec4cf496abe41e16632651",
       "version_major": 2,
       "version_minor": 0
      },
      "text/plain": [
       "  0%|          | 0/11578 [00:00<?, ?it/s]"
      ]
     },
     "metadata": {},
     "output_type": "display_data"
    },
    {
     "name": "stdout",
     "output_type": "stream",
     "text": [
      "Train Loss = 0.17195446564906877\n",
      "Train Acc = 93.74676109863535\n",
      "Val Loss = 0.1812782947274405\n",
      "Val Acc = 93.40127828640526\n",
      "Starting Epoch 8...\n"
     ]
    },
    {
     "data": {
      "application/vnd.jupyter.widget-view+json": {
       "model_id": "6edf9a44bd3b456193686dc29d713b3f",
       "version_major": 2,
       "version_minor": 0
      },
      "text/plain": [
       "  0%|          | 0/11578 [00:00<?, ?it/s]"
      ]
     },
     "metadata": {},
     "output_type": "display_data"
    },
    {
     "data": {
      "application/vnd.jupyter.widget-view+json": {
       "model_id": "3af7bd8238b04b84a3f0edf4f0117a38",
       "version_major": 2,
       "version_minor": 0
      },
      "text/plain": [
       "  0%|          | 0/11578 [00:00<?, ?it/s]"
      ]
     },
     "metadata": {},
     "output_type": "display_data"
    },
    {
     "name": "stdout",
     "output_type": "stream",
     "text": [
      "Train Loss = 0.16814959765335435\n",
      "Train Acc = 93.8244947313871\n",
      "Val Loss = 0.16461239492925944\n",
      "Val Acc = 93.62584211435481\n",
      "Starting Epoch 9...\n"
     ]
    },
    {
     "data": {
      "application/vnd.jupyter.widget-view+json": {
       "model_id": "2e273a67c389483493c3aa40f9917421",
       "version_major": 2,
       "version_minor": 0
      },
      "text/plain": [
       "  0%|          | 0/11578 [00:00<?, ?it/s]"
      ]
     },
     "metadata": {},
     "output_type": "display_data"
    },
    {
     "data": {
      "application/vnd.jupyter.widget-view+json": {
       "model_id": "684466b38e364a31bfeaf3750a82c3f7",
       "version_major": 2,
       "version_minor": 0
      },
      "text/plain": [
       "  0%|          | 0/11578 [00:00<?, ?it/s]"
      ]
     },
     "metadata": {},
     "output_type": "display_data"
    },
    {
     "name": "stdout",
     "output_type": "stream",
     "text": [
      "Train Loss = 0.16420588077018525\n",
      "Train Acc = 93.9713249265849\n",
      "Val Loss = 0.15181071663559806\n",
      "Val Acc = 94.07496977025393\n",
      "Starting Epoch 10...\n"
     ]
    },
    {
     "data": {
      "application/vnd.jupyter.widget-view+json": {
       "model_id": "c5b6faa4f59f4e61a9bd218450d97159",
       "version_major": 2,
       "version_minor": 0
      },
      "text/plain": [
       "  0%|          | 0/11578 [00:00<?, ?it/s]"
      ]
     },
     "metadata": {},
     "output_type": "display_data"
    },
    {
     "data": {
      "application/vnd.jupyter.widget-view+json": {
       "model_id": "897c9f66887740c4be41490d16e86542",
       "version_major": 2,
       "version_minor": 0
      },
      "text/plain": [
       "  0%|          | 0/11578 [00:00<?, ?it/s]"
      ]
     },
     "metadata": {},
     "output_type": "display_data"
    },
    {
     "name": "stdout",
     "output_type": "stream",
     "text": [
      "Train Loss = 0.16026325768798358\n",
      "Train Acc = 94.08360684055968\n",
      "Val Loss = 0.1524467882916794\n",
      "Val Acc = 94.28225945759199\n",
      "Starting Epoch 11...\n"
     ]
    },
    {
     "data": {
      "application/vnd.jupyter.widget-view+json": {
       "model_id": "d299cc53313a4458835ffee32e7c160d",
       "version_major": 2,
       "version_minor": 0
      },
      "text/plain": [
       "  0%|          | 0/11578 [00:00<?, ?it/s]"
      ]
     },
     "metadata": {},
     "output_type": "display_data"
    },
    {
     "data": {
      "application/vnd.jupyter.widget-view+json": {
       "model_id": "323ad13e943e477daef351dce922a6fa",
       "version_major": 2,
       "version_minor": 0
      },
      "text/plain": [
       "  0%|          | 0/11578 [00:00<?, ?it/s]"
      ]
     },
     "metadata": {},
     "output_type": "display_data"
    },
    {
     "name": "stdout",
     "output_type": "stream",
     "text": [
      "Train Loss = 0.1555311238131752\n",
      "Train Acc = 94.28225945759199\n",
      "Val Loss = 0.13830015265651577\n",
      "Val Acc = 94.94731387113491\n",
      "Starting Epoch 12...\n"
     ]
    },
    {
     "data": {
      "application/vnd.jupyter.widget-view+json": {
       "model_id": "3a13b33fb7f64c68afe663bcbe47db8b",
       "version_major": 2,
       "version_minor": 0
      },
      "text/plain": [
       "  0%|          | 0/11578 [00:00<?, ?it/s]"
      ]
     },
     "metadata": {},
     "output_type": "display_data"
    },
    {
     "data": {
      "application/vnd.jupyter.widget-view+json": {
       "model_id": "5991bd09853b48f09554b88daafb3f74",
       "version_major": 2,
       "version_minor": 0
      },
      "text/plain": [
       "  0%|          | 0/11578 [00:00<?, ?it/s]"
      ]
     },
     "metadata": {},
     "output_type": "display_data"
    },
    {
     "name": "stdout",
     "output_type": "stream",
     "text": [
      "Train Loss = 0.15078794518498678\n",
      "Train Acc = 94.47227500431853\n",
      "Val Loss = 0.12672936577601726\n",
      "Val Acc = 95.52599758162032\n",
      "Starting Epoch 13...\n"
     ]
    },
    {
     "data": {
      "application/vnd.jupyter.widget-view+json": {
       "model_id": "ef591586c55248c791ac9b805e676ebe",
       "version_major": 2,
       "version_minor": 0
      },
      "text/plain": [
       "  0%|          | 0/11578 [00:00<?, ?it/s]"
      ]
     },
     "metadata": {},
     "output_type": "display_data"
    },
    {
     "data": {
      "application/vnd.jupyter.widget-view+json": {
       "model_id": "b0d979bb8b194390b7855eb011f2a858",
       "version_major": 2,
       "version_minor": 0
      },
      "text/plain": [
       "  0%|          | 0/11578 [00:00<?, ?it/s]"
      ]
     },
     "metadata": {},
     "output_type": "display_data"
    },
    {
     "name": "stdout",
     "output_type": "stream",
     "text": [
      "Train Loss = 0.14821777931164523\n",
      "Train Acc = 94.45500086370703\n",
      "Val Loss = 0.15331358897736347\n",
      "Val Acc = 93.9885990671964\n",
      "Starting Epoch 14...\n"
     ]
    },
    {
     "data": {
      "application/vnd.jupyter.widget-view+json": {
       "model_id": "f340239b4f3341b6b5158e31a8ad932c",
       "version_major": 2,
       "version_minor": 0
      },
      "text/plain": [
       "  0%|          | 0/11578 [00:00<?, ?it/s]"
      ]
     },
     "metadata": {},
     "output_type": "display_data"
    },
    {
     "data": {
      "application/vnd.jupyter.widget-view+json": {
       "model_id": "f559160ece1f4be69f6c0d5114c219bc",
       "version_major": 2,
       "version_minor": 0
      },
      "text/plain": [
       "  0%|          | 0/11578 [00:00<?, ?it/s]"
      ]
     },
     "metadata": {},
     "output_type": "display_data"
    },
    {
     "name": "stdout",
     "output_type": "stream",
     "text": [
      "Train Loss = 0.14653111870698282\n",
      "Train Acc = 94.6968388322681\n",
      "Val Loss = 0.12988368359319655\n",
      "Val Acc = 95.28415961305924\n",
      "Starting Epoch 15...\n"
     ]
    },
    {
     "data": {
      "application/vnd.jupyter.widget-view+json": {
       "model_id": "48ee878895d5454d98ab4f692c0404d3",
       "version_major": 2,
       "version_minor": 0
      },
      "text/plain": [
       "  0%|          | 0/11578 [00:00<?, ?it/s]"
      ]
     },
     "metadata": {},
     "output_type": "display_data"
    },
    {
     "data": {
      "application/vnd.jupyter.widget-view+json": {
       "model_id": "d9e1205a0816424989683c6d63de0612",
       "version_major": 2,
       "version_minor": 0
      },
      "text/plain": [
       "  0%|          | 0/11578 [00:00<?, ?it/s]"
      ]
     },
     "metadata": {},
     "output_type": "display_data"
    },
    {
     "name": "stdout",
     "output_type": "stream",
     "text": [
      "Train Loss = 0.14318362223861344\n",
      "Train Acc = 94.73138711349111\n",
      "Val Loss = 0.11873009955449934\n",
      "Val Acc = 95.99239937813093\n",
      "Starting Epoch 16...\n"
     ]
    },
    {
     "data": {
      "application/vnd.jupyter.widget-view+json": {
       "model_id": "da97d39471ff4ac6ad59e913e66074ca",
       "version_major": 2,
       "version_minor": 0
      },
      "text/plain": [
       "  0%|          | 0/11578 [00:00<?, ?it/s]"
      ]
     },
     "metadata": {},
     "output_type": "display_data"
    },
    {
     "data": {
      "application/vnd.jupyter.widget-view+json": {
       "model_id": "627ea5ed63d94301875e1ca3d81d1745",
       "version_major": 2,
       "version_minor": 0
      },
      "text/plain": [
       "  0%|          | 0/11578 [00:00<?, ?it/s]"
      ]
     },
     "metadata": {},
     "output_type": "display_data"
    },
    {
     "name": "stdout",
     "output_type": "stream",
     "text": [
      "Train Loss = 0.14062724980722416\n",
      "Train Acc = 95.06823285541545\n",
      "Val Loss = 0.13110822677996228\n",
      "Val Acc = 95.0941440663327\n",
      "Starting Epoch 17...\n"
     ]
    },
    {
     "data": {
      "application/vnd.jupyter.widget-view+json": {
       "model_id": "e7fbfb462e9b47c7bc1237cd64756955",
       "version_major": 2,
       "version_minor": 0
      },
      "text/plain": [
       "  0%|          | 0/11578 [00:00<?, ?it/s]"
      ]
     },
     "metadata": {},
     "output_type": "display_data"
    },
    {
     "data": {
      "application/vnd.jupyter.widget-view+json": {
       "model_id": "71b186e07a634e8c9b0c94967a3f43b9",
       "version_major": 2,
       "version_minor": 0
      },
      "text/plain": [
       "  0%|          | 0/11578 [00:00<?, ?it/s]"
      ]
     },
     "metadata": {},
     "output_type": "display_data"
    },
    {
     "name": "stdout",
     "output_type": "stream",
     "text": [
      "Train Loss = 0.13698408665499132\n",
      "Train Acc = 95.22370012091899\n",
      "Val Loss = 0.1291500506696196\n",
      "Val Acc = 95.40507859733978\n",
      "Starting Epoch 18...\n"
     ]
    },
    {
     "data": {
      "application/vnd.jupyter.widget-view+json": {
       "model_id": "b48af964d68a49b0b28dcc96e263365c",
       "version_major": 2,
       "version_minor": 0
      },
      "text/plain": [
       "  0%|          | 0/11578 [00:00<?, ?it/s]"
      ]
     },
     "metadata": {},
     "output_type": "display_data"
    },
    {
     "data": {
      "application/vnd.jupyter.widget-view+json": {
       "model_id": "8c124a4964ce479c91c9076f97801076",
       "version_major": 2,
       "version_minor": 0
      },
      "text/plain": [
       "  0%|          | 0/11578 [00:00<?, ?it/s]"
      ]
     },
     "metadata": {},
     "output_type": "display_data"
    },
    {
     "name": "stdout",
     "output_type": "stream",
     "text": [
      "Train Loss = 0.13589618475710832\n",
      "Train Acc = 95.10278113663844\n",
      "Val Loss = 0.12103683147643082\n",
      "Val Acc = 95.41371566764553\n",
      "Starting Epoch 19...\n"
     ]
    },
    {
     "data": {
      "application/vnd.jupyter.widget-view+json": {
       "model_id": "9eeafcf9bff34bd090774f388a580a44",
       "version_major": 2,
       "version_minor": 0
      },
      "text/plain": [
       "  0%|          | 0/11578 [00:00<?, ?it/s]"
      ]
     },
     "metadata": {},
     "output_type": "display_data"
    },
    {
     "data": {
      "application/vnd.jupyter.widget-view+json": {
       "model_id": "0ed29c9ec0a04b67b292abea21f2f46a",
       "version_major": 2,
       "version_minor": 0
      },
      "text/plain": [
       "  0%|          | 0/11578 [00:00<?, ?it/s]"
      ]
     },
     "metadata": {},
     "output_type": "display_data"
    },
    {
     "name": "stdout",
     "output_type": "stream",
     "text": [
      "Train Loss = 0.1344289643690737\n",
      "Train Acc = 95.04232164449819\n",
      "Val Loss = 0.13564746417529253\n",
      "Val Acc = 95.17187769908448\n",
      "Starting Epoch 20...\n"
     ]
    },
    {
     "data": {
      "application/vnd.jupyter.widget-view+json": {
       "model_id": "f0dd1484232341eb8fa0d272b940cc01",
       "version_major": 2,
       "version_minor": 0
      },
      "text/plain": [
       "  0%|          | 0/11578 [00:00<?, ?it/s]"
      ]
     },
     "metadata": {},
     "output_type": "display_data"
    },
    {
     "data": {
      "application/vnd.jupyter.widget-view+json": {
       "model_id": "8d26e0ede6c248c08740122861c45f7a",
       "version_major": 2,
       "version_minor": 0
      },
      "text/plain": [
       "  0%|          | 0/11578 [00:00<?, ?it/s]"
      ]
     },
     "metadata": {},
     "output_type": "display_data"
    },
    {
     "name": "stdout",
     "output_type": "stream",
     "text": [
      "Train Loss = 0.131428277743451\n",
      "Train Acc = 95.27552254275349\n",
      "Val Loss = 0.15261374744339998\n",
      "Val Acc = 93.89359129383314\n",
      "Early Stopping...\n"
     ]
    },
    {
     "data": {
      "image/png": "[encoded data removed]",
      "text/plain": [
       "<Figure size 640x480 with 1 Axes>"
      ]
     },
     "metadata": {},
     "output_type": "display_data"
    }
   ],
   "source": [
    "mlp_classifier_2 = MLP([360, 128, 32, 4])\n",
    "tag = f'MLP_{dataset_ver}_360-128-32-4'\n",
    "print(mlp_classifier_2)\n",
    "train_losses, val_losses = train_MLP(mlp_classifier_2, encoded_dataloader_train, encoded_dataloader_train, 1e-3, 50, 5, tag)\n",
    "plot_loss_graph(train_losses, val_losses, tag)"
   ]
  },
  {
   "cell_type": "code",
   "execution_count": 13,
   "metadata": {},
   "outputs": [
    {
     "name": "stdout",
     "output_type": "stream",
     "text": [
      "MLP(\n",
      "  (mlp): Sequential(\n",
      "    (fc1): Linear(in_features=360, out_features=64, bias=True)\n",
      "    (fc2): Linear(in_features=64, out_features=4, bias=True)\n",
      "  )\n",
      ")\n",
      "Starting Epoch 1...\n"
     ]
    },
    {
     "data": {
      "application/vnd.jupyter.widget-view+json": {
       "model_id": "c3af460e282641c1814a2de055a97709",
       "version_major": 2,
       "version_minor": 0
      },
      "text/plain": [
       "  0%|          | 0/11578 [00:00<?, ?it/s]"
      ]
     },
     "metadata": {},
     "output_type": "display_data"
    },
    {
     "data": {
      "application/vnd.jupyter.widget-view+json": {
       "model_id": "a9c34ac7d2cb4081af488f2226b9f6a1",
       "version_major": 2,
       "version_minor": 0
      },
      "text/plain": [
       "  0%|          | 0/11578 [00:00<?, ?it/s]"
      ]
     },
     "metadata": {},
     "output_type": "display_data"
    },
    {
     "name": "stdout",
     "output_type": "stream",
     "text": [
      "Train Loss = 0.33510434535523964\n",
      "Train Acc = 88.09811711867334\n",
      "Val Loss = 0.2300578427137771\n",
      "Val Acc = 92.15754016237692\n",
      "Starting Epoch 2...\n"
     ]
    },
    {
     "data": {
      "application/vnd.jupyter.widget-view+json": {
       "model_id": "6aa50c8245f1418c9856d8a330106adc",
       "version_major": 2,
       "version_minor": 0
      },
      "text/plain": [
       "  0%|          | 0/11578 [00:00<?, ?it/s]"
      ]
     },
     "metadata": {},
     "output_type": "display_data"
    },
    {
     "data": {
      "application/vnd.jupyter.widget-view+json": {
       "model_id": "c27d8e9e665945ed85aea8458e3b823c",
       "version_major": 2,
       "version_minor": 0
      },
      "text/plain": [
       "  0%|          | 0/11578 [00:00<?, ?it/s]"
      ]
     },
     "metadata": {},
     "output_type": "display_data"
    },
    {
     "name": "stdout",
     "output_type": "stream",
     "text": [
      "Train Loss = 0.22826970449347045\n",
      "Train Acc = 91.78614613922957\n",
      "Val Loss = 0.19861805568452615\n",
      "Val Acc = 93.07306961478666\n",
      "Starting Epoch 3...\n"
     ]
    },
    {
     "data": {
      "application/vnd.jupyter.widget-view+json": {
       "model_id": "3490a24e60114e64bead7c2569328140",
       "version_major": 2,
       "version_minor": 0
      },
      "text/plain": [
       "  0%|          | 0/11578 [00:00<?, ?it/s]"
      ]
     },
     "metadata": {},
     "output_type": "display_data"
    },
    {
     "data": {
      "application/vnd.jupyter.widget-view+json": {
       "model_id": "3d7de9dd74f647e2948edb3b48c890bb",
       "version_major": 2,
       "version_minor": 0
      },
      "text/plain": [
       "  0%|          | 0/11578 [00:00<?, ?it/s]"
      ]
     },
     "metadata": {},
     "output_type": "display_data"
    },
    {
     "name": "stdout",
     "output_type": "stream",
     "text": [
      "Train Loss = 0.20587908542519345\n",
      "Train Acc = 92.77077215408534\n",
      "Val Loss = 0.18529454400783363\n",
      "Val Acc = 93.46173777854551\n",
      "Starting Epoch 4...\n"
     ]
    },
    {
     "data": {
      "application/vnd.jupyter.widget-view+json": {
       "model_id": "da1083d5dfa7453aac99b91366e319b5",
       "version_major": 2,
       "version_minor": 0
      },
      "text/plain": [
       "  0%|          | 0/11578 [00:00<?, ?it/s]"
      ]
     },
     "metadata": {},
     "output_type": "display_data"
    },
    {
     "data": {
      "application/vnd.jupyter.widget-view+json": {
       "model_id": "2745e36a85d04ef4a90498680b0933d8",
       "version_major": 2,
       "version_minor": 0
      },
      "text/plain": [
       "  0%|          | 0/11578 [00:00<?, ?it/s]"
      ]
     },
     "metadata": {},
     "output_type": "display_data"
    },
    {
     "name": "stdout",
     "output_type": "stream",
     "text": [
      "Train Loss = 0.1877751583035413\n",
      "Train Acc = 93.31490758334773\n",
      "Val Loss = 0.17783848009288392\n",
      "Val Acc = 93.34945586457074\n",
      "Starting Epoch 5...\n"
     ]
    },
    {
     "data": {
      "application/vnd.jupyter.widget-view+json": {
       "model_id": "e061f1fab7f1490db0c9153fb56dfab0",
       "version_major": 2,
       "version_minor": 0
      },
      "text/plain": [
       "  0%|          | 0/11578 [00:00<?, ?it/s]"
      ]
     },
     "metadata": {},
     "output_type": "display_data"
    },
    {
     "data": {
      "application/vnd.jupyter.widget-view+json": {
       "model_id": "7d0dcc16585a47398eea812b3a7224a7",
       "version_major": 2,
       "version_minor": 0
      },
      "text/plain": [
       "  0%|          | 0/11578 [00:00<?, ?it/s]"
      ]
     },
     "metadata": {},
     "output_type": "display_data"
    },
    {
     "name": "stdout",
     "output_type": "stream",
     "text": [
      "Train Loss = 0.17824533857296407\n",
      "Train Acc = 93.55674555190879\n",
      "Val Loss = 0.15451193330242757\n",
      "Val Acc = 94.61910519951633\n",
      "Starting Epoch 6...\n"
     ]
    },
    {
     "data": {
      "application/vnd.jupyter.widget-view+json": {
       "model_id": "48330270a5f041ad8e84ed483dc89ee3",
       "version_major": 2,
       "version_minor": 0
      },
      "text/plain": [
       "  0%|          | 0/11578 [00:00<?, ?it/s]"
      ]
     },
     "metadata": {},
     "output_type": "display_data"
    },
    {
     "data": {
      "application/vnd.jupyter.widget-view+json": {
       "model_id": "b698665fcbd844f6babf39ea70189e06",
       "version_major": 2,
       "version_minor": 0
      },
      "text/plain": [
       "  0%|          | 0/11578 [00:00<?, ?it/s]"
      ]
     },
     "metadata": {},
     "output_type": "display_data"
    },
    {
     "name": "stdout",
     "output_type": "stream",
     "text": [
      "Train Loss = 0.16976670568821636\n",
      "Train Acc = 93.85904301261012\n",
      "Val Loss = 0.1486162969096866\n",
      "Val Acc = 94.40317844187251\n",
      "Starting Epoch 7...\n"
     ]
    },
    {
     "data": {
      "application/vnd.jupyter.widget-view+json": {
       "model_id": "c1343945c5ad4f34b8561a7f4eb41de9",
       "version_major": 2,
       "version_minor": 0
      },
      "text/plain": [
       "  0%|          | 0/11578 [00:00<?, ?it/s]"
      ]
     },
     "metadata": {},
     "output_type": "display_data"
    },
    {
     "data": {
      "application/vnd.jupyter.widget-view+json": {
       "model_id": "ce8874154f624ec39a145dfa55ac70c3",
       "version_major": 2,
       "version_minor": 0
      },
      "text/plain": [
       "  0%|          | 0/11578 [00:00<?, ?it/s]"
      ]
     },
     "metadata": {},
     "output_type": "display_data"
    },
    {
     "name": "stdout",
     "output_type": "stream",
     "text": [
      "Train Loss = 0.16417573414403672\n",
      "Train Acc = 94.26498531698047\n",
      "Val Loss = 0.14038427138898626\n",
      "Val Acc = 95.05095871480394\n",
      "Starting Epoch 8...\n"
     ]
    },
    {
     "data": {
      "application/vnd.jupyter.widget-view+json": {
       "model_id": "e58c8cf94468475c935c31df60310140",
       "version_major": 2,
       "version_minor": 0
      },
      "text/plain": [
       "  0%|          | 0/11578 [00:00<?, ?it/s]"
      ]
     },
     "metadata": {},
     "output_type": "display_data"
    },
    {
     "data": {
      "application/vnd.jupyter.widget-view+json": {
       "model_id": "eeebecdd44dc4b37954a7b81898ec0c7",
       "version_major": 2,
       "version_minor": 0
      },
      "text/plain": [
       "  0%|          | 0/11578 [00:00<?, ?it/s]"
      ]
     },
     "metadata": {},
     "output_type": "display_data"
    },
    {
     "name": "stdout",
     "output_type": "stream",
     "text": [
      "Train Loss = 0.156012187873607\n",
      "Train Acc = 94.3340818794265\n",
      "Val Loss = 0.14966323518341682\n",
      "Val Acc = 94.58455691829332\n",
      "Starting Epoch 9...\n"
     ]
    },
    {
     "data": {
      "application/vnd.jupyter.widget-view+json": {
       "model_id": "28e645280de449cd8c1c97243d1b56f3",
       "version_major": 2,
       "version_minor": 0
      },
      "text/plain": [
       "  0%|          | 0/11578 [00:00<?, ?it/s]"
      ]
     },
     "metadata": {},
     "output_type": "display_data"
    },
    {
     "data": {
      "application/vnd.jupyter.widget-view+json": {
       "model_id": "c8e55a86fbf044f688b6f6cd5377bde7",
       "version_major": 2,
       "version_minor": 0
      },
      "text/plain": [
       "  0%|          | 0/11578 [00:00<?, ?it/s]"
      ]
     },
     "metadata": {},
     "output_type": "display_data"
    },
    {
     "name": "stdout",
     "output_type": "stream",
     "text": [
      "Train Loss = 0.1509423167394751\n",
      "Train Acc = 94.56728277768181\n",
      "Val Loss = 0.1311992789785474\n",
      "Val Acc = 95.31870789428226\n",
      "Starting Epoch 10...\n"
     ]
    },
    {
     "data": {
      "application/vnd.jupyter.widget-view+json": {
       "model_id": "1d2214bc5b2549cca258c8e73683c1a7",
       "version_major": 2,
       "version_minor": 0
      },
      "text/plain": [
       "  0%|          | 0/11578 [00:00<?, ?it/s]"
      ]
     },
     "metadata": {},
     "output_type": "display_data"
    },
    {
     "data": {
      "application/vnd.jupyter.widget-view+json": {
       "model_id": "9dc133a7747e40d59faa6c247e6face4",
       "version_major": 2,
       "version_minor": 0
      },
      "text/plain": [
       "  0%|          | 0/11578 [00:00<?, ?it/s]"
      ]
     },
     "metadata": {},
     "output_type": "display_data"
    },
    {
     "name": "stdout",
     "output_type": "stream",
     "text": [
      "Train Loss = 0.14979310188187017\n",
      "Train Acc = 94.50682328554154\n",
      "Val Loss = 0.12972608308141287\n",
      "Val Acc = 95.43962687856279\n",
      "Starting Epoch 11...\n"
     ]
    },
    {
     "data": {
      "application/vnd.jupyter.widget-view+json": {
       "model_id": "a9cca0d805534b0bac1f5e67c20eeb01",
       "version_major": 2,
       "version_minor": 0
      },
      "text/plain": [
       "  0%|          | 0/11578 [00:00<?, ?it/s]"
      ]
     },
     "metadata": {},
     "output_type": "display_data"
    },
    {
     "data": {
      "application/vnd.jupyter.widget-view+json": {
       "model_id": "b914080362e147e3a5ac02d8a02b6914",
       "version_major": 2,
       "version_minor": 0
      },
      "text/plain": [
       "  0%|          | 0/11578 [00:00<?, ?it/s]"
      ]
     },
     "metadata": {},
     "output_type": "display_data"
    },
    {
     "name": "stdout",
     "output_type": "stream",
     "text": [
      "Train Loss = 0.14578935852889488\n",
      "Train Acc = 94.71411297287959\n",
      "Val Loss = 0.1300207970873171\n",
      "Val Acc = 95.1459664881672\n",
      "Starting Epoch 12...\n"
     ]
    },
    {
     "data": {
      "application/vnd.jupyter.widget-view+json": {
       "model_id": "982a552b25a04a28bd959452a5860851",
       "version_major": 2,
       "version_minor": 0
      },
      "text/plain": [
       "  0%|          | 0/11578 [00:00<?, ?it/s]"
      ]
     },
     "metadata": {},
     "output_type": "display_data"
    },
    {
     "data": {
      "application/vnd.jupyter.widget-view+json": {
       "model_id": "339bccd9ccc34d08866a754fffbfe5cd",
       "version_major": 2,
       "version_minor": 0
      },
      "text/plain": [
       "  0%|          | 0/11578 [00:00<?, ?it/s]"
      ]
     },
     "metadata": {},
     "output_type": "display_data"
    },
    {
     "name": "stdout",
     "output_type": "stream",
     "text": [
      "Train Loss = 0.14275750772259285\n",
      "Train Acc = 94.7486612541026\n",
      "Val Loss = 0.13689844415990213\n",
      "Val Acc = 95.31007082397652\n",
      "Starting Epoch 13...\n"
     ]
    },
    {
     "data": {
      "application/vnd.jupyter.widget-view+json": {
       "model_id": "a6370c921b484675b8f252b04e1098df",
       "version_major": 2,
       "version_minor": 0
      },
      "text/plain": [
       "  0%|          | 0/11578 [00:00<?, ?it/s]"
      ]
     },
     "metadata": {},
     "output_type": "display_data"
    },
    {
     "data": {
      "application/vnd.jupyter.widget-view+json": {
       "model_id": "1d7b0d5a641a41dfb38e24402622189f",
       "version_major": 2,
       "version_minor": 0
      },
      "text/plain": [
       "  0%|          | 0/11578 [00:00<?, ?it/s]"
      ]
     },
     "metadata": {},
     "output_type": "display_data"
    },
    {
     "name": "stdout",
     "output_type": "stream",
     "text": [
      "Train Loss = 0.13820644713820185\n",
      "Train Acc = 94.96458801174641\n",
      "Val Loss = 0.11911584562726663\n",
      "Val Acc = 95.88875453446191\n",
      "Starting Epoch 14...\n"
     ]
    },
    {
     "data": {
      "application/vnd.jupyter.widget-view+json": {
       "model_id": "8c37adb0c59e4659a4dc608126402bd7",
       "version_major": 2,
       "version_minor": 0
      },
      "text/plain": [
       "  0%|          | 0/11578 [00:00<?, ?it/s]"
      ]
     },
     "metadata": {},
     "output_type": "display_data"
    },
    {
     "data": {
      "application/vnd.jupyter.widget-view+json": {
       "model_id": "d1b3ca09bb434694988fbb327c02fa4b",
       "version_major": 2,
       "version_minor": 0
      },
      "text/plain": [
       "  0%|          | 0/11578 [00:00<?, ?it/s]"
      ]
     },
     "metadata": {},
     "output_type": "display_data"
    },
    {
     "name": "stdout",
     "output_type": "stream",
     "text": [
      "Train Loss = 0.1362076213513328\n",
      "Train Acc = 95.12005527724996\n",
      "Val Loss = 0.12279941211040099\n",
      "Val Acc = 95.68146484712385\n",
      "Starting Epoch 15...\n"
     ]
    },
    {
     "data": {
      "application/vnd.jupyter.widget-view+json": {
       "model_id": "185e50c86e5048e58923d3218b4d1ace",
       "version_major": 2,
       "version_minor": 0
      },
      "text/plain": [
       "  0%|          | 0/11578 [00:00<?, ?it/s]"
      ]
     },
     "metadata": {},
     "output_type": "display_data"
    },
    {
     "data": {
      "application/vnd.jupyter.widget-view+json": {
       "model_id": "63b9377d029441d89851cb39ebdded3f",
       "version_major": 2,
       "version_minor": 0
      },
      "text/plain": [
       "  0%|          | 0/11578 [00:00<?, ?it/s]"
      ]
     },
     "metadata": {},
     "output_type": "display_data"
    },
    {
     "name": "stdout",
     "output_type": "stream",
     "text": [
      "Train Loss = 0.13288181262238472\n",
      "Train Acc = 94.96458801174641\n",
      "Val Loss = 0.13236667268999996\n",
      "Val Acc = 94.79184660563136\n",
      "Starting Epoch 16...\n"
     ]
    },
    {
     "data": {
      "application/vnd.jupyter.widget-view+json": {
       "model_id": "802452bef374457ba9414672aba0243a",
       "version_major": 2,
       "version_minor": 0
      },
      "text/plain": [
       "  0%|          | 0/11578 [00:00<?, ?it/s]"
      ]
     },
     "metadata": {},
     "output_type": "display_data"
    },
    {
     "data": {
      "application/vnd.jupyter.widget-view+json": {
       "model_id": "18e1f9db0f6d41ec8257cc95160e01d6",
       "version_major": 2,
       "version_minor": 0
      },
      "text/plain": [
       "  0%|          | 0/11578 [00:00<?, ?it/s]"
      ]
     },
     "metadata": {},
     "output_type": "display_data"
    },
    {
     "name": "stdout",
     "output_type": "stream",
     "text": [
      "Train Loss = 0.1304197750694057\n",
      "Train Acc = 95.18915183969597\n",
      "Val Loss = 0.11871162017691321\n",
      "Val Acc = 95.95785109690793\n",
      "Starting Epoch 17...\n"
     ]
    },
    {
     "data": {
      "application/vnd.jupyter.widget-view+json": {
       "model_id": "6dce018b64e340c787278316c4534f34",
       "version_major": 2,
       "version_minor": 0
      },
      "text/plain": [
       "  0%|          | 0/11578 [00:00<?, ?it/s]"
      ]
     },
     "metadata": {},
     "output_type": "display_data"
    },
    {
     "data": {
      "application/vnd.jupyter.widget-view+json": {
       "model_id": "bb99bbbc2c6d4d579e7350f025d16059",
       "version_major": 2,
       "version_minor": 0
      },
      "text/plain": [
       "  0%|          | 0/11578 [00:00<?, ?it/s]"
      ]
     },
     "metadata": {},
     "output_type": "display_data"
    },
    {
     "name": "stdout",
     "output_type": "stream",
     "text": [
      "Train Loss = 0.12879218804346346\n",
      "Train Acc = 95.43962687856279\n",
      "Val Loss = 0.1116062582168655\n",
      "Val Acc = 96.15650371394024\n",
      "Starting Epoch 18...\n"
     ]
    },
    {
     "data": {
      "application/vnd.jupyter.widget-view+json": {
       "model_id": "23d2c6944fee41748512d9bce76433d7",
       "version_major": 2,
       "version_minor": 0
      },
      "text/plain": [
       "  0%|          | 0/11578 [00:00<?, ?it/s]"
      ]
     },
     "metadata": {},
     "output_type": "display_data"
    },
    {
     "data": {
      "application/vnd.jupyter.widget-view+json": {
       "model_id": "3547f06fdb8a4e1ea65952afccfb8ab2",
       "version_major": 2,
       "version_minor": 0
      },
      "text/plain": [
       "  0%|          | 0/11578 [00:00<?, ?it/s]"
      ]
     },
     "metadata": {},
     "output_type": "display_data"
    },
    {
     "name": "stdout",
     "output_type": "stream",
     "text": [
      "Train Loss = 0.12968166810378498\n",
      "Train Acc = 95.20642598030747\n",
      "Val Loss = 0.11827720491746933\n",
      "Val Acc = 95.57782000345483\n",
      "Starting Epoch 19...\n"
     ]
    },
    {
     "data": {
      "application/vnd.jupyter.widget-view+json": {
       "model_id": "237a5a7e5d944977a84994bc2898f344",
       "version_major": 2,
       "version_minor": 0
      },
      "text/plain": [
       "  0%|          | 0/11578 [00:00<?, ?it/s]"
      ]
     },
     "metadata": {},
     "output_type": "display_data"
    },
    {
     "data": {
      "application/vnd.jupyter.widget-view+json": {
       "model_id": "0a875dc245824f328febc067ff6b363a",
       "version_major": 2,
       "version_minor": 0
      },
      "text/plain": [
       "  0%|          | 0/11578 [00:00<?, ?it/s]"
      ]
     },
     "metadata": {},
     "output_type": "display_data"
    },
    {
     "name": "stdout",
     "output_type": "stream",
     "text": [
      "Train Loss = 0.12659612984910146\n",
      "Train Acc = 95.35325617550527\n",
      "Val Loss = 0.11213545430013527\n",
      "Val Acc = 96.0010364484367\n",
      "Starting Epoch 20...\n"
     ]
    },
    {
     "data": {
      "application/vnd.jupyter.widget-view+json": {
       "model_id": "a1190769b2ac4c7783114fd44dde26b9",
       "version_major": 2,
       "version_minor": 0
      },
      "text/plain": [
       "  0%|          | 0/11578 [00:00<?, ?it/s]"
      ]
     },
     "metadata": {},
     "output_type": "display_data"
    },
    {
     "data": {
      "application/vnd.jupyter.widget-view+json": {
       "model_id": "d753247fcafb4813867c0610a49e7549",
       "version_major": 2,
       "version_minor": 0
      },
      "text/plain": [
       "  0%|          | 0/11578 [00:00<?, ?it/s]"
      ]
     },
     "metadata": {},
     "output_type": "display_data"
    },
    {
     "name": "stdout",
     "output_type": "stream",
     "text": [
      "Train Loss = 0.12352229129961752\n",
      "Train Acc = 95.55190879253757\n",
      "Val Loss = 0.11287207037233415\n",
      "Val Acc = 95.79374676109863\n",
      "Starting Epoch 21...\n"
     ]
    },
    {
     "data": {
      "application/vnd.jupyter.widget-view+json": {
       "model_id": "991b6160ea724d88a044d953225d47f9",
       "version_major": 2,
       "version_minor": 0
      },
      "text/plain": [
       "  0%|          | 0/11578 [00:00<?, ?it/s]"
      ]
     },
     "metadata": {},
     "output_type": "display_data"
    },
    {
     "data": {
      "application/vnd.jupyter.widget-view+json": {
       "model_id": "3052c2f1f2304f46abcc61be030e52e1",
       "version_major": 2,
       "version_minor": 0
      },
      "text/plain": [
       "  0%|          | 0/11578 [00:00<?, ?it/s]"
      ]
     },
     "metadata": {},
     "output_type": "display_data"
    },
    {
     "name": "stdout",
     "output_type": "stream",
     "text": [
      "Train Loss = 0.12249107643060274\n",
      "Train Acc = 95.50008637070306\n",
      "Val Loss = 0.10582889069762624\n",
      "Val Acc = 96.26014855760926\n",
      "Starting Epoch 22...\n"
     ]
    },
    {
     "data": {
      "application/vnd.jupyter.widget-view+json": {
       "model_id": "b034f6baa96c4969b1e39d24db1802e4",
       "version_major": 2,
       "version_minor": 0
      },
      "text/plain": [
       "  0%|          | 0/11578 [00:00<?, ?it/s]"
      ]
     },
     "metadata": {},
     "output_type": "display_data"
    },
    {
     "data": {
      "application/vnd.jupyter.widget-view+json": {
       "model_id": "667b3ade88cd4b94879617558be55ec0",
       "version_major": 2,
       "version_minor": 0
      },
      "text/plain": [
       "  0%|          | 0/11578 [00:00<?, ?it/s]"
      ]
     },
     "metadata": {},
     "output_type": "display_data"
    },
    {
     "name": "stdout",
     "output_type": "stream",
     "text": [
      "Train Loss = 0.12102336188248057\n",
      "Train Acc = 95.81965797201589\n",
      "Val Loss = 0.11365305481444903\n",
      "Val Acc = 95.66419070651236\n",
      "Starting Epoch 23...\n"
     ]
    },
    {
     "data": {
      "application/vnd.jupyter.widget-view+json": {
       "model_id": "c7f3eb9596f94dd4af81874c8d9e5eb7",
       "version_major": 2,
       "version_minor": 0
      },
      "text/plain": [
       "  0%|          | 0/11578 [00:00<?, ?it/s]"
      ]
     },
     "metadata": {},
     "output_type": "display_data"
    },
    {
     "data": {
      "application/vnd.jupyter.widget-view+json": {
       "model_id": "7f6d39b0b6704d03911aa3298e769fab",
       "version_major": 2,
       "version_minor": 0
      },
      "text/plain": [
       "  0%|          | 0/11578 [00:00<?, ?it/s]"
      ]
     },
     "metadata": {},
     "output_type": "display_data"
    },
    {
     "name": "stdout",
     "output_type": "stream",
     "text": [
      "Train Loss = 0.12100985923589531\n",
      "Train Acc = 95.56918293314908\n",
      "Val Loss = 0.10792690400284909\n",
      "Val Acc = 96.05285887027121\n",
      "Starting Epoch 24...\n"
     ]
    },
    {
     "data": {
      "application/vnd.jupyter.widget-view+json": {
       "model_id": "e2da194f026940d1b539575f9224ad9f",
       "version_major": 2,
       "version_minor": 0
      },
      "text/plain": [
       "  0%|          | 0/11578 [00:00<?, ?it/s]"
      ]
     },
     "metadata": {},
     "output_type": "display_data"
    },
    {
     "data": {
      "application/vnd.jupyter.widget-view+json": {
       "model_id": "1ec83a06df0242bc89ac1d8c50e1d169",
       "version_major": 2,
       "version_minor": 0
      },
      "text/plain": [
       "  0%|          | 0/11578 [00:00<?, ?it/s]"
      ]
     },
     "metadata": {},
     "output_type": "display_data"
    },
    {
     "name": "stdout",
     "output_type": "stream",
     "text": [
      "Train Loss = 0.11731968274602049\n",
      "Train Acc = 95.77647262048713\n",
      "Val Loss = 0.12835297856186587\n",
      "Val Acc = 95.32734496458801\n",
      "Starting Epoch 25...\n"
     ]
    },
    {
     "data": {
      "application/vnd.jupyter.widget-view+json": {
       "model_id": "a81fda8e03434b32ac04f943f9859ed9",
       "version_major": 2,
       "version_minor": 0
      },
      "text/plain": [
       "  0%|          | 0/11578 [00:00<?, ?it/s]"
      ]
     },
     "metadata": {},
     "output_type": "display_data"
    },
    {
     "data": {
      "application/vnd.jupyter.widget-view+json": {
       "model_id": "bfd677c79b24467a9e2359a41429b856",
       "version_major": 2,
       "version_minor": 0
      },
      "text/plain": [
       "  0%|          | 0/11578 [00:00<?, ?it/s]"
      ]
     },
     "metadata": {},
     "output_type": "display_data"
    },
    {
     "name": "stdout",
     "output_type": "stream",
     "text": [
      "Train Loss = 0.11820901937231844\n",
      "Train Acc = 95.78510969079288\n",
      "Val Loss = 0.10069296541227443\n",
      "Val Acc = 96.5969942995336\n",
      "Starting Epoch 26...\n"
     ]
    },
    {
     "data": {
      "application/vnd.jupyter.widget-view+json": {
       "model_id": "ec5b8c142f404683af88fc3d0713d9d8",
       "version_major": 2,
       "version_minor": 0
      },
      "text/plain": [
       "  0%|          | 0/11578 [00:00<?, ?it/s]"
      ]
     },
     "metadata": {},
     "output_type": "display_data"
    },
    {
     "data": {
      "application/vnd.jupyter.widget-view+json": {
       "model_id": "bc2f706b34ff4159826e414a570f9b27",
       "version_major": 2,
       "version_minor": 0
      },
      "text/plain": [
       "  0%|          | 0/11578 [00:00<?, ?it/s]"
      ]
     },
     "metadata": {},
     "output_type": "display_data"
    },
    {
     "name": "stdout",
     "output_type": "stream",
     "text": [
      "Train Loss = 0.11810841486104655\n",
      "Train Acc = 95.73328726895836\n",
      "Val Loss = 0.10838467847187214\n",
      "Val Acc = 95.95785109690793\n",
      "Starting Epoch 27...\n"
     ]
    },
    {
     "data": {
      "application/vnd.jupyter.widget-view+json": {
       "model_id": "414db08c0bde4977895d9b403adb7ed1",
       "version_major": 2,
       "version_minor": 0
      },
      "text/plain": [
       "  0%|          | 0/11578 [00:00<?, ?it/s]"
      ]
     },
     "metadata": {},
     "output_type": "display_data"
    },
    {
     "data": {
      "application/vnd.jupyter.widget-view+json": {
       "model_id": "7085ca894fd046eb938792d38cd05f99",
       "version_major": 2,
       "version_minor": 0
      },
      "text/plain": [
       "  0%|          | 0/11578 [00:00<?, ?it/s]"
      ]
     },
     "metadata": {},
     "output_type": "display_data"
    },
    {
     "name": "stdout",
     "output_type": "stream",
     "text": [
      "Train Loss = 0.11406462943158323\n",
      "Train Acc = 95.8542062532389\n",
      "Val Loss = 0.10691432833740029\n",
      "Val Acc = 96.00967351874245\n",
      "Starting Epoch 28...\n"
     ]
    },
    {
     "data": {
      "application/vnd.jupyter.widget-view+json": {
       "model_id": "3bb1bfeae60d4436966d284920eb1687",
       "version_major": 2,
       "version_minor": 0
      },
      "text/plain": [
       "  0%|          | 0/11578 [00:00<?, ?it/s]"
      ]
     },
     "metadata": {},
     "output_type": "display_data"
    },
    {
     "data": {
      "application/vnd.jupyter.widget-view+json": {
       "model_id": "a87aa025f46741e3975bb330f3962afc",
       "version_major": 2,
       "version_minor": 0
      },
      "text/plain": [
       "  0%|          | 0/11578 [00:00<?, ?it/s]"
      ]
     },
     "metadata": {},
     "output_type": "display_data"
    },
    {
     "name": "stdout",
     "output_type": "stream",
     "text": [
      "Train Loss = 0.11318105616126845\n",
      "Train Acc = 95.95785109690793\n",
      "Val Loss = 0.10364698773887877\n",
      "Val Acc = 96.2515114873035\n",
      "Starting Epoch 29...\n"
     ]
    },
    {
     "data": {
      "application/vnd.jupyter.widget-view+json": {
       "model_id": "74b85aac194f46fd9f9f2ac1a496191e",
       "version_major": 2,
       "version_minor": 0
      },
      "text/plain": [
       "  0%|          | 0/11578 [00:00<?, ?it/s]"
      ]
     },
     "metadata": {},
     "output_type": "display_data"
    },
    {
     "data": {
      "application/vnd.jupyter.widget-view+json": {
       "model_id": "2f710be903234f56b7028cbbdddc2ca7",
       "version_major": 2,
       "version_minor": 0
      },
      "text/plain": [
       "  0%|          | 0/11578 [00:00<?, ?it/s]"
      ]
     },
     "metadata": {},
     "output_type": "display_data"
    },
    {
     "name": "stdout",
     "output_type": "stream",
     "text": [
      "Train Loss = 0.11391914151785242\n",
      "Train Acc = 95.81102090171014\n",
      "Val Loss = 0.10231051741382247\n",
      "Val Acc = 96.33788219036103\n",
      "Starting Epoch 30...\n"
     ]
    },
    {
     "data": {
      "application/vnd.jupyter.widget-view+json": {
       "model_id": "07a526fb73824833bb5a49c16b1c3437",
       "version_major": 2,
       "version_minor": 0
      },
      "text/plain": [
       "  0%|          | 0/11578 [00:00<?, ?it/s]"
      ]
     },
     "metadata": {},
     "output_type": "display_data"
    },
    {
     "data": {
      "application/vnd.jupyter.widget-view+json": {
       "model_id": "d6cbd14e99c94aa28ac0f574891791c2",
       "version_major": 2,
       "version_minor": 0
      },
      "text/plain": [
       "  0%|          | 0/11578 [00:00<?, ?it/s]"
      ]
     },
     "metadata": {},
     "output_type": "display_data"
    },
    {
     "name": "stdout",
     "output_type": "stream",
     "text": [
      "Train Loss = 0.11103072218922568\n",
      "Train Acc = 96.06149594057696\n",
      "Val Loss = 0.11243765500463752\n",
      "Val Acc = 95.89739160476766\n",
      "Early Stopping...\n"
     ]
    },
    {
     "data": {
      "image/png": "[encoded data removed]",
      "text/plain": [
       "<Figure size 640x480 with 1 Axes>"
      ]
     },
     "metadata": {},
     "output_type": "display_data"
    }
   ],
   "source": [
    "mlp_classifier_3 = MLP([360, 64, 4])\n",
    "tag = f'MLP_{dataset_ver}_360-64-4'\n",
    "print(mlp_classifier_3)\n",
    "train_losses, val_losses = train_MLP(mlp_classifier_3, encoded_dataloader_train, encoded_dataloader_train, 1e-3, 50, 5, tag)\n",
    "plot_loss_graph(train_losses, val_losses, tag)"
   ]
  }
 ],
 "metadata": {
  "kernelspec": {
   "display_name": ".venv",
   "language": "python",
   "name": "python3"
  },
  "language_info": {
   "codemirror_mode": {
    "name": "ipython",
    "version": 3
   },
   "file_extension": ".py",
   "mimetype": "text/x-python",
   "name": "python",
   "nbconvert_exporter": "python",
   "pygments_lexer": "ipython3",
   "version": "3.11.2"
  }
 },
 "nbformat": 4,
 "nbformat_minor": 2
}
