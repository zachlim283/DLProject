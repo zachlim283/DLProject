{
 "cells": [
  {
   "cell_type": "code",
   "execution_count": 1,
   "metadata": {},
   "outputs": [
    {
     "name": "stdout",
     "output_type": "stream",
     "text": [
      "cuda\n"
     ]
    }
   ],
   "source": [
    "import torch\n",
    "import pickle\n",
    "import numpy as np\n",
    "import seaborn as sns\n",
    "import matplotlib.pyplot as plt\n",
    "import torch.nn as nn\n",
    "import torch.optim as optim\n",
    "from torch.utils.data import DataLoader\n",
    "from tqdm.notebook import tqdm\n",
    "from sklearn import svm\n",
    "from sklearn.metrics import accuracy_score\n",
    "from sklearn.model_selection import train_test_split\n",
    "from sklearn.metrics import confusion_matrix\n",
    "from torch.utils.tensorboard import SummaryWriter\n",
    "\n",
    "if torch.cuda.is_available():\n",
    "    device = torch.device('cuda')\n",
    "elif torch.backends.mps.is_available():\n",
    "    device = torch.device(\"mps\") \n",
    "else:\n",
    "    device = torch.device(\"cpu\")\n",
    "print(device)"
   ]
  },
  {
   "cell_type": "code",
   "execution_count": 2,
   "metadata": {},
   "outputs": [],
   "source": [
    "### PARAMETERS ###\n",
    "dataset_ver = '3w05s_Larm'\n",
    "n_input = 9\n",
    "n_hidden = 360\n",
    "\n",
    "x_train = np.load(f'Generated_Datasets/train_data_{dataset_ver}.npy')\n",
    "x_val = np.load(f'Generated_Datasets/val_data_{dataset_ver}.npy')\n",
    "x_test = np.load(f'Generated_Datasets/test_data_{dataset_ver}.npy')\n",
    "\n",
    "y_train = np.load(f'Generated_Datasets/train_labels_{dataset_ver}.npy')\n",
    "y_val = np.load(f'Generated_Datasets/val_labels_{dataset_ver}.npy')\n",
    "y_test = np.load(f'Generated_Datasets/test_labels_{dataset_ver}.npy')"
   ]
  },
  {
   "cell_type": "code",
   "execution_count": 3,
   "metadata": {},
   "outputs": [
    {
     "name": "stdout",
     "output_type": "stream",
     "text": [
      "(15407, 60, 9)\n",
      "(2202, 60, 9)\n"
     ]
    }
   ],
   "source": [
    "print(x_train.shape)\n",
    "print(x_val.shape)"
   ]
  },
  {
   "cell_type": "code",
   "execution_count": 4,
   "metadata": {},
   "outputs": [
    {
     "name": "stdout",
     "output_type": "stream",
     "text": [
      "(15407, 60, 9) (4403, 60, 9) (2202, 60, 9)\n"
     ]
    },
    {
     "data": {
      "image/png": "[encoded data removed]",
      "text/plain": [
       "<Figure size 640x480 with 1 Axes>"
      ]
     },
     "metadata": {},
     "output_type": "display_data"
    }
   ],
   "source": [
    "# Check Dataset\n",
    "print(x_train.shape, x_test.shape, x_val.shape)\n",
    "unique_labels_train, label_counts_train = np.unique(y_train, return_counts=True)\n",
    "unique_labels_val, label_counts_val = np.unique(y_val, return_counts=True)\n",
    "unique_labels_test, label_counts_test = np.unique(y_test, return_counts=True)\n",
    "\n",
    "plt.bar(unique_labels_train, label_counts_train, label='Train')\n",
    "plt.bar(unique_labels_test, label_counts_test, label='Test')\n",
    "plt.bar(unique_labels_val, label_counts_val, label='Validation')\n",
    "\n",
    "# Set the x-axis tick labels\n",
    "plt.xticks(unique_labels_train, unique_labels_train)\n",
    "\n",
    "plt.xlabel('Labels')\n",
    "plt.ylabel('Count')\n",
    "plt.title('Label Distribution')\n",
    "plt.legend()\n",
    "plt.show()"
   ]
  },
  {
   "cell_type": "code",
   "execution_count": 5,
   "metadata": {},
   "outputs": [],
   "source": [
    "class CustomDataset(torch.utils.data.Dataset):\n",
    "    def __init__(self, dataset_type, dataset_ver):\n",
    "        self.X = np.array(np.load(f'Generated_Datasets/{dataset_type}_data_{dataset_ver}.npy'))\n",
    "        self.y = np.array(np.load(f'Generated_Datasets/{dataset_type}_labels_{dataset_ver}.npy'))\n",
    "\n",
    "    def __len__(self):\n",
    "        return len(self.X)\n",
    "    \n",
    "    def __getitem__(self, idx):\n",
    "        X = torch.from_numpy(self.X[idx]).float()\n",
    "        y = torch.from_numpy(np.asarray(self.y[idx])).float()\n",
    "        return X, y"
   ]
  },
  {
   "cell_type": "code",
   "execution_count": 6,
   "metadata": {},
   "outputs": [],
   "source": [
    "class EarlyStopper:\n",
    "    def __init__(self, patience=1, min_delta=0):\n",
    "        self.patience = patience\n",
    "        self.min_delta = min_delta\n",
    "        self.counter = 0\n",
    "        self.min_validation_loss = float('inf')\n",
    "\n",
    "    def early_stop(self, validation_loss):\n",
    "        if validation_loss < self.min_validation_loss:\n",
    "            self.min_validation_loss = validation_loss\n",
    "            self.counter = 0\n",
    "        elif validation_loss > (self.min_validation_loss + self.min_delta):\n",
    "            self.counter += 1\n",
    "            if self.counter >= self.patience:\n",
    "                return True\n",
    "        return False"
   ]
  },
  {
   "cell_type": "code",
   "execution_count": 7,
   "metadata": {},
   "outputs": [
    {
     "name": "stdout",
     "output_type": "stream",
     "text": [
      "Autoencoder(\n",
      "  (encoder): Encoder(\n",
      "    (LSTM1): LSTM(9, 720, batch_first=True)\n",
      "    (LSTM2): LSTM(720, 360, batch_first=True)\n",
      "  )\n",
      "  (decoder): Decoder(\n",
      "    (LSTM1): LSTM(360, 360, batch_first=True)\n",
      "    (LSTM2): LSTM(360, 720, batch_first=True)\n",
      "    (output): Linear(in_features=720, out_features=9, bias=True)\n",
      "  )\n",
      "  (loss): MSELoss()\n",
      ")\n"
     ]
    }
   ],
   "source": [
    "# Unidirectional LSTM\n",
    "class Encoder(nn.Module):\n",
    "    def __init__(self, input_size, hidden_size):\n",
    "        super(Encoder, self).__init__()\n",
    "        self.LSTM1 = nn.LSTM(input_size=input_size, hidden_size=hidden_size*2, batch_first=True)\n",
    "        self.LSTM2 = nn.LSTM(input_size=2*hidden_size, hidden_size=hidden_size, batch_first=True)\n",
    "\n",
    "    def forward(self, x):\n",
    "        x, (_, _) = self.LSTM1(x)\n",
    "        x, (encoded_x, _) = self.LSTM2(x)\n",
    "        return encoded_x[-1,:,:]\n",
    "\n",
    "\n",
    "class Decoder(nn.Module):\n",
    "    def __init__(self, hidden_size, output_size):\n",
    "        super(Decoder, self).__init__()\n",
    "        self.hidden_size = hidden_size\n",
    "        self.LSTM1 = nn.LSTM(input_size=hidden_size, hidden_size=hidden_size, batch_first=True)\n",
    "        self.LSTM2 = nn.LSTM(input_size=hidden_size, hidden_size=hidden_size*2, batch_first=True)\n",
    "        self.output = nn.Linear(self.hidden_size*2, output_size)\n",
    "\n",
    "    def forward(self, x):\n",
    "        # x = x.repeat(60, 1, 1)\n",
    "        # x = x.reshape(x.shape[1], 60, self.hidden_size)\n",
    "        x = x.unsqueeze(1).repeat(1, 60, 1)\n",
    "        x, (_, _) = self.LSTM1(x)\n",
    "        x, (_, _) = self.LSTM2(x)\n",
    "        x = self.output(x)\n",
    "        return x\n",
    "\n",
    "\n",
    "class Autoencoder(nn.Module):\n",
    "    def __init__(self, in_out_size, hidden_size):\n",
    "        super(Autoencoder, self).__init__()\n",
    "        self.encoder = Encoder(in_out_size, hidden_size).to(device)\n",
    "        self.decoder = Decoder(hidden_size, in_out_size).to(device)\n",
    "\n",
    "        self.loss = nn.MSELoss()\n",
    "\n",
    "    def forward(self, x):\n",
    "        x = self.encoder(x)\n",
    "        x = self.decoder(x)\n",
    "        return x\n",
    "    \n",
    "autoencoder = Autoencoder(n_input, n_hidden).to(device)\n",
    "print(autoencoder)"
   ]
  },
  {
   "cell_type": "code",
   "execution_count": 8,
   "metadata": {},
   "outputs": [],
   "source": [
    "# Bidirectional LSTM\n",
    "class Encoder(nn.Module):\n",
    "    def __init__(self, input_size, hidden_size, dropout_rate=0.2):\n",
    "        super(Encoder, self).__init__()\n",
    "        self.LSTM1 = nn.LSTM(input_size=input_size, hidden_size=hidden_size, batch_first=True, bidirectional=True)\n",
    "        self.dropout = nn.Dropout(dropout_rate)\n",
    "        self.LSTM2 = nn.LSTM(input_size=2*hidden_size, hidden_size=hidden_size, batch_first=True, bidirectional=True)\n",
    "        self.hidden_size = hidden_size\n",
    "\n",
    "    def forward(self, x):\n",
    "        x, (_, _) = self.LSTM1(x)\n",
    "        x = self.dropout(x)\n",
    "        x, (encoded_x, _) = self.LSTM2(x)\n",
    "        # Concatenate Forward + Backward Pass - (seq_len, batch, num_directions * hidden_size)  \n",
    "        encoded_x = (encoded_x[0, :, :] + encoded_x[1, :, :])\n",
    "        # print(\"Final Encoded: \", encoded_x.shape)\n",
    "        return encoded_x\n",
    "\n",
    "\n",
    "class Decoder(nn.Module):\n",
    "    def __init__(self, hidden_size, output_size, dropout_rate):\n",
    "        super(Decoder, self).__init__()\n",
    "        self.hidden_size = hidden_size\n",
    "        self.LSTM1 = nn.LSTM(input_size=hidden_size, hidden_size=hidden_size, batch_first=True, bidirectional=True)\n",
    "        self.dropout = nn.Dropout(dropout_rate)\n",
    "        self.LSTM2 = nn.LSTM(input_size=2*hidden_size, hidden_size=hidden_size, batch_first=True, bidirectional=True)\n",
    "        self.output = nn.Linear(hidden_size*2, output_size)\n",
    "\n",
    "    def forward(self, x):\n",
    "        # print(\"Decoder x: \", x.shape)\n",
    "        x = x.unsqueeze(1).repeat(1, 60, 1)\n",
    "        # print(\"Reshaped Decoder x: \", x.shape)\n",
    "        x, (_, _) = self.LSTM1(x)\n",
    "        x = self.dropout(x)\n",
    "        x, (_, _) = self.LSTM2(x)\n",
    "        x = self.output(x)\n",
    "        return x\n",
    "\n",
    "\n",
    "class Autoencoder(nn.Module):\n",
    "    def __init__(self, in_out_size, hidden_size, dropout_rate):\n",
    "        super(Autoencoder, self).__init__()\n",
    "        self.encoder = Encoder(in_out_size, hidden_size, dropout_rate).to(device)\n",
    "        self.decoder = Decoder(hidden_size, in_out_size, dropout_rate).to(device)\n",
    "\n",
    "        self.loss = nn.MSELoss()\n",
    "\n",
    "    def forward(self, x):\n",
    "        x = self.encoder(x)\n",
    "        x = self.decoder(x)\n",
    "        return x"
   ]
  },
  {
   "cell_type": "code",
   "execution_count": 39,
   "metadata": {},
   "outputs": [],
   "source": [
    "# Bidirectional LSTM\n",
    "class Encoder(nn.Module):\n",
    "    def __init__(self, input_size, hidden_size, dropout_rate):\n",
    "        super(Encoder, self).__init__()\n",
    "        self.LSTM1 = nn.LSTM(input_size=input_size, hidden_size=hidden_size, batch_first=True, bidirectional=True)\n",
    "        self.dropout = nn.Dropout(dropout_rate)\n",
    "        # self.LSTM2 = nn.LSTM(input_size=hidden_size, hidden_size=hidden_size, batch_first=True, bidirectional=False)\n",
    "        self.hidden_size = hidden_size\n",
    "\n",
    "    def forward(self, x):\n",
    "        x, (encoded_x, _) = self.LSTM1(x)\n",
    "        x = self.dropout(encoded_x)\n",
    "        # x, (encoded_x, _) = self.LSTM2(x)\n",
    "        # Concatenate Forward + Backward Pass - (seq_len, batch, num_directions * hidden_size)  \n",
    "        # encoded_x = (encoded_x[0, :, :] + encoded_x[1, :, :])\n",
    "        # print(\"Final Encoded: \", encoded_x.shape)\n",
    "        return x[-1,:,:]\n",
    "\n",
    "class Decoder(nn.Module):\n",
    "    def __init__(self, hidden_size, output_size, dropout_rate):\n",
    "        super(Decoder, self).__init__()\n",
    "        self.hidden_size = hidden_size\n",
    "        self.LSTM1 = nn.LSTM(input_size=hidden_size, hidden_size=hidden_size, batch_first=True, bidirectional=True)\n",
    "        self.dropout = nn.Dropout(dropout_rate)\n",
    "        # self.LSTM2 = nn.LSTM(input_size=hidden_size, hidden_size=hidden_size, batch_first=True, bidirectional=False)\n",
    "        self.output = nn.Linear(hidden_size*2, output_size)\n",
    "\n",
    "    def forward(self, x):\n",
    "        # print(\"Decoder x: \", x.shape)\n",
    "        x = x.unsqueeze(1).repeat(1, 60, 1)\n",
    "        # print(\"Reshaped Decoder x: \", x.shape)\n",
    "        x, (_, _) = self.LSTM1(x)\n",
    "        x = self.dropout(x)\n",
    "        # x, (_, _) = self.LSTM2(x)\n",
    "        x = self.output(x)\n",
    "        return x\n",
    "\n",
    "\n",
    "class Autoencoder(nn.Module):\n",
    "    def __init__(self, in_out_size, hidden_size, dropout_rate):\n",
    "        super(Autoencoder, self).__init__()\n",
    "        self.encoder = Encoder(in_out_size, hidden_size, dropout_rate).to(device)\n",
    "        self.decoder = Decoder(hidden_size, in_out_size, dropout_rate).to(device)\n",
    "\n",
    "        self.loss = nn.MSELoss()\n",
    "\n",
    "    def forward(self, x):\n",
    "        x = self.encoder(x)\n",
    "        x = self.decoder(x)\n",
    "        return x"
   ]
  },
  {
   "cell_type": "code",
   "execution_count": 9,
   "metadata": {},
   "outputs": [
    {
     "name": "stdout",
     "output_type": "stream",
     "text": [
      "DANA(\n",
      "  (conv): Conv1d(9, 64, kernel_size=(3,), stride=(1,), padding=(1,))\n",
      "  (relu): ReLU()\n",
      "  (lstm): LSTM(64, 512, batch_first=True, bidirectional=True)\n",
      "  (fc1): Linear(in_features=1024, out_features=128, bias=True)\n",
      "  (dropout): Dropout(p=0.5, inplace=False)\n",
      "  (fc2): Linear(in_features=128, out_features=9, bias=True)\n",
      "  (loss): MSELoss()\n",
      ")\n"
     ]
    }
   ],
   "source": [
    "# RNN\n",
    "class DANA(nn.Module):\n",
    "    def __init__(self, inp_shape, out_shape):\n",
    "        super(DANA, self).__init__()\n",
    "        nb_filters = 64\n",
    "        drp_out_dns = 0.5\n",
    "        nb_dense = 512\n",
    "        nb_dropout = 128\n",
    "\n",
    "        self.conv = nn.Conv1d(inp_shape, nb_filters, kernel_size=3, padding=1)\n",
    "        self.relu = nn.ReLU()\n",
    "        self.lstm = nn.LSTM(nb_filters, nb_dense, batch_first=True, bidirectional=True)\n",
    "        self.fc1 = nn.Linear(nb_dense*2, nb_dropout)\n",
    "        self.dropout = nn.Dropout(drp_out_dns)\n",
    "        self.fc2 = nn.Linear(nb_dropout, out_shape)\n",
    "\n",
    "        self.loss = nn.MSELoss()\n",
    "\n",
    "    def forward(self, x):\n",
    "        x = x.permute(0, 2, 1)  # conv = (batch, no of channels, sequence length)\n",
    "        x = self.conv(x)\n",
    "        x = self.relu(x)\n",
    "        # print(\"CONV:\", x.shape)\n",
    "        x = x.permute(0, 2, 1)\n",
    "        # print(x.shape)\n",
    "        x, _ = self.lstm(x) # lstm = (batch, seq length, input_size)\n",
    "        x = x[:, -1]\n",
    "        # print(\"LSTM:\",x.shape)\n",
    "        x = self.fc1(x)\n",
    "        # print(\"Linear1:\",x.shape)\n",
    "        x = self.dropout(x)\n",
    "        x = self.fc2(x)\n",
    "        # print(\"Linear2:\",x.shape)\n",
    "\n",
    "        return x\n",
    "\n",
    "autoencoder = DANA(n_input, n_input).to(device)\n",
    "print(autoencoder)"
   ]
  },
  {
   "cell_type": "code",
   "execution_count": 10,
   "metadata": {},
   "outputs": [],
   "source": [
    "### Train AutoEncoder ###\n",
    "train_dataset = CustomDataset(\"train\", dataset_ver)\n",
    "train_dataloader = DataLoader(train_dataset, batch_size=16, shuffle=True)\n",
    "val_dataset = CustomDataset(\"val\", dataset_ver)\n",
    "val_dataloader = DataLoader(val_dataset, batch_size=16, shuffle=True)\n",
    "\n",
    "def train_model(encoder_ver, tag, early_stop, dropout_rate, num_epochs, lr_rate=1e-3):\n",
    "    \n",
    "    # tensorboard logging\n",
    "    writer = SummaryWriter(log_dir=f\"tensorboard/{tag}\")\n",
    "    \n",
    "    ### define model + optimizer ###\n",
    "    autoencoder = Autoencoder(n_input, n_hidden, dropout_rate).to(device)\n",
    "    print(autoencoder)\n",
    "    optimizer = optim.Adam(autoencoder.parameters(),\n",
    "                            lr=lr_rate,\n",
    "                            betas=(0.9, 0.999),\n",
    "                            eps=1e-8)\n",
    "    optimizer.zero_grad()\n",
    "    # early stopping (if applicable)\n",
    "    early_stopper = EarlyStopper(patience=1, min_delta=10)\n",
    "\n",
    "    best_loss = np.inf\n",
    "    train_losses = []\n",
    "    val_losses = []\n",
    "\n",
    "    for epoch in range(num_epochs):\n",
    "        print(f'Starting Epoch {epoch+1}...')\n",
    "        \n",
    "        autoencoder.train()\n",
    "        for X_batch, _ in tqdm(train_dataloader):\n",
    "            X = X_batch.to(device)\n",
    "\n",
    "            pred = autoencoder(X)\n",
    "            train_loss = autoencoder.loss(pred, X)\n",
    "\n",
    "            train_loss.backward()\n",
    "            optimizer.step()\n",
    "            optimizer.zero_grad()\n",
    "\n",
    "        train_losses.append(train_loss.item())\n",
    "        \n",
    "        autoencoder.eval()\n",
    "        val_loss = 0.0\n",
    "        for X_batch, _ in tqdm(val_dataloader):\n",
    "            X = X_batch.to(device)\n",
    "\n",
    "            pred = autoencoder(X)\n",
    "            val_loss += autoencoder.loss(pred, X).item() * X_batch.size(0)        \n",
    "\n",
    "        val_losses.append(val_loss / len(val_dataset))\n",
    "\n",
    "        print(f'Epoch [{epoch+1}/{num_epochs}]\\nTraining Loss: {train_losses[-1]:.4f}, Val Loss: {val_losses[-1]:.4f}')\n",
    "        writer.add_scalars(\"Loss\", {\"train\": train_losses[-1], \n",
    "                                    \"val\": val_losses[-1]}, epoch)\n",
    "\n",
    "        if val_losses[-1] < best_loss:\n",
    "            best_loss = val_losses[-1]\n",
    "\n",
    "            # Save Encoder\n",
    "            torch.save(autoencoder.encoder, f'ML_Models/{dataset_ver}_{encoder_ver}_{tag}_encoder.pt')\n",
    "            # Save Full Autoencoder\n",
    "            torch.save(autoencoder, f'ML_Models/{dataset_ver}_{encoder_ver}_{tag}_Autoencoder.pt')\n",
    "        \n",
    "        if early_stop and early_stopper.early_stop(val_losses[-1]):\n",
    "            print(\"Early Stopping...\")             \n",
    "            break\n",
    "\n",
    "    writer.close()\n",
    "    return train_losses, val_losses\n",
    "\n",
    "# train_losses, val_losses = train_model(\"bi_lstm_run_2\", early_stop=True, dropout_rate=0.5, num_epochs=50, lr_rate=1e-3)\n"
   ]
  },
  {
   "cell_type": "code",
   "execution_count": 11,
   "metadata": {},
   "outputs": [
    {
     "name": "stderr",
     "output_type": "stream",
     "text": [
      "ERROR: The process \"tensorboard.exe\" not found.\n"
     ]
    }
   ],
   "source": [
    "# %load_ext tensorboard\n",
    "# %tensorboard --logdir tensorboard\n",
    "# %reload_ext tensorboard\n",
    "!taskkill /F /IM tensorboard.exe"
   ]
  },
  {
   "cell_type": "code",
   "execution_count": 12,
   "metadata": {},
   "outputs": [],
   "source": [
    "def plot_loss_graph(train_losses, val_losses, tag):\n",
    "    plt.plot(range(len(train_losses)), train_losses, label= 'Train Loss')\n",
    "    plt.plot(range(len(val_losses)), val_losses, label='Val Loss')\n",
    "    plt.xlabel('Epochs')\n",
    "    plt.ylabel('Loss')\n",
    "    plt.title('Loss across Epochs')\n",
    "    plt.legend()\n",
    "    plt.savefig(f'images/loss_{tag}.png')\n",
    "    plt.show()\n",
    "\n",
    "    # log these losses separately\n",
    "    with open(f\"logs/losses_{tag}.txt\", \"a\") as file:\n",
    "        file.write(f\"---- Model: {tag} ----\\n\")\n",
    "        file.write(\"Train Losses:\\n\")\n",
    "        for epoch, loss in enumerate(train_losses, start=1):\n",
    "            file.write(f\"Epoch {epoch}: {loss}\\n\")\n",
    "        file.write(\"Validation Losses:\\n\")\n",
    "        for epoch, loss in enumerate(val_losses, start=1):\n",
    "            file.write(f\"Epoch {epoch}: {loss}\\n\")\n",
    "        file.write(\"\\n\")\n",
    "\n",
    "# plot_loss_graph(train_losses, val_losses, \"bi_lstm_run_2\")"
   ]
  },
  {
   "cell_type": "code",
   "execution_count": 13,
   "metadata": {},
   "outputs": [],
   "source": [
    "### Encode Data ###\n",
    "def encode_data(tag, encoder_ver):\n",
    "\n",
    "    train_dataset = CustomDataset(\"train\", dataset_ver)\n",
    "    train_dataloader = DataLoader(train_dataset, batch_size=16, shuffle=True)\n",
    "    print('Loading Encoder Model...')\n",
    "    encoder = torch.load(f'ML_Models/{dataset_ver}_{encoder_ver}_{tag}_encoder.pt').to(device)\n",
    "    encoder.eval()\n",
    "\n",
    "    encoded_data = []\n",
    "    labels = []\n",
    "\n",
    "    print('Encoding Data...')\n",
    "    with torch.no_grad():\n",
    "        for batch in tqdm(train_dataloader):\n",
    "            X_batch, y_batch = batch\n",
    "            X = X_batch.to(device)\n",
    "            y = y_batch.to(device).reshape(-1, 1)\n",
    "\n",
    "            encoded_batch = encoder(X)\n",
    "            # print(encoded_batch.shape)\n",
    "\n",
    "            ### for unidirectional LSTM ###\n",
    "            # encoded_batch = encoded_batch.reshape(encoded_batch.shape[1], encoded_batch.shape[2])\n",
    "\n",
    "            ### bidirectional LSTM have hidden states in 2 dimensions ###\n",
    "            # h_1, h_2 = encoded_batch[0], encoded_batch[1]\n",
    "            # encoded_batch = torch.cat((h_1, h_2), 1)\n",
    "            \n",
    "            encoded_data.append(encoded_batch)\n",
    "            labels.append(y)\n",
    "\n",
    "        encoded_data = torch.cat(encoded_data, 0).cpu()\n",
    "        labels = torch.cat(labels, 0).cpu()       \n",
    "\n",
    "    print(f'{encoded_data.shape=}')\n",
    "    print(f'{labels.shape=}')\n",
    "    \n",
    "    return encoded_data, labels\n",
    "\n",
    "# encoded_data, labels = encode_data(\"bi_lstm_run_2\", \"360h50e0.5dr0.001lr\")"
   ]
  },
  {
   "cell_type": "code",
   "execution_count": 14,
   "metadata": {},
   "outputs": [],
   "source": [
    "### Train SVM ###\n",
    "def train_svm(train_data, train_labels, tag, encoder_ver):\n",
    "    print(\"Training SVM Classifier...\")\n",
    "    x_train, x_test, y_train, y_test = train_test_split(train_data, train_labels, test_size=0.20, random_state=0)\n",
    "    svm_classifier = svm.SVC(kernel='rbf', probability=True)\n",
    "    svm_classifier.fit(x_train, y_train)\n",
    "\n",
    "    test_pred = svm_classifier.predict(x_test)\n",
    "    print(f'Accuracy: {accuracy_score(y_test, test_pred)}')\n",
    "\n",
    "    # Save SVM Classifier\n",
    "    with open(f'ML_Models/{dataset_ver}_{encoder_ver}_{tag}_svm_classifier.pkl', \"wb\") as file:\n",
    "        pickle.dump(svm_classifier, file)\n",
    "\n",
    "    return svm_classifier\n",
    "\n",
    "# svm_classifier = train_svm(encoded_data, labels.ravel())"
   ]
  },
  {
   "cell_type": "code",
   "execution_count": 40,
   "metadata": {},
   "outputs": [
    {
     "name": "stdout",
     "output_type": "stream",
     "text": [
      "Autoencoder(\n",
      "  (encoder): Encoder(\n",
      "    (LSTM1): LSTM(9, 360, batch_first=True, bidirectional=True)\n",
      "    (dropout): Dropout(p=0, inplace=False)\n",
      "  )\n",
      "  (decoder): Decoder(\n",
      "    (LSTM1): LSTM(360, 360, batch_first=True, bidirectional=True)\n",
      "    (dropout): Dropout(p=0, inplace=False)\n",
      "    (output): Linear(in_features=720, out_features=9, bias=True)\n",
      "  )\n",
      "  (loss): MSELoss()\n",
      ")\n",
      "Starting Epoch 1...\n"
     ]
    },
    {
     "data": {
      "application/vnd.jupyter.widget-view+json": {
       "model_id": "5494452027924fe3a46e0b4add6d2f28",
       "version_major": 2,
       "version_minor": 0
      },
      "text/plain": [
       "  0%|          | 0/963 [00:00<?, ?it/s]"
      ]
     },
     "metadata": {},
     "output_type": "display_data"
    },
    {
     "data": {
      "application/vnd.jupyter.widget-view+json": {
       "model_id": "19ac4fa5627845d1815078ebdbb6745f",
       "version_major": 2,
       "version_minor": 0
      },
      "text/plain": [
       "  0%|          | 0/138 [00:00<?, ?it/s]"
      ]
     },
     "metadata": {},
     "output_type": "display_data"
    },
    {
     "name": "stdout",
     "output_type": "stream",
     "text": [
      "Epoch [1/50]\n",
      "Training Loss: 0.0272, Val Loss: 0.0317\n",
      "Starting Epoch 2...\n"
     ]
    },
    {
     "data": {
      "application/vnd.jupyter.widget-view+json": {
       "model_id": "c29a4041ed2c4a55999fdb6458e3290a",
       "version_major": 2,
       "version_minor": 0
      },
      "text/plain": [
       "  0%|          | 0/963 [00:00<?, ?it/s]"
      ]
     },
     "metadata": {},
     "output_type": "display_data"
    },
    {
     "data": {
      "application/vnd.jupyter.widget-view+json": {
       "model_id": "2db0b68e30b84d2faa8c11fc1e140260",
       "version_major": 2,
       "version_minor": 0
      },
      "text/plain": [
       "  0%|          | 0/138 [00:00<?, ?it/s]"
      ]
     },
     "metadata": {},
     "output_type": "display_data"
    },
    {
     "name": "stdout",
     "output_type": "stream",
     "text": [
      "Epoch [2/50]\n",
      "Training Loss: 0.0139, Val Loss: 0.0117\n",
      "Starting Epoch 3...\n"
     ]
    },
    {
     "data": {
      "application/vnd.jupyter.widget-view+json": {
       "model_id": "458743b99e3840ca8a131058f5d1fea0",
       "version_major": 2,
       "version_minor": 0
      },
      "text/plain": [
       "  0%|          | 0/963 [00:00<?, ?it/s]"
      ]
     },
     "metadata": {},
     "output_type": "display_data"
    },
    {
     "data": {
      "application/vnd.jupyter.widget-view+json": {
       "model_id": "ae1937cdcd4544e0ba51d150e088e104",
       "version_major": 2,
       "version_minor": 0
      },
      "text/plain": [
       "  0%|          | 0/138 [00:00<?, ?it/s]"
      ]
     },
     "metadata": {},
     "output_type": "display_data"
    },
    {
     "name": "stdout",
     "output_type": "stream",
     "text": [
      "Epoch [3/50]\n",
      "Training Loss: 0.0107, Val Loss: 0.0095\n",
      "Starting Epoch 4...\n"
     ]
    },
    {
     "data": {
      "application/vnd.jupyter.widget-view+json": {
       "model_id": "86b6829a69774ae48893ffd5d3cc0a0b",
       "version_major": 2,
       "version_minor": 0
      },
      "text/plain": [
       "  0%|          | 0/963 [00:00<?, ?it/s]"
      ]
     },
     "metadata": {},
     "output_type": "display_data"
    },
    {
     "data": {
      "application/vnd.jupyter.widget-view+json": {
       "model_id": "8a574ee5c1094bc2b5a31641645f6c16",
       "version_major": 2,
       "version_minor": 0
      },
      "text/plain": [
       "  0%|          | 0/138 [00:00<?, ?it/s]"
      ]
     },
     "metadata": {},
     "output_type": "display_data"
    },
    {
     "name": "stdout",
     "output_type": "stream",
     "text": [
      "Epoch [4/50]\n",
      "Training Loss: 0.0079, Val Loss: 0.0090\n",
      "Starting Epoch 5...\n"
     ]
    },
    {
     "data": {
      "application/vnd.jupyter.widget-view+json": {
       "model_id": "54faa9c769e045b7b7e76a49e4dece44",
       "version_major": 2,
       "version_minor": 0
      },
      "text/plain": [
       "  0%|          | 0/963 [00:00<?, ?it/s]"
      ]
     },
     "metadata": {},
     "output_type": "display_data"
    },
    {
     "data": {
      "application/vnd.jupyter.widget-view+json": {
       "model_id": "2010ab8c46c8479cb1c1052da5286a13",
       "version_major": 2,
       "version_minor": 0
      },
      "text/plain": [
       "  0%|          | 0/138 [00:00<?, ?it/s]"
      ]
     },
     "metadata": {},
     "output_type": "display_data"
    },
    {
     "name": "stdout",
     "output_type": "stream",
     "text": [
      "Epoch [5/50]\n",
      "Training Loss: 0.0083, Val Loss: 0.0072\n",
      "Starting Epoch 6...\n"
     ]
    },
    {
     "data": {
      "application/vnd.jupyter.widget-view+json": {
       "model_id": "ae1ed89b48de47ab80101171df64fcc8",
       "version_major": 2,
       "version_minor": 0
      },
      "text/plain": [
       "  0%|          | 0/963 [00:00<?, ?it/s]"
      ]
     },
     "metadata": {},
     "output_type": "display_data"
    },
    {
     "data": {
      "application/vnd.jupyter.widget-view+json": {
       "model_id": "e40ea67279674fb385757c4d99688323",
       "version_major": 2,
       "version_minor": 0
      },
      "text/plain": [
       "  0%|          | 0/138 [00:00<?, ?it/s]"
      ]
     },
     "metadata": {},
     "output_type": "display_data"
    },
    {
     "name": "stdout",
     "output_type": "stream",
     "text": [
      "Epoch [6/50]\n",
      "Training Loss: 0.0077, Val Loss: 0.0068\n",
      "Starting Epoch 7...\n"
     ]
    },
    {
     "data": {
      "application/vnd.jupyter.widget-view+json": {
       "model_id": "e84ee3ed840d4d81967f1c7896fefb41",
       "version_major": 2,
       "version_minor": 0
      },
      "text/plain": [
       "  0%|          | 0/963 [00:00<?, ?it/s]"
      ]
     },
     "metadata": {},
     "output_type": "display_data"
    },
    {
     "data": {
      "application/vnd.jupyter.widget-view+json": {
       "model_id": "96bd9a4f09014ddb870805da4c530aab",
       "version_major": 2,
       "version_minor": 0
      },
      "text/plain": [
       "  0%|          | 0/138 [00:00<?, ?it/s]"
      ]
     },
     "metadata": {},
     "output_type": "display_data"
    },
    {
     "name": "stdout",
     "output_type": "stream",
     "text": [
      "Epoch [7/50]\n",
      "Training Loss: 0.0053, Val Loss: 0.0057\n",
      "Starting Epoch 8...\n"
     ]
    },
    {
     "data": {
      "application/vnd.jupyter.widget-view+json": {
       "model_id": "2b24d634dd7340fc877dd74aac05670e",
       "version_major": 2,
       "version_minor": 0
      },
      "text/plain": [
       "  0%|          | 0/963 [00:00<?, ?it/s]"
      ]
     },
     "metadata": {},
     "output_type": "display_data"
    },
    {
     "data": {
      "application/vnd.jupyter.widget-view+json": {
       "model_id": "920f2e23540345f7a3dcedf3251fccfe",
       "version_major": 2,
       "version_minor": 0
      },
      "text/plain": [
       "  0%|          | 0/138 [00:00<?, ?it/s]"
      ]
     },
     "metadata": {},
     "output_type": "display_data"
    },
    {
     "name": "stdout",
     "output_type": "stream",
     "text": [
      "Epoch [8/50]\n",
      "Training Loss: 0.0036, Val Loss: 0.0052\n",
      "Starting Epoch 9...\n"
     ]
    },
    {
     "data": {
      "application/vnd.jupyter.widget-view+json": {
       "model_id": "c69e59b7b1c84c7685bfec365c6a0241",
       "version_major": 2,
       "version_minor": 0
      },
      "text/plain": [
       "  0%|          | 0/963 [00:00<?, ?it/s]"
      ]
     },
     "metadata": {},
     "output_type": "display_data"
    },
    {
     "data": {
      "application/vnd.jupyter.widget-view+json": {
       "model_id": "f5b673c893ad4cb3b42a6cf5caf38f43",
       "version_major": 2,
       "version_minor": 0
      },
      "text/plain": [
       "  0%|          | 0/138 [00:00<?, ?it/s]"
      ]
     },
     "metadata": {},
     "output_type": "display_data"
    },
    {
     "name": "stdout",
     "output_type": "stream",
     "text": [
      "Epoch [9/50]\n",
      "Training Loss: 0.0053, Val Loss: 0.0053\n",
      "Starting Epoch 10...\n"
     ]
    },
    {
     "data": {
      "application/vnd.jupyter.widget-view+json": {
       "model_id": "0730dafeb5b24653aef79747db3e16b8",
       "version_major": 2,
       "version_minor": 0
      },
      "text/plain": [
       "  0%|          | 0/963 [00:00<?, ?it/s]"
      ]
     },
     "metadata": {},
     "output_type": "display_data"
    },
    {
     "data": {
      "application/vnd.jupyter.widget-view+json": {
       "model_id": "403a9ed7fb884cc58d913a96ec151b8e",
       "version_major": 2,
       "version_minor": 0
      },
      "text/plain": [
       "  0%|          | 0/138 [00:00<?, ?it/s]"
      ]
     },
     "metadata": {},
     "output_type": "display_data"
    },
    {
     "name": "stdout",
     "output_type": "stream",
     "text": [
      "Epoch [10/50]\n",
      "Training Loss: 0.0064, Val Loss: 0.0046\n",
      "Starting Epoch 11...\n"
     ]
    },
    {
     "data": {
      "application/vnd.jupyter.widget-view+json": {
       "model_id": "9035bafa51b749ab99ea827386224fdb",
       "version_major": 2,
       "version_minor": 0
      },
      "text/plain": [
       "  0%|          | 0/963 [00:00<?, ?it/s]"
      ]
     },
     "metadata": {},
     "output_type": "display_data"
    },
    {
     "data": {
      "application/vnd.jupyter.widget-view+json": {
       "model_id": "d657813f2fb245c4a78ec190b06dfbc7",
       "version_major": 2,
       "version_minor": 0
      },
      "text/plain": [
       "  0%|          | 0/138 [00:00<?, ?it/s]"
      ]
     },
     "metadata": {},
     "output_type": "display_data"
    },
    {
     "name": "stdout",
     "output_type": "stream",
     "text": [
      "Epoch [11/50]\n",
      "Training Loss: 0.0061, Val Loss: 0.0046\n",
      "Starting Epoch 12...\n"
     ]
    },
    {
     "data": {
      "application/vnd.jupyter.widget-view+json": {
       "model_id": "a8170df6d1864da68094b006cd527875",
       "version_major": 2,
       "version_minor": 0
      },
      "text/plain": [
       "  0%|          | 0/963 [00:00<?, ?it/s]"
      ]
     },
     "metadata": {},
     "output_type": "display_data"
    },
    {
     "data": {
      "application/vnd.jupyter.widget-view+json": {
       "model_id": "de707814da9849928861b89dc0098643",
       "version_major": 2,
       "version_minor": 0
      },
      "text/plain": [
       "  0%|          | 0/138 [00:00<?, ?it/s]"
      ]
     },
     "metadata": {},
     "output_type": "display_data"
    },
    {
     "name": "stdout",
     "output_type": "stream",
     "text": [
      "Epoch [12/50]\n",
      "Training Loss: 0.0047, Val Loss: 0.0046\n",
      "Starting Epoch 13...\n"
     ]
    },
    {
     "data": {
      "application/vnd.jupyter.widget-view+json": {
       "model_id": "353a16aec9124db4b91f29d4262607f9",
       "version_major": 2,
       "version_minor": 0
      },
      "text/plain": [
       "  0%|          | 0/963 [00:00<?, ?it/s]"
      ]
     },
     "metadata": {},
     "output_type": "display_data"
    },
    {
     "data": {
      "application/vnd.jupyter.widget-view+json": {
       "model_id": "ecee49171e1c45f1865d759499632044",
       "version_major": 2,
       "version_minor": 0
      },
      "text/plain": [
       "  0%|          | 0/138 [00:00<?, ?it/s]"
      ]
     },
     "metadata": {},
     "output_type": "display_data"
    },
    {
     "name": "stdout",
     "output_type": "stream",
     "text": [
      "Epoch [13/50]\n",
      "Training Loss: 0.0045, Val Loss: 0.0045\n",
      "Starting Epoch 14...\n"
     ]
    },
    {
     "data": {
      "application/vnd.jupyter.widget-view+json": {
       "model_id": "a17c77ed3a7d43249bcc3b58a5fc4846",
       "version_major": 2,
       "version_minor": 0
      },
      "text/plain": [
       "  0%|          | 0/963 [00:00<?, ?it/s]"
      ]
     },
     "metadata": {},
     "output_type": "display_data"
    },
    {
     "data": {
      "application/vnd.jupyter.widget-view+json": {
       "model_id": "0ab9e1c16f484107a7a8246397c0f322",
       "version_major": 2,
       "version_minor": 0
      },
      "text/plain": [
       "  0%|          | 0/138 [00:00<?, ?it/s]"
      ]
     },
     "metadata": {},
     "output_type": "display_data"
    },
    {
     "name": "stdout",
     "output_type": "stream",
     "text": [
      "Epoch [14/50]\n",
      "Training Loss: 0.0042, Val Loss: 0.0037\n",
      "Starting Epoch 15...\n"
     ]
    },
    {
     "data": {
      "application/vnd.jupyter.widget-view+json": {
       "model_id": "f58bfd5361fd4ed6a06f27bdbcea428f",
       "version_major": 2,
       "version_minor": 0
      },
      "text/plain": [
       "  0%|          | 0/963 [00:00<?, ?it/s]"
      ]
     },
     "metadata": {},
     "output_type": "display_data"
    },
    {
     "data": {
      "application/vnd.jupyter.widget-view+json": {
       "model_id": "b6c3d440a9b7422aa164fa30692bf6c3",
       "version_major": 2,
       "version_minor": 0
      },
      "text/plain": [
       "  0%|          | 0/138 [00:00<?, ?it/s]"
      ]
     },
     "metadata": {},
     "output_type": "display_data"
    },
    {
     "name": "stdout",
     "output_type": "stream",
     "text": [
      "Epoch [15/50]\n",
      "Training Loss: 0.0041, Val Loss: 0.0037\n",
      "Starting Epoch 16...\n"
     ]
    },
    {
     "data": {
      "application/vnd.jupyter.widget-view+json": {
       "model_id": "67884e91388041b3a605218a26ba518d",
       "version_major": 2,
       "version_minor": 0
      },
      "text/plain": [
       "  0%|          | 0/963 [00:00<?, ?it/s]"
      ]
     },
     "metadata": {},
     "output_type": "display_data"
    },
    {
     "data": {
      "application/vnd.jupyter.widget-view+json": {
       "model_id": "3a6b9363c5164e1fb488f7ece3109f3c",
       "version_major": 2,
       "version_minor": 0
      },
      "text/plain": [
       "  0%|          | 0/138 [00:00<?, ?it/s]"
      ]
     },
     "metadata": {},
     "output_type": "display_data"
    },
    {
     "name": "stdout",
     "output_type": "stream",
     "text": [
      "Epoch [16/50]\n",
      "Training Loss: 0.0031, Val Loss: 0.0037\n",
      "Starting Epoch 17...\n"
     ]
    },
    {
     "data": {
      "application/vnd.jupyter.widget-view+json": {
       "model_id": "2c62f3aee2854792a07e659851847dde",
       "version_major": 2,
       "version_minor": 0
      },
      "text/plain": [
       "  0%|          | 0/963 [00:00<?, ?it/s]"
      ]
     },
     "metadata": {},
     "output_type": "display_data"
    },
    {
     "data": {
      "application/vnd.jupyter.widget-view+json": {
       "model_id": "3cedbf0ec0bd494f84daa1bd525f7c2b",
       "version_major": 2,
       "version_minor": 0
      },
      "text/plain": [
       "  0%|          | 0/138 [00:00<?, ?it/s]"
      ]
     },
     "metadata": {},
     "output_type": "display_data"
    },
    {
     "name": "stdout",
     "output_type": "stream",
     "text": [
      "Epoch [17/50]\n",
      "Training Loss: 0.0059, Val Loss: 0.0036\n",
      "Starting Epoch 18...\n"
     ]
    },
    {
     "data": {
      "application/vnd.jupyter.widget-view+json": {
       "model_id": "f7c136ce4b0842dfb2d66384fba8130a",
       "version_major": 2,
       "version_minor": 0
      },
      "text/plain": [
       "  0%|          | 0/963 [00:00<?, ?it/s]"
      ]
     },
     "metadata": {},
     "output_type": "display_data"
    },
    {
     "data": {
      "application/vnd.jupyter.widget-view+json": {
       "model_id": "8edf552b888e4c6a9fc9fbf7db15b821",
       "version_major": 2,
       "version_minor": 0
      },
      "text/plain": [
       "  0%|          | 0/138 [00:00<?, ?it/s]"
      ]
     },
     "metadata": {},
     "output_type": "display_data"
    },
    {
     "name": "stdout",
     "output_type": "stream",
     "text": [
      "Epoch [18/50]\n",
      "Training Loss: 0.0025, Val Loss: 0.0033\n",
      "Starting Epoch 19...\n"
     ]
    },
    {
     "data": {
      "application/vnd.jupyter.widget-view+json": {
       "model_id": "8d391e97172d4d87a6ec2921ae3e2796",
       "version_major": 2,
       "version_minor": 0
      },
      "text/plain": [
       "  0%|          | 0/963 [00:00<?, ?it/s]"
      ]
     },
     "metadata": {},
     "output_type": "display_data"
    },
    {
     "data": {
      "application/vnd.jupyter.widget-view+json": {
       "model_id": "d2206687d56042d1940e059a7e664f05",
       "version_major": 2,
       "version_minor": 0
      },
      "text/plain": [
       "  0%|          | 0/138 [00:00<?, ?it/s]"
      ]
     },
     "metadata": {},
     "output_type": "display_data"
    },
    {
     "name": "stdout",
     "output_type": "stream",
     "text": [
      "Epoch [19/50]\n",
      "Training Loss: 0.0031, Val Loss: 0.0031\n",
      "Starting Epoch 20...\n"
     ]
    },
    {
     "data": {
      "application/vnd.jupyter.widget-view+json": {
       "model_id": "7850db8ec65b4cbdb924a43979ef5794",
       "version_major": 2,
       "version_minor": 0
      },
      "text/plain": [
       "  0%|          | 0/963 [00:00<?, ?it/s]"
      ]
     },
     "metadata": {},
     "output_type": "display_data"
    },
    {
     "data": {
      "application/vnd.jupyter.widget-view+json": {
       "model_id": "17f129249c734a438218acd9bab0d277",
       "version_major": 2,
       "version_minor": 0
      },
      "text/plain": [
       "  0%|          | 0/138 [00:00<?, ?it/s]"
      ]
     },
     "metadata": {},
     "output_type": "display_data"
    },
    {
     "name": "stdout",
     "output_type": "stream",
     "text": [
      "Epoch [20/50]\n",
      "Training Loss: 0.0020, Val Loss: 0.0031\n",
      "Starting Epoch 21...\n"
     ]
    },
    {
     "data": {
      "application/vnd.jupyter.widget-view+json": {
       "model_id": "12ec3aeb37bd463aa9e06fe22932c508",
       "version_major": 2,
       "version_minor": 0
      },
      "text/plain": [
       "  0%|          | 0/963 [00:00<?, ?it/s]"
      ]
     },
     "metadata": {},
     "output_type": "display_data"
    },
    {
     "data": {
      "application/vnd.jupyter.widget-view+json": {
       "model_id": "150c4dd97cde4b99befd8b1116111ce1",
       "version_major": 2,
       "version_minor": 0
      },
      "text/plain": [
       "  0%|          | 0/138 [00:00<?, ?it/s]"
      ]
     },
     "metadata": {},
     "output_type": "display_data"
    },
    {
     "name": "stdout",
     "output_type": "stream",
     "text": [
      "Epoch [21/50]\n",
      "Training Loss: 0.0037, Val Loss: 0.0032\n",
      "Starting Epoch 22...\n"
     ]
    },
    {
     "data": {
      "application/vnd.jupyter.widget-view+json": {
       "model_id": "cfc4474ae1e14a6cbd2e262ce67f34da",
       "version_major": 2,
       "version_minor": 0
      },
      "text/plain": [
       "  0%|          | 0/963 [00:00<?, ?it/s]"
      ]
     },
     "metadata": {},
     "output_type": "display_data"
    },
    {
     "data": {
      "application/vnd.jupyter.widget-view+json": {
       "model_id": "13eec8d08a6f4e0a8e5145a99e6c8847",
       "version_major": 2,
       "version_minor": 0
      },
      "text/plain": [
       "  0%|          | 0/138 [00:00<?, ?it/s]"
      ]
     },
     "metadata": {},
     "output_type": "display_data"
    },
    {
     "name": "stdout",
     "output_type": "stream",
     "text": [
      "Epoch [22/50]\n",
      "Training Loss: 0.0024, Val Loss: 0.0029\n",
      "Starting Epoch 23...\n"
     ]
    },
    {
     "data": {
      "application/vnd.jupyter.widget-view+json": {
       "model_id": "ad64ddce0f4b49eebacff07711da6974",
       "version_major": 2,
       "version_minor": 0
      },
      "text/plain": [
       "  0%|          | 0/963 [00:00<?, ?it/s]"
      ]
     },
     "metadata": {},
     "output_type": "display_data"
    },
    {
     "data": {
      "application/vnd.jupyter.widget-view+json": {
       "model_id": "7f1328937a794e5b92a937e7614f7475",
       "version_major": 2,
       "version_minor": 0
      },
      "text/plain": [
       "  0%|          | 0/138 [00:00<?, ?it/s]"
      ]
     },
     "metadata": {},
     "output_type": "display_data"
    },
    {
     "name": "stdout",
     "output_type": "stream",
     "text": [
      "Epoch [23/50]\n",
      "Training Loss: 0.0023, Val Loss: 0.0028\n",
      "Starting Epoch 24...\n"
     ]
    },
    {
     "data": {
      "application/vnd.jupyter.widget-view+json": {
       "model_id": "4912aea1fe7e42558747f24be9bda2bf",
       "version_major": 2,
       "version_minor": 0
      },
      "text/plain": [
       "  0%|          | 0/963 [00:00<?, ?it/s]"
      ]
     },
     "metadata": {},
     "output_type": "display_data"
    },
    {
     "data": {
      "application/vnd.jupyter.widget-view+json": {
       "model_id": "eec9fbf302b043c7a7ff2e49318cdb81",
       "version_major": 2,
       "version_minor": 0
      },
      "text/plain": [
       "  0%|          | 0/138 [00:00<?, ?it/s]"
      ]
     },
     "metadata": {},
     "output_type": "display_data"
    },
    {
     "name": "stdout",
     "output_type": "stream",
     "text": [
      "Epoch [24/50]\n",
      "Training Loss: 0.0024, Val Loss: 0.0027\n",
      "Starting Epoch 25...\n"
     ]
    },
    {
     "data": {
      "application/vnd.jupyter.widget-view+json": {
       "model_id": "f383d75a258c4df3bf95adc05041ba30",
       "version_major": 2,
       "version_minor": 0
      },
      "text/plain": [
       "  0%|          | 0/963 [00:00<?, ?it/s]"
      ]
     },
     "metadata": {},
     "output_type": "display_data"
    },
    {
     "data": {
      "application/vnd.jupyter.widget-view+json": {
       "model_id": "78b6b48dea82425fbe1f496eb5d09034",
       "version_major": 2,
       "version_minor": 0
      },
      "text/plain": [
       "  0%|          | 0/138 [00:00<?, ?it/s]"
      ]
     },
     "metadata": {},
     "output_type": "display_data"
    },
    {
     "name": "stdout",
     "output_type": "stream",
     "text": [
      "Epoch [25/50]\n",
      "Training Loss: 0.0029, Val Loss: 0.0027\n",
      "Starting Epoch 26...\n"
     ]
    },
    {
     "data": {
      "application/vnd.jupyter.widget-view+json": {
       "model_id": "c440d72921174cab9553fae1264d785c",
       "version_major": 2,
       "version_minor": 0
      },
      "text/plain": [
       "  0%|          | 0/963 [00:00<?, ?it/s]"
      ]
     },
     "metadata": {},
     "output_type": "display_data"
    },
    {
     "data": {
      "application/vnd.jupyter.widget-view+json": {
       "model_id": "5678865eed9a45748c9d1170a2739d23",
       "version_major": 2,
       "version_minor": 0
      },
      "text/plain": [
       "  0%|          | 0/138 [00:00<?, ?it/s]"
      ]
     },
     "metadata": {},
     "output_type": "display_data"
    },
    {
     "name": "stdout",
     "output_type": "stream",
     "text": [
      "Epoch [26/50]\n",
      "Training Loss: 0.0025, Val Loss: 0.0029\n",
      "Starting Epoch 27...\n"
     ]
    },
    {
     "data": {
      "application/vnd.jupyter.widget-view+json": {
       "model_id": "813cfc12ba4d4276aa8b5be87eca78d4",
       "version_major": 2,
       "version_minor": 0
      },
      "text/plain": [
       "  0%|          | 0/963 [00:00<?, ?it/s]"
      ]
     },
     "metadata": {},
     "output_type": "display_data"
    },
    {
     "data": {
      "application/vnd.jupyter.widget-view+json": {
       "model_id": "8844837cd52d4f13a2476f1d7101f460",
       "version_major": 2,
       "version_minor": 0
      },
      "text/plain": [
       "  0%|          | 0/138 [00:00<?, ?it/s]"
      ]
     },
     "metadata": {},
     "output_type": "display_data"
    },
    {
     "name": "stdout",
     "output_type": "stream",
     "text": [
      "Epoch [27/50]\n",
      "Training Loss: 0.0027, Val Loss: 0.0025\n",
      "Starting Epoch 28...\n"
     ]
    },
    {
     "data": {
      "application/vnd.jupyter.widget-view+json": {
       "model_id": "528d934479754dbcaa47277660d52c2b",
       "version_major": 2,
       "version_minor": 0
      },
      "text/plain": [
       "  0%|          | 0/963 [00:00<?, ?it/s]"
      ]
     },
     "metadata": {},
     "output_type": "display_data"
    },
    {
     "data": {
      "application/vnd.jupyter.widget-view+json": {
       "model_id": "60ae01788bc541148b2722fd429cc25a",
       "version_major": 2,
       "version_minor": 0
      },
      "text/plain": [
       "  0%|          | 0/138 [00:00<?, ?it/s]"
      ]
     },
     "metadata": {},
     "output_type": "display_data"
    },
    {
     "name": "stdout",
     "output_type": "stream",
     "text": [
      "Epoch [28/50]\n",
      "Training Loss: 0.0027, Val Loss: 0.0027\n",
      "Starting Epoch 29...\n"
     ]
    },
    {
     "data": {
      "application/vnd.jupyter.widget-view+json": {
       "model_id": "50e7b65336544f6085c36a88f90ccfac",
       "version_major": 2,
       "version_minor": 0
      },
      "text/plain": [
       "  0%|          | 0/963 [00:00<?, ?it/s]"
      ]
     },
     "metadata": {},
     "output_type": "display_data"
    },
    {
     "data": {
      "application/vnd.jupyter.widget-view+json": {
       "model_id": "2c3db338cdc144a58bce659649bb1592",
       "version_major": 2,
       "version_minor": 0
      },
      "text/plain": [
       "  0%|          | 0/138 [00:00<?, ?it/s]"
      ]
     },
     "metadata": {},
     "output_type": "display_data"
    },
    {
     "name": "stdout",
     "output_type": "stream",
     "text": [
      "Epoch [29/50]\n",
      "Training Loss: 0.0022, Val Loss: 0.0025\n",
      "Starting Epoch 30...\n"
     ]
    },
    {
     "data": {
      "application/vnd.jupyter.widget-view+json": {
       "model_id": "bd49bfd3e0a843d5bfca35a10a20d472",
       "version_major": 2,
       "version_minor": 0
      },
      "text/plain": [
       "  0%|          | 0/963 [00:00<?, ?it/s]"
      ]
     },
     "metadata": {},
     "output_type": "display_data"
    },
    {
     "data": {
      "application/vnd.jupyter.widget-view+json": {
       "model_id": "a1ef533644704661a7ac4f1278c3dbf9",
       "version_major": 2,
       "version_minor": 0
      },
      "text/plain": [
       "  0%|          | 0/138 [00:00<?, ?it/s]"
      ]
     },
     "metadata": {},
     "output_type": "display_data"
    },
    {
     "name": "stdout",
     "output_type": "stream",
     "text": [
      "Epoch [30/50]\n",
      "Training Loss: 0.0022, Val Loss: 0.0024\n",
      "Starting Epoch 31...\n"
     ]
    },
    {
     "data": {
      "application/vnd.jupyter.widget-view+json": {
       "model_id": "e247d8027f104e46ac71f5d3c4014e5a",
       "version_major": 2,
       "version_minor": 0
      },
      "text/plain": [
       "  0%|          | 0/963 [00:00<?, ?it/s]"
      ]
     },
     "metadata": {},
     "output_type": "display_data"
    },
    {
     "data": {
      "application/vnd.jupyter.widget-view+json": {
       "model_id": "be5982373c2a4eeea611c4db1d6ef2ae",
       "version_major": 2,
       "version_minor": 0
      },
      "text/plain": [
       "  0%|          | 0/138 [00:00<?, ?it/s]"
      ]
     },
     "metadata": {},
     "output_type": "display_data"
    },
    {
     "name": "stdout",
     "output_type": "stream",
     "text": [
      "Epoch [31/50]\n",
      "Training Loss: 0.0035, Val Loss: 0.0025\n",
      "Starting Epoch 32...\n"
     ]
    },
    {
     "data": {
      "application/vnd.jupyter.widget-view+json": {
       "model_id": "ebedfb36094441bf99e60edc52aaa5ce",
       "version_major": 2,
       "version_minor": 0
      },
      "text/plain": [
       "  0%|          | 0/963 [00:00<?, ?it/s]"
      ]
     },
     "metadata": {},
     "output_type": "display_data"
    },
    {
     "data": {
      "application/vnd.jupyter.widget-view+json": {
       "model_id": "b52da43d83404f56b8168f41b24d4499",
       "version_major": 2,
       "version_minor": 0
      },
      "text/plain": [
       "  0%|          | 0/138 [00:00<?, ?it/s]"
      ]
     },
     "metadata": {},
     "output_type": "display_data"
    },
    {
     "name": "stdout",
     "output_type": "stream",
     "text": [
      "Epoch [32/50]\n",
      "Training Loss: 0.0024, Val Loss: 0.0024\n",
      "Starting Epoch 33...\n"
     ]
    },
    {
     "data": {
      "application/vnd.jupyter.widget-view+json": {
       "model_id": "98397dc0b51745d0a257e1d7a5bb48de",
       "version_major": 2,
       "version_minor": 0
      },
      "text/plain": [
       "  0%|          | 0/963 [00:00<?, ?it/s]"
      ]
     },
     "metadata": {},
     "output_type": "display_data"
    },
    {
     "data": {
      "application/vnd.jupyter.widget-view+json": {
       "model_id": "3e0e6f231dca44fab04f00f50f0d8f79",
       "version_major": 2,
       "version_minor": 0
      },
      "text/plain": [
       "  0%|          | 0/138 [00:00<?, ?it/s]"
      ]
     },
     "metadata": {},
     "output_type": "display_data"
    },
    {
     "name": "stdout",
     "output_type": "stream",
     "text": [
      "Epoch [33/50]\n",
      "Training Loss: 0.0025, Val Loss: 0.0025\n",
      "Starting Epoch 34...\n"
     ]
    },
    {
     "data": {
      "application/vnd.jupyter.widget-view+json": {
       "model_id": "6445a9cb65264501b5e76acda62c924c",
       "version_major": 2,
       "version_minor": 0
      },
      "text/plain": [
       "  0%|          | 0/963 [00:00<?, ?it/s]"
      ]
     },
     "metadata": {},
     "output_type": "display_data"
    },
    {
     "data": {
      "application/vnd.jupyter.widget-view+json": {
       "model_id": "be5ec4018ddc4ef8909e66a5ff33d60a",
       "version_major": 2,
       "version_minor": 0
      },
      "text/plain": [
       "  0%|          | 0/138 [00:00<?, ?it/s]"
      ]
     },
     "metadata": {},
     "output_type": "display_data"
    },
    {
     "name": "stdout",
     "output_type": "stream",
     "text": [
      "Epoch [34/50]\n",
      "Training Loss: 0.0021, Val Loss: 0.0023\n",
      "Starting Epoch 35...\n"
     ]
    },
    {
     "data": {
      "application/vnd.jupyter.widget-view+json": {
       "model_id": "783eb17346d048df9c78973aada74e75",
       "version_major": 2,
       "version_minor": 0
      },
      "text/plain": [
       "  0%|          | 0/963 [00:00<?, ?it/s]"
      ]
     },
     "metadata": {},
     "output_type": "display_data"
    },
    {
     "data": {
      "application/vnd.jupyter.widget-view+json": {
       "model_id": "2b6a592bd13f45828945a1f1f020cb27",
       "version_major": 2,
       "version_minor": 0
      },
      "text/plain": [
       "  0%|          | 0/138 [00:00<?, ?it/s]"
      ]
     },
     "metadata": {},
     "output_type": "display_data"
    },
    {
     "name": "stdout",
     "output_type": "stream",
     "text": [
      "Epoch [35/50]\n",
      "Training Loss: 0.0016, Val Loss: 0.0022\n",
      "Starting Epoch 36...\n"
     ]
    },
    {
     "data": {
      "application/vnd.jupyter.widget-view+json": {
       "model_id": "485bef10cb88455f836ad117a74337fb",
       "version_major": 2,
       "version_minor": 0
      },
      "text/plain": [
       "  0%|          | 0/963 [00:00<?, ?it/s]"
      ]
     },
     "metadata": {},
     "output_type": "display_data"
    },
    {
     "data": {
      "application/vnd.jupyter.widget-view+json": {
       "model_id": "05a74a89b6e64f8da0a1755d6f5730fa",
       "version_major": 2,
       "version_minor": 0
      },
      "text/plain": [
       "  0%|          | 0/138 [00:00<?, ?it/s]"
      ]
     },
     "metadata": {},
     "output_type": "display_data"
    },
    {
     "name": "stdout",
     "output_type": "stream",
     "text": [
      "Epoch [36/50]\n",
      "Training Loss: 0.0019, Val Loss: 0.0021\n",
      "Starting Epoch 37...\n"
     ]
    },
    {
     "data": {
      "application/vnd.jupyter.widget-view+json": {
       "model_id": "7f97868348794fb5af3973063789107d",
       "version_major": 2,
       "version_minor": 0
      },
      "text/plain": [
       "  0%|          | 0/963 [00:00<?, ?it/s]"
      ]
     },
     "metadata": {},
     "output_type": "display_data"
    },
    {
     "data": {
      "application/vnd.jupyter.widget-view+json": {
       "model_id": "60215c79c4cd44908eac13ffee5e21dd",
       "version_major": 2,
       "version_minor": 0
      },
      "text/plain": [
       "  0%|          | 0/138 [00:00<?, ?it/s]"
      ]
     },
     "metadata": {},
     "output_type": "display_data"
    },
    {
     "name": "stdout",
     "output_type": "stream",
     "text": [
      "Epoch [37/50]\n",
      "Training Loss: 0.0018, Val Loss: 0.0023\n",
      "Starting Epoch 38...\n"
     ]
    },
    {
     "data": {
      "application/vnd.jupyter.widget-view+json": {
       "model_id": "b81f0cf73ed04a5bb724de3c00820c85",
       "version_major": 2,
       "version_minor": 0
      },
      "text/plain": [
       "  0%|          | 0/963 [00:00<?, ?it/s]"
      ]
     },
     "metadata": {},
     "output_type": "display_data"
    },
    {
     "data": {
      "application/vnd.jupyter.widget-view+json": {
       "model_id": "3461980d05974ccaaa0766b17c39272b",
       "version_major": 2,
       "version_minor": 0
      },
      "text/plain": [
       "  0%|          | 0/138 [00:00<?, ?it/s]"
      ]
     },
     "metadata": {},
     "output_type": "display_data"
    },
    {
     "name": "stdout",
     "output_type": "stream",
     "text": [
      "Epoch [38/50]\n",
      "Training Loss: 0.0030, Val Loss: 0.0022\n",
      "Starting Epoch 39...\n"
     ]
    },
    {
     "data": {
      "application/vnd.jupyter.widget-view+json": {
       "model_id": "b7f1723bd4664c8a84fbd194f4be88ac",
       "version_major": 2,
       "version_minor": 0
      },
      "text/plain": [
       "  0%|          | 0/963 [00:00<?, ?it/s]"
      ]
     },
     "metadata": {},
     "output_type": "display_data"
    },
    {
     "data": {
      "application/vnd.jupyter.widget-view+json": {
       "model_id": "299b0082e8e841f9ac3b6a8004257d8d",
       "version_major": 2,
       "version_minor": 0
      },
      "text/plain": [
       "  0%|          | 0/138 [00:00<?, ?it/s]"
      ]
     },
     "metadata": {},
     "output_type": "display_data"
    },
    {
     "name": "stdout",
     "output_type": "stream",
     "text": [
      "Epoch [39/50]\n",
      "Training Loss: 0.0020, Val Loss: 0.0021\n",
      "Starting Epoch 40...\n"
     ]
    },
    {
     "data": {
      "application/vnd.jupyter.widget-view+json": {
       "model_id": "18378050967a454eb6c92c1bdaca5f17",
       "version_major": 2,
       "version_minor": 0
      },
      "text/plain": [
       "  0%|          | 0/963 [00:00<?, ?it/s]"
      ]
     },
     "metadata": {},
     "output_type": "display_data"
    },
    {
     "data": {
      "application/vnd.jupyter.widget-view+json": {
       "model_id": "c6ab47b2f8134e78a3150b883bb2723a",
       "version_major": 2,
       "version_minor": 0
      },
      "text/plain": [
       "  0%|          | 0/138 [00:00<?, ?it/s]"
      ]
     },
     "metadata": {},
     "output_type": "display_data"
    },
    {
     "name": "stdout",
     "output_type": "stream",
     "text": [
      "Epoch [40/50]\n",
      "Training Loss: 0.0016, Val Loss: 0.0021\n",
      "Starting Epoch 41...\n"
     ]
    },
    {
     "data": {
      "application/vnd.jupyter.widget-view+json": {
       "model_id": "6768dec20b5c42faa592f3fa288598a9",
       "version_major": 2,
       "version_minor": 0
      },
      "text/plain": [
       "  0%|          | 0/963 [00:00<?, ?it/s]"
      ]
     },
     "metadata": {},
     "output_type": "display_data"
    },
    {
     "data": {
      "application/vnd.jupyter.widget-view+json": {
       "model_id": "8bb750cf78cc4a0cb3771fb1e1251e40",
       "version_major": 2,
       "version_minor": 0
      },
      "text/plain": [
       "  0%|          | 0/138 [00:00<?, ?it/s]"
      ]
     },
     "metadata": {},
     "output_type": "display_data"
    },
    {
     "name": "stdout",
     "output_type": "stream",
     "text": [
      "Epoch [41/50]\n",
      "Training Loss: 0.0015, Val Loss: 0.0020\n",
      "Starting Epoch 42...\n"
     ]
    },
    {
     "data": {
      "application/vnd.jupyter.widget-view+json": {
       "model_id": "bb44af25d15f44d9bb322d7eed1e0062",
       "version_major": 2,
       "version_minor": 0
      },
      "text/plain": [
       "  0%|          | 0/963 [00:00<?, ?it/s]"
      ]
     },
     "metadata": {},
     "output_type": "display_data"
    },
    {
     "data": {
      "application/vnd.jupyter.widget-view+json": {
       "model_id": "ec8290866ff3481e8f24e902fab6a9f4",
       "version_major": 2,
       "version_minor": 0
      },
      "text/plain": [
       "  0%|          | 0/138 [00:00<?, ?it/s]"
      ]
     },
     "metadata": {},
     "output_type": "display_data"
    },
    {
     "name": "stdout",
     "output_type": "stream",
     "text": [
      "Epoch [42/50]\n",
      "Training Loss: 0.0022, Val Loss: 0.0020\n",
      "Starting Epoch 43...\n"
     ]
    },
    {
     "data": {
      "application/vnd.jupyter.widget-view+json": {
       "model_id": "da97b52ae1ac409d802d10fa88a3322f",
       "version_major": 2,
       "version_minor": 0
      },
      "text/plain": [
       "  0%|          | 0/963 [00:00<?, ?it/s]"
      ]
     },
     "metadata": {},
     "output_type": "display_data"
    },
    {
     "data": {
      "application/vnd.jupyter.widget-view+json": {
       "model_id": "4a85f36220844fe9b46b8d50a11859f7",
       "version_major": 2,
       "version_minor": 0
      },
      "text/plain": [
       "  0%|          | 0/138 [00:00<?, ?it/s]"
      ]
     },
     "metadata": {},
     "output_type": "display_data"
    },
    {
     "name": "stdout",
     "output_type": "stream",
     "text": [
      "Epoch [43/50]\n",
      "Training Loss: 0.0016, Val Loss: 0.0022\n",
      "Starting Epoch 44...\n"
     ]
    },
    {
     "data": {
      "application/vnd.jupyter.widget-view+json": {
       "model_id": "c544449546b44e14abda1bcc00abe787",
       "version_major": 2,
       "version_minor": 0
      },
      "text/plain": [
       "  0%|          | 0/963 [00:00<?, ?it/s]"
      ]
     },
     "metadata": {},
     "output_type": "display_data"
    },
    {
     "data": {
      "application/vnd.jupyter.widget-view+json": {
       "model_id": "f6780d12f8d343cb816511c3c3da85ff",
       "version_major": 2,
       "version_minor": 0
      },
      "text/plain": [
       "  0%|          | 0/138 [00:00<?, ?it/s]"
      ]
     },
     "metadata": {},
     "output_type": "display_data"
    },
    {
     "name": "stdout",
     "output_type": "stream",
     "text": [
      "Epoch [44/50]\n",
      "Training Loss: 0.0021, Val Loss: 0.0019\n",
      "Starting Epoch 45...\n"
     ]
    },
    {
     "data": {
      "application/vnd.jupyter.widget-view+json": {
       "model_id": "c2432c71db5a4eec9f49d7d229ed7220",
       "version_major": 2,
       "version_minor": 0
      },
      "text/plain": [
       "  0%|          | 0/963 [00:00<?, ?it/s]"
      ]
     },
     "metadata": {},
     "output_type": "display_data"
    },
    {
     "data": {
      "application/vnd.jupyter.widget-view+json": {
       "model_id": "030257488e2f49609d2bc1d48c424501",
       "version_major": 2,
       "version_minor": 0
      },
      "text/plain": [
       "  0%|          | 0/138 [00:00<?, ?it/s]"
      ]
     },
     "metadata": {},
     "output_type": "display_data"
    },
    {
     "name": "stdout",
     "output_type": "stream",
     "text": [
      "Epoch [45/50]\n",
      "Training Loss: 0.0013, Val Loss: 0.0021\n",
      "Starting Epoch 46...\n"
     ]
    },
    {
     "data": {
      "application/vnd.jupyter.widget-view+json": {
       "model_id": "1cf1caad39d64d97b9147ddd0f75da86",
       "version_major": 2,
       "version_minor": 0
      },
      "text/plain": [
       "  0%|          | 0/963 [00:00<?, ?it/s]"
      ]
     },
     "metadata": {},
     "output_type": "display_data"
    },
    {
     "data": {
      "application/vnd.jupyter.widget-view+json": {
       "model_id": "29bc6bb9ee3a4bcf88cdbbcba7815c36",
       "version_major": 2,
       "version_minor": 0
      },
      "text/plain": [
       "  0%|          | 0/138 [00:00<?, ?it/s]"
      ]
     },
     "metadata": {},
     "output_type": "display_data"
    },
    {
     "name": "stdout",
     "output_type": "stream",
     "text": [
      "Epoch [46/50]\n",
      "Training Loss: 0.0027, Val Loss: 0.0019\n",
      "Starting Epoch 47...\n"
     ]
    },
    {
     "data": {
      "application/vnd.jupyter.widget-view+json": {
       "model_id": "63c7da99d7d64f62aa156a7578247fc2",
       "version_major": 2,
       "version_minor": 0
      },
      "text/plain": [
       "  0%|          | 0/963 [00:00<?, ?it/s]"
      ]
     },
     "metadata": {},
     "output_type": "display_data"
    },
    {
     "data": {
      "application/vnd.jupyter.widget-view+json": {
       "model_id": "5db0a7f8564c40a98401917be322292d",
       "version_major": 2,
       "version_minor": 0
      },
      "text/plain": [
       "  0%|          | 0/138 [00:00<?, ?it/s]"
      ]
     },
     "metadata": {},
     "output_type": "display_data"
    },
    {
     "name": "stdout",
     "output_type": "stream",
     "text": [
      "Epoch [47/50]\n",
      "Training Loss: 0.0015, Val Loss: 0.0021\n",
      "Starting Epoch 48...\n"
     ]
    },
    {
     "data": {
      "application/vnd.jupyter.widget-view+json": {
       "model_id": "99ae8da172094406b3353cd3d5877c5c",
       "version_major": 2,
       "version_minor": 0
      },
      "text/plain": [
       "  0%|          | 0/963 [00:00<?, ?it/s]"
      ]
     },
     "metadata": {},
     "output_type": "display_data"
    },
    {
     "data": {
      "application/vnd.jupyter.widget-view+json": {
       "model_id": "6c54ee79f26e4307801ad5de96434c00",
       "version_major": 2,
       "version_minor": 0
      },
      "text/plain": [
       "  0%|          | 0/138 [00:00<?, ?it/s]"
      ]
     },
     "metadata": {},
     "output_type": "display_data"
    },
    {
     "name": "stdout",
     "output_type": "stream",
     "text": [
      "Epoch [48/50]\n",
      "Training Loss: 0.0018, Val Loss: 0.0019\n",
      "Starting Epoch 49...\n"
     ]
    },
    {
     "data": {
      "application/vnd.jupyter.widget-view+json": {
       "model_id": "0245ad3cb4ee48cf895199699e101dfd",
       "version_major": 2,
       "version_minor": 0
      },
      "text/plain": [
       "  0%|          | 0/963 [00:00<?, ?it/s]"
      ]
     },
     "metadata": {},
     "output_type": "display_data"
    },
    {
     "data": {
      "application/vnd.jupyter.widget-view+json": {
       "model_id": "e6d5d30aec39459ea57f263014624639",
       "version_major": 2,
       "version_minor": 0
      },
      "text/plain": [
       "  0%|          | 0/138 [00:00<?, ?it/s]"
      ]
     },
     "metadata": {},
     "output_type": "display_data"
    },
    {
     "name": "stdout",
     "output_type": "stream",
     "text": [
      "Epoch [49/50]\n",
      "Training Loss: 0.0020, Val Loss: 0.0020\n",
      "Starting Epoch 50...\n"
     ]
    },
    {
     "data": {
      "application/vnd.jupyter.widget-view+json": {
       "model_id": "d0010522c15a4320a447fae6c72c2bb4",
       "version_major": 2,
       "version_minor": 0
      },
      "text/plain": [
       "  0%|          | 0/963 [00:00<?, ?it/s]"
      ]
     },
     "metadata": {},
     "output_type": "display_data"
    },
    {
     "data": {
      "application/vnd.jupyter.widget-view+json": {
       "model_id": "10eda9cfd6eb4443956d88535ab807d9",
       "version_major": 2,
       "version_minor": 0
      },
      "text/plain": [
       "  0%|          | 0/138 [00:00<?, ?it/s]"
      ]
     },
     "metadata": {},
     "output_type": "display_data"
    },
    {
     "name": "stdout",
     "output_type": "stream",
     "text": [
      "Epoch [50/50]\n",
      "Training Loss: 0.0018, Val Loss: 0.0019\n"
     ]
    },
    {
     "data": {
      "image/png": "[encoded data removed]",
      "text/plain": [
       "<Figure size 640x480 with 1 Axes>"
      ]
     },
     "metadata": {},
     "output_type": "display_data"
    },
    {
     "name": "stdout",
     "output_type": "stream",
     "text": [
      "Loading Encoder Model...\n",
      "Encoding Data...\n"
     ]
    },
    {
     "data": {
      "application/vnd.jupyter.widget-view+json": {
       "model_id": "d52d092b0ae141c2a82af0ec2dae8048",
       "version_major": 2,
       "version_minor": 0
      },
      "text/plain": [
       "  0%|          | 0/963 [00:00<?, ?it/s]"
      ]
     },
     "metadata": {},
     "output_type": "display_data"
    },
    {
     "name": "stdout",
     "output_type": "stream",
     "text": [
      "encoded_data.shape=torch.Size([15407, 360])\n",
      "labels.shape=torch.Size([15407, 1])\n",
      "Training SVM Classifier...\n",
      "Accuracy: 0.9081765087605451\n"
     ]
    }
   ],
   "source": [
    "### Hyperparameters ###\n",
    "tag = \"bi_lstm_run_1\"\n",
    "early_stop = True\n",
    "dropout_rate=0\n",
    "num_epochs=50\n",
    "lr_rate=1e-3\n",
    "\n",
    "### Streamlined training of model + SVM ###\n",
    "encoder_ver = f'{n_hidden}h{num_epochs}e{dropout_rate}dr{lr_rate}lr'\n",
    "train_losses, val_losses = train_model(encoder_ver, tag, early_stop, dropout_rate, num_epochs, lr_rate)\n",
    "plot_loss_graph(train_losses, val_losses, tag)\n",
    "encoded_data, labels = encode_data(tag, encoder_ver)\n",
    "svm_classifier = train_svm(encoded_data, labels.ravel(), tag, encoder_ver)"
   ]
  },
  {
   "cell_type": "code",
   "execution_count": 41,
   "metadata": {},
   "outputs": [],
   "source": [
    "### Test SVM + Encoder ###\n",
    "def test_model(tag, encoder_ver):\n",
    "    test_dataset = CustomDataset(\"test\", dataset_ver)\n",
    "    test_dataloader = DataLoader(test_dataset, batch_size=16, shuffle=True)\n",
    "\n",
    "    # Load the saved models\n",
    "    encoder = torch.load(f'ML_Models/{dataset_ver}_{encoder_ver}_{tag}_Autoencoder.pt')\n",
    "    encoder.eval()\n",
    "    with open(f'ML_Models/{dataset_ver}_{encoder_ver}_{tag}_svm_classifier.pkl', 'rb') as file:\n",
    "        svm_classifier = pickle.load(file)\n",
    "\n",
    "    test_encoded_data = []\n",
    "    test_labels = []\n",
    "\n",
    "    with torch.no_grad():\n",
    "        for batch in tqdm(test_dataloader):\n",
    "            X_batch, y_batch = batch\n",
    "            X = X_batch.to(device)\n",
    "            y = y_batch.to(device).reshape(-1, 1)\n",
    "\n",
    "            test_encoded_batch = encoder.encoder(X)\n",
    "            # print(encoded_batch.shape)\n",
    "            \n",
    "            ### for unidirectional LSTM ###\n",
    "            # encoded_batch = encoded_batch.reshape(encoded_batch.shape[1], encoded_batch.shape[2])\n",
    "            \n",
    "            ### bidirectional LSTM have hidden states in 2 dimensions ###\n",
    "            # h_1, h_2 = encoded_batch[0], encoded_batch[1]\n",
    "            # encoded_batch = torch.cat((h_1, h_2), 1)\n",
    "            \n",
    "            test_encoded_data.append(test_encoded_batch)\n",
    "            test_labels.append(y)\n",
    "\n",
    "        test_encoded_data = torch.cat(test_encoded_data, 0).cpu()\n",
    "        test_labels = torch.cat(test_labels, 0).cpu()   \n",
    "\n",
    "    print(f'{test_encoded_data.shape=}')\n",
    "    print(f'{test_labels.shape=}')\n",
    "\n",
    "    test_predictions = svm_classifier.predict(test_encoded_data)\n",
    "    print(f'{test_predictions.shape=}')\n",
    "    return test_labels, test_predictions"
   ]
  },
  {
   "cell_type": "code",
   "execution_count": 42,
   "metadata": {},
   "outputs": [],
   "source": [
    "def calculate_accuracy(test_labels, test_predictions, tag):\n",
    "    # Calculate accuracy score\n",
    "    accuracy = accuracy_score(test_labels, test_predictions)\n",
    "    accuracy_percentage = accuracy * 100\n",
    "    print(f\"Accuracy: {accuracy_percentage:.2f}%\")\n",
    "    with open(f\"logs/losses_{tag}.txt\", \"a\") as file:\n",
    "        file.write(f\"SVM Test Accuracy: {accuracy_percentage:.2f}%\\n\")\n",
    "\n",
    "\n",
    "    # Create a confusion matrix\n",
    "    cm = confusion_matrix(test_labels, test_predictions)\n",
    "\n",
    "    # Plot the confusion matrix as a heatmap\n",
    "    sns.heatmap(cm, annot=True, cmap='Blues')\n",
    "\n",
    "    # Add labels and title to the plot\n",
    "    plt.xlabel('Predicted Labels')\n",
    "    plt.ylabel('Actual Labels')\n",
    "    plt.title('Confusion Matrix')\n",
    "    plt.savefig(f'images/cm_{tag}.png')\n",
    "    plt.show()"
   ]
  },
  {
   "cell_type": "code",
   "execution_count": 43,
   "metadata": {},
   "outputs": [
    {
     "data": {
      "application/vnd.jupyter.widget-view+json": {
       "model_id": "4ac625ec8491449694388a11d2ca87e5",
       "version_major": 2,
       "version_minor": 0
      },
      "text/plain": [
       "  0%|          | 0/276 [00:00<?, ?it/s]"
      ]
     },
     "metadata": {},
     "output_type": "display_data"
    },
    {
     "name": "stdout",
     "output_type": "stream",
     "text": [
      "test_encoded_data.shape=torch.Size([4403, 360])\n",
      "test_labels.shape=torch.Size([4403, 1])\n",
      "test_predictions.shape=(4403,)\n",
      "Accuracy: 91.64%\n"
     ]
    },
    {
     "data": {
      "image/png": "[encoded data removed]",
      "text/plain": [
       "<Figure size 640x480 with 2 Axes>"
      ]
     },
     "metadata": {},
     "output_type": "display_data"
    },
    {
     "ename": "",
     "evalue": "",
     "output_type": "error",
     "traceback": [
      "\u001b[1;31mThe Kernel crashed while executing code in the current cell or a previous cell. \n",
      "\u001b[1;31mPlease review the code in the cell(s) to identify a possible cause of the failure. \n",
      "\u001b[1;31mClick <a href='https://aka.ms/vscodeJupyterKernelCrash'>here</a> for more info. \n",
      "\u001b[1;31mView Jupyter <a href='command:jupyter.viewOutput'>log</a> for further details."
     ]
    }
   ],
   "source": [
    "### Streamlined testing of model + SVM ###\n",
    "test_labels, test_predictions = test_model(tag, encoder_ver)\n",
    "calculate_accuracy(test_labels, test_predictions, tag)"
   ]
  },
  {
   "cell_type": "code",
   "execution_count": null,
   "metadata": {},
   "outputs": [],
   "source": []
  }
 ],
 "metadata": {
  "kernelspec": {
   "display_name": "cv",
   "language": "python",
   "name": "python3"
  },
  "language_info": {
   "codemirror_mode": {
    "name": "ipython",
    "version": 3
   },
   "file_extension": ".py",
   "mimetype": "text/x-python",
   "name": "python",
   "nbconvert_exporter": "python",
   "pygments_lexer": "ipython3",
   "version": "undefined.undefined.undefined"
  }
 },
 "nbformat": 4,
 "nbformat_minor": 2
}
