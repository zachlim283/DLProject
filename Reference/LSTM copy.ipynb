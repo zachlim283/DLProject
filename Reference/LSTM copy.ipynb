{
 "cells": [
  {
   "cell_type": "code",
   "execution_count": 9,
   "metadata": {},
   "outputs": [
    {
     "name": "stdout",
     "output_type": "stream",
     "text": [
      "cuda\n"
     ]
    }
   ],
   "source": [
    "import torch\n",
    "import pickle\n",
    "import numpy as np\n",
    "import seaborn as sns\n",
    "import matplotlib.pyplot as plt\n",
    "import torch.nn as nn\n",
    "import torch.optim as optim\n",
    "from torch.utils.data import DataLoader\n",
    "from tqdm.notebook import tqdm\n",
    "from sklearn import svm\n",
    "from sklearn.metrics import accuracy_score\n",
    "from sklearn.model_selection import train_test_split\n",
    "from sklearn.metrics import confusion_matrix\n",
    "\n",
    "if torch.cuda.is_available():\n",
    "    device = torch.device('cuda')\n",
    "elif torch.backends.mps.is_available():\n",
    "    device = torch.device(\"mps\") \n",
    "else:\n",
    "    device = torch.device(\"cpu\")\n",
    "print(device)"
   ]
  },
  {
   "cell_type": "code",
   "execution_count": 11,
   "metadata": {},
   "outputs": [],
   "source": [
    "### PARAMETERS ###\n",
    "dataset_ver = '3w05s_Larm'\n",
    "n_input = 9\n",
    "n_hidden = 360\n",
    "num_epochs = 20\n",
    "encoder_ver = f'{n_hidden}h{num_epochs}e'\n",
    "\n",
    "x_train = np.load(f'Generated_Datasets/train_data_{dataset_ver}.npy')\n",
    "x_val = np.load(f'Generated_Datasets/val_data_{dataset_ver}.npy')\n",
    "x_test = np.load(f'Generated_Datasets/test_data_{dataset_ver}.npy')\n",
    "\n",
    "y_train = np.load(f'Generated_Datasets/train_labels_{dataset_ver}.npy')\n",
    "y_val = np.load(f'Generated_Datasets/val_labels_{dataset_ver}.npy')\n",
    "y_test = np.load(f'Generated_Datasets/test_labels_{dataset_ver}.npy')"
   ]
  },
  {
   "cell_type": "code",
   "execution_count": 13,
   "metadata": {},
   "outputs": [
    {
     "name": "stdout",
     "output_type": "stream",
     "text": [
      "(15407, 60, 9)\n",
      "(2202, 60, 9)\n"
     ]
    }
   ],
   "source": [
    "print(x_train.shape)\n",
    "print(x_val.shape)"
   ]
  },
  {
   "cell_type": "code",
   "execution_count": 4,
   "metadata": {},
   "outputs": [
    {
     "name": "stdout",
     "output_type": "stream",
     "text": [
      "(15407,)\n"
     ]
    },
    {
     "data": {
      "image/png": "[encoded data removed]",
      "text/plain": [
       "<Figure size 640x480 with 1 Axes>"
      ]
     },
     "metadata": {},
     "output_type": "display_data"
    }
   ],
   "source": [
    "# Check Dataset\n",
    "labels = np.load('Generated_Datasets/train_labels_3w05s_Larm.npy')\n",
    "print(labels.shape)\n",
    "unique_labels, label_counts = np.unique(labels, return_counts=True)\n",
    "plt.bar(unique_labels, label_counts)\n",
    "plt.xlabel('Labels')\n",
    "plt.ylabel('Count')\n",
    "plt.title('Label Distribution')\n",
    "plt.show()"
   ]
  },
  {
   "cell_type": "code",
   "execution_count": 5,
   "metadata": {},
   "outputs": [],
   "source": [
    "class TrainDataset(torch.utils.data.Dataset):\n",
    "    def __init__(self, dataset_ver):\n",
    "        self.train_X = np.array(np.load(f'Generated_Datasets/train_data_{dataset_ver}.npy'))\n",
    "        self.train_y = np.array(np.load(f'Generated_Datasets/train_labels_{dataset_ver}.npy'))\n",
    "\n",
    "    def __len__(self):\n",
    "        return len(self.train_X)\n",
    "    \n",
    "    def __getitem__(self, idx):\n",
    "        X = torch.from_numpy(self.train_X[idx]).float()\n",
    "        y = torch.from_numpy(np.asarray(self.train_y[idx])).float()\n",
    "        return X, y\n",
    "\n",
    "class ValDataset(torch.utils.data.Dataset):\n",
    "    def __init__(self, dataset_ver):\n",
    "        self.val_X = np.array(np.load(f'Generated_Datasets/val_data_{dataset_ver}.npy'))\n",
    "        self.val_y = np.array(np.load(f'Generated_Datasets/val_labels_{dataset_ver}.npy'))\n",
    "\n",
    "    def __len__(self):\n",
    "        return len(self.val_X)\n",
    "    \n",
    "    def __getitem__(self, idx):\n",
    "        X = torch.from_numpy(self.val_X[idx]).float()\n",
    "        y = torch.from_numpy(np.asarray(self.val_y[idx])).float()\n",
    "        return X, y\n",
    "\n",
    "\n",
    "class TestDataset(torch.utils.data.Dataset):\n",
    "    def __init__(self, dataset_ver):\n",
    "        self.test_X = np.array(np.load(f'Generated_Datasets/test_data_{dataset_ver}.npy'))\n",
    "        self.test_y = np.array(np.load(f'Generated_Datasets/test_labels_{dataset_ver}.npy'))\n",
    "\n",
    "    def __len__(self):\n",
    "        return len(self.test_X)\n",
    "    \n",
    "    def __getitem__(self, idx):\n",
    "        X = torch.from_numpy(self.test_X[idx]).float()\n",
    "        y = torch.from_numpy(np.asarray(self.test_y[idx])).float()\n",
    "        return X, y"
   ]
  },
  {
   "cell_type": "code",
   "execution_count": 6,
   "metadata": {},
   "outputs": [
    {
     "name": "stdout",
     "output_type": "stream",
     "text": [
      "Autoencoder(\n",
      "  (encoder): Encoder(\n",
      "    (LSTM1): LSTM(9, 720, batch_first=True)\n",
      "    (LSTM2): LSTM(720, 360, batch_first=True)\n",
      "  )\n",
      "  (decoder): Decoder(\n",
      "    (LSTM1): LSTM(360, 360, batch_first=True)\n",
      "    (LSTM2): LSTM(360, 720, batch_first=True)\n",
      "    (output): Linear(in_features=720, out_features=9, bias=True)\n",
      "  )\n",
      "  (loss): MSELoss()\n",
      ")\n"
     ]
    }
   ],
   "source": [
    "# Unidirectional LSTM\n",
    "class Encoder(nn.Module):\n",
    "    def __init__(self, input_size, hidden_size):\n",
    "        super(Encoder, self).__init__()\n",
    "        self.LSTM1 = nn.LSTM(input_size=input_size, hidden_size=hidden_size*2, batch_first=True)\n",
    "        self.LSTM2 = nn.LSTM(input_size=2*hidden_size, hidden_size=hidden_size, batch_first=True)\n",
    "\n",
    "    def forward(self, x):\n",
    "        x, (_, _) = self.LSTM1(x)\n",
    "        x, (encoded_x, _) = self.LSTM2(x)\n",
    "        return encoded_x[-1,:,:]\n",
    "\n",
    "\n",
    "class Decoder(nn.Module):\n",
    "    def __init__(self, hidden_size, output_size):\n",
    "        super(Decoder, self).__init__()\n",
    "        self.hidden_size = hidden_size\n",
    "        self.LSTM1 = nn.LSTM(input_size=hidden_size, hidden_size=hidden_size, batch_first=True)\n",
    "        self.LSTM2 = nn.LSTM(input_size=hidden_size, hidden_size=hidden_size*2, batch_first=True)\n",
    "        self.output = nn.Linear(self.hidden_size*2, output_size)\n",
    "\n",
    "    def forward(self, x):\n",
    "        # x = x.repeat(60, 1, 1)\n",
    "        # x = x.reshape(x.shape[1], 60, self.hidden_size)\n",
    "        x = x.unsqueeze(1).repeat(1, 60, 1)\n",
    "        x, (_, _) = self.LSTM1(x)\n",
    "        x, (_, _) = self.LSTM2(x)\n",
    "        x = self.output(x)\n",
    "        return x\n",
    "\n",
    "\n",
    "class Autoencoder(nn.Module):\n",
    "    def __init__(self, in_out_size, hidden_size):\n",
    "        super(Autoencoder, self).__init__()\n",
    "        self.encoder = Encoder(in_out_size, hidden_size).to(device)\n",
    "        self.decoder = Decoder(hidden_size, in_out_size).to(device)\n",
    "\n",
    "        self.loss = nn.MSELoss()\n",
    "\n",
    "    def forward(self, x):\n",
    "        x = self.encoder(x)\n",
    "        x = self.decoder(x)\n",
    "        return x\n",
    "    \n",
    "autoencoder = Autoencoder(n_input, n_hidden).to(device)\n",
    "print(autoencoder)"
   ]
  },
  {
   "cell_type": "code",
   "execution_count": 43,
   "metadata": {},
   "outputs": [],
   "source": [
    "# Bidirectional LSTM\n",
    "class Encoder(nn.Module):\n",
    "    def __init__(self, input_size, hidden_size):\n",
    "        super(Encoder, self).__init__()\n",
    "        self.LSTM1 = nn.LSTM(input_size=input_size, hidden_size=hidden_size, batch_first=True, bidirectional=True)\n",
    "        self.dropout = nn.Dropout(0.5)\n",
    "        self.LSTM2 = nn.LSTM(input_size=2*hidden_size, hidden_size=hidden_size//2, batch_first=True, bidirectional=True)\n",
    "\n",
    "    def forward(self, x):\n",
    "        x, (_, _) = self.LSTM1(x)\n",
    "        x = self.dropout(x)\n",
    "        x, (encoded_x, _) = self.LSTM2(x)\n",
    "        print(\"Final Encoded: \", encoded_x.shape)\n",
    "        return encoded_x\n",
    "\n",
    "\n",
    "class Decoder(nn.Module):\n",
    "    def __init__(self, hidden_size, output_size):\n",
    "        super(Decoder, self).__init__()\n",
    "        self.hidden_size = hidden_size\n",
    "        self.LSTM1 = nn.LSTM(input_size=hidden_size, hidden_size=hidden_size, batch_first=True, bidirectional=True)\n",
    "        self.dropout = nn.Dropout(0.5)\n",
    "        self.LSTM2 = nn.LSTM(input_size=2*hidden_size, hidden_size=output_size//2, batch_first=True, bidirectional=True)\n",
    "\n",
    "    def forward(self, x):\n",
    "        print(\"Decoder x: \", x.shape)\n",
    "        x = x.repeat(60, 1, 1)\n",
    "        x = x.reshape(x.shape[1], 60, self.hidden_size)\n",
    "        print(\"Reshaped Decoder x: \", x.shape)\n",
    "        x, (_, _) = self.LSTM1(x)\n",
    "        x = self.dropout(x)\n",
    "        x, (_, _) = self.LSTM2(x)\n",
    "        return x\n",
    "\n",
    "\n",
    "class Autoencoder(nn.Module):\n",
    "    def __init__(self, in_out_size, hidden_size):\n",
    "        super(Autoencoder, self).__init__()\n",
    "        self.encoder = Encoder(in_out_size, hidden_size).to(device)\n",
    "        self.decoder = Decoder(hidden_size, in_out_size).to(device)\n",
    "\n",
    "        self.loss = nn.MSELoss()\n",
    "\n",
    "    def forward(self, x):\n",
    "        x = self.encoder(x)\n",
    "        x = self.decoder(x)\n",
    "        return x"
   ]
  },
  {
   "cell_type": "code",
   "execution_count": 71,
   "metadata": {},
   "outputs": [],
   "source": [
    "# Bidirectional LSTM\n",
    "class Encoder(nn.Module):\n",
    "    def __init__(self, input_size, hidden_size, layer_size, dropout, bidirectional):\n",
    "        super(Encoder, self).__init__()\n",
    "        self.hidden_size = hidden_size\n",
    "        self.LSTM = nn.LSTM(input_size=input_size, \n",
    "                            hidden_size=hidden_size, \n",
    "                            num_layers=layer_size,\n",
    "                            dropout=dropout,\n",
    "                            batch_first=True, \n",
    "                            bidirectional=bidirectional)\n",
    "    def forward(self, x):\n",
    "        x, (encoded_x, _) = self.LSTM(x)    # (layers, batch_size, hidden_size)\n",
    "        # print(\"Encoded: \", encoded_x.shape)\n",
    "        encoded_x = encoded_x[-1, :, :].view(-1, self.hidden_size)\n",
    "        # encoded_x = encoded_x[-1, :, :].unsqueeze(0)     \n",
    "        # print(\"Final Encoded: \", encoded_x.shape)\n",
    "        return encoded_x\n",
    "\n",
    "\n",
    "class Decoder(nn.Module):\n",
    "    def __init__(self, hidden_size, output_size, layer_size, dropout, bidirectional):\n",
    "        super(Decoder, self).__init__()\n",
    "        self.hidden_size = hidden_size\n",
    "        self.bidirectional = bidirectional\n",
    "        self.layer_size = layer_size\n",
    "        self.LSTM = nn.LSTM(input_size=hidden_size, \n",
    "                    hidden_size=hidden_size, \n",
    "                    num_layers=layer_size,\n",
    "                    dropout=dropout,\n",
    "                    batch_first=True, \n",
    "                    bidirectional=bidirectional)\n",
    "        self.output_layer = nn.Linear(hidden_size, output_size)\n",
    "    \n",
    "    def forward(self, x):\n",
    "        # print(\"Decoder x: \", x.shape)\n",
    "        x = x.repeat(60, 1, 1)\n",
    "        x = x.reshape(x.shape[1], 60, self.hidden_size)\n",
    "        x, (_, _) = self.LSTM(x)\n",
    "        # print(x.shape, self.hidden_size)\n",
    "        return x\n",
    "\n",
    "class LSTM(nn.Module):\n",
    "    def __init__(self,  input_size, hidden_size, layer_size, dropout, bidirectional=True):\n",
    "        super(LSTM, self).__init__()\n",
    "        self.encoder = Encoder(input_size, hidden_size, layer_size, dropout, bidirectional).to(device)\n",
    "        self.decoder = Decoder(hidden_size, input_size, layer_size, dropout, bidirectional).to(device)\n",
    "\n",
    "        self.loss = nn.MSELoss()\n",
    "\n",
    "    def forward(self, x):\n",
    "        x = self.encoder(x)\n",
    "        x = self.decoder(x)\n",
    "        return x"
   ]
  },
  {
   "cell_type": "code",
   "execution_count": 49,
   "metadata": {},
   "outputs": [
    {
     "name": "stdout",
     "output_type": "stream",
     "text": [
      "DANA(\n",
      "  (conv): Conv1d(9, 64, kernel_size=(3,), stride=(1,), padding=(1,))\n",
      "  (relu): ReLU()\n",
      "  (lstm): LSTM(64, 512, batch_first=True, bidirectional=True)\n",
      "  (fc1): Linear(in_features=1024, out_features=128, bias=True)\n",
      "  (dropout): Dropout(p=0.5, inplace=False)\n",
      "  (fc2): Linear(in_features=128, out_features=9, bias=True)\n",
      "  (loss): MSELoss()\n",
      ")\n"
     ]
    }
   ],
   "source": [
    "# RNN\n",
    "class DANA(nn.Module):\n",
    "    def __init__(self, inp_shape, out_shape):\n",
    "        super(DANA, self).__init__()\n",
    "        nb_filters = 64\n",
    "        drp_out_dns = 0.5\n",
    "        nb_dense = 512\n",
    "        nb_dropout = 128\n",
    "\n",
    "        self.conv = nn.Conv1d(inp_shape, nb_filters, kernel_size=3, padding=1)\n",
    "        self.relu = nn.ReLU()\n",
    "        self.lstm = nn.LSTM(nb_filters, nb_dense, batch_first=True, bidirectional=True)\n",
    "        self.fc1 = nn.Linear(nb_dense*2, nb_dropout)\n",
    "        self.dropout = nn.Dropout(drp_out_dns)\n",
    "        self.fc2 = nn.Linear(nb_dropout, out_shape)\n",
    "\n",
    "        self.loss = nn.MSELoss()\n",
    "\n",
    "    def forward(self, x):\n",
    "        x = x.permute(0, 2, 1)  # conv = (batch, no of channels, sequence length)\n",
    "        x = self.conv(x)\n",
    "        x = self.relu(x)\n",
    "        # print(\"CONV:\", x.shape)\n",
    "        x = x.permute(0, 2, 1)\n",
    "        # print(x.shape)\n",
    "        x, _ = self.lstm(x) # lstm = (batch, seq length, input_size)\n",
    "        x = x[:, -1]\n",
    "        # print(\"LSTM:\",x.shape)\n",
    "        x = self.fc1(x)\n",
    "        # print(\"Linear1:\",x.shape)\n",
    "        x = self.dropout(x)\n",
    "        x = self.fc2(x)\n",
    "        # print(\"Linear2:\",x.shape)\n",
    "\n",
    "        return x\n",
    "\n",
    "autoencoder = DANA(n_input, n_input).to(device)\n",
    "print(autoencoder)"
   ]
  },
  {
   "cell_type": "code",
   "execution_count": 14,
   "metadata": {},
   "outputs": [
    {
     "name": "stdout",
     "output_type": "stream",
     "text": [
      "Autoencoder(\n",
      "  (encoder): Encoder(\n",
      "    (LSTM1): LSTM(9, 720, batch_first=True)\n",
      "    (LSTM2): LSTM(720, 360, batch_first=True)\n",
      "  )\n",
      "  (decoder): Decoder(\n",
      "    (LSTM1): LSTM(360, 360, batch_first=True)\n",
      "    (LSTM2): LSTM(360, 720, batch_first=True)\n",
      "    (output): Linear(in_features=720, out_features=9, bias=True)\n",
      "  )\n",
      "  (loss): MSELoss()\n",
      ")\n",
      "Starting Epoch 1...\n"
     ]
    },
    {
     "data": {
      "application/vnd.jupyter.widget-view+json": {
       "model_id": "d995c4f4597e44e6b7a5092fad07c81c",
       "version_major": 2,
       "version_minor": 0
      },
      "text/plain": [
       "  0%|          | 0/963 [00:00<?, ?it/s]"
      ]
     },
     "metadata": {},
     "output_type": "display_data"
    },
    {
     "data": {
      "application/vnd.jupyter.widget-view+json": {
       "model_id": "85247398c24a4e0884d2fba5a0d429b0",
       "version_major": 2,
       "version_minor": 0
      },
      "text/plain": [
       "  0%|          | 0/138 [00:00<?, ?it/s]"
      ]
     },
     "metadata": {},
     "output_type": "display_data"
    },
    {
     "name": "stdout",
     "output_type": "stream",
     "text": [
      "Epoch [1/20]\n",
      "Training Loss: 0.0380, Val Loss: 0.0345\n",
      "Starting Epoch 2...\n"
     ]
    },
    {
     "data": {
      "application/vnd.jupyter.widget-view+json": {
       "model_id": "4f672ab1603d4b9ebb92ad043cee7ca7",
       "version_major": 2,
       "version_minor": 0
      },
      "text/plain": [
       "  0%|          | 0/963 [00:00<?, ?it/s]"
      ]
     },
     "metadata": {},
     "output_type": "display_data"
    },
    {
     "data": {
      "application/vnd.jupyter.widget-view+json": {
       "model_id": "8d616f33083340dd97a8dde620a2a45d",
       "version_major": 2,
       "version_minor": 0
      },
      "text/plain": [
       "  0%|          | 0/138 [00:00<?, ?it/s]"
      ]
     },
     "metadata": {},
     "output_type": "display_data"
    },
    {
     "name": "stdout",
     "output_type": "stream",
     "text": [
      "Epoch [2/20]\n",
      "Training Loss: 0.0269, Val Loss: 0.0282\n",
      "Starting Epoch 3...\n"
     ]
    },
    {
     "data": {
      "application/vnd.jupyter.widget-view+json": {
       "model_id": "5702f46fba4a4ef393915d1dc5c5ff2d",
       "version_major": 2,
       "version_minor": 0
      },
      "text/plain": [
       "  0%|          | 0/963 [00:00<?, ?it/s]"
      ]
     },
     "metadata": {},
     "output_type": "display_data"
    },
    {
     "data": {
      "application/vnd.jupyter.widget-view+json": {
       "model_id": "e09e77cdeeb641f0a14e23929e4fa677",
       "version_major": 2,
       "version_minor": 0
      },
      "text/plain": [
       "  0%|          | 0/138 [00:00<?, ?it/s]"
      ]
     },
     "metadata": {},
     "output_type": "display_data"
    },
    {
     "name": "stdout",
     "output_type": "stream",
     "text": [
      "Epoch [3/20]\n",
      "Training Loss: 0.0133, Val Loss: 0.0128\n",
      "Starting Epoch 4...\n"
     ]
    },
    {
     "data": {
      "application/vnd.jupyter.widget-view+json": {
       "model_id": "b0f2d990e5714ce19a5d6968f548b59e",
       "version_major": 2,
       "version_minor": 0
      },
      "text/plain": [
       "  0%|          | 0/963 [00:00<?, ?it/s]"
      ]
     },
     "metadata": {},
     "output_type": "display_data"
    },
    {
     "data": {
      "application/vnd.jupyter.widget-view+json": {
       "model_id": "540c49e86aba4a3aa97165ab0afbf99d",
       "version_major": 2,
       "version_minor": 0
      },
      "text/plain": [
       "  0%|          | 0/138 [00:00<?, ?it/s]"
      ]
     },
     "metadata": {},
     "output_type": "display_data"
    },
    {
     "name": "stdout",
     "output_type": "stream",
     "text": [
      "Epoch [4/20]\n",
      "Training Loss: 0.0101, Val Loss: 0.0098\n",
      "Starting Epoch 5...\n"
     ]
    },
    {
     "data": {
      "application/vnd.jupyter.widget-view+json": {
       "model_id": "2ff108195e2a40e29053c8063ff37ecd",
       "version_major": 2,
       "version_minor": 0
      },
      "text/plain": [
       "  0%|          | 0/963 [00:00<?, ?it/s]"
      ]
     },
     "metadata": {},
     "output_type": "display_data"
    },
    {
     "data": {
      "application/vnd.jupyter.widget-view+json": {
       "model_id": "a0070a5eae39485390064aee2d30fb0e",
       "version_major": 2,
       "version_minor": 0
      },
      "text/plain": [
       "  0%|          | 0/138 [00:00<?, ?it/s]"
      ]
     },
     "metadata": {},
     "output_type": "display_data"
    },
    {
     "name": "stdout",
     "output_type": "stream",
     "text": [
      "Epoch [5/20]\n",
      "Training Loss: 0.0086, Val Loss: 0.0077\n",
      "Starting Epoch 6...\n"
     ]
    },
    {
     "data": {
      "application/vnd.jupyter.widget-view+json": {
       "model_id": "334ed536756f457080d6cfd46e434e2c",
       "version_major": 2,
       "version_minor": 0
      },
      "text/plain": [
       "  0%|          | 0/963 [00:00<?, ?it/s]"
      ]
     },
     "metadata": {},
     "output_type": "display_data"
    },
    {
     "data": {
      "application/vnd.jupyter.widget-view+json": {
       "model_id": "8c4d4bd81ea04cc5b74bb87b527490c9",
       "version_major": 2,
       "version_minor": 0
      },
      "text/plain": [
       "  0%|          | 0/138 [00:00<?, ?it/s]"
      ]
     },
     "metadata": {},
     "output_type": "display_data"
    },
    {
     "name": "stdout",
     "output_type": "stream",
     "text": [
      "Epoch [6/20]\n",
      "Training Loss: 0.0070, Val Loss: 0.0075\n",
      "Starting Epoch 7...\n"
     ]
    },
    {
     "data": {
      "application/vnd.jupyter.widget-view+json": {
       "model_id": "01093033736441dbb87f93f4b9b84104",
       "version_major": 2,
       "version_minor": 0
      },
      "text/plain": [
       "  0%|          | 0/963 [00:00<?, ?it/s]"
      ]
     },
     "metadata": {},
     "output_type": "display_data"
    },
    {
     "data": {
      "application/vnd.jupyter.widget-view+json": {
       "model_id": "6fe906bef2c048cbb5665681a3df233f",
       "version_major": 2,
       "version_minor": 0
      },
      "text/plain": [
       "  0%|          | 0/138 [00:00<?, ?it/s]"
      ]
     },
     "metadata": {},
     "output_type": "display_data"
    },
    {
     "name": "stdout",
     "output_type": "stream",
     "text": [
      "Epoch [7/20]\n",
      "Training Loss: 0.0083, Val Loss: 0.0064\n",
      "Starting Epoch 8...\n"
     ]
    },
    {
     "data": {
      "application/vnd.jupyter.widget-view+json": {
       "model_id": "2cc5e1dd1e9f4c3ba3b7c717df5d48c7",
       "version_major": 2,
       "version_minor": 0
      },
      "text/plain": [
       "  0%|          | 0/963 [00:00<?, ?it/s]"
      ]
     },
     "metadata": {},
     "output_type": "display_data"
    },
    {
     "data": {
      "application/vnd.jupyter.widget-view+json": {
       "model_id": "81ebd17bef6c45baaa3a3af8ed647bf4",
       "version_major": 2,
       "version_minor": 0
      },
      "text/plain": [
       "  0%|          | 0/138 [00:00<?, ?it/s]"
      ]
     },
     "metadata": {},
     "output_type": "display_data"
    },
    {
     "name": "stdout",
     "output_type": "stream",
     "text": [
      "Epoch [8/20]\n",
      "Training Loss: 0.0059, Val Loss: 0.0060\n",
      "Starting Epoch 9...\n"
     ]
    },
    {
     "data": {
      "application/vnd.jupyter.widget-view+json": {
       "model_id": "2add82599bc34330bcf55e5a8bb729c2",
       "version_major": 2,
       "version_minor": 0
      },
      "text/plain": [
       "  0%|          | 0/963 [00:00<?, ?it/s]"
      ]
     },
     "metadata": {},
     "output_type": "display_data"
    },
    {
     "data": {
      "application/vnd.jupyter.widget-view+json": {
       "model_id": "072059e533f44f848495a3da4c029ccf",
       "version_major": 2,
       "version_minor": 0
      },
      "text/plain": [
       "  0%|          | 0/138 [00:00<?, ?it/s]"
      ]
     },
     "metadata": {},
     "output_type": "display_data"
    },
    {
     "name": "stdout",
     "output_type": "stream",
     "text": [
      "Epoch [9/20]\n",
      "Training Loss: 0.0043, Val Loss: 0.0058\n",
      "Starting Epoch 10...\n"
     ]
    },
    {
     "data": {
      "application/vnd.jupyter.widget-view+json": {
       "model_id": "bed6a9d099284e5bab2386c7dcdd9357",
       "version_major": 2,
       "version_minor": 0
      },
      "text/plain": [
       "  0%|          | 0/963 [00:00<?, ?it/s]"
      ]
     },
     "metadata": {},
     "output_type": "display_data"
    },
    {
     "data": {
      "application/vnd.jupyter.widget-view+json": {
       "model_id": "d0d76e76b8a34201a2426c259d35686d",
       "version_major": 2,
       "version_minor": 0
      },
      "text/plain": [
       "  0%|          | 0/138 [00:00<?, ?it/s]"
      ]
     },
     "metadata": {},
     "output_type": "display_data"
    },
    {
     "name": "stdout",
     "output_type": "stream",
     "text": [
      "Epoch [10/20]\n",
      "Training Loss: 0.0045, Val Loss: 0.0047\n",
      "Starting Epoch 11...\n"
     ]
    },
    {
     "data": {
      "application/vnd.jupyter.widget-view+json": {
       "model_id": "0d5da80b488740759b9c7ffa20c61a5e",
       "version_major": 2,
       "version_minor": 0
      },
      "text/plain": [
       "  0%|          | 0/963 [00:00<?, ?it/s]"
      ]
     },
     "metadata": {},
     "output_type": "display_data"
    },
    {
     "data": {
      "application/vnd.jupyter.widget-view+json": {
       "model_id": "4de44fbd26804dd1861d2f30757bc262",
       "version_major": 2,
       "version_minor": 0
      },
      "text/plain": [
       "  0%|          | 0/138 [00:00<?, ?it/s]"
      ]
     },
     "metadata": {},
     "output_type": "display_data"
    },
    {
     "name": "stdout",
     "output_type": "stream",
     "text": [
      "Epoch [11/20]\n",
      "Training Loss: 0.0052, Val Loss: 0.0056\n",
      "Starting Epoch 12...\n"
     ]
    },
    {
     "data": {
      "application/vnd.jupyter.widget-view+json": {
       "model_id": "02ff466599db497bbddafecd112d53b0",
       "version_major": 2,
       "version_minor": 0
      },
      "text/plain": [
       "  0%|          | 0/963 [00:00<?, ?it/s]"
      ]
     },
     "metadata": {},
     "output_type": "display_data"
    },
    {
     "data": {
      "application/vnd.jupyter.widget-view+json": {
       "model_id": "547babae05064d708dff508d9ed47132",
       "version_major": 2,
       "version_minor": 0
      },
      "text/plain": [
       "  0%|          | 0/138 [00:00<?, ?it/s]"
      ]
     },
     "metadata": {},
     "output_type": "display_data"
    },
    {
     "name": "stdout",
     "output_type": "stream",
     "text": [
      "Epoch [12/20]\n",
      "Training Loss: 0.0051, Val Loss: 0.0046\n",
      "Starting Epoch 13...\n"
     ]
    },
    {
     "data": {
      "application/vnd.jupyter.widget-view+json": {
       "model_id": "d124a8586b6d48609560a8b566d7d9b5",
       "version_major": 2,
       "version_minor": 0
      },
      "text/plain": [
       "  0%|          | 0/963 [00:00<?, ?it/s]"
      ]
     },
     "metadata": {},
     "output_type": "display_data"
    },
    {
     "data": {
      "application/vnd.jupyter.widget-view+json": {
       "model_id": "7b01a1bc279f40a48996baf94f89d037",
       "version_major": 2,
       "version_minor": 0
      },
      "text/plain": [
       "  0%|          | 0/138 [00:00<?, ?it/s]"
      ]
     },
     "metadata": {},
     "output_type": "display_data"
    },
    {
     "name": "stdout",
     "output_type": "stream",
     "text": [
      "Epoch [13/20]\n",
      "Training Loss: 0.0053, Val Loss: 0.0042\n",
      "Starting Epoch 14...\n"
     ]
    },
    {
     "data": {
      "application/vnd.jupyter.widget-view+json": {
       "model_id": "00e54f77ab7c47059bb410a65351a433",
       "version_major": 2,
       "version_minor": 0
      },
      "text/plain": [
       "  0%|          | 0/963 [00:00<?, ?it/s]"
      ]
     },
     "metadata": {},
     "output_type": "display_data"
    },
    {
     "data": {
      "application/vnd.jupyter.widget-view+json": {
       "model_id": "ca494c225b8e48e7b3484015d3fc794b",
       "version_major": 2,
       "version_minor": 0
      },
      "text/plain": [
       "  0%|          | 0/138 [00:00<?, ?it/s]"
      ]
     },
     "metadata": {},
     "output_type": "display_data"
    },
    {
     "name": "stdout",
     "output_type": "stream",
     "text": [
      "Epoch [14/20]\n",
      "Training Loss: 0.0051, Val Loss: 0.0046\n",
      "Starting Epoch 15...\n"
     ]
    },
    {
     "data": {
      "application/vnd.jupyter.widget-view+json": {
       "model_id": "40cc05216e2a4defb601c620c69ff4da",
       "version_major": 2,
       "version_minor": 0
      },
      "text/plain": [
       "  0%|          | 0/963 [00:00<?, ?it/s]"
      ]
     },
     "metadata": {},
     "output_type": "display_data"
    },
    {
     "data": {
      "application/vnd.jupyter.widget-view+json": {
       "model_id": "9139c93f415b4abe8e0754c4edb25927",
       "version_major": 2,
       "version_minor": 0
      },
      "text/plain": [
       "  0%|          | 0/138 [00:00<?, ?it/s]"
      ]
     },
     "metadata": {},
     "output_type": "display_data"
    },
    {
     "name": "stdout",
     "output_type": "stream",
     "text": [
      "Epoch [15/20]\n",
      "Training Loss: 0.0031, Val Loss: 0.0040\n",
      "Starting Epoch 16...\n"
     ]
    },
    {
     "data": {
      "application/vnd.jupyter.widget-view+json": {
       "model_id": "e296ee7ce1054c16be8a1ac31c469534",
       "version_major": 2,
       "version_minor": 0
      },
      "text/plain": [
       "  0%|          | 0/963 [00:00<?, ?it/s]"
      ]
     },
     "metadata": {},
     "output_type": "display_data"
    },
    {
     "data": {
      "application/vnd.jupyter.widget-view+json": {
       "model_id": "70e88fc586244b5dac3f24851f6bc026",
       "version_major": 2,
       "version_minor": 0
      },
      "text/plain": [
       "  0%|          | 0/138 [00:00<?, ?it/s]"
      ]
     },
     "metadata": {},
     "output_type": "display_data"
    },
    {
     "name": "stdout",
     "output_type": "stream",
     "text": [
      "Epoch [16/20]\n",
      "Training Loss: 0.0033, Val Loss: 0.0037\n",
      "Starting Epoch 17...\n"
     ]
    },
    {
     "data": {
      "application/vnd.jupyter.widget-view+json": {
       "model_id": "9e2c5812394640479dcafdd6f246f7bc",
       "version_major": 2,
       "version_minor": 0
      },
      "text/plain": [
       "  0%|          | 0/963 [00:00<?, ?it/s]"
      ]
     },
     "metadata": {},
     "output_type": "display_data"
    },
    {
     "data": {
      "application/vnd.jupyter.widget-view+json": {
       "model_id": "6e7cb5575fce4bfcbd6b81338c083d7a",
       "version_major": 2,
       "version_minor": 0
      },
      "text/plain": [
       "  0%|          | 0/138 [00:00<?, ?it/s]"
      ]
     },
     "metadata": {},
     "output_type": "display_data"
    },
    {
     "name": "stdout",
     "output_type": "stream",
     "text": [
      "Epoch [17/20]\n",
      "Training Loss: 0.0024, Val Loss: 0.0038\n",
      "Starting Epoch 18...\n"
     ]
    },
    {
     "data": {
      "application/vnd.jupyter.widget-view+json": {
       "model_id": "c9f9188de1c14a7387e49bcd30e850ef",
       "version_major": 2,
       "version_minor": 0
      },
      "text/plain": [
       "  0%|          | 0/963 [00:00<?, ?it/s]"
      ]
     },
     "metadata": {},
     "output_type": "display_data"
    },
    {
     "data": {
      "application/vnd.jupyter.widget-view+json": {
       "model_id": "24049c804bad4e368f2bd03ac4c2264c",
       "version_major": 2,
       "version_minor": 0
      },
      "text/plain": [
       "  0%|          | 0/138 [00:00<?, ?it/s]"
      ]
     },
     "metadata": {},
     "output_type": "display_data"
    },
    {
     "name": "stdout",
     "output_type": "stream",
     "text": [
      "Epoch [18/20]\n",
      "Training Loss: 0.0033, Val Loss: 0.0037\n",
      "Starting Epoch 19...\n"
     ]
    },
    {
     "data": {
      "application/vnd.jupyter.widget-view+json": {
       "model_id": "6d2018a7fb2f4152834e70a42faf6191",
       "version_major": 2,
       "version_minor": 0
      },
      "text/plain": [
       "  0%|          | 0/963 [00:00<?, ?it/s]"
      ]
     },
     "metadata": {},
     "output_type": "display_data"
    },
    {
     "data": {
      "application/vnd.jupyter.widget-view+json": {
       "model_id": "c9db7c302d5b4e7595155ca02f4ac8a3",
       "version_major": 2,
       "version_minor": 0
      },
      "text/plain": [
       "  0%|          | 0/138 [00:00<?, ?it/s]"
      ]
     },
     "metadata": {},
     "output_type": "display_data"
    },
    {
     "name": "stdout",
     "output_type": "stream",
     "text": [
      "Epoch [19/20]\n",
      "Training Loss: 0.0027, Val Loss: 0.0035\n",
      "Starting Epoch 20...\n"
     ]
    },
    {
     "data": {
      "application/vnd.jupyter.widget-view+json": {
       "model_id": "b9ee132cee084893bbe9f35ed2e2399a",
       "version_major": 2,
       "version_minor": 0
      },
      "text/plain": [
       "  0%|          | 0/963 [00:00<?, ?it/s]"
      ]
     },
     "metadata": {},
     "output_type": "display_data"
    },
    {
     "data": {
      "application/vnd.jupyter.widget-view+json": {
       "model_id": "75b7ecb8843045e588bbbf4c9041550d",
       "version_major": 2,
       "version_minor": 0
      },
      "text/plain": [
       "  0%|          | 0/138 [00:00<?, ?it/s]"
      ]
     },
     "metadata": {},
     "output_type": "display_data"
    },
    {
     "name": "stdout",
     "output_type": "stream",
     "text": [
      "Epoch [20/20]\n",
      "Training Loss: 0.0045, Val Loss: 0.0033\n"
     ]
    }
   ],
   "source": [
    "### Train AutoEncoder ###\n",
    "train_dataset = TrainDataset(dataset_ver)\n",
    "train_dataloader = DataLoader(train_dataset, batch_size=16, shuffle=True)\n",
    "val_dataset = ValDataset(dataset_ver)\n",
    "val_dataloader = DataLoader(val_dataset, batch_size=16, shuffle=True)\n",
    "\n",
    "### Define Model ###\n",
    "autoencoder = Autoencoder(n_input, n_hidden).to(device)\n",
    "# autoencoder = LSTM(n_input, n_hidden, 3, 0.5, True)\n",
    "# autoencoder = DANA(n_input, n_input).to(device)\n",
    "print(autoencoder)\n",
    "\n",
    "\n",
    "optimizer = optim.Adam(autoencoder.parameters(),\n",
    "                        lr=1e-3,\n",
    "                        betas=(0.9, 0.999),\n",
    "                        eps=1e-8)\n",
    "optimizer.zero_grad()\n",
    "\n",
    "best_loss = np.inf\n",
    "train_losses = []\n",
    "val_losses = []\n",
    "\n",
    "for epoch in range(num_epochs):\n",
    "    print(f'Starting Epoch {epoch+1}...')\n",
    "    \n",
    "    autoencoder.train()\n",
    "    for X_batch, _ in tqdm(train_dataloader):\n",
    "        X = X_batch.to(device)\n",
    "\n",
    "        pred = autoencoder(X)\n",
    "        train_loss = autoencoder.loss(pred, X)\n",
    "\n",
    "        train_loss.backward()\n",
    "        optimizer.step()\n",
    "        optimizer.zero_grad()\n",
    "\n",
    "    train_losses.append(train_loss.item())\n",
    "    \n",
    "    autoencoder.eval()\n",
    "    val_loss = 0.0\n",
    "    for X_batch, _ in tqdm(val_dataloader):\n",
    "        X = X_batch.to(device)\n",
    "\n",
    "        pred = autoencoder(X)\n",
    "        val_loss += autoencoder.loss(pred, X).item() * X_batch.size(0)\n",
    "\n",
    "    val_losses.append(val_loss / len(val_dataset))\n",
    "\n",
    "    print(f'Epoch [{epoch+1}/{num_epochs}]\\nTraining Loss: {train_losses[-1]:.4f}, Val Loss: {val_losses[-1]:.4f}')\n",
    "\n",
    "    if val_losses[-1] < best_loss:\n",
    "        best_loss = val_losses[-1]\n",
    "\n",
    "        # Save Encoder\n",
    "        torch.save(autoencoder.encoder, f'ML_Models/{dataset_ver}_{encoder_ver}_encoder.pt')\n",
    "        # Save Full Autoencoder\n",
    "        torch.save(autoencoder, f'ML_Models/{dataset_ver}_{encoder_ver}_Autoencoder.pt')\n"
   ]
  },
  {
   "cell_type": "code",
   "execution_count": 16,
   "metadata": {},
   "outputs": [
    {
     "data": {
      "image/png": "[encoded data removed]",
      "text/plain": [
       "<Figure size 640x480 with 1 Axes>"
      ]
     },
     "metadata": {},
     "output_type": "display_data"
    }
   ],
   "source": [
    "plt.plot(range(len(train_losses)), train_losses, label= 'Train Loss')\n",
    "plt.plot(range(len(val_losses)), val_losses, label='Val Loss')\n",
    "plt.xlabel('Epochs')\n",
    "plt.ylabel('Loss')\n",
    "plt.title('Loss across Epochs')\n",
    "plt.legend()\n",
    "plt.show()"
   ]
  },
  {
   "cell_type": "code",
   "execution_count": 17,
   "metadata": {},
   "outputs": [
    {
     "name": "stdout",
     "output_type": "stream",
     "text": [
      "Loading Encoder Model...\n",
      "Encoding Data...\n"
     ]
    },
    {
     "data": {
      "application/vnd.jupyter.widget-view+json": {
       "model_id": "9247498439614ec097e687f47518e61a",
       "version_major": 2,
       "version_minor": 0
      },
      "text/plain": [
       "  0%|          | 0/963 [00:00<?, ?it/s]"
      ]
     },
     "metadata": {},
     "output_type": "display_data"
    },
    {
     "name": "stdout",
     "output_type": "stream",
     "text": [
      "encoded_data.shape=torch.Size([15407, 360])\n",
      "labels.shape=torch.Size([15407, 1])\n",
      "Training SVM Classifier...\n",
      "Accuracy: 0.9078520441271901\n"
     ]
    }
   ],
   "source": [
    "### Train SVM ###\n",
    "def train_svm(train_data, train_labels):\n",
    "    x_train, x_test, y_train, y_test = train_test_split(train_data, train_labels, test_size=0.20, random_state=0)\n",
    "    svm_classifier = svm.SVC(kernel='rbf', probability=True)\n",
    "    svm_classifier.fit(x_train, y_train)\n",
    "\n",
    "    test_pred = svm_classifier.predict(x_test)\n",
    "    print(f'Accuracy: {accuracy_score(y_test, test_pred)}')\n",
    "\n",
    "    return svm_classifier\n",
    "\n",
    "train_dataset = TrainDataset(dataset_ver)\n",
    "train_dataloader = DataLoader(train_dataset, batch_size=16, shuffle=True)\n",
    "print('Loading Encoder Model...')\n",
    "encoder = torch.load(f'ML_Models/{dataset_ver}_{encoder_ver}_encoder.pt').to(device)\n",
    "encoder.eval()\n",
    "\n",
    "encoded_data = []\n",
    "labels = []\n",
    "\n",
    "print('Encoding Data...')\n",
    "with torch.no_grad():\n",
    "    for batch in tqdm(train_dataloader):\n",
    "        X_batch, y_batch = batch\n",
    "        X = X_batch.to(device)\n",
    "        y = y_batch.to(device).reshape(-1, 1)\n",
    "\n",
    "        encoded_batch = encoder(X)\n",
    "        # print(encoded_batch.shape)\n",
    "\n",
    "        ### for unidirectional LSTM ###\n",
    "        # encoded_batch = encoded_batch.reshape(encoded_batch.shape[1], encoded_batch.shape[2])\n",
    "\n",
    "        ### bidirectional LSTM have hidden states in 2 dimensions ###\n",
    "        # h_1, h_2 = encoded_batch[0], encoded_batch[1]\n",
    "        # encoded_batch = torch.cat((h_1, h_2), 1)\n",
    "        \n",
    "        encoded_data.append(encoded_batch)\n",
    "        labels.append(y)\n",
    "\n",
    "    encoded_data = torch.cat(encoded_data, 0).cpu()\n",
    "    labels = torch.cat(labels, 0).cpu()       \n",
    "\n",
    "print(f'{encoded_data.shape=}')\n",
    "print(f'{labels.shape=}')\n",
    "\n",
    "print(\"Training SVM Classifier...\")\n",
    "svm_classifier = train_svm(encoded_data, labels.ravel())\n",
    "\n",
    "# Save SVM Classifier\n",
    "with open(f'ML_Models/{dataset_ver}_{encoder_ver}_svm_classifier.pkl', \"wb\") as file:\n",
    "    pickle.dump(svm_classifier, file)"
   ]
  },
  {
   "cell_type": "code",
   "execution_count": 18,
   "metadata": {},
   "outputs": [
    {
     "data": {
      "application/vnd.jupyter.widget-view+json": {
       "model_id": "9729c4a308ad478b82e74ed5dee5b3f4",
       "version_major": 2,
       "version_minor": 0
      },
      "text/plain": [
       "  0%|          | 0/276 [00:00<?, ?it/s]"
      ]
     },
     "metadata": {},
     "output_type": "display_data"
    },
    {
     "name": "stdout",
     "output_type": "stream",
     "text": [
      "test_encoded_data.shape=torch.Size([4403, 360])\n",
      "test_labels.shape=torch.Size([4403, 1])\n",
      "test_predictions.shape=(4403,)\n"
     ]
    }
   ],
   "source": [
    "### Test SVM + Encoder ###\n",
    "\n",
    "# Model Params\n",
    "encoder_ver = f'{n_hidden}h{num_epochs}e'\n",
    "test_dataset = TestDataset(dataset_ver)\n",
    "test_dataloader = DataLoader(test_dataset, batch_size=16, shuffle=True)\n",
    "\n",
    "# Load the saved models\n",
    "encoder = torch.load(f'ML_Models/{dataset_ver}_{encoder_ver}_encoder.pt')\n",
    "encoder.eval()\n",
    "with open(f'ML_Models/{dataset_ver}_{encoder_ver}_svm_classifier.pkl', 'rb') as file:\n",
    "    svm_classifier = pickle.load(file)\n",
    "\n",
    "test_encoded_data = []\n",
    "test_labels = []\n",
    "\n",
    "with torch.no_grad():\n",
    "    for batch in tqdm(test_dataloader):\n",
    "        X_batch, y_batch = batch\n",
    "        X = X_batch.to(device)\n",
    "        y = y_batch.to(device).reshape(-1, 1)\n",
    "\n",
    "        test_encoded_batch = encoder(X)\n",
    "        # print(encoded_batch.shape)\n",
    "        \n",
    "        ### for unidirectional LSTM ###\n",
    "        # encoded_batch = encoded_batch.reshape(encoded_batch.shape[1], encoded_batch.shape[2])\n",
    "        \n",
    "        ### bidirectional LSTM have hidden states in 2 dimensions ###\n",
    "        # h_1, h_2 = encoded_batch[0], encoded_batch[1]\n",
    "        # encoded_batch = torch.cat((h_1, h_2), 1)\n",
    "        \n",
    "        test_encoded_data.append(test_encoded_batch)\n",
    "        test_labels.append(y)\n",
    "\n",
    "    test_encoded_data = torch.cat(test_encoded_data, 0).cpu()\n",
    "    test_labels = torch.cat(test_labels, 0).cpu()   \n",
    "\n",
    "print(f'{test_encoded_data.shape=}')\n",
    "print(f'{test_labels.shape=}')\n",
    "\n",
    "test_predictions = svm_classifier.predict(test_encoded_data)\n",
    "print(f'{test_predictions.shape=}')"
   ]
  },
  {
   "cell_type": "code",
   "execution_count": 19,
   "metadata": {},
   "outputs": [
    {
     "name": "stdout",
     "output_type": "stream",
     "text": [
      "Accuracy: 91.23%\n"
     ]
    },
    {
     "data": {
      "image/png": "[encoded data removed]",
      "text/plain": [
       "<Figure size 640x480 with 2 Axes>"
      ]
     },
     "metadata": {},
     "output_type": "display_data"
    }
   ],
   "source": [
    "# Calculate accuracy score\n",
    "accuracy = accuracy_score(test_labels, test_predictions)\n",
    "accuracy_percentage = accuracy * 100\n",
    "print(f\"Accuracy: {accuracy_percentage:.2f}%\")\n",
    "\n",
    "# Create a confusion matrix\n",
    "cm = confusion_matrix(test_labels, test_predictions)\n",
    "\n",
    "# Plot the confusion matrix as a heatmap\n",
    "sns.heatmap(cm, annot=True, cmap='Blues')\n",
    "\n",
    "# Add labels and title to the plot\n",
    "plt.xlabel('Predicted Labels')\n",
    "plt.ylabel('Actual Labels')\n",
    "plt.title('Confusion Matrix')\n",
    "\n",
    "# Display the plot\n",
    "plt.show()"
   ]
  }
 ],
 "metadata": {
  "kernelspec": {
   "display_name": "cv",
   "language": "python",
   "name": "python3"
  },
  "language_info": {
   "codemirror_mode": {
    "name": "ipython",
    "version": 3
   },
   "file_extension": ".py",
   "mimetype": "text/x-python",
   "name": "python",
   "nbconvert_exporter": "python",
   "pygments_lexer": "ipython3",
   "version": "3.11.2"
  }
 },
 "nbformat": 4,
 "nbformat_minor": 2
}
