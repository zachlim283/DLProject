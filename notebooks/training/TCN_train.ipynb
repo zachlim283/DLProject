{
 "cells": [
  {
   "cell_type": "code",
   "execution_count": 1,
   "metadata": {},
   "outputs": [
    {
     "name": "stdout",
     "output_type": "stream",
     "text": [
      "cuda\n"
     ]
    }
   ],
   "source": [
    "import torch\n",
    "import random\n",
    "import numpy as np\n",
    "import matplotlib.pyplot as plt\n",
    "import torch.nn as nn\n",
    "import torch.optim as optim\n",
    "from copy import deepcopy\n",
    "from torch.utils.data import DataLoader\n",
    "from sklearn.metrics import accuracy_score\n",
    "from tqdm.notebook import tqdm\n",
    "\n",
    "from src import tcn\n",
    "from src.Dataset import CustomDataset\n",
    "from src.TrainHelpers import plot_loss_graph\n",
    "\n",
    "if torch.cuda.is_available():\n",
    "    device = torch.device('cuda')\n",
    "elif torch.backends.mps.is_available():\n",
    "    device = torch.device(\"mps\") \n",
    "else:\n",
    "    device = torch.device(\"cpu\")\n",
    "print(device)"
   ]
  },
  {
   "cell_type": "code",
   "execution_count": 2,
   "metadata": {},
   "outputs": [],
   "source": [
    "### PARAMETERS ###\n",
    "dataset_ver = '3w05s_Larm'\n",
    "n_input = 9\n",
    "n_hidden = 360\n",
    "seed = 369\n",
    "\n",
    "torch.manual_seed(seed)\n",
    "np.random.seed(seed)\n",
    "random.seed(seed)\n",
    "\n",
    "x_train = np.load(f'input/train_data_{dataset_ver}.npy')\n",
    "x_val = np.load(f'input/val_data_{dataset_ver}.npy')\n",
    "x_test = np.load(f'input/test_data_{dataset_ver}.npy')\n",
    "\n",
    "y_train = np.load(f'input/train_labels_{dataset_ver}.npy')\n",
    "y_val = np.load(f'input/val_labels_{dataset_ver}.npy')\n",
    "y_test = np.load(f'input/test_labels_{dataset_ver}.npy')"
   ]
  },
  {
   "cell_type": "code",
   "execution_count": 3,
   "metadata": {},
   "outputs": [
    {
     "name": "stdout",
     "output_type": "stream",
     "text": [
      "(11578, 60, 9)\n",
      "(11578,)\n",
      "(1654, 60, 9)\n"
     ]
    }
   ],
   "source": [
    "print(x_train.shape)\n",
    "print(y_train.shape)\n",
    "print(x_val.shape)"
   ]
  },
  {
   "cell_type": "code",
   "execution_count": 4,
   "metadata": {},
   "outputs": [
    {
     "name": "stdout",
     "output_type": "stream",
     "text": [
      "(11578, 60, 9) (3308, 60, 9) (1654, 60, 9)\n"
     ]
    },
    {
     "data": {
      "image/png": "[encoded data removed]",
      "text/plain": [
       "<Figure size 640x480 with 1 Axes>"
      ]
     },
     "metadata": {},
     "output_type": "display_data"
    }
   ],
   "source": [
    "# Check Dataset\n",
    "print(x_train.shape, x_test.shape, x_val.shape)\n",
    "unique_labels_train, label_counts_train = np.unique(y_train, return_counts=True)\n",
    "unique_labels_val, label_counts_val = np.unique(y_val, return_counts=True)\n",
    "unique_labels_test, label_counts_test = np.unique(y_test, return_counts=True)\n",
    "\n",
    "plt.bar(unique_labels_train, label_counts_train, label='Train')\n",
    "plt.bar(unique_labels_test, label_counts_test, label='Test')\n",
    "plt.bar(unique_labels_val, label_counts_val, label='Validation')\n",
    "\n",
    "# Set the x-axis tick labels\n",
    "plt.xticks(unique_labels_train, unique_labels_train)\n",
    "\n",
    "plt.xlabel('Labels')\n",
    "plt.ylabel('Count')\n",
    "plt.title('Label Distribution')\n",
    "plt.legend()\n",
    "plt.show()"
   ]
  },
  {
   "cell_type": "code",
   "execution_count": 5,
   "metadata": {
    "tags": []
   },
   "outputs": [],
   "source": [
    "### Declare Dataloaders\n",
    "train_dataset = CustomDataset(\"train\", dataset_ver)\n",
    "train_dataloader = DataLoader(train_dataset, batch_size=1, shuffle=True)\n",
    "val_dataset = CustomDataset(\"val\", dataset_ver)\n",
    "val_dataloader = DataLoader(val_dataset, batch_size=1, shuffle=True)\n",
    "test_dataset = CustomDataset(\"test\", dataset_ver)\n",
    "test_dataloader = DataLoader(test_dataset, batch_size=1, shuffle=True)"
   ]
  },
  {
   "cell_type": "code",
   "execution_count": 6,
   "metadata": {},
   "outputs": [
    {
     "name": "stdout",
     "output_type": "stream",
     "text": [
      "X.shape=torch.Size([1, 60, 9])\n",
      "y.shape=torch.Size([1])\n"
     ]
    }
   ],
   "source": [
    "for X, y in train_dataloader:\n",
    "    print(f'{X.shape=}')\n",
    "    print(f'{y.shape=}')\n",
    "    break   "
   ]
  },
  {
   "cell_type": "code",
   "execution_count": 7,
   "metadata": {},
   "outputs": [],
   "source": [
    "class tcn_classifier(nn.Module):\n",
    "    def __init__(self, num_inputs, tcn_channels, causal, skip):\n",
    "        super(tcn_classifier, self).__init__()\n",
    "\n",
    "        self.tcn = tcn.TCN(num_inputs=num_inputs,\n",
    "                            num_channels=tcn_channels,\n",
    "                            causal=causal,\n",
    "                            input_shape='NLC',\n",
    "                            use_skip_connections=skip)\n",
    "\n",
    "    def forward(self, x):\n",
    "        x = self.tcn(x)\n",
    "        return x[0][-1]"
   ]
  },
  {
   "cell_type": "code",
   "execution_count": 8,
   "metadata": {},
   "outputs": [],
   "source": [
    "def train_TCN(model, learning_rate, num_epochs, patience, tag):\n",
    "    optimizer = optim.Adam(model.parameters(),\n",
    "                            lr=learning_rate,\n",
    "                            betas=(0.9, 0.999),\n",
    "                            eps=1e-8)\n",
    "\n",
    "    criterion = nn.CrossEntropyLoss()\n",
    "\n",
    "    train_losses = []\n",
    "    val_losses = []\n",
    "\n",
    "    best_val_loss = np.inf\n",
    "    es_count = 0\n",
    "\n",
    "    for epoch in range(num_epochs):\n",
    "        if es_count < patience:\n",
    "            print(f'Starting Epoch {epoch+1}...')\n",
    "            model.train()\n",
    "\n",
    "            train_preds = []\n",
    "            train_labels = []\n",
    "\n",
    "            train_loss = 0\n",
    "            for train_X, train_y in tqdm(train_dataloader):\n",
    "                optimizer.zero_grad()\n",
    "                \n",
    "                train_output = model(train_X)\n",
    "                \n",
    "                train_criterion = criterion(train_output, train_y[0].type(torch.LongTensor))\n",
    "                train_criterion.backward()\n",
    "                train_loss += train_criterion.item()\n",
    "                optimizer.step()\n",
    "\n",
    "                train_preds.append(torch.argmax(train_output))\n",
    "                train_labels.append(train_y)\n",
    "\n",
    "            model.eval()\n",
    "\n",
    "            val_preds = []\n",
    "            val_labels = []\n",
    "\n",
    "            val_loss = 0\n",
    "            for val_X, val_y in tqdm(val_dataloader):\n",
    "                val_output = model(val_X)\n",
    "\n",
    "                val_criterion = criterion(val_output, val_y[0].type(torch.LongTensor))\n",
    "                val_loss += val_criterion.item()\n",
    "\n",
    "                val_preds.append(torch.argmax(val_output))\n",
    "                val_labels.append(val_y)\n",
    "\n",
    "            train_losses.append(train_loss / len(train_dataloader))\n",
    "            print(f'Train Loss = {train_losses[-1]}')\n",
    "\n",
    "            train_acc = accuracy_score(train_labels, train_preds)\n",
    "            print(f'Train Acc = {train_acc}')\n",
    "\n",
    "            val_losses.append(val_loss / len(val_dataloader))\n",
    "            print(f'Val Loss = {val_losses[-1]}')\n",
    "\n",
    "            val_acc = accuracy_score(val_labels, val_preds)\n",
    "            print(f'Val Acc = {val_acc}')\n",
    "\n",
    "            if val_losses[-1] < best_val_loss:\n",
    "                torch.save(deepcopy(model.state_dict()), f'ML_Models/TCN_{tag}.pt')\n",
    "                best_val_loss = val_losses[-1]\n",
    "                es_count = 0\n",
    "                continue\n",
    "            \n",
    "            es_count += 1\n",
    "\n",
    "        else:\n",
    "            print('Early Stopping...')\n",
    "            break\n",
    "\n",
    "    return train_losses, val_losses\n"
   ]
  },
  {
   "cell_type": "code",
   "execution_count": 9,
   "metadata": {},
   "outputs": [
    {
     "name": "stdout",
     "output_type": "stream",
     "text": [
      "tcn_classifier(\n",
      "  (tcn): TCN(\n",
      "    (network): ModuleList(\n",
      "      (0): TemporalBlock(\n",
      "        (conv1): ParametrizedCausalConv1d(\n",
      "          9, 128, kernel_size=(4,), stride=(1,)\n",
      "          (parametrizations): ModuleDict(\n",
      "            (weight): ParametrizationList(\n",
      "              (0): _WeightNorm()\n",
      "            )\n",
      "          )\n",
      "        )\n",
      "        (conv2): ParametrizedCausalConv1d(\n",
      "          128, 128, kernel_size=(4,), stride=(1,)\n",
      "          (parametrizations): ModuleDict(\n",
      "            (weight): ParametrizationList(\n",
      "              (0): _WeightNorm()\n",
      "            )\n",
      "          )\n",
      "        )\n",
      "        (activation1): ReLU()\n",
      "        (activation2): ReLU()\n",
      "        (activation_final): ReLU()\n",
      "        (dropout1): Dropout(p=0.1, inplace=False)\n",
      "        (dropout2): Dropout(p=0.1, inplace=False)\n",
      "        (downsample): Conv1d(9, 128, kernel_size=(1,), stride=(1,))\n",
      "      )\n",
      "      (1): TemporalBlock(\n",
      "        (conv1): ParametrizedCausalConv1d(\n",
      "          128, 64, kernel_size=(4,), stride=(1,), dilation=(2,)\n",
      "          (parametrizations): ModuleDict(\n",
      "            (weight): ParametrizationList(\n",
      "              (0): _WeightNorm()\n",
      "            )\n",
      "          )\n",
      "        )\n",
      "        (conv2): ParametrizedCausalConv1d(\n",
      "          64, 64, kernel_size=(4,), stride=(1,), dilation=(2,)\n",
      "          (parametrizations): ModuleDict(\n",
      "            (weight): ParametrizationList(\n",
      "              (0): _WeightNorm()\n",
      "            )\n",
      "          )\n",
      "        )\n",
      "        (activation1): ReLU()\n",
      "        (activation2): ReLU()\n",
      "        (activation_final): ReLU()\n",
      "        (dropout1): Dropout(p=0.1, inplace=False)\n",
      "        (dropout2): Dropout(p=0.1, inplace=False)\n",
      "        (downsample): Conv1d(128, 64, kernel_size=(1,), stride=(1,))\n",
      "      )\n",
      "      (2): TemporalBlock(\n",
      "        (conv1): ParametrizedCausalConv1d(\n",
      "          64, 32, kernel_size=(4,), stride=(1,), dilation=(4,)\n",
      "          (parametrizations): ModuleDict(\n",
      "            (weight): ParametrizationList(\n",
      "              (0): _WeightNorm()\n",
      "            )\n",
      "          )\n",
      "        )\n",
      "        (conv2): ParametrizedCausalConv1d(\n",
      "          32, 32, kernel_size=(4,), stride=(1,), dilation=(4,)\n",
      "          (parametrizations): ModuleDict(\n",
      "            (weight): ParametrizationList(\n",
      "              (0): _WeightNorm()\n",
      "            )\n",
      "          )\n",
      "        )\n",
      "        (activation1): ReLU()\n",
      "        (activation2): ReLU()\n",
      "        (activation_final): ReLU()\n",
      "        (dropout1): Dropout(p=0.1, inplace=False)\n",
      "        (dropout2): Dropout(p=0.1, inplace=False)\n",
      "        (downsample): Conv1d(64, 32, kernel_size=(1,), stride=(1,))\n",
      "      )\n",
      "      (3): TemporalBlock(\n",
      "        (conv1): ParametrizedCausalConv1d(\n",
      "          32, 16, kernel_size=(4,), stride=(1,), dilation=(8,)\n",
      "          (parametrizations): ModuleDict(\n",
      "            (weight): ParametrizationList(\n",
      "              (0): _WeightNorm()\n",
      "            )\n",
      "          )\n",
      "        )\n",
      "        (conv2): ParametrizedCausalConv1d(\n",
      "          16, 16, kernel_size=(4,), stride=(1,), dilation=(8,)\n",
      "          (parametrizations): ModuleDict(\n",
      "            (weight): ParametrizationList(\n",
      "              (0): _WeightNorm()\n",
      "            )\n",
      "          )\n",
      "        )\n",
      "        (activation1): ReLU()\n",
      "        (activation2): ReLU()\n",
      "        (activation_final): ReLU()\n",
      "        (dropout1): Dropout(p=0.1, inplace=False)\n",
      "        (dropout2): Dropout(p=0.1, inplace=False)\n",
      "        (downsample): Conv1d(32, 16, kernel_size=(1,), stride=(1,))\n",
      "      )\n",
      "      (4): TemporalBlock(\n",
      "        (conv1): ParametrizedCausalConv1d(\n",
      "          16, 4, kernel_size=(4,), stride=(1,), dilation=(16,)\n",
      "          (parametrizations): ModuleDict(\n",
      "            (weight): ParametrizationList(\n",
      "              (0): _WeightNorm()\n",
      "            )\n",
      "          )\n",
      "        )\n",
      "        (conv2): ParametrizedCausalConv1d(\n",
      "          4, 4, kernel_size=(4,), stride=(1,), dilation=(16,)\n",
      "          (parametrizations): ModuleDict(\n",
      "            (weight): ParametrizationList(\n",
      "              (0): _WeightNorm()\n",
      "            )\n",
      "          )\n",
      "        )\n",
      "        (activation1): ReLU()\n",
      "        (activation2): ReLU()\n",
      "        (activation_final): ReLU()\n",
      "        (dropout1): Dropout(p=0.1, inplace=False)\n",
      "        (dropout2): Dropout(p=0.1, inplace=False)\n",
      "        (downsample): Conv1d(16, 4, kernel_size=(1,), stride=(1,))\n",
      "      )\n",
      "    )\n",
      "  )\n",
      ")\n",
      "Starting Epoch 1...\n"
     ]
    },
    {
     "data": {
      "application/vnd.jupyter.widget-view+json": {
       "model_id": "4c64ccc9aba548af886d0c6dca5d6c63",
       "version_major": 2,
       "version_minor": 0
      },
      "text/plain": [
       "  0%|          | 0/11578 [00:00<?, ?it/s]"
      ]
     },
     "metadata": {},
     "output_type": "display_data"
    },
    {
     "data": {
      "application/vnd.jupyter.widget-view+json": {
       "model_id": "5a3b33daa5294cf288e16a7cbbacd076",
       "version_major": 2,
       "version_minor": 0
      },
      "text/plain": [
       "  0%|          | 0/1654 [00:00<?, ?it/s]"
      ]
     },
     "metadata": {},
     "output_type": "display_data"
    },
    {
     "name": "stdout",
     "output_type": "stream",
     "text": [
      "Train Loss = 0.5969278276471544\n",
      "Train Acc = 0.7667127310416306\n",
      "Val Loss = 0.38784750749610514\n",
      "Val Acc = 0.8355501813784765\n",
      "Starting Epoch 2...\n"
     ]
    },
    {
     "data": {
      "application/vnd.jupyter.widget-view+json": {
       "model_id": "32fee30ce4b144d6a8e16c61ba7a7020",
       "version_major": 2,
       "version_minor": 0
      },
      "text/plain": [
       "  0%|          | 0/11578 [00:00<?, ?it/s]"
      ]
     },
     "metadata": {},
     "output_type": "display_data"
    },
    {
     "data": {
      "application/vnd.jupyter.widget-view+json": {
       "model_id": "a021f2e2d8bb41818f702234a84d0d6f",
       "version_major": 2,
       "version_minor": 0
      },
      "text/plain": [
       "  0%|          | 0/1654 [00:00<?, ?it/s]"
      ]
     },
     "metadata": {},
     "output_type": "display_data"
    },
    {
     "name": "stdout",
     "output_type": "stream",
     "text": [
      "Train Loss = 0.3683426802526734\n",
      "Train Acc = 0.8577474520642598\n",
      "Val Loss = 0.33676811944067137\n",
      "Val Acc = 0.8688029020556227\n",
      "Starting Epoch 3...\n"
     ]
    },
    {
     "data": {
      "application/vnd.jupyter.widget-view+json": {
       "model_id": "4b255ed36ed240998017a113d831f5c3",
       "version_major": 2,
       "version_minor": 0
      },
      "text/plain": [
       "  0%|          | 0/11578 [00:00<?, ?it/s]"
      ]
     },
     "metadata": {},
     "output_type": "display_data"
    },
    {
     "data": {
      "application/vnd.jupyter.widget-view+json": {
       "model_id": "9402ec217b3042069f54d2e05d6f2af2",
       "version_major": 2,
       "version_minor": 0
      },
      "text/plain": [
       "  0%|          | 0/1654 [00:00<?, ?it/s]"
      ]
     },
     "metadata": {},
     "output_type": "display_data"
    },
    {
     "name": "stdout",
     "output_type": "stream",
     "text": [
      "Train Loss = 0.2925352876989331\n",
      "Train Acc = 0.8903092071169459\n",
      "Val Loss = 0.2525618910396609\n",
      "Val Acc = 0.9099153567110037\n",
      "Starting Epoch 4...\n"
     ]
    },
    {
     "data": {
      "application/vnd.jupyter.widget-view+json": {
       "model_id": "3967d432e5af4e73b55164ce6d4aba89",
       "version_major": 2,
       "version_minor": 0
      },
      "text/plain": [
       "  0%|          | 0/11578 [00:00<?, ?it/s]"
      ]
     },
     "metadata": {},
     "output_type": "display_data"
    },
    {
     "data": {
      "application/vnd.jupyter.widget-view+json": {
       "model_id": "b48ec73299274cb699ce2b7d0afa8e82",
       "version_major": 2,
       "version_minor": 0
      },
      "text/plain": [
       "  0%|          | 0/1654 [00:00<?, ?it/s]"
      ]
     },
     "metadata": {},
     "output_type": "display_data"
    },
    {
     "name": "stdout",
     "output_type": "stream",
     "text": [
      "Train Loss = 0.24313623140835275\n",
      "Train Acc = 0.9103472102262913\n",
      "Val Loss = 0.2023991906130725\n",
      "Val Acc = 0.9214026602176542\n",
      "Starting Epoch 5...\n"
     ]
    },
    {
     "data": {
      "application/vnd.jupyter.widget-view+json": {
       "model_id": "6605d97ea03b4057bbd20345baff48b4",
       "version_major": 2,
       "version_minor": 0
      },
      "text/plain": [
       "  0%|          | 0/11578 [00:00<?, ?it/s]"
      ]
     },
     "metadata": {},
     "output_type": "display_data"
    },
    {
     "data": {
      "application/vnd.jupyter.widget-view+json": {
       "model_id": "a710db5841b743c6875ebe6b793301e3",
       "version_major": 2,
       "version_minor": 0
      },
      "text/plain": [
       "  0%|          | 0/1654 [00:00<?, ?it/s]"
      ]
     },
     "metadata": {},
     "output_type": "display_data"
    },
    {
     "name": "stdout",
     "output_type": "stream",
     "text": [
      "Train Loss = 0.22621255333362839\n",
      "Train Acc = 0.9172568664708931\n",
      "Val Loss = 0.16537492207790114\n",
      "Val Acc = 0.9401451027811366\n",
      "Starting Epoch 6...\n"
     ]
    },
    {
     "data": {
      "application/vnd.jupyter.widget-view+json": {
       "model_id": "368d62126f18411587dd410e7a9795dd",
       "version_major": 2,
       "version_minor": 0
      },
      "text/plain": [
       "  0%|          | 0/11578 [00:00<?, ?it/s]"
      ]
     },
     "metadata": {},
     "output_type": "display_data"
    },
    {
     "data": {
      "application/vnd.jupyter.widget-view+json": {
       "model_id": "ca1ba60eda994ac1b63c6779d71544aa",
       "version_major": 2,
       "version_minor": 0
      },
      "text/plain": [
       "  0%|          | 0/1654 [00:00<?, ?it/s]"
      ]
     },
     "metadata": {},
     "output_type": "display_data"
    },
    {
     "name": "stdout",
     "output_type": "stream",
     "text": [
      "Train Loss = 0.20315844949597892\n",
      "Train Acc = 0.9271894973225082\n",
      "Val Loss = 0.19441057726784985\n",
      "Val Acc = 0.9274486094316807\n",
      "Starting Epoch 7...\n"
     ]
    },
    {
     "data": {
      "application/vnd.jupyter.widget-view+json": {
       "model_id": "9198e83175354c089eb8314e02dce8a3",
       "version_major": 2,
       "version_minor": 0
      },
      "text/plain": [
       "  0%|          | 0/11578 [00:00<?, ?it/s]"
      ]
     },
     "metadata": {},
     "output_type": "display_data"
    },
    {
     "data": {
      "application/vnd.jupyter.widget-view+json": {
       "model_id": "6a187d772ed041b5bcdb8788af04f8a9",
       "version_major": 2,
       "version_minor": 0
      },
      "text/plain": [
       "  0%|          | 0/1654 [00:00<?, ?it/s]"
      ]
     },
     "metadata": {},
     "output_type": "display_data"
    },
    {
     "name": "stdout",
     "output_type": "stream",
     "text": [
      "Train Loss = 0.18643975154438694\n",
      "Train Acc = 0.9336673000518224\n",
      "Val Loss = 0.12883207996457846\n",
      "Val Acc = 0.9534461910519951\n",
      "Starting Epoch 8...\n"
     ]
    },
    {
     "data": {
      "application/vnd.jupyter.widget-view+json": {
       "model_id": "174ebd8d71e247a19608174a83ef0231",
       "version_major": 2,
       "version_minor": 0
      },
      "text/plain": [
       "  0%|          | 0/11578 [00:00<?, ?it/s]"
      ]
     },
     "metadata": {},
     "output_type": "display_data"
    },
    {
     "data": {
      "application/vnd.jupyter.widget-view+json": {
       "model_id": "8372dac2914a443da81347ef5ec9c82e",
       "version_major": 2,
       "version_minor": 0
      },
      "text/plain": [
       "  0%|          | 0/1654 [00:00<?, ?it/s]"
      ]
     },
     "metadata": {},
     "output_type": "display_data"
    },
    {
     "name": "stdout",
     "output_type": "stream",
     "text": [
      "Train Loss = 0.17325246292407384\n",
      "Train Acc = 0.9403178441872517\n",
      "Val Loss = 0.20776856125397453\n",
      "Val Acc = 0.9195888754534461\n",
      "Starting Epoch 9...\n"
     ]
    },
    {
     "data": {
      "application/vnd.jupyter.widget-view+json": {
       "model_id": "d8b3bd5275364836844353c439bc1324",
       "version_major": 2,
       "version_minor": 0
      },
      "text/plain": [
       "  0%|          | 0/11578 [00:00<?, ?it/s]"
      ]
     },
     "metadata": {},
     "output_type": "display_data"
    },
    {
     "data": {
      "application/vnd.jupyter.widget-view+json": {
       "model_id": "d244df3abde8424b89276f4f6ec5ff29",
       "version_major": 2,
       "version_minor": 0
      },
      "text/plain": [
       "  0%|          | 0/1654 [00:00<?, ?it/s]"
      ]
     },
     "metadata": {},
     "output_type": "display_data"
    },
    {
     "name": "stdout",
     "output_type": "stream",
     "text": [
      "Train Loss = 0.15656773697326254\n",
      "Train Acc = 0.9458455691829332\n",
      "Val Loss = 0.1275063507523237\n",
      "Val Acc = 0.9498186215235792\n",
      "Starting Epoch 10...\n"
     ]
    },
    {
     "data": {
      "application/vnd.jupyter.widget-view+json": {
       "model_id": "b63e18bc9920438da614a3ac07882174",
       "version_major": 2,
       "version_minor": 0
      },
      "text/plain": [
       "  0%|          | 0/11578 [00:00<?, ?it/s]"
      ]
     },
     "metadata": {},
     "output_type": "display_data"
    },
    {
     "data": {
      "application/vnd.jupyter.widget-view+json": {
       "model_id": "5f74e083a99f49ad9c1173d5c0a6eaa5",
       "version_major": 2,
       "version_minor": 0
      },
      "text/plain": [
       "  0%|          | 0/1654 [00:00<?, ?it/s]"
      ]
     },
     "metadata": {},
     "output_type": "display_data"
    },
    {
     "name": "stdout",
     "output_type": "stream",
     "text": [
      "Train Loss = 0.1449891672060317\n",
      "Train Acc = 0.9492140266021766\n",
      "Val Loss = 0.12694554405841574\n",
      "Val Acc = 0.9510278113663845\n",
      "Starting Epoch 11...\n"
     ]
    },
    {
     "data": {
      "application/vnd.jupyter.widget-view+json": {
       "model_id": "e9e29e11dceb47a9b3781ea9d344964a",
       "version_major": 2,
       "version_minor": 0
      },
      "text/plain": [
       "  0%|          | 0/11578 [00:00<?, ?it/s]"
      ]
     },
     "metadata": {},
     "output_type": "display_data"
    },
    {
     "data": {
      "application/vnd.jupyter.widget-view+json": {
       "model_id": "6e516fcba0fb4f55a191824b7a89dcd5",
       "version_major": 2,
       "version_minor": 0
      },
      "text/plain": [
       "  0%|          | 0/1654 [00:00<?, ?it/s]"
      ]
     },
     "metadata": {},
     "output_type": "display_data"
    },
    {
     "name": "stdout",
     "output_type": "stream",
     "text": [
      "Train Loss = 0.13880849831915165\n",
      "Train Acc = 0.9528415961305925\n",
      "Val Loss = 0.13057734764769074\n",
      "Val Acc = 0.9504232164449818\n",
      "Starting Epoch 12...\n"
     ]
    },
    {
     "data": {
      "application/vnd.jupyter.widget-view+json": {
       "model_id": "47d34b333ebe458cb617a91a87787d52",
       "version_major": 2,
       "version_minor": 0
      },
      "text/plain": [
       "  0%|          | 0/11578 [00:00<?, ?it/s]"
      ]
     },
     "metadata": {},
     "output_type": "display_data"
    },
    {
     "data": {
      "application/vnd.jupyter.widget-view+json": {
       "model_id": "dbc7a5b8b740497bb473ae31e8da9e20",
       "version_major": 2,
       "version_minor": 0
      },
      "text/plain": [
       "  0%|          | 0/1654 [00:00<?, ?it/s]"
      ]
     },
     "metadata": {},
     "output_type": "display_data"
    },
    {
     "name": "stdout",
     "output_type": "stream",
     "text": [
      "Train Loss = 0.12024209971523385\n",
      "Train Acc = 0.9584556918293314\n",
      "Val Loss = 0.11823503627221119\n",
      "Val Acc = 0.9588875453446191\n",
      "Starting Epoch 13...\n"
     ]
    },
    {
     "data": {
      "application/vnd.jupyter.widget-view+json": {
       "model_id": "1669a3da6b124d668536d86bc1f4411c",
       "version_major": 2,
       "version_minor": 0
      },
      "text/plain": [
       "  0%|          | 0/11578 [00:00<?, ?it/s]"
      ]
     },
     "metadata": {},
     "output_type": "display_data"
    },
    {
     "data": {
      "application/vnd.jupyter.widget-view+json": {
       "model_id": "3374bca632a5487cb10065555827c743",
       "version_major": 2,
       "version_minor": 0
      },
      "text/plain": [
       "  0%|          | 0/1654 [00:00<?, ?it/s]"
      ]
     },
     "metadata": {},
     "output_type": "display_data"
    },
    {
     "name": "stdout",
     "output_type": "stream",
     "text": [
      "Train Loss = 0.12577223644300958\n",
      "Train Acc = 0.9561236828467784\n",
      "Val Loss = 0.19213138979656283\n",
      "Val Acc = 0.9540507859733979\n",
      "Starting Epoch 14...\n"
     ]
    },
    {
     "data": {
      "application/vnd.jupyter.widget-view+json": {
       "model_id": "6c5778fadd4843189fa6d4ccaf9c9cae",
       "version_major": 2,
       "version_minor": 0
      },
      "text/plain": [
       "  0%|          | 0/11578 [00:00<?, ?it/s]"
      ]
     },
     "metadata": {},
     "output_type": "display_data"
    },
    {
     "data": {
      "application/vnd.jupyter.widget-view+json": {
       "model_id": "1de1c858f8794f45ba8cc888b22282b7",
       "version_major": 2,
       "version_minor": 0
      },
      "text/plain": [
       "  0%|          | 0/1654 [00:00<?, ?it/s]"
      ]
     },
     "metadata": {},
     "output_type": "display_data"
    },
    {
     "name": "stdout",
     "output_type": "stream",
     "text": [
      "Train Loss = 0.11742906254975603\n",
      "Train Acc = 0.9596648816721368\n",
      "Val Loss = 0.1090219113348822\n",
      "Val Acc = 0.9625151148730351\n",
      "Starting Epoch 15...\n"
     ]
    },
    {
     "data": {
      "application/vnd.jupyter.widget-view+json": {
       "model_id": "ddc2f6dbec2a4ca5a55ab065468aacf2",
       "version_major": 2,
       "version_minor": 0
      },
      "text/plain": [
       "  0%|          | 0/11578 [00:00<?, ?it/s]"
      ]
     },
     "metadata": {},
     "output_type": "display_data"
    },
    {
     "data": {
      "application/vnd.jupyter.widget-view+json": {
       "model_id": "3c5a4108da7f49e192f3adf33f7454cc",
       "version_major": 2,
       "version_minor": 0
      },
      "text/plain": [
       "  0%|          | 0/1654 [00:00<?, ?it/s]"
      ]
     },
     "metadata": {},
     "output_type": "display_data"
    },
    {
     "name": "stdout",
     "output_type": "stream",
     "text": [
      "Train Loss = 0.10906323020368695\n",
      "Train Acc = 0.9615650371394023\n",
      "Val Loss = 0.08021097966835347\n",
      "Val Acc = 0.9691656590084643\n"
     ]
    },
    {
     "data": {
      "image/png": "[encoded data removed]",
      "text/plain": [
       "<Figure size 640x480 with 1 Axes>"
      ]
     },
     "metadata": {},
     "output_type": "display_data"
    }
   ],
   "source": [
    "tcn_model_1 = tcn_classifier(9, [128, 64, 32, 16, 4], True, False)\n",
    "tag = f'TCN_{dataset_ver}_Causal_128-64-32-16-4'\n",
    "print(tcn_model_1)\n",
    "train_losses, val_losses = train_TCN(tcn_model_1, 1e-3, 15, 5, tag)\n",
    "plot_loss_graph(train_losses, val_losses, tag)"
   ]
  },
  {
   "cell_type": "code",
   "execution_count": 10,
   "metadata": {},
   "outputs": [
    {
     "name": "stdout",
     "output_type": "stream",
     "text": [
      "tcn_classifier(\n",
      "  (tcn): TCN(\n",
      "    (network): ModuleList(\n",
      "      (0): TemporalBlock(\n",
      "        (conv1): ParametrizedTemporalConv1d(\n",
      "          9, 128, kernel_size=(4,), stride=(1,), padding=(1,)\n",
      "          (parametrizations): ModuleDict(\n",
      "            (weight): ParametrizationList(\n",
      "              (0): _WeightNorm()\n",
      "            )\n",
      "          )\n",
      "        )\n",
      "        (conv2): ParametrizedTemporalConv1d(\n",
      "          128, 128, kernel_size=(4,), stride=(1,), padding=(1,)\n",
      "          (parametrizations): ModuleDict(\n",
      "            (weight): ParametrizationList(\n",
      "              (0): _WeightNorm()\n",
      "            )\n",
      "          )\n",
      "        )\n",
      "        (activation1): ReLU()\n",
      "        (activation2): ReLU()\n",
      "        (activation_final): ReLU()\n",
      "        (dropout1): Dropout(p=0.1, inplace=False)\n",
      "        (dropout2): Dropout(p=0.1, inplace=False)\n",
      "        (downsample): Conv1d(9, 128, kernel_size=(1,), stride=(1,))\n",
      "      )\n",
      "      (1): TemporalBlock(\n",
      "        (conv1): ParametrizedTemporalConv1d(\n",
      "          128, 64, kernel_size=(4,), stride=(1,), padding=(3,), dilation=(2,)\n",
      "          (parametrizations): ModuleDict(\n",
      "            (weight): ParametrizationList(\n",
      "              (0): _WeightNorm()\n",
      "            )\n",
      "          )\n",
      "        )\n",
      "        (conv2): ParametrizedTemporalConv1d(\n",
      "          64, 64, kernel_size=(4,), stride=(1,), padding=(3,), dilation=(2,)\n",
      "          (parametrizations): ModuleDict(\n",
      "            (weight): ParametrizationList(\n",
      "              (0): _WeightNorm()\n",
      "            )\n",
      "          )\n",
      "        )\n",
      "        (activation1): ReLU()\n",
      "        (activation2): ReLU()\n",
      "        (activation_final): ReLU()\n",
      "        (dropout1): Dropout(p=0.1, inplace=False)\n",
      "        (dropout2): Dropout(p=0.1, inplace=False)\n",
      "        (downsample): Conv1d(128, 64, kernel_size=(1,), stride=(1,))\n",
      "      )\n",
      "      (2): TemporalBlock(\n",
      "        (conv1): ParametrizedTemporalConv1d(\n",
      "          64, 32, kernel_size=(4,), stride=(1,), padding=(6,), dilation=(4,)\n",
      "          (parametrizations): ModuleDict(\n",
      "            (weight): ParametrizationList(\n",
      "              (0): _WeightNorm()\n",
      "            )\n",
      "          )\n",
      "        )\n",
      "        (conv2): ParametrizedTemporalConv1d(\n",
      "          32, 32, kernel_size=(4,), stride=(1,), padding=(6,), dilation=(4,)\n",
      "          (parametrizations): ModuleDict(\n",
      "            (weight): ParametrizationList(\n",
      "              (0): _WeightNorm()\n",
      "            )\n",
      "          )\n",
      "        )\n",
      "        (activation1): ReLU()\n",
      "        (activation2): ReLU()\n",
      "        (activation_final): ReLU()\n",
      "        (dropout1): Dropout(p=0.1, inplace=False)\n",
      "        (dropout2): Dropout(p=0.1, inplace=False)\n",
      "        (downsample): Conv1d(64, 32, kernel_size=(1,), stride=(1,))\n",
      "      )\n",
      "      (3): TemporalBlock(\n",
      "        (conv1): ParametrizedTemporalConv1d(\n",
      "          32, 16, kernel_size=(4,), stride=(1,), padding=(12,), dilation=(8,)\n",
      "          (parametrizations): ModuleDict(\n",
      "            (weight): ParametrizationList(\n",
      "              (0): _WeightNorm()\n",
      "            )\n",
      "          )\n",
      "        )\n",
      "        (conv2): ParametrizedTemporalConv1d(\n",
      "          16, 16, kernel_size=(4,), stride=(1,), padding=(12,), dilation=(8,)\n",
      "          (parametrizations): ModuleDict(\n",
      "            (weight): ParametrizationList(\n",
      "              (0): _WeightNorm()\n",
      "            )\n",
      "          )\n",
      "        )\n",
      "        (activation1): ReLU()\n",
      "        (activation2): ReLU()\n",
      "        (activation_final): ReLU()\n",
      "        (dropout1): Dropout(p=0.1, inplace=False)\n",
      "        (dropout2): Dropout(p=0.1, inplace=False)\n",
      "        (downsample): Conv1d(32, 16, kernel_size=(1,), stride=(1,))\n",
      "      )\n",
      "      (4): TemporalBlock(\n",
      "        (conv1): ParametrizedTemporalConv1d(\n",
      "          16, 4, kernel_size=(4,), stride=(1,), padding=(24,), dilation=(16,)\n",
      "          (parametrizations): ModuleDict(\n",
      "            (weight): ParametrizationList(\n",
      "              (0): _WeightNorm()\n",
      "            )\n",
      "          )\n",
      "        )\n",
      "        (conv2): ParametrizedTemporalConv1d(\n",
      "          4, 4, kernel_size=(4,), stride=(1,), padding=(24,), dilation=(16,)\n",
      "          (parametrizations): ModuleDict(\n",
      "            (weight): ParametrizationList(\n",
      "              (0): _WeightNorm()\n",
      "            )\n",
      "          )\n",
      "        )\n",
      "        (activation1): ReLU()\n",
      "        (activation2): ReLU()\n",
      "        (activation_final): ReLU()\n",
      "        (dropout1): Dropout(p=0.1, inplace=False)\n",
      "        (dropout2): Dropout(p=0.1, inplace=False)\n",
      "        (downsample): Conv1d(16, 4, kernel_size=(1,), stride=(1,))\n",
      "      )\n",
      "    )\n",
      "  )\n",
      ")\n",
      "Starting Epoch 1...\n"
     ]
    },
    {
     "data": {
      "application/vnd.jupyter.widget-view+json": {
       "model_id": "73dec0dee1a14982b4c22970f39688aa",
       "version_major": 2,
       "version_minor": 0
      },
      "text/plain": [
       "  0%|          | 0/11578 [00:00<?, ?it/s]"
      ]
     },
     "metadata": {},
     "output_type": "display_data"
    },
    {
     "data": {
      "application/vnd.jupyter.widget-view+json": {
       "model_id": "e68c3c90e16f4e93af4618cb964a6d84",
       "version_major": 2,
       "version_minor": 0
      },
      "text/plain": [
       "  0%|          | 0/1654 [00:00<?, ?it/s]"
      ]
     },
     "metadata": {},
     "output_type": "display_data"
    },
    {
     "name": "stdout",
     "output_type": "stream",
     "text": [
      "Train Loss = 0.779802862308728\n",
      "Train Acc = 0.6977889100017274\n",
      "Val Loss = 0.7109175649197577\n",
      "Val Acc = 0.7351874244256348\n",
      "Starting Epoch 2...\n"
     ]
    },
    {
     "data": {
      "application/vnd.jupyter.widget-view+json": {
       "model_id": "6564debfa05a4a358c9aeb44d78ce290",
       "version_major": 2,
       "version_minor": 0
      },
      "text/plain": [
       "  0%|          | 0/11578 [00:00<?, ?it/s]"
      ]
     },
     "metadata": {},
     "output_type": "display_data"
    },
    {
     "data": {
      "application/vnd.jupyter.widget-view+json": {
       "model_id": "5340ccb05aea48609c63f065bfa56b19",
       "version_major": 2,
       "version_minor": 0
      },
      "text/plain": [
       "  0%|          | 0/1654 [00:00<?, ?it/s]"
      ]
     },
     "metadata": {},
     "output_type": "display_data"
    },
    {
     "name": "stdout",
     "output_type": "stream",
     "text": [
      "Train Loss = 0.5664924008986739\n",
      "Train Acc = 0.8239765071687684\n",
      "Val Loss = 0.4708901116699259\n",
      "Val Acc = 0.8288996372430472\n",
      "Starting Epoch 3...\n"
     ]
    },
    {
     "data": {
      "application/vnd.jupyter.widget-view+json": {
       "model_id": "017b6fa3b8ef4400a59e350dec3361cb",
       "version_major": 2,
       "version_minor": 0
      },
      "text/plain": [
       "  0%|          | 0/11578 [00:00<?, ?it/s]"
      ]
     },
     "metadata": {},
     "output_type": "display_data"
    },
    {
     "data": {
      "application/vnd.jupyter.widget-view+json": {
       "model_id": "b094441ff97c45048d9c5ab77930467a",
       "version_major": 2,
       "version_minor": 0
      },
      "text/plain": [
       "  0%|          | 0/1654 [00:00<?, ?it/s]"
      ]
     },
     "metadata": {},
     "output_type": "display_data"
    },
    {
     "name": "stdout",
     "output_type": "stream",
     "text": [
      "Train Loss = 0.4960832529395042\n",
      "Train Acc = 0.8606840559682156\n",
      "Val Loss = 0.4272526553527935\n",
      "Val Acc = 0.8996372430471584\n",
      "Starting Epoch 4...\n"
     ]
    },
    {
     "data": {
      "application/vnd.jupyter.widget-view+json": {
       "model_id": "966e46d6503444f2a3bd4b0efecb72d5",
       "version_major": 2,
       "version_minor": 0
      },
      "text/plain": [
       "  0%|          | 0/11578 [00:00<?, ?it/s]"
      ]
     },
     "metadata": {},
     "output_type": "display_data"
    },
    {
     "data": {
      "application/vnd.jupyter.widget-view+json": {
       "model_id": "81e80cf6b8c1422ead771e9b669941bc",
       "version_major": 2,
       "version_minor": 0
      },
      "text/plain": [
       "  0%|          | 0/1654 [00:00<?, ?it/s]"
      ]
     },
     "metadata": {},
     "output_type": "display_data"
    },
    {
     "name": "stdout",
     "output_type": "stream",
     "text": [
      "Train Loss = 0.4599711172892388\n",
      "Train Acc = 0.8853860770426671\n",
      "Val Loss = 0.4649887201141085\n",
      "Val Acc = 0.8669891172914147\n",
      "Starting Epoch 5...\n"
     ]
    },
    {
     "data": {
      "application/vnd.jupyter.widget-view+json": {
       "model_id": "f2b74c95b7424340be63df5cb542cdd8",
       "version_major": 2,
       "version_minor": 0
      },
      "text/plain": [
       "  0%|          | 0/11578 [00:00<?, ?it/s]"
      ]
     },
     "metadata": {},
     "output_type": "display_data"
    },
    {
     "data": {
      "application/vnd.jupyter.widget-view+json": {
       "model_id": "664aa609bda94808b4e1d9504c0df2dc",
       "version_major": 2,
       "version_minor": 0
      },
      "text/plain": [
       "  0%|          | 0/1654 [00:00<?, ?it/s]"
      ]
     },
     "metadata": {},
     "output_type": "display_data"
    },
    {
     "name": "stdout",
     "output_type": "stream",
     "text": [
      "Train Loss = 0.4388256806217406\n",
      "Train Acc = 0.8926412160994991\n",
      "Val Loss = 0.4000097422727707\n",
      "Val Acc = 0.905683192261185\n",
      "Starting Epoch 6...\n"
     ]
    },
    {
     "data": {
      "application/vnd.jupyter.widget-view+json": {
       "model_id": "3fff158978e5444ba9cd41c75f7f0385",
       "version_major": 2,
       "version_minor": 0
      },
      "text/plain": [
       "  0%|          | 0/11578 [00:00<?, ?it/s]"
      ]
     },
     "metadata": {},
     "output_type": "display_data"
    },
    {
     "data": {
      "application/vnd.jupyter.widget-view+json": {
       "model_id": "36f23b931fa5492fa2bac0a8afec22eb",
       "version_major": 2,
       "version_minor": 0
      },
      "text/plain": [
       "  0%|          | 0/1654 [00:00<?, ?it/s]"
      ]
     },
     "metadata": {},
     "output_type": "display_data"
    },
    {
     "name": "stdout",
     "output_type": "stream",
     "text": [
      "Train Loss = 0.4194288621553033\n",
      "Train Acc = 0.9030920711694593\n",
      "Val Loss = 0.37073317973964826\n",
      "Val Acc = 0.914752116082225\n",
      "Starting Epoch 7...\n"
     ]
    },
    {
     "data": {
      "application/vnd.jupyter.widget-view+json": {
       "model_id": "bf2a94124e47457ca24db1334ba36647",
       "version_major": 2,
       "version_minor": 0
      },
      "text/plain": [
       "  0%|          | 0/11578 [00:00<?, ?it/s]"
      ]
     },
     "metadata": {},
     "output_type": "display_data"
    },
    {
     "data": {
      "application/vnd.jupyter.widget-view+json": {
       "model_id": "af565e8b85de4a6d8b3eaf4ba740c0b7",
       "version_major": 2,
       "version_minor": 0
      },
      "text/plain": [
       "  0%|          | 0/1654 [00:00<?, ?it/s]"
      ]
     },
     "metadata": {},
     "output_type": "display_data"
    },
    {
     "name": "stdout",
     "output_type": "stream",
     "text": [
      "Train Loss = 0.40006536051150726\n",
      "Train Acc = 0.913111072724132\n",
      "Val Loss = 0.36652311390121517\n",
      "Val Acc = 0.9256348246674728\n",
      "Starting Epoch 8...\n"
     ]
    },
    {
     "data": {
      "application/vnd.jupyter.widget-view+json": {
       "model_id": "1a8baf95dd654ab99223bb681f246c23",
       "version_major": 2,
       "version_minor": 0
      },
      "text/plain": [
       "  0%|          | 0/11578 [00:00<?, ?it/s]"
      ]
     },
     "metadata": {},
     "output_type": "display_data"
    },
    {
     "data": {
      "application/vnd.jupyter.widget-view+json": {
       "model_id": "be6c2b2eb59042c8ad931b52b42deff6",
       "version_major": 2,
       "version_minor": 0
      },
      "text/plain": [
       "  0%|          | 0/1654 [00:00<?, ?it/s]"
      ]
     },
     "metadata": {},
     "output_type": "display_data"
    },
    {
     "name": "stdout",
     "output_type": "stream",
     "text": [
      "Train Loss = 0.38614797905907267\n",
      "Train Acc = 0.920884435999309\n",
      "Val Loss = 0.3647137981733578\n",
      "Val Acc = 0.9304715840386941\n",
      "Starting Epoch 9...\n"
     ]
    },
    {
     "data": {
      "application/vnd.jupyter.widget-view+json": {
       "model_id": "d3a227bf87c0405e8f5f0f3cee66ff03",
       "version_major": 2,
       "version_minor": 0
      },
      "text/plain": [
       "  0%|          | 0/11578 [00:00<?, ?it/s]"
      ]
     },
     "metadata": {},
     "output_type": "display_data"
    },
    {
     "data": {
      "application/vnd.jupyter.widget-view+json": {
       "model_id": "ecc7b9025a0f45e3b58cb7666ea5e410",
       "version_major": 2,
       "version_minor": 0
      },
      "text/plain": [
       "  0%|          | 0/1654 [00:00<?, ?it/s]"
      ]
     },
     "metadata": {},
     "output_type": "display_data"
    },
    {
     "name": "stdout",
     "output_type": "stream",
     "text": [
      "Train Loss = 0.37851326733016394\n",
      "Train Acc = 0.9258939367766453\n",
      "Val Loss = 0.3297971508857259\n",
      "Val Acc = 0.9389359129383313\n",
      "Starting Epoch 10...\n"
     ]
    },
    {
     "data": {
      "application/vnd.jupyter.widget-view+json": {
       "model_id": "98177e4b342b48da9cb9683deb8a1c8c",
       "version_major": 2,
       "version_minor": 0
      },
      "text/plain": [
       "  0%|          | 0/11578 [00:00<?, ?it/s]"
      ]
     },
     "metadata": {},
     "output_type": "display_data"
    },
    {
     "data": {
      "application/vnd.jupyter.widget-view+json": {
       "model_id": "00176ffa997d4fcd864a3e31ef25840a",
       "version_major": 2,
       "version_minor": 0
      },
      "text/plain": [
       "  0%|          | 0/1654 [00:00<?, ?it/s]"
      ]
     },
     "metadata": {},
     "output_type": "display_data"
    },
    {
     "name": "stdout",
     "output_type": "stream",
     "text": [
      "Train Loss = 0.37297656807661694\n",
      "Train Acc = 0.9282259457591985\n",
      "Val Loss = 0.32049627407764314\n",
      "Val Acc = 0.9455864570737605\n",
      "Starting Epoch 11...\n"
     ]
    },
    {
     "data": {
      "application/vnd.jupyter.widget-view+json": {
       "model_id": "54902af1d6a34ec0b67d19f4f31eefad",
       "version_major": 2,
       "version_minor": 0
      },
      "text/plain": [
       "  0%|          | 0/11578 [00:00<?, ?it/s]"
      ]
     },
     "metadata": {},
     "output_type": "display_data"
    },
    {
     "data": {
      "application/vnd.jupyter.widget-view+json": {
       "model_id": "68f4dd54cb064e299ec5a2688b52a971",
       "version_major": 2,
       "version_minor": 0
      },
      "text/plain": [
       "  0%|          | 0/1654 [00:00<?, ?it/s]"
      ]
     },
     "metadata": {},
     "output_type": "display_data"
    },
    {
     "name": "stdout",
     "output_type": "stream",
     "text": [
      "Train Loss = 0.35124717036852815\n",
      "Train Acc = 0.9379858352046986\n",
      "Val Loss = 0.33207920562624826\n",
      "Val Acc = 0.9407496977025392\n",
      "Starting Epoch 12...\n"
     ]
    },
    {
     "data": {
      "application/vnd.jupyter.widget-view+json": {
       "model_id": "360e622f069d4573b6e307064f00fca8",
       "version_major": 2,
       "version_minor": 0
      },
      "text/plain": [
       "  0%|          | 0/11578 [00:00<?, ?it/s]"
      ]
     },
     "metadata": {},
     "output_type": "display_data"
    },
    {
     "data": {
      "application/vnd.jupyter.widget-view+json": {
       "model_id": "a828e74f023649f18ecba42c4234c982",
       "version_major": 2,
       "version_minor": 0
      },
      "text/plain": [
       "  0%|          | 0/1654 [00:00<?, ?it/s]"
      ]
     },
     "metadata": {},
     "output_type": "display_data"
    },
    {
     "name": "stdout",
     "output_type": "stream",
     "text": [
      "Train Loss = 0.34477250724983893\n",
      "Train Acc = 0.939367766453619\n",
      "Val Loss = 0.3437571645718185\n",
      "Val Acc = 0.9316807738814994\n",
      "Starting Epoch 13...\n"
     ]
    },
    {
     "data": {
      "application/vnd.jupyter.widget-view+json": {
       "model_id": "841ad94f29b34377b1843dd81e6c24c1",
       "version_major": 2,
       "version_minor": 0
      },
      "text/plain": [
       "  0%|          | 0/11578 [00:00<?, ?it/s]"
      ]
     },
     "metadata": {},
     "output_type": "display_data"
    },
    {
     "data": {
      "application/vnd.jupyter.widget-view+json": {
       "model_id": "bc85329e07114d99ab6d5096bfb25379",
       "version_major": 2,
       "version_minor": 0
      },
      "text/plain": [
       "  0%|          | 0/1654 [00:00<?, ?it/s]"
      ]
     },
     "metadata": {},
     "output_type": "display_data"
    },
    {
     "name": "stdout",
     "output_type": "stream",
     "text": [
      "Train Loss = 0.33958520539532533\n",
      "Train Acc = 0.9437726723095526\n",
      "Val Loss = 0.38055020661652444\n",
      "Val Acc = 0.9274486094316807\n",
      "Starting Epoch 14...\n"
     ]
    },
    {
     "data": {
      "application/vnd.jupyter.widget-view+json": {
       "model_id": "fb5584a12e994469a4c0d5d8ad0fa830",
       "version_major": 2,
       "version_minor": 0
      },
      "text/plain": [
       "  0%|          | 0/11578 [00:00<?, ?it/s]"
      ]
     },
     "metadata": {},
     "output_type": "display_data"
    },
    {
     "data": {
      "application/vnd.jupyter.widget-view+json": {
       "model_id": "d53bff5b9e5d4cf5967ec5ba00ed6855",
       "version_major": 2,
       "version_minor": 0
      },
      "text/plain": [
       "  0%|          | 0/1654 [00:00<?, ?it/s]"
      ]
     },
     "metadata": {},
     "output_type": "display_data"
    },
    {
     "name": "stdout",
     "output_type": "stream",
     "text": [
      "Train Loss = 0.3347416604034308\n",
      "Train Acc = 0.9434271894973225\n",
      "Val Loss = 0.33013287634609517\n",
      "Val Acc = 0.9401451027811366\n",
      "Starting Epoch 15...\n"
     ]
    },
    {
     "data": {
      "application/vnd.jupyter.widget-view+json": {
       "model_id": "93eeaa32d19548b195423787e72c70ed",
       "version_major": 2,
       "version_minor": 0
      },
      "text/plain": [
       "  0%|          | 0/11578 [00:00<?, ?it/s]"
      ]
     },
     "metadata": {},
     "output_type": "display_data"
    },
    {
     "data": {
      "application/vnd.jupyter.widget-view+json": {
       "model_id": "eb4a0bf8cfe646d0804b90dfad42b233",
       "version_major": 2,
       "version_minor": 0
      },
      "text/plain": [
       "  0%|          | 0/1654 [00:00<?, ?it/s]"
      ]
     },
     "metadata": {},
     "output_type": "display_data"
    },
    {
     "name": "stdout",
     "output_type": "stream",
     "text": [
      "Train Loss = 0.3278269871736394\n",
      "Train Acc = 0.9485230609777163\n",
      "Val Loss = 0.30057286659472765\n",
      "Val Acc = 0.9546553808948005\n"
     ]
    },
    {
     "data": {
      "image/png": "[encoded data removed]",
      "text/plain": [
       "<Figure size 640x480 with 1 Axes>"
      ]
     },
     "metadata": {},
     "output_type": "display_data"
    }
   ],
   "source": [
    "tcn_model_2 = tcn_classifier(9, [128, 64, 32, 16, 4], False, False)\n",
    "tag = f'TCN_{dataset_ver}_NonCausal_128-64-32-16-4'\n",
    "print(tcn_model_2)\n",
    "train_losses, val_losses = train_TCN(tcn_model_2, 1e-3, 15, 5, tag)\n",
    "plot_loss_graph(train_losses, val_losses, tag)"
   ]
  },
  {
   "cell_type": "code",
   "execution_count": 9,
   "metadata": {},
   "outputs": [
    {
     "name": "stdout",
     "output_type": "stream",
     "text": [
      "tcn_classifier(\n",
      "  (tcn): TCN(\n",
      "    (downsample_skip_connection): ModuleList(\n",
      "      (0): Conv1d(128, 4, kernel_size=(1,), stride=(1,))\n",
      "      (1): Conv1d(64, 4, kernel_size=(1,), stride=(1,))\n",
      "      (2): Conv1d(32, 4, kernel_size=(1,), stride=(1,))\n",
      "      (3): Conv1d(16, 4, kernel_size=(1,), stride=(1,))\n",
      "      (4): None\n",
      "    )\n",
      "    (activation_skip_out): ReLU()\n",
      "    (network): ModuleList(\n",
      "      (0): TemporalBlock(\n",
      "        (conv1): ParametrizedCausalConv1d(\n",
      "          9, 128, kernel_size=(4,), stride=(1,)\n",
      "          (parametrizations): ModuleDict(\n",
      "            (weight): ParametrizationList(\n",
      "              (0): _WeightNorm()\n",
      "            )\n",
      "          )\n",
      "        )\n",
      "        (conv2): ParametrizedCausalConv1d(\n",
      "          128, 128, kernel_size=(4,), stride=(1,)\n",
      "          (parametrizations): ModuleDict(\n",
      "            (weight): ParametrizationList(\n",
      "              (0): _WeightNorm()\n",
      "            )\n",
      "          )\n",
      "        )\n",
      "        (activation1): ReLU()\n",
      "        (activation2): ReLU()\n",
      "        (activation_final): ReLU()\n",
      "        (dropout1): Dropout(p=0.1, inplace=False)\n",
      "        (dropout2): Dropout(p=0.1, inplace=False)\n",
      "        (downsample): Conv1d(9, 128, kernel_size=(1,), stride=(1,))\n",
      "      )\n",
      "      (1): TemporalBlock(\n",
      "        (conv1): ParametrizedCausalConv1d(\n",
      "          128, 64, kernel_size=(4,), stride=(1,), dilation=(2,)\n",
      "          (parametrizations): ModuleDict(\n",
      "            (weight): ParametrizationList(\n",
      "              (0): _WeightNorm()\n",
      "            )\n",
      "          )\n",
      "        )\n",
      "        (conv2): ParametrizedCausalConv1d(\n",
      "          64, 64, kernel_size=(4,), stride=(1,), dilation=(2,)\n",
      "          (parametrizations): ModuleDict(\n",
      "            (weight): ParametrizationList(\n",
      "              (0): _WeightNorm()\n",
      "            )\n",
      "          )\n",
      "        )\n",
      "        (activation1): ReLU()\n",
      "        (activation2): ReLU()\n",
      "        (activation_final): ReLU()\n",
      "        (dropout1): Dropout(p=0.1, inplace=False)\n",
      "        (dropout2): Dropout(p=0.1, inplace=False)\n",
      "        (downsample): Conv1d(128, 64, kernel_size=(1,), stride=(1,))\n",
      "      )\n",
      "      (2): TemporalBlock(\n",
      "        (conv1): ParametrizedCausalConv1d(\n",
      "          64, 32, kernel_size=(4,), stride=(1,), dilation=(4,)\n",
      "          (parametrizations): ModuleDict(\n",
      "            (weight): ParametrizationList(\n",
      "              (0): _WeightNorm()\n",
      "            )\n",
      "          )\n",
      "        )\n",
      "        (conv2): ParametrizedCausalConv1d(\n",
      "          32, 32, kernel_size=(4,), stride=(1,), dilation=(4,)\n",
      "          (parametrizations): ModuleDict(\n",
      "            (weight): ParametrizationList(\n",
      "              (0): _WeightNorm()\n",
      "            )\n",
      "          )\n",
      "        )\n",
      "        (activation1): ReLU()\n",
      "        (activation2): ReLU()\n",
      "        (activation_final): ReLU()\n",
      "        (dropout1): Dropout(p=0.1, inplace=False)\n",
      "        (dropout2): Dropout(p=0.1, inplace=False)\n",
      "        (downsample): Conv1d(64, 32, kernel_size=(1,), stride=(1,))\n",
      "      )\n",
      "      (3): TemporalBlock(\n",
      "        (conv1): ParametrizedCausalConv1d(\n",
      "          32, 16, kernel_size=(4,), stride=(1,), dilation=(8,)\n",
      "          (parametrizations): ModuleDict(\n",
      "            (weight): ParametrizationList(\n",
      "              (0): _WeightNorm()\n",
      "            )\n",
      "          )\n",
      "        )\n",
      "        (conv2): ParametrizedCausalConv1d(\n",
      "          16, 16, kernel_size=(4,), stride=(1,), dilation=(8,)\n",
      "          (parametrizations): ModuleDict(\n",
      "            (weight): ParametrizationList(\n",
      "              (0): _WeightNorm()\n",
      "            )\n",
      "          )\n",
      "        )\n",
      "        (activation1): ReLU()\n",
      "        (activation2): ReLU()\n",
      "        (activation_final): ReLU()\n",
      "        (dropout1): Dropout(p=0.1, inplace=False)\n",
      "        (dropout2): Dropout(p=0.1, inplace=False)\n",
      "        (downsample): Conv1d(32, 16, kernel_size=(1,), stride=(1,))\n",
      "      )\n",
      "      (4): TemporalBlock(\n",
      "        (conv1): ParametrizedCausalConv1d(\n",
      "          16, 4, kernel_size=(4,), stride=(1,), dilation=(16,)\n",
      "          (parametrizations): ModuleDict(\n",
      "            (weight): ParametrizationList(\n",
      "              (0): _WeightNorm()\n",
      "            )\n",
      "          )\n",
      "        )\n",
      "        (conv2): ParametrizedCausalConv1d(\n",
      "          4, 4, kernel_size=(4,), stride=(1,), dilation=(16,)\n",
      "          (parametrizations): ModuleDict(\n",
      "            (weight): ParametrizationList(\n",
      "              (0): _WeightNorm()\n",
      "            )\n",
      "          )\n",
      "        )\n",
      "        (activation1): ReLU()\n",
      "        (activation2): ReLU()\n",
      "        (activation_final): ReLU()\n",
      "        (dropout1): Dropout(p=0.1, inplace=False)\n",
      "        (dropout2): Dropout(p=0.1, inplace=False)\n",
      "        (downsample): Conv1d(16, 4, kernel_size=(1,), stride=(1,))\n",
      "      )\n",
      "    )\n",
      "  )\n",
      ")\n",
      "Starting Epoch 1...\n"
     ]
    },
    {
     "data": {
      "application/vnd.jupyter.widget-view+json": {
       "model_id": "e3af21bc1e1f44df90ef1c4c786888e7",
       "version_major": 2,
       "version_minor": 0
      },
      "text/plain": [
       "  0%|          | 0/11578 [00:00<?, ?it/s]"
      ]
     },
     "metadata": {},
     "output_type": "display_data"
    },
    {
     "data": {
      "application/vnd.jupyter.widget-view+json": {
       "model_id": "f85c922c535843db95b0dd0f69264b9d",
       "version_major": 2,
       "version_minor": 0
      },
      "text/plain": [
       "  0%|          | 0/1654 [00:00<?, ?it/s]"
      ]
     },
     "metadata": {},
     "output_type": "display_data"
    },
    {
     "name": "stdout",
     "output_type": "stream",
     "text": [
      "Train Loss = 0.7714250736371169\n",
      "Train Acc = 0.7001209189842805\n",
      "Val Loss = 0.5511447048780703\n",
      "Val Acc = 0.7859733978234583\n",
      "Starting Epoch 2...\n"
     ]
    },
    {
     "data": {
      "application/vnd.jupyter.widget-view+json": {
       "model_id": "ccede9455ade4bef81cb01ba3111ae54",
       "version_major": 2,
       "version_minor": 0
      },
      "text/plain": [
       "  0%|          | 0/11578 [00:00<?, ?it/s]"
      ]
     },
     "metadata": {},
     "output_type": "display_data"
    },
    {
     "data": {
      "application/vnd.jupyter.widget-view+json": {
       "model_id": "105d291421d342469c60a8783655089f",
       "version_major": 2,
       "version_minor": 0
      },
      "text/plain": [
       "  0%|          | 0/1654 [00:00<?, ?it/s]"
      ]
     },
     "metadata": {},
     "output_type": "display_data"
    },
    {
     "name": "stdout",
     "output_type": "stream",
     "text": [
      "Train Loss = 0.5192702181201357\n",
      "Train Acc = 0.7969424771117637\n",
      "Val Loss = 0.4653830246248277\n",
      "Val Acc = 0.8089480048367593\n",
      "Starting Epoch 3...\n"
     ]
    },
    {
     "data": {
      "application/vnd.jupyter.widget-view+json": {
       "model_id": "0030daf5e1ea43d28ecc46f718070f8d",
       "version_major": 2,
       "version_minor": 0
      },
      "text/plain": [
       "  0%|          | 0/11578 [00:00<?, ?it/s]"
      ]
     },
     "metadata": {},
     "output_type": "display_data"
    },
    {
     "data": {
      "application/vnd.jupyter.widget-view+json": {
       "model_id": "ecd5dc34a7134d6ebdfa15ad2af2a221",
       "version_major": 2,
       "version_minor": 0
      },
      "text/plain": [
       "  0%|          | 0/1654 [00:00<?, ?it/s]"
      ]
     },
     "metadata": {},
     "output_type": "display_data"
    },
    {
     "name": "stdout",
     "output_type": "stream",
     "text": [
      "Train Loss = 0.45668613651766166\n",
      "Train Acc = 0.8103299360856797\n",
      "Val Loss = 0.41142268262829584\n",
      "Val Acc = 0.8270858524788391\n",
      "Starting Epoch 4...\n"
     ]
    },
    {
     "data": {
      "application/vnd.jupyter.widget-view+json": {
       "model_id": "03b2bbee8f664254aac3e28de9ba9ac8",
       "version_major": 2,
       "version_minor": 0
      },
      "text/plain": [
       "  0%|          | 0/11578 [00:00<?, ?it/s]"
      ]
     },
     "metadata": {},
     "output_type": "display_data"
    },
    {
     "data": {
      "application/vnd.jupyter.widget-view+json": {
       "model_id": "a1eb0befc5134c8ab55a0856fdbe8b7d",
       "version_major": 2,
       "version_minor": 0
      },
      "text/plain": [
       "  0%|          | 0/1654 [00:00<?, ?it/s]"
      ]
     },
     "metadata": {},
     "output_type": "display_data"
    },
    {
     "name": "stdout",
     "output_type": "stream",
     "text": [
      "Train Loss = 0.41066279744197476\n",
      "Train Acc = 0.8195716013128347\n",
      "Val Loss = 0.3458436415521306\n",
      "Val Acc = 0.8355501813784765\n",
      "Starting Epoch 5...\n"
     ]
    },
    {
     "data": {
      "application/vnd.jupyter.widget-view+json": {
       "model_id": "f53af546d1d04de893823bb8a0a82094",
       "version_major": 2,
       "version_minor": 0
      },
      "text/plain": [
       "  0%|          | 0/11578 [00:00<?, ?it/s]"
      ]
     },
     "metadata": {},
     "output_type": "display_data"
    },
    {
     "data": {
      "application/vnd.jupyter.widget-view+json": {
       "model_id": "8acca2cbd73b4c0baab21f9bacd74dd8",
       "version_major": 2,
       "version_minor": 0
      },
      "text/plain": [
       "  0%|          | 0/1654 [00:00<?, ?it/s]"
      ]
     },
     "metadata": {},
     "output_type": "display_data"
    },
    {
     "name": "stdout",
     "output_type": "stream",
     "text": [
      "Train Loss = 0.385012547693099\n",
      "Train Acc = 0.8220763517015028\n",
      "Val Loss = 0.35331269347405847\n",
      "Val Acc = 0.837968561064087\n",
      "Starting Epoch 6...\n"
     ]
    },
    {
     "data": {
      "application/vnd.jupyter.widget-view+json": {
       "model_id": "b3c6abd00a6a473d8556a9f60cfe82eb",
       "version_major": 2,
       "version_minor": 0
      },
      "text/plain": [
       "  0%|          | 0/11578 [00:00<?, ?it/s]"
      ]
     },
     "metadata": {},
     "output_type": "display_data"
    },
    {
     "data": {
      "application/vnd.jupyter.widget-view+json": {
       "model_id": "579dc09ccd0d4d2b8fb639c3daa51c6b",
       "version_major": 2,
       "version_minor": 0
      },
      "text/plain": [
       "  0%|          | 0/1654 [00:00<?, ?it/s]"
      ]
     },
     "metadata": {},
     "output_type": "display_data"
    },
    {
     "name": "stdout",
     "output_type": "stream",
     "text": [
      "Train Loss = 0.3688989067693775\n",
      "Train Acc = 0.8238901364657109\n",
      "Val Loss = 0.32065461039312254\n",
      "Val Acc = 0.8422007255139057\n",
      "Starting Epoch 7...\n"
     ]
    },
    {
     "data": {
      "application/vnd.jupyter.widget-view+json": {
       "model_id": "bd431477faeb49dd81714e09d929bd10",
       "version_major": 2,
       "version_minor": 0
      },
      "text/plain": [
       "  0%|          | 0/11578 [00:00<?, ?it/s]"
      ]
     },
     "metadata": {},
     "output_type": "display_data"
    },
    {
     "data": {
      "application/vnd.jupyter.widget-view+json": {
       "model_id": "6538d26c84894958ba8078346d9dd07b",
       "version_major": 2,
       "version_minor": 0
      },
      "text/plain": [
       "  0%|          | 0/1654 [00:00<?, ?it/s]"
      ]
     },
     "metadata": {},
     "output_type": "display_data"
    },
    {
     "name": "stdout",
     "output_type": "stream",
     "text": [
      "Train Loss = 0.35592545216087046\n",
      "Train Acc = 0.8295042321644498\n",
      "Val Loss = 0.3567505549315045\n",
      "Val Acc = 0.8391777509068924\n",
      "Starting Epoch 8...\n"
     ]
    },
    {
     "data": {
      "application/vnd.jupyter.widget-view+json": {
       "model_id": "da0984a9f2b14033a06f2e4915d3304a",
       "version_major": 2,
       "version_minor": 0
      },
      "text/plain": [
       "  0%|          | 0/11578 [00:00<?, ?it/s]"
      ]
     },
     "metadata": {},
     "output_type": "display_data"
    },
    {
     "data": {
      "application/vnd.jupyter.widget-view+json": {
       "model_id": "8d351655e3ce42d68c87f990f3ed57ad",
       "version_major": 2,
       "version_minor": 0
      },
      "text/plain": [
       "  0%|          | 0/1654 [00:00<?, ?it/s]"
      ]
     },
     "metadata": {},
     "output_type": "display_data"
    },
    {
     "name": "stdout",
     "output_type": "stream",
     "text": [
      "Train Loss = 0.34454292669730674\n",
      "Train Acc = 0.8293314907583348\n",
      "Val Loss = 0.33371951260485994\n",
      "Val Acc = 0.8385731559854898\n",
      "Starting Epoch 9...\n"
     ]
    },
    {
     "data": {
      "application/vnd.jupyter.widget-view+json": {
       "model_id": "88ad038dc784453186068ec7f04b5fe7",
       "version_major": 2,
       "version_minor": 0
      },
      "text/plain": [
       "  0%|          | 0/11578 [00:00<?, ?it/s]"
      ]
     },
     "metadata": {},
     "output_type": "display_data"
    },
    {
     "data": {
      "application/vnd.jupyter.widget-view+json": {
       "model_id": "d7329224cfe645a1bd4dffbef3cb720a",
       "version_major": 2,
       "version_minor": 0
      },
      "text/plain": [
       "  0%|          | 0/1654 [00:00<?, ?it/s]"
      ]
     },
     "metadata": {},
     "output_type": "display_data"
    },
    {
     "name": "stdout",
     "output_type": "stream",
     "text": [
      "Train Loss = 0.32780944032730086\n",
      "Train Acc = 0.8319226118500604\n",
      "Val Loss = 0.3098244687497648\n",
      "Val Acc = 0.8464328899637243\n",
      "Starting Epoch 10...\n"
     ]
    },
    {
     "data": {
      "application/vnd.jupyter.widget-view+json": {
       "model_id": "7243ca13dafb4d5a8bbed97500356d2f",
       "version_major": 2,
       "version_minor": 0
      },
      "text/plain": [
       "  0%|          | 0/11578 [00:00<?, ?it/s]"
      ]
     },
     "metadata": {},
     "output_type": "display_data"
    },
    {
     "data": {
      "application/vnd.jupyter.widget-view+json": {
       "model_id": "3fe2a3e74b994b64b4c10513a4456e86",
       "version_major": 2,
       "version_minor": 0
      },
      "text/plain": [
       "  0%|          | 0/1654 [00:00<?, ?it/s]"
      ]
     },
     "metadata": {},
     "output_type": "display_data"
    },
    {
     "name": "stdout",
     "output_type": "stream",
     "text": [
      "Train Loss = 0.3262107403725317\n",
      "Train Acc = 0.8327863188806357\n",
      "Val Loss = 0.3097852194387674\n",
      "Val Acc = 0.8409915356711004\n",
      "Starting Epoch 11...\n"
     ]
    },
    {
     "data": {
      "application/vnd.jupyter.widget-view+json": {
       "model_id": "22418c248fbb44aaaffcc6310710d006",
       "version_major": 2,
       "version_minor": 0
      },
      "text/plain": [
       "  0%|          | 0/11578 [00:00<?, ?it/s]"
      ]
     },
     "metadata": {},
     "output_type": "display_data"
    },
    {
     "data": {
      "application/vnd.jupyter.widget-view+json": {
       "model_id": "84501deb39c84c4db986174dd1510493",
       "version_major": 2,
       "version_minor": 0
      },
      "text/plain": [
       "  0%|          | 0/1654 [00:00<?, ?it/s]"
      ]
     },
     "metadata": {},
     "output_type": "display_data"
    },
    {
     "name": "stdout",
     "output_type": "stream",
     "text": [
      "Train Loss = 0.31453702305230846\n",
      "Train Acc = 0.8345137329417861\n",
      "Val Loss = 0.3122770188911896\n",
      "Val Acc = 0.8385731559854898\n",
      "Starting Epoch 12...\n"
     ]
    },
    {
     "data": {
      "application/vnd.jupyter.widget-view+json": {
       "model_id": "eba52549a019432abc17e2ce2f42fe98",
       "version_major": 2,
       "version_minor": 0
      },
      "text/plain": [
       "  0%|          | 0/11578 [00:00<?, ?it/s]"
      ]
     },
     "metadata": {},
     "output_type": "display_data"
    },
    {
     "data": {
      "application/vnd.jupyter.widget-view+json": {
       "model_id": "219e323d3d984391bc736705a5aa6849",
       "version_major": 2,
       "version_minor": 0
      },
      "text/plain": [
       "  0%|          | 0/1654 [00:00<?, ?it/s]"
      ]
     },
     "metadata": {},
     "output_type": "display_data"
    },
    {
     "name": "stdout",
     "output_type": "stream",
     "text": [
      "Train Loss = 0.30365360665997315\n",
      "Train Acc = 0.8388322680946623\n",
      "Val Loss = 0.29416071292309626\n",
      "Val Acc = 0.8482466747279322\n",
      "Starting Epoch 13...\n"
     ]
    },
    {
     "data": {
      "application/vnd.jupyter.widget-view+json": {
       "model_id": "97697904b801486482595e9ca3243284",
       "version_major": 2,
       "version_minor": 0
      },
      "text/plain": [
       "  0%|          | 0/11578 [00:00<?, ?it/s]"
      ]
     },
     "metadata": {},
     "output_type": "display_data"
    },
    {
     "data": {
      "application/vnd.jupyter.widget-view+json": {
       "model_id": "b28679e003664dfe8f3970021a77665d",
       "version_major": 2,
       "version_minor": 0
      },
      "text/plain": [
       "  0%|          | 0/1654 [00:00<?, ?it/s]"
      ]
     },
     "metadata": {},
     "output_type": "display_data"
    },
    {
     "name": "stdout",
     "output_type": "stream",
     "text": [
      "Train Loss = 0.3057324912608531\n",
      "Train Acc = 0.8362411470029366\n",
      "Val Loss = 0.28141038338024454\n",
      "Val Acc = 0.8512696493349455\n",
      "Starting Epoch 14...\n"
     ]
    },
    {
     "data": {
      "application/vnd.jupyter.widget-view+json": {
       "model_id": "d982a6b220db482c82ba6445da8c51c4",
       "version_major": 2,
       "version_minor": 0
      },
      "text/plain": [
       "  0%|          | 0/11578 [00:00<?, ?it/s]"
      ]
     },
     "metadata": {},
     "output_type": "display_data"
    },
    {
     "data": {
      "application/vnd.jupyter.widget-view+json": {
       "model_id": "48e7224d82da4bbb91e2091a83a48229",
       "version_major": 2,
       "version_minor": 0
      },
      "text/plain": [
       "  0%|          | 0/1654 [00:00<?, ?it/s]"
      ]
     },
     "metadata": {},
     "output_type": "display_data"
    },
    {
     "name": "stdout",
     "output_type": "stream",
     "text": [
      "Train Loss = 0.30008441136762176\n",
      "Train Acc = 0.8374503368457419\n",
      "Val Loss = 0.29967486038325447\n",
      "Val Acc = 0.8391777509068924\n",
      "Starting Epoch 15...\n"
     ]
    },
    {
     "data": {
      "application/vnd.jupyter.widget-view+json": {
       "model_id": "a1ad7a67c0564520ab980d86f107e372",
       "version_major": 2,
       "version_minor": 0
      },
      "text/plain": [
       "  0%|          | 0/11578 [00:00<?, ?it/s]"
      ]
     },
     "metadata": {},
     "output_type": "display_data"
    },
    {
     "data": {
      "application/vnd.jupyter.widget-view+json": {
       "model_id": "275dd8a1c2de4408823d6d11c76c72fc",
       "version_major": 2,
       "version_minor": 0
      },
      "text/plain": [
       "  0%|          | 0/1654 [00:00<?, ?it/s]"
      ]
     },
     "metadata": {},
     "output_type": "display_data"
    },
    {
     "name": "stdout",
     "output_type": "stream",
     "text": [
      "Train Loss = 0.2944348145767497\n",
      "Train Acc = 0.8400414579374677\n",
      "Val Loss = 0.34568101339861423\n",
      "Val Acc = 0.837968561064087\n"
     ]
    },
    {
     "data": {
      "image/png": "[encoded data removed]",
      "text/plain": [
       "<Figure size 640x480 with 1 Axes>"
      ]
     },
     "metadata": {},
     "output_type": "display_data"
    }
   ],
   "source": [
    "tcn_model_3 = tcn_classifier(9, [128, 64, 32, 16, 4], True, True)\n",
    "tag = f'TCN_{dataset_ver}_CausalSkip_128-64-32-16-4'\n",
    "print(tcn_model_3)\n",
    "train_losses, val_losses = train_TCN(tcn_model_3, 1e-3, 15, 5, tag)\n",
    "plot_loss_graph(train_losses, val_losses, tag)"
   ]
  },
  {
   "cell_type": "code",
   "execution_count": 9,
   "metadata": {},
   "outputs": [
    {
     "name": "stdout",
     "output_type": "stream",
     "text": [
      "tcn_classifier(\n",
      "  (tcn): TCN(\n",
      "    (downsample_skip_connection): ModuleList(\n",
      "      (0): Conv1d(128, 4, kernel_size=(1,), stride=(1,))\n",
      "      (1): Conv1d(64, 4, kernel_size=(1,), stride=(1,))\n",
      "      (2): Conv1d(32, 4, kernel_size=(1,), stride=(1,))\n",
      "      (3): Conv1d(16, 4, kernel_size=(1,), stride=(1,))\n",
      "      (4): None\n",
      "    )\n",
      "    (activation_skip_out): ReLU()\n",
      "    (network): ModuleList(\n",
      "      (0): TemporalBlock(\n",
      "        (conv1): ParametrizedTemporalConv1d(\n",
      "          9, 128, kernel_size=(4,), stride=(1,), padding=(1,)\n",
      "          (parametrizations): ModuleDict(\n",
      "            (weight): ParametrizationList(\n",
      "              (0): _WeightNorm()\n",
      "            )\n",
      "          )\n",
      "        )\n",
      "        (conv2): ParametrizedTemporalConv1d(\n",
      "          128, 128, kernel_size=(4,), stride=(1,), padding=(1,)\n",
      "          (parametrizations): ModuleDict(\n",
      "            (weight): ParametrizationList(\n",
      "              (0): _WeightNorm()\n",
      "            )\n",
      "          )\n",
      "        )\n",
      "        (activation1): ReLU()\n",
      "        (activation2): ReLU()\n",
      "        (activation_final): ReLU()\n",
      "        (dropout1): Dropout(p=0.1, inplace=False)\n",
      "        (dropout2): Dropout(p=0.1, inplace=False)\n",
      "        (downsample): Conv1d(9, 128, kernel_size=(1,), stride=(1,))\n",
      "      )\n",
      "      (1): TemporalBlock(\n",
      "        (conv1): ParametrizedTemporalConv1d(\n",
      "          128, 64, kernel_size=(4,), stride=(1,), padding=(3,), dilation=(2,)\n",
      "          (parametrizations): ModuleDict(\n",
      "            (weight): ParametrizationList(\n",
      "              (0): _WeightNorm()\n",
      "            )\n",
      "          )\n",
      "        )\n",
      "        (conv2): ParametrizedTemporalConv1d(\n",
      "          64, 64, kernel_size=(4,), stride=(1,), padding=(3,), dilation=(2,)\n",
      "          (parametrizations): ModuleDict(\n",
      "            (weight): ParametrizationList(\n",
      "              (0): _WeightNorm()\n",
      "            )\n",
      "          )\n",
      "        )\n",
      "        (activation1): ReLU()\n",
      "        (activation2): ReLU()\n",
      "        (activation_final): ReLU()\n",
      "        (dropout1): Dropout(p=0.1, inplace=False)\n",
      "        (dropout2): Dropout(p=0.1, inplace=False)\n",
      "        (downsample): Conv1d(128, 64, kernel_size=(1,), stride=(1,))\n",
      "      )\n",
      "      (2): TemporalBlock(\n",
      "        (conv1): ParametrizedTemporalConv1d(\n",
      "          64, 32, kernel_size=(4,), stride=(1,), padding=(6,), dilation=(4,)\n",
      "          (parametrizations): ModuleDict(\n",
      "            (weight): ParametrizationList(\n",
      "              (0): _WeightNorm()\n",
      "            )\n",
      "          )\n",
      "        )\n",
      "        (conv2): ParametrizedTemporalConv1d(\n",
      "          32, 32, kernel_size=(4,), stride=(1,), padding=(6,), dilation=(4,)\n",
      "          (parametrizations): ModuleDict(\n",
      "            (weight): ParametrizationList(\n",
      "              (0): _WeightNorm()\n",
      "            )\n",
      "          )\n",
      "        )\n",
      "        (activation1): ReLU()\n",
      "        (activation2): ReLU()\n",
      "        (activation_final): ReLU()\n",
      "        (dropout1): Dropout(p=0.1, inplace=False)\n",
      "        (dropout2): Dropout(p=0.1, inplace=False)\n",
      "        (downsample): Conv1d(64, 32, kernel_size=(1,), stride=(1,))\n",
      "      )\n",
      "      (3): TemporalBlock(\n",
      "        (conv1): ParametrizedTemporalConv1d(\n",
      "          32, 16, kernel_size=(4,), stride=(1,), padding=(12,), dilation=(8,)\n",
      "          (parametrizations): ModuleDict(\n",
      "            (weight): ParametrizationList(\n",
      "              (0): _WeightNorm()\n",
      "            )\n",
      "          )\n",
      "        )\n",
      "        (conv2): ParametrizedTemporalConv1d(\n",
      "          16, 16, kernel_size=(4,), stride=(1,), padding=(12,), dilation=(8,)\n",
      "          (parametrizations): ModuleDict(\n",
      "            (weight): ParametrizationList(\n",
      "              (0): _WeightNorm()\n",
      "            )\n",
      "          )\n",
      "        )\n",
      "        (activation1): ReLU()\n",
      "        (activation2): ReLU()\n",
      "        (activation_final): ReLU()\n",
      "        (dropout1): Dropout(p=0.1, inplace=False)\n",
      "        (dropout2): Dropout(p=0.1, inplace=False)\n",
      "        (downsample): Conv1d(32, 16, kernel_size=(1,), stride=(1,))\n",
      "      )\n",
      "      (4): TemporalBlock(\n",
      "        (conv1): ParametrizedTemporalConv1d(\n",
      "          16, 4, kernel_size=(4,), stride=(1,), padding=(24,), dilation=(16,)\n",
      "          (parametrizations): ModuleDict(\n",
      "            (weight): ParametrizationList(\n",
      "              (0): _WeightNorm()\n",
      "            )\n",
      "          )\n",
      "        )\n",
      "        (conv2): ParametrizedTemporalConv1d(\n",
      "          4, 4, kernel_size=(4,), stride=(1,), padding=(24,), dilation=(16,)\n",
      "          (parametrizations): ModuleDict(\n",
      "            (weight): ParametrizationList(\n",
      "              (0): _WeightNorm()\n",
      "            )\n",
      "          )\n",
      "        )\n",
      "        (activation1): ReLU()\n",
      "        (activation2): ReLU()\n",
      "        (activation_final): ReLU()\n",
      "        (dropout1): Dropout(p=0.1, inplace=False)\n",
      "        (dropout2): Dropout(p=0.1, inplace=False)\n",
      "        (downsample): Conv1d(16, 4, kernel_size=(1,), stride=(1,))\n",
      "      )\n",
      "    )\n",
      "  )\n",
      ")\n",
      "Starting Epoch 1...\n"
     ]
    },
    {
     "data": {
      "application/vnd.jupyter.widget-view+json": {
       "model_id": "95462f7b331f47619536fcac8bf12ab4",
       "version_major": 2,
       "version_minor": 0
      },
      "text/plain": [
       "  0%|          | 0/11578 [00:00<?, ?it/s]"
      ]
     },
     "metadata": {},
     "output_type": "display_data"
    },
    {
     "data": {
      "application/vnd.jupyter.widget-view+json": {
       "model_id": "3d36ec6a0d704362a61a1c8d17854fb3",
       "version_major": 2,
       "version_minor": 0
      },
      "text/plain": [
       "  0%|          | 0/1654 [00:00<?, ?it/s]"
      ]
     },
     "metadata": {},
     "output_type": "display_data"
    },
    {
     "name": "stdout",
     "output_type": "stream",
     "text": [
      "Train Loss = 0.7680669045596125\n",
      "Train Acc = 0.7015892209362584\n",
      "Val Loss = 0.6508722526433471\n",
      "Val Acc = 0.7938331318016929\n",
      "Starting Epoch 2...\n"
     ]
    },
    {
     "data": {
      "application/vnd.jupyter.widget-view+json": {
       "model_id": "b9d22c23e9964108a611bf0cda8a872b",
       "version_major": 2,
       "version_minor": 0
      },
      "text/plain": [
       "  0%|          | 0/11578 [00:00<?, ?it/s]"
      ]
     },
     "metadata": {},
     "output_type": "display_data"
    },
    {
     "data": {
      "application/vnd.jupyter.widget-view+json": {
       "model_id": "3369aaf35715439b93c1f9ca036af681",
       "version_major": 2,
       "version_minor": 0
      },
      "text/plain": [
       "  0%|          | 0/1654 [00:00<?, ?it/s]"
      ]
     },
     "metadata": {},
     "output_type": "display_data"
    },
    {
     "name": "stdout",
     "output_type": "stream",
     "text": [
      "Train Loss = 0.49285850196418407\n",
      "Train Acc = 0.8242356192779409\n",
      "Val Loss = 0.3761048316501075\n",
      "Val Acc = 0.8476420798065296\n",
      "Starting Epoch 3...\n"
     ]
    },
    {
     "data": {
      "application/vnd.jupyter.widget-view+json": {
       "model_id": "3d14d1b0e0e84bc19136e92402272514",
       "version_major": 2,
       "version_minor": 0
      },
      "text/plain": [
       "  0%|          | 0/11578 [00:00<?, ?it/s]"
      ]
     },
     "metadata": {},
     "output_type": "display_data"
    },
    {
     "data": {
      "application/vnd.jupyter.widget-view+json": {
       "model_id": "b134c839ce4a484f964839d724b255ca",
       "version_major": 2,
       "version_minor": 0
      },
      "text/plain": [
       "  0%|          | 0/1654 [00:00<?, ?it/s]"
      ]
     },
     "metadata": {},
     "output_type": "display_data"
    },
    {
     "name": "stdout",
     "output_type": "stream",
     "text": [
      "Train Loss = 0.35069486260482957\n",
      "Train Acc = 0.8672482294005873\n",
      "Val Loss = 0.3239050246525123\n",
      "Val Acc = 0.8681983071342201\n",
      "Starting Epoch 4...\n"
     ]
    },
    {
     "data": {
      "application/vnd.jupyter.widget-view+json": {
       "model_id": "66607bc878ec40af9421fb7b2e413682",
       "version_major": 2,
       "version_minor": 0
      },
      "text/plain": [
       "  0%|          | 0/11578 [00:00<?, ?it/s]"
      ]
     },
     "metadata": {},
     "output_type": "display_data"
    },
    {
     "data": {
      "application/vnd.jupyter.widget-view+json": {
       "model_id": "32b60959ecdf4118bea29d239e0016c4",
       "version_major": 2,
       "version_minor": 0
      },
      "text/plain": [
       "  0%|          | 0/1654 [00:00<?, ?it/s]"
      ]
     },
     "metadata": {},
     "output_type": "display_data"
    },
    {
     "name": "stdout",
     "output_type": "stream",
     "text": [
      "Train Loss = 0.29944975038267835\n",
      "Train Acc = 0.8878044567282778\n",
      "Val Loss = 0.29289241267883653\n",
      "Val Acc = 0.9032648125755743\n",
      "Starting Epoch 5...\n"
     ]
    },
    {
     "data": {
      "application/vnd.jupyter.widget-view+json": {
       "model_id": "403a0f3c4e854eb5a0a80e4c48d86ec1",
       "version_major": 2,
       "version_minor": 0
      },
      "text/plain": [
       "  0%|          | 0/11578 [00:00<?, ?it/s]"
      ]
     },
     "metadata": {},
     "output_type": "display_data"
    },
    {
     "data": {
      "application/vnd.jupyter.widget-view+json": {
       "model_id": "2906b92b878a40bbbfa64ce1ed1070ff",
       "version_major": 2,
       "version_minor": 0
      },
      "text/plain": [
       "  0%|          | 0/1654 [00:00<?, ?it/s]"
      ]
     },
     "metadata": {},
     "output_type": "display_data"
    },
    {
     "name": "stdout",
     "output_type": "stream",
     "text": [
      "Train Loss = 0.26649454870125466\n",
      "Train Acc = 0.900241837968561\n",
      "Val Loss = 0.2574737080295257\n",
      "Val Acc = 0.9044740024183797\n",
      "Starting Epoch 6...\n"
     ]
    },
    {
     "data": {
      "application/vnd.jupyter.widget-view+json": {
       "model_id": "673ec3f099e74cda9e1f5309862edd7e",
       "version_major": 2,
       "version_minor": 0
      },
      "text/plain": [
       "  0%|          | 0/11578 [00:00<?, ?it/s]"
      ]
     },
     "metadata": {},
     "output_type": "display_data"
    },
    {
     "data": {
      "application/vnd.jupyter.widget-view+json": {
       "model_id": "ea894d07fd8f4e168eb8197c63fadc39",
       "version_major": 2,
       "version_minor": 0
      },
      "text/plain": [
       "  0%|          | 0/1654 [00:00<?, ?it/s]"
      ]
     },
     "metadata": {},
     "output_type": "display_data"
    },
    {
     "name": "stdout",
     "output_type": "stream",
     "text": [
      "Train Loss = 0.23536725656452875\n",
      "Train Acc = 0.9144066332699948\n",
      "Val Loss = 0.2031997374564411\n",
      "Val Acc = 0.9268440145102781\n",
      "Starting Epoch 7...\n"
     ]
    },
    {
     "data": {
      "application/vnd.jupyter.widget-view+json": {
       "model_id": "4098d8a087a24da9a1cc13181fe5488b",
       "version_major": 2,
       "version_minor": 0
      },
      "text/plain": [
       "  0%|          | 0/11578 [00:00<?, ?it/s]"
      ]
     },
     "metadata": {},
     "output_type": "display_data"
    },
    {
     "data": {
      "application/vnd.jupyter.widget-view+json": {
       "model_id": "6a6b1fb0d9e54d06ba33030745629d18",
       "version_major": 2,
       "version_minor": 0
      },
      "text/plain": [
       "  0%|          | 0/1654 [00:00<?, ?it/s]"
      ]
     },
     "metadata": {},
     "output_type": "display_data"
    },
    {
     "name": "stdout",
     "output_type": "stream",
     "text": [
      "Train Loss = 0.21036487684419794\n",
      "Train Acc = 0.9227845914665745\n",
      "Val Loss = 0.1668148270434465\n",
      "Val Acc = 0.9353083434099153\n",
      "Starting Epoch 8...\n"
     ]
    },
    {
     "data": {
      "application/vnd.jupyter.widget-view+json": {
       "model_id": "21efd4474f8649d7b0cf111ea6572487",
       "version_major": 2,
       "version_minor": 0
      },
      "text/plain": [
       "  0%|          | 0/11578 [00:00<?, ?it/s]"
      ]
     },
     "metadata": {},
     "output_type": "display_data"
    },
    {
     "data": {
      "application/vnd.jupyter.widget-view+json": {
       "model_id": "4919533944844e5a945efb67e195fa0a",
       "version_major": 2,
       "version_minor": 0
      },
      "text/plain": [
       "  0%|          | 0/1654 [00:00<?, ?it/s]"
      ]
     },
     "metadata": {},
     "output_type": "display_data"
    },
    {
     "name": "stdout",
     "output_type": "stream",
     "text": [
      "Train Loss = 0.20239696961987502\n",
      "Train Acc = 0.9284850578683711\n",
      "Val Loss = 0.19617216175601523\n",
      "Val Acc = 0.9274486094316807\n",
      "Starting Epoch 9...\n"
     ]
    },
    {
     "data": {
      "application/vnd.jupyter.widget-view+json": {
       "model_id": "e99e368e177449acb0714d26129125a8",
       "version_major": 2,
       "version_minor": 0
      },
      "text/plain": [
       "  0%|          | 0/11578 [00:00<?, ?it/s]"
      ]
     },
     "metadata": {},
     "output_type": "display_data"
    },
    {
     "data": {
      "application/vnd.jupyter.widget-view+json": {
       "model_id": "05d7f977a06a455caa3985003eb7761a",
       "version_major": 2,
       "version_minor": 0
      },
      "text/plain": [
       "  0%|          | 0/1654 [00:00<?, ?it/s]"
      ]
     },
     "metadata": {},
     "output_type": "display_data"
    },
    {
     "name": "stdout",
     "output_type": "stream",
     "text": [
      "Train Loss = 0.18490989952952644\n",
      "Train Acc = 0.9350492313007428\n",
      "Val Loss = 0.16009630188183224\n",
      "Val Acc = 0.9419588875453446\n",
      "Starting Epoch 10...\n"
     ]
    },
    {
     "data": {
      "application/vnd.jupyter.widget-view+json": {
       "model_id": "c7cc2b08adb04e829d09f12d9767aa86",
       "version_major": 2,
       "version_minor": 0
      },
      "text/plain": [
       "  0%|          | 0/11578 [00:00<?, ?it/s]"
      ]
     },
     "metadata": {},
     "output_type": "display_data"
    },
    {
     "data": {
      "application/vnd.jupyter.widget-view+json": {
       "model_id": "530d718d7fb7422f99bb1dc67588f738",
       "version_major": 2,
       "version_minor": 0
      },
      "text/plain": [
       "  0%|          | 0/1654 [00:00<?, ?it/s]"
      ]
     },
     "metadata": {},
     "output_type": "display_data"
    },
    {
     "name": "stdout",
     "output_type": "stream",
     "text": [
      "Train Loss = 0.1700640064475619\n",
      "Train Acc = 0.9410951805147694\n",
      "Val Loss = 0.16909748440291492\n",
      "Val Acc = 0.9359129383313181\n",
      "Starting Epoch 11...\n"
     ]
    },
    {
     "data": {
      "application/vnd.jupyter.widget-view+json": {
       "model_id": "66060db55f604404bab095d40398f9f3",
       "version_major": 2,
       "version_minor": 0
      },
      "text/plain": [
       "  0%|          | 0/11578 [00:00<?, ?it/s]"
      ]
     },
     "metadata": {},
     "output_type": "display_data"
    },
    {
     "data": {
      "application/vnd.jupyter.widget-view+json": {
       "model_id": "1401d2bb418548bd86853b210d1ab0f5",
       "version_major": 2,
       "version_minor": 0
      },
      "text/plain": [
       "  0%|          | 0/1654 [00:00<?, ?it/s]"
      ]
     },
     "metadata": {},
     "output_type": "display_data"
    },
    {
     "name": "stdout",
     "output_type": "stream",
     "text": [
      "Train Loss = 0.16441445703653235\n",
      "Train Acc = 0.9420452582484021\n",
      "Val Loss = 0.19694768505348392\n",
      "Val Acc = 0.9153567110036276\n",
      "Starting Epoch 12...\n"
     ]
    },
    {
     "data": {
      "application/vnd.jupyter.widget-view+json": {
       "model_id": "69690676dfbc48fdb04268e1f52866e4",
       "version_major": 2,
       "version_minor": 0
      },
      "text/plain": [
       "  0%|          | 0/11578 [00:00<?, ?it/s]"
      ]
     },
     "metadata": {},
     "output_type": "display_data"
    },
    {
     "data": {
      "application/vnd.jupyter.widget-view+json": {
       "model_id": "5a10bd18be864e6eabc085d276439d8c",
       "version_major": 2,
       "version_minor": 0
      },
      "text/plain": [
       "  0%|          | 0/1654 [00:00<?, ?it/s]"
      ]
     },
     "metadata": {},
     "output_type": "display_data"
    },
    {
     "name": "stdout",
     "output_type": "stream",
     "text": [
      "Train Loss = 0.15358575265945817\n",
      "Train Acc = 0.9476593539471412\n",
      "Val Loss = 0.14400776409875507\n",
      "Val Acc = 0.9455864570737605\n",
      "Starting Epoch 13...\n"
     ]
    },
    {
     "data": {
      "application/vnd.jupyter.widget-view+json": {
       "model_id": "4e286c0f62ab403eac247bcd135e87dc",
       "version_major": 2,
       "version_minor": 0
      },
      "text/plain": [
       "  0%|          | 0/11578 [00:00<?, ?it/s]"
      ]
     },
     "metadata": {},
     "output_type": "display_data"
    },
    {
     "data": {
      "application/vnd.jupyter.widget-view+json": {
       "model_id": "a8a47556c2d141b685ca77ae1f71ed7c",
       "version_major": 2,
       "version_minor": 0
      },
      "text/plain": [
       "  0%|          | 0/1654 [00:00<?, ?it/s]"
      ]
     },
     "metadata": {},
     "output_type": "display_data"
    },
    {
     "name": "stdout",
     "output_type": "stream",
     "text": [
      "Train Loss = 0.13987971180008993\n",
      "Train Acc = 0.9495595094144066\n",
      "Val Loss = 0.1653980764445757\n",
      "Val Acc = 0.9437726723095526\n",
      "Starting Epoch 14...\n"
     ]
    },
    {
     "data": {
      "application/vnd.jupyter.widget-view+json": {
       "model_id": "c532b1176d4248e59b5161096c3c537b",
       "version_major": 2,
       "version_minor": 0
      },
      "text/plain": [
       "  0%|          | 0/11578 [00:00<?, ?it/s]"
      ]
     },
     "metadata": {},
     "output_type": "display_data"
    },
    {
     "data": {
      "application/vnd.jupyter.widget-view+json": {
       "model_id": "c15cf3b221324006b27fc1c77dc65430",
       "version_major": 2,
       "version_minor": 0
      },
      "text/plain": [
       "  0%|          | 0/1654 [00:00<?, ?it/s]"
      ]
     },
     "metadata": {},
     "output_type": "display_data"
    },
    {
     "name": "stdout",
     "output_type": "stream",
     "text": [
      "Train Loss = 0.12992333864261488\n",
      "Train Acc = 0.9559509414406633\n",
      "Val Loss = 0.13485489641374862\n",
      "Val Acc = 0.9540507859733979\n",
      "Starting Epoch 15...\n"
     ]
    },
    {
     "data": {
      "application/vnd.jupyter.widget-view+json": {
       "model_id": "2d56c1f790594323bf90405799fd1b6c",
       "version_major": 2,
       "version_minor": 0
      },
      "text/plain": [
       "  0%|          | 0/11578 [00:00<?, ?it/s]"
      ]
     },
     "metadata": {},
     "output_type": "display_data"
    },
    {
     "data": {
      "application/vnd.jupyter.widget-view+json": {
       "model_id": "d21841e9821e4e768a6157001e59d9a7",
       "version_major": 2,
       "version_minor": 0
      },
      "text/plain": [
       "  0%|          | 0/1654 [00:00<?, ?it/s]"
      ]
     },
     "metadata": {},
     "output_type": "display_data"
    },
    {
     "name": "stdout",
     "output_type": "stream",
     "text": [
      "Train Loss = 0.12704150817958906\n",
      "Train Acc = 0.9561236828467784\n",
      "Val Loss = 0.21561516389576776\n",
      "Val Acc = 0.9371221281741233\n"
     ]
    },
    {
     "data": {
      "image/png": "[encoded data removed]",
      "text/plain": [
       "<Figure size 640x480 with 1 Axes>"
      ]
     },
     "metadata": {},
     "output_type": "display_data"
    }
   ],
   "source": [
    "tcn_model_4 = tcn_classifier(9, [128, 64, 32, 16, 4], False, True)\n",
    "tag = f'TCN_{dataset_ver}_NonCausalSkip_128-64-32-16-4'\n",
    "print(tcn_model_4)\n",
    "train_losses, val_losses = train_TCN(tcn_model_4, 1e-3, 15, 5, tag)\n",
    "plot_loss_graph(train_losses, val_losses, tag)"
   ]
  }
 ],
 "metadata": {
  "kernelspec": {
   "display_name": "cv",
   "language": "python",
   "name": "python3"
  },
  "language_info": {
   "codemirror_mode": {
    "name": "ipython",
    "version": 3
   },
   "file_extension": ".py",
   "mimetype": "text/x-python",
   "name": "python",
   "nbconvert_exporter": "python",
   "pygments_lexer": "ipython3",
   "version": "3.11.2"
  }
 },
 "nbformat": 4,
 "nbformat_minor": 2
}
