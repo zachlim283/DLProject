{
 "cells": [
  {
   "cell_type": "code",
   "execution_count": 1,
   "metadata": {},
   "outputs": [
    {
     "name": "stdout",
     "output_type": "stream",
     "text": [
      "cuda\n"
     ]
    }
   ],
   "source": [
    "import torch\n",
    "import pickle\n",
    "import numpy as np\n",
    "import seaborn as sns\n",
    "import matplotlib.pyplot as plt\n",
    "import torch.nn as nn\n",
    "import torch.optim as optim\n",
    "from torch.utils.data import DataLoader\n",
    "from tqdm import tqdm_notebook as tqdm\n",
    "from sklearn import svm\n",
    "from sklearn.metrics import accuracy_score\n",
    "from sklearn.model_selection import train_test_split\n",
    "from sklearn.metrics import confusion_matrix\n",
    "\n",
    "if torch.cuda.is_available():\n",
    "    device = torch.device('cuda')\n",
    "elif torch.backends.mps.is_available():\n",
    "    device = torch.device(\"mps\") \n",
    "else:\n",
    "    device = torch.device(\"cpu\")\n",
    "print(device)"
   ]
  },
  {
   "cell_type": "code",
   "execution_count": 53,
   "metadata": {},
   "outputs": [],
   "source": [
    "### PARAMETERS ###\n",
    "dataset_ver = '3w05s_Larm'\n",
    "n_input = 9\n",
    "n_hidden = 360\n",
    "num_epochs = 20\n",
    "encoder_ver = f'{n_hidden}h{num_epochs}e'\n",
    "\n",
    "x_train = np.load(f'Generated_Datasets/train_data_{dataset_ver}.npy')\n",
    "x_test = np.load(f'Generated_Datasets/test_data_{dataset_ver}.npy')\n",
    "x_val = np.load(f'Generated_Datasets/val_data_{dataset_ver}.npy')\n",
    "y_train = np.load(f'Generated_Datasets/train_labels_{dataset_ver}.npy')\n",
    "y_test = np.load(f'Generated_Datasets/test_labels_{dataset_ver}.npy')\n",
    "y_val = np.load(f'Generated_Datasets/val_labels_{dataset_ver}.npy')"
   ]
  },
  {
   "cell_type": "code",
   "execution_count": 65,
   "metadata": {},
   "outputs": [
    {
     "name": "stdout",
     "output_type": "stream",
     "text": [
      "(15407, 60, 9) (4403, 60, 9) (2202, 60, 9)\n"
     ]
    },
    {
     "data": {
      "image/png": "[encoded data removed]",
      "text/plain": [
       "<Figure size 640x480 with 1 Axes>"
      ]
     },
     "metadata": {},
     "output_type": "display_data"
    }
   ],
   "source": [
    "# Check Dataset\n",
    "print(x_train.shape, x_test.shape, x_val.shape)\n",
    "unique_labels_train, label_counts_train = np.unique(y_train, return_counts=True)\n",
    "unique_labels_val, label_counts_val = np.unique(y_val, return_counts=True)\n",
    "unique_labels_test, label_counts_test = np.unique(y_test, return_counts=True)\n",
    "\n",
    "plt.bar(unique_labels_train, label_counts_train, label='Train')\n",
    "plt.bar(unique_labels_test, label_counts_test, label='Test')\n",
    "plt.bar(unique_labels_val, label_counts_val, label='Validation')\n",
    "\n",
    "# Set the x-axis tick labels\n",
    "plt.xticks(unique_labels_train, unique_labels_train)\n",
    "\n",
    "plt.xlabel('Labels')\n",
    "plt.ylabel('Count')\n",
    "plt.title('Label Distribution')\n",
    "plt.legend()\n",
    "plt.show()"
   ]
  },
  {
   "cell_type": "code",
   "execution_count": 69,
   "metadata": {},
   "outputs": [],
   "source": [
    "class CustomDataset(torch.utils.data.Dataset):\n",
    "    def __init__(self, dataset_type, dataset_ver):\n",
    "        self.X = np.array(np.load(f'Generated_Datasets/{dataset_type}_data_{dataset_ver}.npy'))\n",
    "        self.y = np.array(np.load(f'Generated_Datasets/{dataset_type}_labels_{dataset_ver}.npy'))\n",
    "\n",
    "    def __len__(self):\n",
    "        return len(self.X)\n",
    "    \n",
    "    def __getitem__(self, idx):\n",
    "        X = torch.from_numpy(self.X[idx]).float()\n",
    "        y = torch.from_numpy(np.asarray(self.y[idx])).float()\n",
    "        return X, y"
   ]
  },
  {
   "cell_type": "code",
   "execution_count": 9,
   "metadata": {},
   "outputs": [
    {
     "name": "stdout",
     "output_type": "stream",
     "text": [
      "Autoencoder(\n",
      "  (encoder): Encoder(\n",
      "    (LSTM1): LSTM(9, 720, batch_first=True)\n",
      "    (LSTM2): LSTM(720, 360, batch_first=True)\n",
      "  )\n",
      "  (decoder): Decoder(\n",
      "    (LSTM1): LSTM(360, 360, batch_first=True)\n",
      "    (LSTM2): LSTM(360, 720, batch_first=True)\n",
      "    (output): Linear(in_features=720, out_features=9, bias=True)\n",
      "  )\n",
      "  (loss): MSELoss()\n",
      ")\n"
     ]
    }
   ],
   "source": [
    "# Unidirectional LSTM\n",
    "class Encoder(nn.Module):\n",
    "    def __init__(self, input_size, hidden_size):\n",
    "        super(Encoder, self).__init__()\n",
    "        self.LSTM1 = nn.LSTM(input_size=input_size, hidden_size=hidden_size*2, batch_first=True)\n",
    "        self.LSTM2 = nn.LSTM(input_size=2*hidden_size, hidden_size=hidden_size, batch_first=True)\n",
    "\n",
    "    def forward(self, x):\n",
    "        x, (_, _) = self.LSTM1(x)\n",
    "        x, (encoded_x, _) = self.LSTM2(x)\n",
    "        return encoded_x[-1,:,:]\n",
    "\n",
    "\n",
    "class Decoder(nn.Module):\n",
    "    def __init__(self, hidden_size, output_size):\n",
    "        super(Decoder, self).__init__()\n",
    "        self.hidden_size = hidden_size\n",
    "        self.LSTM1 = nn.LSTM(input_size=hidden_size, hidden_size=hidden_size, batch_first=True)\n",
    "        self.LSTM2 = nn.LSTM(input_size=hidden_size, hidden_size=hidden_size*2, batch_first=True)\n",
    "        self.output = nn.Linear(self.hidden_size*2, output_size)\n",
    "\n",
    "    def forward(self, x):\n",
    "        # x = x.repeat(60, 1, 1)\n",
    "        # x = x.reshape(x.shape[1], 60, self.hidden_size)\n",
    "        x = x.unsqueeze(1).repeat(1, 60, 1)\n",
    "        x, (_, _) = self.LSTM1(x)\n",
    "        x, (_, _) = self.LSTM2(x)\n",
    "        x = self.output(x)\n",
    "        return x\n",
    "\n",
    "\n",
    "class Autoencoder(nn.Module):\n",
    "    def __init__(self, in_out_size, hidden_size):\n",
    "        super(Autoencoder, self).__init__()\n",
    "        self.encoder = Encoder(in_out_size, hidden_size).to(device)\n",
    "        self.decoder = Decoder(hidden_size, in_out_size).to(device)\n",
    "\n",
    "        self.loss = nn.MSELoss()\n",
    "\n",
    "    def forward(self, x):\n",
    "        x = self.encoder(x)\n",
    "        x = self.decoder(x)\n",
    "        return x\n",
    "    \n",
    "autoencoder = Autoencoder(n_input, n_hidden).to(device)\n",
    "print(autoencoder)"
   ]
  },
  {
   "cell_type": "code",
   "execution_count": 67,
   "metadata": {},
   "outputs": [],
   "source": [
    "# Bidirectional LSTM\n",
    "class Encoder(nn.Module):\n",
    "    def __init__(self, input_size, hidden_size):\n",
    "        super(Encoder, self).__init__()\n",
    "        self.LSTM1 = nn.LSTM(input_size=input_size, hidden_size=hidden_size, batch_first=True, bidirectional=True)\n",
    "        self.dropout = nn.Dropout(0.2)\n",
    "        self.LSTM2 = nn.LSTM(input_size=2*hidden_size, hidden_size=hidden_size, batch_first=True, bidirectional=True)\n",
    "        self.hidden_size = hidden_size\n",
    "\n",
    "    def forward(self, x):\n",
    "        x, (_, _) = self.LSTM1(x)\n",
    "        x = self.dropout(x)\n",
    "        x, (encoded_x, _) = self.LSTM2(x)\n",
    "        # Concatenate Forward + Backward Pass - (seq_len, batch, num_directions * hidden_size)  \n",
    "        encoded_x = (encoded_x[0, :, :] + encoded_x[1, :, :])\n",
    "        # print(\"Final Encoded: \", encoded_x.shape)\n",
    "        return encoded_x\n",
    "\n",
    "\n",
    "class Decoder(nn.Module):\n",
    "    def __init__(self, hidden_size, output_size):\n",
    "        super(Decoder, self).__init__()\n",
    "        self.hidden_size = hidden_size\n",
    "        self.LSTM1 = nn.LSTM(input_size=hidden_size, hidden_size=hidden_size, batch_first=True, bidirectional=True)\n",
    "        self.dropout = nn.Dropout(0.2)\n",
    "        self.LSTM2 = nn.LSTM(input_size=2*hidden_size, hidden_size=hidden_size, batch_first=True, bidirectional=True)\n",
    "        self.output = nn.Linear(hidden_size*2, output_size)\n",
    "\n",
    "    def forward(self, x):\n",
    "        # print(\"Decoder x: \", x.shape)\n",
    "        x = x.unsqueeze(1).repeat(1, 60, 1)\n",
    "        # print(\"Reshaped Decoder x: \", x.shape)\n",
    "        x, (_, _) = self.LSTM1(x)\n",
    "        x = self.dropout(x)\n",
    "        x, (_, _) = self.LSTM2(x)\n",
    "        x = self.output(x)\n",
    "        return x\n",
    "\n",
    "\n",
    "class Autoencoder(nn.Module):\n",
    "    def __init__(self, in_out_size, hidden_size):\n",
    "        super(Autoencoder, self).__init__()\n",
    "        self.encoder = Encoder(in_out_size, hidden_size).to(device)\n",
    "        self.decoder = Decoder(hidden_size, in_out_size).to(device)\n",
    "\n",
    "        self.loss = nn.MSELoss()\n",
    "\n",
    "    def forward(self, x):\n",
    "        x = self.encoder(x)\n",
    "        x = self.decoder(x)\n",
    "        return x"
   ]
  },
  {
   "cell_type": "code",
   "execution_count": 50,
   "metadata": {},
   "outputs": [
    {
     "name": "stdout",
     "output_type": "stream",
     "text": [
      "DANA(\n",
      "  (lstm): LSTM(9, 360, batch_first=True, bidirectional=True)\n",
      "  (fc1): Linear(in_features=360, out_features=128, bias=True)\n",
      "  (dropout): Dropout(p=0.2, inplace=False)\n",
      "  (fc2): Linear(in_features=128, out_features=9, bias=True)\n",
      "  (loss): MSELoss()\n",
      ")\n"
     ]
    }
   ],
   "source": [
    "# RNN\n",
    "class DANA(nn.Module):\n",
    "    def __init__(self, inp_shape, out_shape):\n",
    "        super(DANA, self).__init__()\n",
    "        nb_filters = 64\n",
    "        nb_dense = 512\n",
    "        nb_dropout = 128\n",
    "\n",
    "        # self.conv = nn.Conv1d(inp_shape, nb_filters, kernel_size=3, padding=1)\n",
    "        # self.relu = nn.ReLU()\n",
    "        # self.lstm = nn.LSTM(nb_filters, nb_dense, batch_first=True, bidirectional=True)\n",
    "        # self.fc1 = nn.Linear(nb_dense*2, nb_dropout)\n",
    "        # self.dropout = nn.Dropout(0.5)\n",
    "        # self.fc2 = nn.Linear(nb_dropout, out_shape)\n",
    "        self.lstm = nn.LSTM(inp_shape, 360, batch_first=True, bidirectional=True)\n",
    "        self.fc1 = nn.Linear(360, nb_dropout)\n",
    "        self.dropout = nn.Dropout(0.2)\n",
    "        self.fc2 = nn.Linear(nb_dropout, out_shape)\n",
    "\n",
    "        self.loss = nn.MSELoss()\n",
    "\n",
    "    def forward(self, x):\n",
    "        # x = x.permute(0, 2, 1)  # conv = (batch, no of channels, sequence length)\n",
    "        # x = self.conv(x)\n",
    "        # x = self.relu(x)\n",
    "        # print(\"CONV:\", x.shape)\n",
    "        # x = x.permute(0, 2, 1)\n",
    "        # print(x.shape)\n",
    "        x, (hidden, _) = self.lstm(x) # lstm = (batch, seq length, input_size)\n",
    "        print(hidden.shape)\n",
    "        x = hidden[0, :, :] + hidden[1, :, :]\n",
    "        print(x.shape)\n",
    "        # x = x[:, -1]\n",
    "        # print(\"LSTM:\",x.shape)\n",
    "        x = self.fc1(x)\n",
    "        # print(\"Linear1:\",x.shape)\n",
    "        x = self.dropout(x)\n",
    "        x = self.fc2(x)\n",
    "        # print(\"Linear2:\",x.shape)\n",
    "\n",
    "        return x\n",
    "\n",
    "autoencoder = DANA(n_input, n_input).to(device)\n",
    "print(autoencoder)"
   ]
  },
  {
   "cell_type": "code",
   "execution_count": 70,
   "metadata": {},
   "outputs": [
    {
     "name": "stdout",
     "output_type": "stream",
     "text": [
      "Autoencoder(\n",
      "  (encoder): Encoder(\n",
      "    (LSTM1): LSTM(9, 360, batch_first=True, bidirectional=True)\n",
      "    (dropout): Dropout(p=0.2, inplace=False)\n",
      "    (LSTM2): LSTM(720, 360, batch_first=True, bidirectional=True)\n",
      "  )\n",
      "  (decoder): Decoder(\n",
      "    (LSTM1): LSTM(360, 360, batch_first=True, bidirectional=True)\n",
      "    (dropout): Dropout(p=0.2, inplace=False)\n",
      "    (LSTM2): LSTM(720, 360, batch_first=True, bidirectional=True)\n",
      "    (output): Linear(in_features=720, out_features=9, bias=True)\n",
      "  )\n",
      "  (loss): MSELoss()\n",
      ")\n",
      "Starting Epoch 1...\n"
     ]
    },
    {
     "name": "stderr",
     "output_type": "stream",
     "text": [
      "C:\\Users\\BLOOM\\AppData\\Local\\Temp\\ipykernel_26392\\145480286.py:23: TqdmDeprecationWarning: This function will be removed in tqdm==5.0.0\n",
      "Please use `tqdm.notebook.tqdm` instead of `tqdm.tqdm_notebook`\n",
      "  for batch in tqdm(train_dataloader):\n"
     ]
    },
    {
     "data": {
      "application/vnd.jupyter.widget-view+json": {
       "model_id": "f4923659de814c6d9fea96817fd08425",
       "version_major": 2,
       "version_minor": 0
      },
      "text/plain": [
       "  0%|          | 0/963 [00:00<?, ?it/s]"
      ]
     },
     "metadata": {},
     "output_type": "display_data"
    },
    {
     "name": "stdout",
     "output_type": "stream",
     "text": [
      "Epoch [1/20], Training Loss: 0.0122\n",
      "Starting Epoch 2...\n"
     ]
    },
    {
     "data": {
      "application/vnd.jupyter.widget-view+json": {
       "model_id": "c1d38e94e5af4a2790be2cabe791eea5",
       "version_major": 2,
       "version_minor": 0
      },
      "text/plain": [
       "  0%|          | 0/963 [00:00<?, ?it/s]"
      ]
     },
     "metadata": {},
     "output_type": "display_data"
    },
    {
     "name": "stdout",
     "output_type": "stream",
     "text": [
      "Epoch [2/20], Training Loss: 0.0062\n",
      "Starting Epoch 3...\n"
     ]
    },
    {
     "data": {
      "application/vnd.jupyter.widget-view+json": {
       "model_id": "80d3ecfaa10349218710dcf77741a3fa",
       "version_major": 2,
       "version_minor": 0
      },
      "text/plain": [
       "  0%|          | 0/963 [00:00<?, ?it/s]"
      ]
     },
     "metadata": {},
     "output_type": "display_data"
    },
    {
     "name": "stdout",
     "output_type": "stream",
     "text": [
      "Epoch [3/20], Training Loss: 0.0062\n",
      "Starting Epoch 4...\n"
     ]
    },
    {
     "data": {
      "application/vnd.jupyter.widget-view+json": {
       "model_id": "46598b4cfaad4e7695c256cb75ea75f3",
       "version_major": 2,
       "version_minor": 0
      },
      "text/plain": [
       "  0%|          | 0/963 [00:00<?, ?it/s]"
      ]
     },
     "metadata": {},
     "output_type": "display_data"
    },
    {
     "name": "stdout",
     "output_type": "stream",
     "text": [
      "Epoch [4/20], Training Loss: 0.0050\n",
      "Starting Epoch 5...\n"
     ]
    },
    {
     "data": {
      "application/vnd.jupyter.widget-view+json": {
       "model_id": "660b243a3e094064b30626b44353e9a1",
       "version_major": 2,
       "version_minor": 0
      },
      "text/plain": [
       "  0%|          | 0/963 [00:00<?, ?it/s]"
      ]
     },
     "metadata": {},
     "output_type": "display_data"
    },
    {
     "name": "stdout",
     "output_type": "stream",
     "text": [
      "Epoch [5/20], Training Loss: 0.0056\n",
      "Starting Epoch 6...\n"
     ]
    },
    {
     "data": {
      "application/vnd.jupyter.widget-view+json": {
       "model_id": "97fc94789a3845e983a1ff9474db2686",
       "version_major": 2,
       "version_minor": 0
      },
      "text/plain": [
       "  0%|          | 0/963 [00:00<?, ?it/s]"
      ]
     },
     "metadata": {},
     "output_type": "display_data"
    },
    {
     "name": "stdout",
     "output_type": "stream",
     "text": [
      "Epoch [6/20], Training Loss: 0.0063\n",
      "Starting Epoch 7...\n"
     ]
    },
    {
     "data": {
      "application/vnd.jupyter.widget-view+json": {
       "model_id": "80dc9c47db4f431fb5a43e63eed3dadb",
       "version_major": 2,
       "version_minor": 0
      },
      "text/plain": [
       "  0%|          | 0/963 [00:00<?, ?it/s]"
      ]
     },
     "metadata": {},
     "output_type": "display_data"
    },
    {
     "name": "stdout",
     "output_type": "stream",
     "text": [
      "Epoch [7/20], Training Loss: 0.0048\n",
      "Starting Epoch 8...\n"
     ]
    },
    {
     "data": {
      "application/vnd.jupyter.widget-view+json": {
       "model_id": "ced203801f6a42b5ad041ea637af4373",
       "version_major": 2,
       "version_minor": 0
      },
      "text/plain": [
       "  0%|          | 0/963 [00:00<?, ?it/s]"
      ]
     },
     "metadata": {},
     "output_type": "display_data"
    },
    {
     "name": "stdout",
     "output_type": "stream",
     "text": [
      "Epoch [8/20], Training Loss: 0.0042\n",
      "Starting Epoch 9...\n"
     ]
    },
    {
     "data": {
      "application/vnd.jupyter.widget-view+json": {
       "model_id": "ec00b93aa9c84838a6e1f01db1be8fcd",
       "version_major": 2,
       "version_minor": 0
      },
      "text/plain": [
       "  0%|          | 0/963 [00:00<?, ?it/s]"
      ]
     },
     "metadata": {},
     "output_type": "display_data"
    },
    {
     "name": "stdout",
     "output_type": "stream",
     "text": [
      "Epoch [9/20], Training Loss: 0.0036\n",
      "Starting Epoch 10...\n"
     ]
    },
    {
     "data": {
      "application/vnd.jupyter.widget-view+json": {
       "model_id": "7366739cbea747528a435af135cab472",
       "version_major": 2,
       "version_minor": 0
      },
      "text/plain": [
       "  0%|          | 0/963 [00:00<?, ?it/s]"
      ]
     },
     "metadata": {},
     "output_type": "display_data"
    },
    {
     "name": "stdout",
     "output_type": "stream",
     "text": [
      "Epoch [10/20], Training Loss: 0.0038\n",
      "Starting Epoch 11...\n"
     ]
    },
    {
     "data": {
      "application/vnd.jupyter.widget-view+json": {
       "model_id": "03cb881114284ac6b6a23740164821df",
       "version_major": 2,
       "version_minor": 0
      },
      "text/plain": [
       "  0%|          | 0/963 [00:00<?, ?it/s]"
      ]
     },
     "metadata": {},
     "output_type": "display_data"
    },
    {
     "name": "stdout",
     "output_type": "stream",
     "text": [
      "Epoch [11/20], Training Loss: 0.0040\n",
      "Starting Epoch 12...\n"
     ]
    },
    {
     "data": {
      "application/vnd.jupyter.widget-view+json": {
       "model_id": "52df03952a7f4ec8a3aee796d31a7b79",
       "version_major": 2,
       "version_minor": 0
      },
      "text/plain": [
       "  0%|          | 0/963 [00:00<?, ?it/s]"
      ]
     },
     "metadata": {},
     "output_type": "display_data"
    },
    {
     "name": "stdout",
     "output_type": "stream",
     "text": [
      "Epoch [12/20], Training Loss: 0.0031\n",
      "Starting Epoch 13...\n"
     ]
    },
    {
     "data": {
      "application/vnd.jupyter.widget-view+json": {
       "model_id": "c78b440179894c4d9065aee6535a6d60",
       "version_major": 2,
       "version_minor": 0
      },
      "text/plain": [
       "  0%|          | 0/963 [00:00<?, ?it/s]"
      ]
     },
     "metadata": {},
     "output_type": "display_data"
    },
    {
     "name": "stdout",
     "output_type": "stream",
     "text": [
      "Epoch [13/20], Training Loss: 0.0028\n",
      "Starting Epoch 14...\n"
     ]
    },
    {
     "data": {
      "application/vnd.jupyter.widget-view+json": {
       "model_id": "e01dbc8216524416ab9dee1adb7d9027",
       "version_major": 2,
       "version_minor": 0
      },
      "text/plain": [
       "  0%|          | 0/963 [00:00<?, ?it/s]"
      ]
     },
     "metadata": {},
     "output_type": "display_data"
    },
    {
     "name": "stdout",
     "output_type": "stream",
     "text": [
      "Epoch [14/20], Training Loss: 0.0032\n",
      "Starting Epoch 15...\n"
     ]
    },
    {
     "data": {
      "application/vnd.jupyter.widget-view+json": {
       "model_id": "0a4812acc2874dad9db7cec954504c7d",
       "version_major": 2,
       "version_minor": 0
      },
      "text/plain": [
       "  0%|          | 0/963 [00:00<?, ?it/s]"
      ]
     },
     "metadata": {},
     "output_type": "display_data"
    },
    {
     "name": "stdout",
     "output_type": "stream",
     "text": [
      "Epoch [15/20], Training Loss: 0.0027\n",
      "Starting Epoch 16...\n"
     ]
    },
    {
     "data": {
      "application/vnd.jupyter.widget-view+json": {
       "model_id": "35306cf81f524bf4a41aa447a037fc4f",
       "version_major": 2,
       "version_minor": 0
      },
      "text/plain": [
       "  0%|          | 0/963 [00:00<?, ?it/s]"
      ]
     },
     "metadata": {},
     "output_type": "display_data"
    },
    {
     "name": "stdout",
     "output_type": "stream",
     "text": [
      "Epoch [16/20], Training Loss: 0.0031\n",
      "Starting Epoch 17...\n"
     ]
    },
    {
     "data": {
      "application/vnd.jupyter.widget-view+json": {
       "model_id": "f69785ac366a45d29c61aee7bb56d96b",
       "version_major": 2,
       "version_minor": 0
      },
      "text/plain": [
       "  0%|          | 0/963 [00:00<?, ?it/s]"
      ]
     },
     "metadata": {},
     "output_type": "display_data"
    },
    {
     "name": "stdout",
     "output_type": "stream",
     "text": [
      "Epoch [17/20], Training Loss: 0.0025\n",
      "Starting Epoch 18...\n"
     ]
    },
    {
     "data": {
      "application/vnd.jupyter.widget-view+json": {
       "model_id": "bbd534020abc486c97e5dca92037590f",
       "version_major": 2,
       "version_minor": 0
      },
      "text/plain": [
       "  0%|          | 0/963 [00:00<?, ?it/s]"
      ]
     },
     "metadata": {},
     "output_type": "display_data"
    },
    {
     "name": "stdout",
     "output_type": "stream",
     "text": [
      "Epoch [18/20], Training Loss: 0.0018\n",
      "Starting Epoch 19...\n"
     ]
    },
    {
     "data": {
      "application/vnd.jupyter.widget-view+json": {
       "model_id": "63a8a6f5c4834cc9bd3a348852d39505",
       "version_major": 2,
       "version_minor": 0
      },
      "text/plain": [
       "  0%|          | 0/963 [00:00<?, ?it/s]"
      ]
     },
     "metadata": {},
     "output_type": "display_data"
    },
    {
     "name": "stdout",
     "output_type": "stream",
     "text": [
      "Epoch [19/20], Training Loss: 0.0019\n",
      "Starting Epoch 20...\n"
     ]
    },
    {
     "data": {
      "application/vnd.jupyter.widget-view+json": {
       "model_id": "f653837eca1a442cbdd84bb693d7b986",
       "version_major": 2,
       "version_minor": 0
      },
      "text/plain": [
       "  0%|          | 0/963 [00:00<?, ?it/s]"
      ]
     },
     "metadata": {},
     "output_type": "display_data"
    },
    {
     "name": "stdout",
     "output_type": "stream",
     "text": [
      "Epoch [20/20], Training Loss: 0.0022\n"
     ]
    }
   ],
   "source": [
    "### Train AutoEncoder ###\n",
    "train_dataset = CustomDataset(\"train\", dataset_ver)\n",
    "train_dataloader = DataLoader(train_dataset, batch_size=16, shuffle=True)\n",
    "\n",
    "### Define Model ###\n",
    "autoencoder = Autoencoder(n_input, n_hidden).to(device)\n",
    "# autoencoder = LSTM(n_input, n_hidden, 3, 0.5, True)\n",
    "# autoencoder = DANA(n_input, n_input).to(device)\n",
    "print(autoencoder)\n",
    "\n",
    "\n",
    "optimizer = optim.Adam(autoencoder.parameters(),\n",
    "                        lr=1e-3,\n",
    "                        betas=(0.9, 0.999),\n",
    "                        eps=1e-8)\n",
    "optimizer.zero_grad()\n",
    "\n",
    "best_loss = np.inf\n",
    "train_losses = []\n",
    "\n",
    "for epoch in range(num_epochs):\n",
    "    print(f'Starting Epoch {epoch+1}...')\n",
    "    for batch in tqdm(train_dataloader):\n",
    "        X_batch, y_batch = batch\n",
    "        X = X_batch.to(device)\n",
    "        # X = X.permute(0, 2, 1)\n",
    "        # print(\"Input:\", X.shape)\n",
    "        y = y_batch.to(device).reshape(-1, 1)\n",
    "\n",
    "        pred = autoencoder(X)\n",
    "        # print(\"Pred:\", pred.shape)\n",
    "        loss_value = autoencoder.loss(pred, X)\n",
    "\n",
    "        loss_value.backward()\n",
    "        optimizer.step()\n",
    "        optimizer.zero_grad()\n",
    "\n",
    "    train_losses.append(loss_value.item())\n",
    "    print(f'Epoch [{epoch+1}/{num_epochs}], Training Loss: {loss_value.item():.4f}')\n",
    "    \n",
    "    if loss_value.item() < best_loss:\n",
    "        best_loss = loss_value.item()\n",
    "\n",
    "        # Save Encoder\n",
    "        torch.save(autoencoder.encoder, f'ML_Models/{dataset_ver}_{encoder_ver}_encoder.pt')\n",
    "        # Save Full Autoencoder\n",
    "        torch.save(autoencoder, f'ML_Models/{dataset_ver}_{encoder_ver}_Autoencoder.pt')\n",
    "        # Save Multi-Layer Perceptron\n",
    "        # torch.save(autoencoder, f'ML_Models/{dataset_ver}_{encoder_ver}_DANA.pt')\n"
   ]
  },
  {
   "cell_type": "code",
   "execution_count": 71,
   "metadata": {},
   "outputs": [
    {
     "data": {
      "image/png": "[encoded data removed]",
      "text/plain": [
       "<Figure size 640x480 with 1 Axes>"
      ]
     },
     "metadata": {},
     "output_type": "display_data"
    }
   ],
   "source": [
    "plt.plot(range(len(train_losses)), train_losses)\n",
    "plt.xlabel('Epochs')\n",
    "plt.ylabel('Training Loss')\n",
    "plt.title('Training Loss across Epochs')\n",
    "plt.show()"
   ]
  },
  {
   "cell_type": "code",
   "execution_count": 72,
   "metadata": {},
   "outputs": [
    {
     "name": "stdout",
     "output_type": "stream",
     "text": [
      "Loading Encoder Model...\n",
      "Encoding Data...\n"
     ]
    },
    {
     "name": "stderr",
     "output_type": "stream",
     "text": [
      "C:\\Users\\BLOOM\\AppData\\Local\\Temp\\ipykernel_26392\\3858648355.py:24: TqdmDeprecationWarning: This function will be removed in tqdm==5.0.0\n",
      "Please use `tqdm.notebook.tqdm` instead of `tqdm.tqdm_notebook`\n",
      "  for batch in tqdm(train_dataloader):\n"
     ]
    },
    {
     "data": {
      "application/vnd.jupyter.widget-view+json": {
       "model_id": "9b8c67607f0a45b3a091b00d34ee76c6",
       "version_major": 2,
       "version_minor": 0
      },
      "text/plain": [
       "  0%|          | 0/963 [00:00<?, ?it/s]"
      ]
     },
     "metadata": {},
     "output_type": "display_data"
    },
    {
     "name": "stdout",
     "output_type": "stream",
     "text": [
      "encoded_data.shape=torch.Size([15407, 360])\n",
      "labels.shape=torch.Size([15407, 1])\n",
      "Training SVM Classifier...\n",
      "Accuracy: 0.9412719013627514\n"
     ]
    }
   ],
   "source": [
    "### Train SVM ###\n",
    "def train_svm(train_data, train_labels):\n",
    "    x_train, x_test, y_train, y_test = train_test_split(train_data, train_labels, test_size=0.20, random_state=0)\n",
    "    svm_classifier = svm.SVC(kernel='rbf', probability=True)\n",
    "    svm_classifier.fit(x_train, y_train)\n",
    "\n",
    "    test_pred = svm_classifier.predict(x_test)\n",
    "    print(f'Accuracy: {accuracy_score(y_test, test_pred)}')\n",
    "\n",
    "    return svm_classifier\n",
    "\n",
    "train_dataset = CustomDataset(\"train\", dataset_ver)\n",
    "train_dataloader = DataLoader(train_dataset, batch_size=16, shuffle=True)\n",
    "print('Loading Encoder Model...')\n",
    "encoder = torch.load(f'ML_Models/{dataset_ver}_{encoder_ver}_encoder.pt').to(device)\n",
    "# encoder = torch.load(f'ML_Models/{dataset_ver}_{encoder_ver}_DANA.pt').to(device)\n",
    "encoder.eval()\n",
    "\n",
    "encoded_data = []\n",
    "labels = []\n",
    "\n",
    "print('Encoding Data...')\n",
    "with torch.no_grad():\n",
    "    for batch in tqdm(train_dataloader):\n",
    "        X_batch, y_batch = batch\n",
    "        X = X_batch.to(device)\n",
    "        y = y_batch.to(device).reshape(-1, 1)\n",
    "\n",
    "        encoded_batch = encoder(X)\n",
    "        # print(encoded_batch.shape)\n",
    "\n",
    "        ### for unidirectional LSTM ###\n",
    "        # encoded_batch = encoded_batch.reshape(encoded_batch.shape[1], encoded_batch.shape[2])\n",
    "\n",
    "        ### bidirectional LSTM have hidden states in 2 dimensions ###\n",
    "        # h_1, h_2 = encoded_batch[0], encoded_batch[1]\n",
    "        # encoded_batch = torch.cat((h_1, h_2), 1)\n",
    "        \n",
    "        encoded_data.append(encoded_batch)\n",
    "        labels.append(y)\n",
    "\n",
    "    encoded_data = torch.cat(encoded_data, 0).cpu()\n",
    "    labels = torch.cat(labels, 0).cpu()       \n",
    "\n",
    "print(f'{encoded_data.shape=}')\n",
    "print(f'{labels.shape=}')\n",
    "\n",
    "print(\"Training SVM Classifier...\")\n",
    "svm_classifier = train_svm(encoded_data, labels.ravel())\n",
    "\n",
    "# Save SVM Classifier\n",
    "with open(f'ML_Models/{dataset_ver}_{encoder_ver}_svm_classifier.pkl', \"wb\") as file:\n",
    "    pickle.dump(svm_classifier, file)"
   ]
  },
  {
   "cell_type": "code",
   "execution_count": 73,
   "metadata": {},
   "outputs": [
    {
     "name": "stderr",
     "output_type": "stream",
     "text": [
      "C:\\Users\\BLOOM\\AppData\\Local\\Temp\\ipykernel_26392\\488158750.py:18: TqdmDeprecationWarning: This function will be removed in tqdm==5.0.0\n",
      "Please use `tqdm.notebook.tqdm` instead of `tqdm.tqdm_notebook`\n",
      "  for batch in tqdm(test_dataloader):\n"
     ]
    },
    {
     "data": {
      "application/vnd.jupyter.widget-view+json": {
       "model_id": "bfb9e3e8584842469665f47ca9ccf48f",
       "version_major": 2,
       "version_minor": 0
      },
      "text/plain": [
       "  0%|          | 0/276 [00:00<?, ?it/s]"
      ]
     },
     "metadata": {},
     "output_type": "display_data"
    },
    {
     "name": "stdout",
     "output_type": "stream",
     "text": [
      "test_encoded_data.shape=torch.Size([4403, 360])\n",
      "test_labels.shape=torch.Size([4403, 1])\n",
      "test_predictions.shape=(4403,)\n"
     ]
    }
   ],
   "source": [
    "### Test SVM + Encoder ###\n",
    "\n",
    "# Model Params\n",
    "encoder_ver = f'{n_hidden}h{num_epochs}e'\n",
    "test_dataset = CustomDataset(\"test\", dataset_ver)\n",
    "test_dataloader = DataLoader(test_dataset, batch_size=16, shuffle=True)\n",
    "\n",
    "# Load the saved models\n",
    "autoencoder = torch.load(f'ML_Models/{dataset_ver}_{encoder_ver}_Autoencoder.pt')\n",
    "autoencoder.eval()\n",
    "with open(f'ML_Models/{dataset_ver}_{encoder_ver}_svm_classifier.pkl', 'rb') as file:\n",
    "    svm_classifier = pickle.load(file)\n",
    "\n",
    "test_encoded_data = []\n",
    "test_labels = []\n",
    "\n",
    "with torch.no_grad():\n",
    "    for batch in tqdm(test_dataloader):\n",
    "        X_batch, y_batch = batch\n",
    "        X = X_batch.to(device)\n",
    "        y = y_batch.to(device).reshape(-1, 1)\n",
    "\n",
    "        test_encoded_batch = autoencoder.encoder(X)\n",
    "        # print(encoded_batch.shape)\n",
    "        \n",
    "        ### for unidirectional LSTM ###\n",
    "        # encoded_batch = encoded_batch.reshape(encoded_batch.shape[1], encoded_batch.shape[2])\n",
    "        \n",
    "        ### bidirectional LSTM have hidden states in 2 dimensions ###\n",
    "        # h_1, h_2 = encoded_batch[0], encoded_batch[1]\n",
    "        # encoded_batch = torch.cat((h_1, h_2), 1)\n",
    "        \n",
    "        test_encoded_data.append(test_encoded_batch)\n",
    "        test_labels.append(y)\n",
    "\n",
    "    test_encoded_data = torch.cat(test_encoded_data, 0).cpu()\n",
    "    test_labels = torch.cat(test_labels, 0).cpu()   \n",
    "\n",
    "print(f'{test_encoded_data.shape=}')\n",
    "print(f'{test_labels.shape=}')\n",
    "\n",
    "test_predictions = svm_classifier.predict(test_encoded_data)\n",
    "print(f'{test_predictions.shape=}')"
   ]
  },
  {
   "cell_type": "code",
   "execution_count": 74,
   "metadata": {},
   "outputs": [
    {
     "name": "stdout",
     "output_type": "stream",
     "text": [
      "Accuracy: 94.28%\n"
     ]
    },
    {
     "data": {
      "image/png": "[encoded data removed]",
      "text/plain": [
       "<Figure size 640x480 with 2 Axes>"
      ]
     },
     "metadata": {},
     "output_type": "display_data"
    }
   ],
   "source": [
    "# Calculate accuracy score\n",
    "accuracy = accuracy_score(test_labels, test_predictions)\n",
    "accuracy_percentage = accuracy * 100\n",
    "print(f\"Accuracy: {accuracy_percentage:.2f}%\")\n",
    "\n",
    "# Create a confusion matrix\n",
    "cm = confusion_matrix(test_labels, test_predictions)\n",
    "\n",
    "# Plot the confusion matrix as a heatmap\n",
    "sns.heatmap(cm, annot=True, cmap='Blues')\n",
    "\n",
    "# Add labels and title to the plot\n",
    "plt.xlabel('Predicted Labels')\n",
    "plt.ylabel('Actual Labels')\n",
    "plt.title('Confusion Matrix')\n",
    "\n",
    "# Display the plot\n",
    "plt.show()"
   ]
  }
 ],
 "metadata": {
  "kernelspec": {
   "display_name": "cv",
   "language": "python",
   "name": "python3"
  },
  "language_info": {
   "codemirror_mode": {
    "name": "ipython",
    "version": 3
   },
   "file_extension": ".py",
   "mimetype": "text/x-python",
   "name": "python",
   "nbconvert_exporter": "python",
   "pygments_lexer": "ipython3",
   "version": "3.9.18"
  }
 },
 "nbformat": 4,
 "nbformat_minor": 2
}
